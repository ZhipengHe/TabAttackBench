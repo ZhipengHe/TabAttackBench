{
 "cells": [
  {
   "cell_type": "markdown",
   "metadata": {},
   "source": [
    "## Task 4: Generate adversarial examples"
   ]
  },
  {
   "cell_type": "code",
   "execution_count": 1,
   "metadata": {},
   "outputs": [
    {
     "name": "stderr",
     "output_type": "stream",
     "text": [
      "\u001b[34m\u001b[1mwandb\u001b[0m: Currently logged in as: \u001b[33mzhipeng-he\u001b[0m. Use \u001b[1m`wandb login --relogin`\u001b[0m to force relogin\n"
     ]
    }
   ],
   "source": [
    "import wandb\n",
    "import os\n",
    "os.environ[\"WANDB_NOTEBOOK_NAME\"] = \"generate_adversarial_examples.ipynb\"\n",
    "wandb.login()\n",
    "import pandas as pd\n",
    "import torch\n",
    "from torch import optim, nn\n",
    "from tqdm import tqdm\n",
    "import pickle\n",
    "from models import run_pytorch\n",
    "from data import get_datasets"
   ]
  },
  {
   "cell_type": "code",
   "execution_count": 2,
   "metadata": {},
   "outputs": [],
   "source": [
    "import foolbox\n",
    "import numpy as np\n",
    "from scipy.stats import chi2\n",
    "import eagerpy as ep"
   ]
  },
  {
   "cell_type": "code",
   "execution_count": 3,
   "metadata": {},
   "outputs": [],
   "source": [
    "def metrics(adv_numpy, sample_numpy, adv_numpy_cont, train_mean, train_cov_matrix, threshold, std):\n",
    "\n",
    "    def _calculate_mahalanobis_distance(x, mean, cov_matrix):\n",
    "        # Calculate the Mahalanobis distance\n",
    "        diff = x - mean\n",
    "        inv_cov_matrix = np.linalg.inv(cov_matrix)\n",
    "        md = np.sqrt(np.dot(np.dot(diff, inv_cov_matrix), diff.T))\n",
    "        return md[0, 0] # return a scalar\n",
    "    \n",
    "    eps = 1e-8\n",
    "\n",
    "    # sparsity\n",
    "    l0_distance = np.count_nonzero(adv_numpy - sample_numpy)\n",
    "\n",
    "    # proximity\n",
    "    l1_distance = np.linalg.norm(adv_numpy - sample_numpy, ord=1)\n",
    "    l2_distance = np.linalg.norm(adv_numpy - sample_numpy, ord=2)\n",
    "    linf_distance = np.linalg.norm(adv_numpy - sample_numpy, ord=np.inf)\n",
    "\n",
    "    # deviation\n",
    "    if adv_numpy_cont is not None:\n",
    "        md = _calculate_mahalanobis_distance(adv_numpy_cont, train_mean, train_cov_matrix)\n",
    "        # Check if the Mahalanobis distance exceeds the threshold\n",
    "        is_outlier = md > threshold\n",
    "    else:\n",
    "        md = 0\n",
    "        is_outlier = 0\n",
    "\n",
    "    # sensitivity: \n",
    "    if l0_distance == 0:\n",
    "        sens = 0\n",
    "    else:\n",
    "        sens = (l1_distance / ((std + eps) * l0_distance)).mean()\n",
    "\n",
    "    return {\n",
    "        \"L0 Distance\": l0_distance,\n",
    "        \"L1 Distance\": l1_distance,\n",
    "        \"L2 Distance\": l2_distance,\n",
    "        \"Linf Distance\": linf_distance,\n",
    "        \"Mahalanobis Distance\": md,\n",
    "        \"Is Outlier\": is_outlier,\n",
    "        \"Sensitivity\": sens,\n",
    "    }\n"
   ]
  },
  {
   "cell_type": "code",
   "execution_count": null,
   "metadata": {},
   "outputs": [],
   "source": []
  },
  {
   "cell_type": "code",
   "execution_count": 4,
   "metadata": {},
   "outputs": [],
   "source": [
    "ATTACK_LIST = {\n",
    "    \"L2CarliniWagner\": foolbox.attacks.L2CarliniWagnerAttack(binary_search_steps=10, steps=10, stepsize=0.1),\n",
    "    \"L2DeepFool\": foolbox.attacks.L2DeepFoolAttack(),\n",
    "    \"LinfDeepFool\": foolbox.attacks.LinfDeepFoolAttack(),\n",
    "    \"L2FGSM\": foolbox.attacks.L2FastGradientAttack(),\n",
    "    \"LinfFGSM\": foolbox.attacks.LinfFastGradientAttack(),\n",
    "    \"L2PGD\": foolbox.attacks.L2ProjectedGradientDescentAttack(),\n",
    "    \"LinfPGD\": foolbox.attacks.LinfProjectedGradientDescentAttack(),\n",
    "    \"L2BIM\": foolbox.attacks.L2BasicIterativeAttack(),\n",
    "    \"LinfBIM\": foolbox.attacks.LinfBasicIterativeAttack(),\n",
    "    \"L2Gaussian\": foolbox.attacks.L2AdditiveGaussianNoiseAttack(),\n",
    "    \"L2Uniform\": foolbox.attacks.L2AdditiveUniformNoiseAttack(),\n",
    "    \"LinfUniform\": foolbox.attacks.LinfAdditiveUniformNoiseAttack(),\n",
    "\n",
    "}"
   ]
  },
  {
   "cell_type": "code",
   "execution_count": 5,
   "metadata": {},
   "outputs": [],
   "source": [
    "def save_datapoints_as_npy(alg_name, model_name, dataset_name, epsilon, datapoints):\n",
    "\n",
    "    path = f\"./datapoints/{alg_name}_{dataset_name}/{model_name}\"\n",
    "    os.makedirs(path, exist_ok=True)\n",
    "    for k in datapoints.keys():\n",
    "            with open(f\"{path}/{alg_name}_{dataset_name}_{model_name}_{epsilon}_{k}_arr.npy\", 'wb') as f:\n",
    "                np.save(f, datapoints[k][\"arr\"])\n",
    "            with open(f\"{path}/{alg_name}_{dataset_name}_{model_name}_{epsilon}_{k}_arr_adv.npy\", 'wb') as f:\n",
    "                np.save(f, datapoints[k][\"arr_adv\"])\n",
    "    \n",
    "    path_set = {\n",
    "        \"success_arr\": f\"{path}/{alg_name}_{dataset_name}_{model_name}_{epsilon}_success_arr.npy\",\n",
    "        \"success_arr_adv\": f\"{path}/{alg_name}_{dataset_name}_{model_name}_{epsilon}_success_arr_adv.npy\",\n",
    "        \"arr\": f\"{path}/{alg_name}_{dataset_name}_{model_name}_{epsilon}_arr.npy\",\n",
    "        \"arr_adv\": f\"{path}/{alg_name}_{dataset_name}_{model_name}_{epsilon}_arr_adv.npy\",\n",
    "    }\n",
    "\n",
    "    return path_set\n"
   ]
  },
  {
   "cell_type": "code",
   "execution_count": null,
   "metadata": {},
   "outputs": [],
   "source": []
  },
  {
   "cell_type": "code",
   "execution_count": 6,
   "metadata": {},
   "outputs": [],
   "source": [
    "def run_attack(model, attack_name, epsilons, X_test_tensor, y_test_tensor, X_train_tensor, num_continues, config, device):\n",
    "    # Create a Foolbox model wrapper for the PyTorch model\n",
    "    fmodel = foolbox.models.PyTorchModel(model, bounds=(0, 1))\n",
    "\n",
    "    # Create an attack object (FGSM in this case)\n",
    "    attack = ATTACK_LIST[attack_name]\n",
    "\n",
    "\n",
    "    # Generate an adversarial example\n",
    "\n",
    "    attack_success_rates = []\n",
    "    average_distances = {\n",
    "        \"L0 Distance\": [], \"L1 Distance\": [], \"L2 Distance\": [], \"Linf Distance\": [], \"Mahalanobis Distance\": [], \"Sensitivity\": []\n",
    "    }\n",
    "    outliner_rates = []\n",
    "    path_sets = []\n",
    "\n",
    "    X_train_numpy = X_train_tensor.numpy()\n",
    "\n",
    "    if num_continues != 0:\n",
    "        # for calculating mahalanobis distance, use numerical features only\n",
    "        X_train_numpy_continues = X_train_tensor[:,:num_continues].numpy()\n",
    "        train_mean = np.mean(X_train_numpy_continues, axis=0)\n",
    "        train_cov_matrix = np.cov(X_train_numpy_continues.T)\n",
    "\n",
    "        # Calculate the critical value for the Mahalanobis distance using chi-squared distribution\n",
    "        alpha = 0.05\n",
    "        degrees_of_freedom = len(train_mean)\n",
    "        # Calculate the Chi-Square critical value at the given alpha and df\n",
    "        chi_square_critical_value  = chi2.ppf(1 - alpha, df=degrees_of_freedom)\n",
    "        threshold = np.sqrt(chi_square_critical_value)\n",
    "        print(f\"Threshold: {threshold}\")\n",
    "    else:\n",
    "        X_train_numpy_continues = None\n",
    "        train_mean = None\n",
    "        train_cov_matrix = None\n",
    "        threshold = None\n",
    "        print(\"No numerical features, cannot calculate Mahalanobis distance\")\n",
    "    \n",
    "    std = np.std(X_train_numpy, axis=0)\n",
    "    # print(f\"std: {std}\")\n",
    "\n",
    "\n",
    "\n",
    "    for epsilon in epsilons:\n",
    "        # Initialize variables to keep track of success and the number of samples\n",
    "        total_samples = len(X_test_tensor)\n",
    "        successful_attacks = 0\n",
    "        total_metrics = {\n",
    "            \"L0 Distance\": 0.0, \"L1 Distance\": 0.0, \"L2 Distance\": 0.0,\n",
    "            \"Linf Distance\": 0.0, \"Mahalanobis Distance\": 0.0,\n",
    "            \"Is Outlier\": 0, \"Sensitivity\": 0.0\n",
    "        }\n",
    "\n",
    "        arr_list=[]\n",
    "        arr_list_adv=[]\n",
    "\n",
    "        success_arr_list=[]\n",
    "        success_arr_list_adv=[]\n",
    "\n",
    "        for sample_idx in tqdm(range(total_samples)):\n",
    "            sample = X_test_tensor[sample_idx].to(device).unsqueeze(0)\n",
    "            label = y_test_tensor[sample_idx].to(device).unsqueeze(0)\n",
    "\n",
    "            _, advs, success = attack(fmodel, sample, label, epsilons=[epsilon])\n",
    "\n",
    "            with torch.no_grad():\n",
    "                model.eval()\n",
    "                test_outputs = model(sample)\n",
    "                adv_outputs = model(advs[0])\n",
    "                _, predicted_classes = test_outputs.max(dim=1)\n",
    "                _, adv_predicted_classes = adv_outputs.max(dim=1)\n",
    "\n",
    "            adv_numpy = advs[0].cpu().numpy()\n",
    "            # print(adv_numpy.shape)\n",
    "            sample_numpy = sample.cpu().numpy()\n",
    "            sample_numpy_cont = adv_numpy[:,:num_continues]\n",
    "            # print(sample_numpy_cont.shape)\n",
    "\n",
    "            metrics_dict = metrics(adv_numpy, sample_numpy, sample_numpy_cont, train_mean, train_cov_matrix, threshold, std)\n",
    "\n",
    "            arr_list.append(sample_numpy)\n",
    "            arr_list_adv.append(adv_numpy)\n",
    "\n",
    "            if success:\n",
    "                successful_attacks += 1\n",
    "\n",
    "                for key, value in metrics_dict.items():\n",
    "                    total_metrics[key] += value\n",
    "\n",
    "                success_arr_list.append(sample_numpy)\n",
    "                success_arr_list_adv.append(adv_numpy)\n",
    "\n",
    "            # print(f\"Epsilon = {epsilon}, Predicted class: {predicted_classes} | Adversarial example: {adv_predicted_classes} | Success: {success} | L2 distance: {np.linalg.norm(advs[0].cpu().numpy() - sample.cpu().numpy())}\")\n",
    "\n",
    "        arr = np.concatenate(arr_list, axis=0)\n",
    "        arr_adv = np.concatenate(arr_list_adv, axis=0)\n",
    "        success_arr = np.concatenate(success_arr_list, axis=0)\n",
    "        success_arr_adv = np.concatenate(success_arr_list_adv, axis=0)\n",
    "\n",
    "        datapoints = {\n",
    "            \"all\": {\n",
    "                \"arr\": arr,\n",
    "                \"arr_adv\": arr_adv,\n",
    "            },\n",
    "            \"success\": {\n",
    "                \"arr\": success_arr,\n",
    "                \"arr_adv\": success_arr_adv,\n",
    "            }\n",
    "        }\n",
    "\n",
    "        path_set = save_datapoints_as_npy(attack_name, config[\"model\"], config[\"dataset\"], epsilon, datapoints)\n",
    "\n",
    "        if successful_attacks > 0:\n",
    "            success_rate = successful_attacks / total_samples\n",
    "            outliner_rate = total_metrics[\"Is Outlier\"] / successful_attacks\n",
    "            for key, value in total_metrics.items():\n",
    "                if key in average_distances:\n",
    "                    average_distances[key].append(value / successful_attacks)\n",
    "\n",
    "        else:\n",
    "            success_rate = 0.0\n",
    "            outliner_rate = 0.0\n",
    "            for key, value in total_metrics.items():\n",
    "                if key in average_distances:\n",
    "                    average_distances[key].append(0.0)\n",
    "        \n",
    "        attack_success_rates.append(success_rate)\n",
    "        outliner_rates.append(outliner_rate)\n",
    "        path_sets.append(path_set)\n",
    "        \n",
    "        print(f\"Epsilon = {epsilon}\")\n",
    "        print(f\"Success Rate: {success_rate * 100}%\")\n",
    "        for key, value in average_distances.items():\n",
    "            print(f\"Average {key} for Successful Attacks: {value[-1]}\")\n",
    "        print(f\"Outlier Rate for Successful Attacks: {outliner_rate * 100}%\\n\")\n",
    "        print(\"\")\n",
    "\n",
    "    return attack_success_rates, average_distances, outliner_rates, path_sets"
   ]
  },
  {
   "cell_type": "markdown",
   "metadata": {},
   "source": [
    "Run Attack"
   ]
  },
  {
   "cell_type": "code",
   "execution_count": 7,
   "metadata": {},
   "outputs": [],
   "source": [
    "wandb_run = False"
   ]
  },
  {
   "cell_type": "code",
   "execution_count": 8,
   "metadata": {},
   "outputs": [],
   "source": [
    "# ### Only for Testing\n",
    "\n",
    "# device = torch.device(\"cuda\" if torch.cuda.is_available() else \"cpu\")\n",
    "# # device = torch.device(\"cpu\")\n",
    "\n",
    "\n",
    "# for dataset_name in [\"Adult\"]: # \"Adult\", \"Electricity\", \"Higgs\", \"KDDCup09_appetency\", \"Mushroom\"\n",
    "#     X_train, y_train, X_val, y_val, X_test, y_test, \\\n",
    "#         X_train_tensor, y_train_tensor, X_test_tensor, y_test_tensor, X_val_tensor, y_val_tensor, \\\n",
    "#         info = get_datasets.get_split_continues(dataset_name, device)\n",
    "#     for model_name in [\"MLP\"]: # , \"TabTransformer\", \"FTTransformer\"\n",
    "#         model, train_config = run_pytorch.model_config(model_name, X_train.shape[1], 2, [], info.numerical_cols, device)\n",
    "#         train_config[\"dataset\"] = f\"{dataset_name}_continuous_only\"\n",
    "#         train_config[\"device\"] = device\n",
    "\n",
    "#         criterion = nn.CrossEntropyLoss()\n",
    "#         optimizer = run_pytorch.build_optimizer(model, \"adam\", train_config[\"learning_rate\"])\n",
    "#         path = f\"models/train/{model_name}/{dataset_name}_continuous_only/train_run-test.pt\"\n",
    "#         model.load_state_dict(torch.load(path))\n",
    "        \n",
    "#         # run_pytorch.test(model, (X_test_tensor, y_test_tensor), train_config, stage=\"train\", wandb_run=wandb.run)\n",
    "\n",
    "#         ## LinfFGSM\n",
    "#         epsilons = np.arange(0.01, 0.15, 0.02)  # You can change the epsilon values\n",
    "#         attack_config = {**train_config, \"epsilons\": epsilons}\n",
    "#         attack_success_rates, average_distances, outliner_rates = attack_LinfFGSM(model, epsilons, X_test_tensor, y_test_tensor, X_train_tensor, len(info.numerical_cols), attack_config, device)"
   ]
  },
  {
   "cell_type": "code",
   "execution_count": 9,
   "metadata": {},
   "outputs": [
    {
     "name": "stderr",
     "output_type": "stream",
     "text": [
      "/home/zippo/miniconda3/envs/tabular-benchmark/lib/python3.10/site-packages/foolbox/models/pytorch.py:36: UserWarning: The PyTorch model is in training mode and therefore might not be deterministic. Call the eval() method to set it in evaluation mode if this is not intended.\n",
      "  warnings.warn(\n"
     ]
    },
    {
     "name": "stdout",
     "output_type": "stream",
     "text": [
      "Running L2Gaussian on WineQuality-Red with LogisticRegression\n",
      "Threshold: 4.4356665308251575\n"
     ]
    },
    {
     "name": "stderr",
     "output_type": "stream",
     "text": [
      "100%|██████████| 320/320 [00:01<00:00, 283.11it/s]\n"
     ]
    },
    {
     "name": "stdout",
     "output_type": "stream",
     "text": [
      "Epsilon = 0.0\n",
      "Success Rate: 27.8125%\n",
      "Average L0 Distance for Successful Attacks: 0.0\n",
      "Average L1 Distance for Successful Attacks: 0.0\n",
      "Average L2 Distance for Successful Attacks: 0.0\n",
      "Average Linf Distance for Successful Attacks: 0.0\n",
      "Average Mahalanobis Distance for Successful Attacks: 2.846129352706799\n",
      "Average Sensitivity for Successful Attacks: 0.0\n",
      "Outlier Rate for Successful Attacks: 3.3707865168539324%\n",
      "\n",
      "\n"
     ]
    },
    {
     "name": "stderr",
     "output_type": "stream",
     "text": [
      "100%|██████████| 320/320 [00:00<00:00, 596.06it/s]\n"
     ]
    },
    {
     "name": "stdout",
     "output_type": "stream",
     "text": [
      "Epsilon = 0.01\n",
      "Success Rate: 27.8125%\n",
      "Average L0 Distance for Successful Attacks: 10.96629213483146\n",
      "Average L1 Distance for Successful Attacks: 0.005896266173110919\n",
      "Average L2 Distance for Successful Attacks: 0.009995163564852784\n",
      "Average Linf Distance for Successful Attacks: 0.027231908748658856\n",
      "Average Mahalanobis Distance for Successful Attacks: 2.8486372007662992\n",
      "Average Sensitivity for Successful Attacks: 0.004309506746783351\n",
      "Outlier Rate for Successful Attacks: 3.3707865168539324%\n",
      "\n",
      "\n"
     ]
    },
    {
     "name": "stderr",
     "output_type": "stream",
     "text": [
      "100%|██████████| 320/320 [00:00<00:00, 556.58it/s]\n"
     ]
    },
    {
     "name": "stdout",
     "output_type": "stream",
     "text": [
      "Epsilon = 0.03\n",
      "Success Rate: 28.4375%\n",
      "Average L0 Distance for Successful Attacks: 11.0\n",
      "Average L1 Distance for Successful Attacks: 0.017982768160956248\n",
      "Average L2 Distance for Successful Attacks: 0.029999998408359485\n",
      "Average Linf Distance for Successful Attacks: 0.08113389253452584\n",
      "Average Mahalanobis Distance for Successful Attacks: 2.932018230329429\n",
      "Average Sensitivity for Successful Attacks: 0.013100766167454012\n",
      "Outlier Rate for Successful Attacks: 5.4945054945054945%\n",
      "\n",
      "\n"
     ]
    },
    {
     "name": "stderr",
     "output_type": "stream",
     "text": [
      "100%|██████████| 320/320 [00:00<00:00, 584.00it/s]\n"
     ]
    },
    {
     "name": "stdout",
     "output_type": "stream",
     "text": [
      "Epsilon = 0.05\n",
      "Success Rate: 30.625000000000004%\n",
      "Average L0 Distance for Successful Attacks: 10.948979591836734\n",
      "Average L1 Distance for Successful Attacks: 0.028988553838310192\n",
      "Average L2 Distance for Successful Attacks: 0.04991939652483074\n",
      "Average Linf Distance for Successful Attacks: 0.13632532216760576\n",
      "Average Mahalanobis Distance for Successful Attacks: 2.998675556448725\n",
      "Average Sensitivity for Successful Attacks: 0.02122880976495086\n",
      "Outlier Rate for Successful Attacks: 5.1020408163265305%\n",
      "\n",
      "\n"
     ]
    },
    {
     "name": "stderr",
     "output_type": "stream",
     "text": [
      "100%|██████████| 320/320 [00:00<00:00, 601.06it/s]\n"
     ]
    },
    {
     "name": "stdout",
     "output_type": "stream",
     "text": [
      "Epsilon = 0.1\n",
      "Success Rate: 28.125%\n",
      "Average L0 Distance for Successful Attacks: 10.966666666666667\n",
      "Average L1 Distance for Successful Attacks: 0.058400416829519804\n",
      "Average L2 Distance for Successful Attacks: 0.09981080542008082\n",
      "Average Linf Distance for Successful Attacks: 0.27055050664477875\n",
      "Average Mahalanobis Distance for Successful Attacks: 3.0597221808523867\n",
      "Average Sensitivity for Successful Attacks: 0.04268224516676532\n",
      "Outlier Rate for Successful Attacks: 5.555555555555555%\n",
      "\n",
      "\n"
     ]
    },
    {
     "name": "stderr",
     "output_type": "stream",
     "text": [
      "100%|██████████| 320/320 [00:00<00:00, 589.00it/s]\n"
     ]
    },
    {
     "name": "stdout",
     "output_type": "stream",
     "text": [
      "Epsilon = 0.3\n",
      "Success Rate: 32.8125%\n",
      "Average L0 Distance for Successful Attacks: 10.961904761904762\n",
      "Average L1 Distance for Successful Attacks: 0.1719636469369843\n",
      "Average L2 Distance for Successful Attacks: 0.2876441369454066\n",
      "Average Linf Distance for Successful Attacks: 0.7760907405898685\n",
      "Average Mahalanobis Distance for Successful Attacks: 4.62335958968344\n",
      "Average Sensitivity for Successful Attacks: 0.12572038358166104\n",
      "Outlier Rate for Successful Attacks: 55.23809523809524%\n",
      "\n",
      "\n"
     ]
    },
    {
     "name": "stderr",
     "output_type": "stream",
     "text": [
      "100%|██████████| 320/320 [00:00<00:00, 589.83it/s]\n"
     ]
    },
    {
     "name": "stdout",
     "output_type": "stream",
     "text": [
      "Epsilon = 0.5\n",
      "Success Rate: 31.874999999999996%\n",
      "Average L0 Distance for Successful Attacks: 10.96078431372549\n",
      "Average L1 Distance for Successful Attacks: 0.2777817224462827\n",
      "Average L2 Distance for Successful Attacks: 0.46096312561455893\n",
      "Average Linf Distance for Successful Attacks: 1.2490812446556838\n",
      "Average Mahalanobis Distance for Successful Attacks: 6.328012516307921\n",
      "Average Sensitivity for Successful Attacks: 0.2031940183803147\n",
      "Outlier Rate for Successful Attacks: 89.2156862745098%\n",
      "\n",
      "\n"
     ]
    },
    {
     "name": "stderr",
     "output_type": "stream",
     "text": [
      "100%|██████████| 320/320 [00:00<00:00, 478.33it/s]\n"
     ]
    },
    {
     "name": "stdout",
     "output_type": "stream",
     "text": [
      "Epsilon = 1.0\n",
      "Success Rate: 40.625%\n",
      "Average L0 Distance for Successful Attacks: 10.961538461538462\n",
      "Average L1 Distance for Successful Attacks: 0.5028109658222932\n",
      "Average L2 Distance for Successful Attacks: 0.8255509307751289\n",
      "Average Linf Distance for Successful Attacks: 2.210101105616643\n",
      "Average Mahalanobis Distance for Successful Attacks: 11.065827175469856\n",
      "Average Sensitivity for Successful Attacks: 0.367739497927519\n",
      "Outlier Rate for Successful Attacks: 99.23076923076923%\n",
      "\n",
      "\n",
      "Running L2Uniform on WineQuality-Red with LogisticRegression\n",
      "Threshold: 4.4356665308251575\n"
     ]
    },
    {
     "name": "stderr",
     "output_type": "stream",
     "text": [
      "100%|██████████| 320/320 [00:00<00:00, 497.54it/s]\n"
     ]
    },
    {
     "name": "stdout",
     "output_type": "stream",
     "text": [
      "Epsilon = 0.0\n",
      "Success Rate: 27.8125%\n",
      "Average L0 Distance for Successful Attacks: 0.0\n",
      "Average L1 Distance for Successful Attacks: 0.0\n",
      "Average L2 Distance for Successful Attacks: 0.0\n",
      "Average Linf Distance for Successful Attacks: 0.0\n",
      "Average Mahalanobis Distance for Successful Attacks: 2.846129352706799\n",
      "Average Sensitivity for Successful Attacks: 0.0\n",
      "Outlier Rate for Successful Attacks: 3.3707865168539324%\n",
      "\n",
      "\n"
     ]
    },
    {
     "name": "stderr",
     "output_type": "stream",
     "text": [
      "100%|██████████| 320/320 [00:00<00:00, 408.35it/s]\n"
     ]
    },
    {
     "name": "stdout",
     "output_type": "stream",
     "text": [
      "Epsilon = 0.01\n",
      "Success Rate: 27.8125%\n",
      "Average L0 Distance for Successful Attacks: 10.955056179775282\n",
      "Average L1 Distance for Successful Attacks: 0.004918357420168566\n",
      "Average L2 Distance for Successful Attacks: 0.009974223059298617\n",
      "Average Linf Distance for Successful Attacks: 0.028854445794994913\n",
      "Average Mahalanobis Distance for Successful Attacks: 2.908190724852244\n",
      "Average Sensitivity for Successful Attacks: 0.0035994120146242087\n",
      "Outlier Rate for Successful Attacks: 4.49438202247191%\n",
      "\n",
      "\n"
     ]
    },
    {
     "name": "stderr",
     "output_type": "stream",
     "text": [
      "100%|██████████| 320/320 [00:00<00:00, 434.93it/s]\n"
     ]
    },
    {
     "name": "stdout",
     "output_type": "stream",
     "text": [
      "Epsilon = 0.03\n",
      "Success Rate: 27.8125%\n",
      "Average L0 Distance for Successful Attacks: 10.955056179775282\n",
      "Average L1 Distance for Successful Attacks: 0.014678519763303607\n",
      "Average L2 Distance for Successful Attacks: 0.02992454441159629\n",
      "Average Linf Distance for Successful Attacks: 0.0865634891591715\n",
      "Average Mahalanobis Distance for Successful Attacks: 2.935759765630273\n",
      "Average Sensitivity for Successful Attacks: 0.010741105198525312\n",
      "Outlier Rate for Successful Attacks: 4.49438202247191%\n",
      "\n",
      "\n"
     ]
    },
    {
     "name": "stderr",
     "output_type": "stream",
     "text": [
      "100%|██████████| 320/320 [00:00<00:00, 458.34it/s]\n"
     ]
    },
    {
     "name": "stdout",
     "output_type": "stream",
     "text": [
      "Epsilon = 0.05\n",
      "Success Rate: 27.8125%\n",
      "Average L0 Distance for Successful Attacks: 10.932584269662922\n",
      "Average L1 Distance for Successful Attacks: 0.024661193109965056\n",
      "Average L2 Distance for Successful Attacks: 0.049905451705281656\n",
      "Average Linf Distance for Successful Attacks: 0.14324168258168724\n",
      "Average Mahalanobis Distance for Successful Attacks: 2.9412206047987937\n",
      "Average Sensitivity for Successful Attacks: 0.01808825022216593\n",
      "Outlier Rate for Successful Attacks: 4.49438202247191%\n",
      "\n",
      "\n"
     ]
    },
    {
     "name": "stderr",
     "output_type": "stream",
     "text": [
      "100%|██████████| 320/320 [00:00<00:00, 473.10it/s]\n"
     ]
    },
    {
     "name": "stdout",
     "output_type": "stream",
     "text": [
      "Epsilon = 0.1\n",
      "Success Rate: 28.749999999999996%\n",
      "Average L0 Distance for Successful Attacks: 10.945652173913043\n",
      "Average L1 Distance for Successful Attacks: 0.04923567633428003\n",
      "Average L2 Distance for Successful Attacks: 0.09934640918736873\n",
      "Average Linf Distance for Successful Attacks: 0.2864485209726769\n",
      "Average Mahalanobis Distance for Successful Attacks: 3.181261691522369\n",
      "Average Sensitivity for Successful Attacks: 0.03604775248095393\n",
      "Outlier Rate for Successful Attacks: 8.695652173913043%\n",
      "\n",
      "\n"
     ]
    },
    {
     "name": "stderr",
     "output_type": "stream",
     "text": [
      "100%|██████████| 320/320 [00:00<00:00, 439.79it/s]\n"
     ]
    },
    {
     "name": "stdout",
     "output_type": "stream",
     "text": [
      "Epsilon = 0.3\n",
      "Success Rate: 32.1875%\n",
      "Average L0 Distance for Successful Attacks: 10.922330097087379\n",
      "Average L1 Distance for Successful Attacks: 0.14276811589025756\n",
      "Average L2 Distance for Successful Attacks: 0.2871914626035875\n",
      "Average Linf Distance for Successful Attacks: 0.8232374573216855\n",
      "Average Mahalanobis Distance for Successful Attacks: 4.576600776156566\n",
      "Average Sensitivity for Successful Attacks: 0.10479299557729832\n",
      "Outlier Rate for Successful Attacks: 54.36893203883495%\n",
      "\n",
      "\n"
     ]
    },
    {
     "name": "stderr",
     "output_type": "stream",
     "text": [
      "100%|██████████| 320/320 [00:00<00:00, 443.68it/s]\n"
     ]
    },
    {
     "name": "stdout",
     "output_type": "stream",
     "text": [
      "Epsilon = 0.5\n",
      "Success Rate: 34.6875%\n",
      "Average L0 Distance for Successful Attacks: 10.945945945945946\n",
      "Average L1 Distance for Successful Attacks: 0.23983782073398968\n",
      "Average L2 Distance for Successful Attacks: 0.4628993151961146\n",
      "Average Linf Distance for Successful Attacks: 1.3122943312198192\n",
      "Average Mahalanobis Distance for Successful Attacks: 6.7253427476888\n",
      "Average Sensitivity for Successful Attacks: 0.1756864363948504\n",
      "Outlier Rate for Successful Attacks: 90.09009009009009%\n",
      "\n",
      "\n"
     ]
    },
    {
     "name": "stderr",
     "output_type": "stream",
     "text": [
      "100%|██████████| 320/320 [00:00<00:00, 340.69it/s]\n"
     ]
    },
    {
     "name": "stdout",
     "output_type": "stream",
     "text": [
      "Epsilon = 1.0\n",
      "Success Rate: 39.0625%\n",
      "Average L0 Distance for Successful Attacks: 10.896\n",
      "Average L1 Distance for Successful Attacks: 0.45250592494010927\n",
      "Average L2 Distance for Successful Attacks: 0.8378780369758606\n",
      "Average Linf Distance for Successful Attacks: 2.323852342605591\n",
      "Average Mahalanobis Distance for Successful Attacks: 11.05290948764206\n",
      "Average Sensitivity for Successful Attacks: 0.33297490429878235\n",
      "Outlier Rate for Successful Attacks: 100.0%\n",
      "\n",
      "\n",
      "Running LinfUniform on WineQuality-Red with LogisticRegression\n",
      "Threshold: 4.4356665308251575\n"
     ]
    },
    {
     "name": "stderr",
     "output_type": "stream",
     "text": [
      "100%|██████████| 320/320 [00:00<00:00, 523.00it/s]\n"
     ]
    },
    {
     "name": "stdout",
     "output_type": "stream",
     "text": [
      "Epsilon = 0.0\n",
      "Success Rate: 27.8125%\n",
      "Average L0 Distance for Successful Attacks: 0.0\n",
      "Average L1 Distance for Successful Attacks: 0.0\n",
      "Average L2 Distance for Successful Attacks: 0.0\n",
      "Average Linf Distance for Successful Attacks: 0.0\n",
      "Average Mahalanobis Distance for Successful Attacks: 2.846129352706799\n",
      "Average Sensitivity for Successful Attacks: 0.0\n",
      "Outlier Rate for Successful Attacks: 3.3707865168539324%\n",
      "\n",
      "\n"
     ]
    },
    {
     "name": "stderr",
     "output_type": "stream",
     "text": [
      "100%|██████████| 320/320 [00:00<00:00, 567.20it/s]\n"
     ]
    },
    {
     "name": "stdout",
     "output_type": "stream",
     "text": [
      "Epsilon = 0.01\n",
      "Success Rate: 28.4375%\n",
      "Average L0 Distance for Successful Attacks: 10.989010989010989\n",
      "Average L1 Distance for Successful Attacks: 0.010000000820382611\n",
      "Average L2 Distance for Successful Attacks: 0.021981821405691104\n",
      "Average Linf Distance for Successful Attacks: 0.06383791123772715\n",
      "Average Mahalanobis Distance for Successful Attacks: 2.901179072543732\n",
      "Average Sensitivity for Successful Attacks: 0.007293184134331378\n",
      "Outlier Rate for Successful Attacks: 5.4945054945054945%\n",
      "\n",
      "\n"
     ]
    },
    {
     "name": "stderr",
     "output_type": "stream",
     "text": [
      "100%|██████████| 320/320 [00:00<00:00, 535.22it/s]\n"
     ]
    },
    {
     "name": "stdout",
     "output_type": "stream",
     "text": [
      "Epsilon = 0.03\n",
      "Success Rate: 25.937500000000004%\n",
      "Average L0 Distance for Successful Attacks: 10.963855421686747\n",
      "Average L1 Distance for Successful Attacks: 0.02999999724238752\n",
      "Average L2 Distance for Successful Attacks: 0.06689452694123049\n",
      "Average Linf Distance for Successful Attacks: 0.19780253286821298\n",
      "Average Mahalanobis Distance for Successful Attacks: 3.007051635571283\n",
      "Average Sensitivity for Successful Attacks: 0.021934526445097233\n",
      "Outlier Rate for Successful Attacks: 4.819277108433735%\n",
      "\n",
      "\n"
     ]
    },
    {
     "name": "stderr",
     "output_type": "stream",
     "text": [
      "100%|██████████| 320/320 [00:00<00:00, 438.63it/s]\n"
     ]
    },
    {
     "name": "stdout",
     "output_type": "stream",
     "text": [
      "Epsilon = 0.05\n",
      "Success Rate: 29.375%\n",
      "Average L0 Distance for Successful Attacks: 10.925531914893616\n",
      "Average L1 Distance for Successful Attacks: 0.05000000716523921\n",
      "Average L2 Distance for Successful Attacks: 0.11155660228526339\n",
      "Average Linf Distance for Successful Attacks: 0.32833605640112085\n",
      "Average Mahalanobis Distance for Successful Attacks: 3.352452528820297\n",
      "Average Sensitivity for Successful Attacks: 0.036697151377163034\n",
      "Outlier Rate for Successful Attacks: 12.76595744680851%\n",
      "\n",
      "\n"
     ]
    },
    {
     "name": "stderr",
     "output_type": "stream",
     "text": [
      "100%|██████████| 320/320 [00:00<00:00, 558.06it/s]\n"
     ]
    },
    {
     "name": "stdout",
     "output_type": "stream",
     "text": [
      "Epsilon = 0.1\n",
      "Success Rate: 35.0%\n",
      "Average L0 Distance for Successful Attacks: 10.964285714285714\n",
      "Average L1 Distance for Successful Attacks: 0.1000000030866691\n",
      "Average L2 Distance for Successful Attacks: 0.21961467061191797\n",
      "Average Linf Distance for Successful Attacks: 0.6421501894614526\n",
      "Average Mahalanobis Distance for Successful Attacks: 4.092113556223781\n",
      "Average Sensitivity for Successful Attacks: 0.0731119637244514\n",
      "Outlier Rate for Successful Attacks: 31.25%\n",
      "\n",
      "\n"
     ]
    },
    {
     "name": "stderr",
     "output_type": "stream",
     "text": [
      "100%|██████████| 320/320 [00:00<00:00, 601.96it/s]\n"
     ]
    },
    {
     "name": "stdout",
     "output_type": "stream",
     "text": [
      "Epsilon = 0.3\n",
      "Success Rate: 37.5%\n",
      "Average L0 Distance for Successful Attacks: 10.941666666666666\n",
      "Average L1 Distance for Successful Attacks: 0.3000000121692816\n",
      "Average L2 Distance for Successful Attacks: 0.6028275482356549\n",
      "Average Linf Distance for Successful Attacks: 1.7209694554408392\n",
      "Average Mahalanobis Distance for Successful Attacks: 8.285606688866439\n",
      "Average Sensitivity for Successful Attacks: 0.2198302528510491\n",
      "Outlier Rate for Successful Attacks: 97.5%\n",
      "\n",
      "\n"
     ]
    },
    {
     "name": "stderr",
     "output_type": "stream",
     "text": [
      "100%|██████████| 320/320 [00:00<00:00, 616.93it/s]\n"
     ]
    },
    {
     "name": "stdout",
     "output_type": "stream",
     "text": [
      "Epsilon = 0.5\n",
      "Success Rate: 41.5625%\n",
      "Average L0 Distance for Successful Attacks: 10.969924812030076\n",
      "Average L1 Distance for Successful Attacks: 0.49419606157711576\n",
      "Average L2 Distance for Successful Attacks: 0.9276215447519058\n",
      "Average Linf Distance for Successful Attacks: 2.6076742885704327\n",
      "Average Mahalanobis Distance for Successful Attacks: 12.336522559963804\n",
      "Average Sensitivity for Successful Attacks: 0.3610701094892688\n",
      "Outlier Rate for Successful Attacks: 100.0%\n",
      "\n",
      "\n"
     ]
    },
    {
     "name": "stderr",
     "output_type": "stream",
     "text": [
      "100%|██████████| 320/320 [00:00<00:00, 527.90it/s]\n"
     ]
    },
    {
     "name": "stdout",
     "output_type": "stream",
     "text": [
      "Epsilon = 1.0\n",
      "Success Rate: 47.1875%\n",
      "Average L0 Distance for Successful Attacks: 10.95364238410596\n",
      "Average L1 Distance for Successful Attacks: 0.8302977475898945\n",
      "Average L2 Distance for Successful Attacks: 1.483649056873574\n",
      "Average Linf Distance for Successful Attacks: 4.060413130071779\n",
      "Average Mahalanobis Distance for Successful Attacks: 19.296974576116632\n",
      "Average Sensitivity for Successful Attacks: 0.6074530472423857\n",
      "Outlier Rate for Successful Attacks: 100.0%\n",
      "\n",
      "\n",
      "Running LinfFGSM on WineQuality-Red with LogisticRegression\n",
      "Threshold: 4.4356665308251575\n"
     ]
    },
    {
     "name": "stderr",
     "output_type": "stream",
     "text": [
      "100%|██████████| 320/320 [00:00<00:00, 405.65it/s]\n"
     ]
    },
    {
     "name": "stdout",
     "output_type": "stream",
     "text": [
      "Epsilon = 0.0\n",
      "Success Rate: 27.8125%\n",
      "Average L0 Distance for Successful Attacks: 0.0\n",
      "Average L1 Distance for Successful Attacks: 0.0\n",
      "Average L2 Distance for Successful Attacks: 0.0\n",
      "Average Linf Distance for Successful Attacks: 0.0\n",
      "Average Mahalanobis Distance for Successful Attacks: 2.846129352706799\n",
      "Average Sensitivity for Successful Attacks: 0.0\n",
      "Outlier Rate for Successful Attacks: 3.3707865168539324%\n",
      "\n",
      "\n"
     ]
    },
    {
     "name": "stderr",
     "output_type": "stream",
     "text": [
      "100%|██████████| 320/320 [00:00<00:00, 468.67it/s]\n"
     ]
    },
    {
     "name": "stdout",
     "output_type": "stream",
     "text": [
      "Epsilon = 0.01\n",
      "Success Rate: 33.4375%\n",
      "Average L0 Distance for Successful Attacks: 10.953271028037383\n",
      "Average L1 Distance for Successful Attacks: 0.010000005956286582\n",
      "Average L2 Distance for Successful Attacks: 0.03308152814752588\n",
      "Average Linf Distance for Successful Attacks: 0.10947224595279337\n",
      "Average Mahalanobis Distance for Successful Attacks: 2.9485729766205613\n",
      "Average Sensitivity for Successful Attacks: 0.007319225176785873\n",
      "Outlier Rate for Successful Attacks: 6.5420560747663545%\n",
      "\n",
      "\n"
     ]
    },
    {
     "name": "stderr",
     "output_type": "stream",
     "text": [
      "100%|██████████| 320/320 [00:00<00:00, 472.68it/s]\n"
     ]
    },
    {
     "name": "stdout",
     "output_type": "stream",
     "text": [
      "Epsilon = 0.03\n",
      "Success Rate: 54.0625%\n",
      "Average L0 Distance for Successful Attacks: 10.947976878612717\n",
      "Average L1 Distance for Successful Attacks: 0.030000001192092896\n",
      "Average L2 Distance for Successful Attacks: 0.09896958076712713\n",
      "Average Linf Distance for Successful Attacks: 0.3272572759258954\n",
      "Average Mahalanobis Distance for Successful Attacks: 3.1239312849117375\n",
      "Average Sensitivity for Successful Attacks: 0.02197203981135622\n",
      "Outlier Rate for Successful Attacks: 7.514450867052023%\n",
      "\n",
      "\n"
     ]
    },
    {
     "name": "stderr",
     "output_type": "stream",
     "text": [
      "100%|██████████| 320/320 [00:00<00:00, 446.36it/s]\n"
     ]
    },
    {
     "name": "stdout",
     "output_type": "stream",
     "text": [
      "Epsilon = 0.05\n",
      "Success Rate: 66.25%\n",
      "Average L0 Distance for Successful Attacks: 10.94811320754717\n",
      "Average L1 Distance for Successful Attacks: 0.050000011920928955\n",
      "Average L2 Distance for Successful Attacks: 0.16442741601253455\n",
      "Average Linf Distance for Successful Attacks: 0.5429338107131562\n",
      "Average Mahalanobis Distance for Successful Attacks: 3.4494301502491176\n",
      "Average Sensitivity for Successful Attacks: 0.03661872003719492\n",
      "Outlier Rate for Successful Attacks: 12.735849056603774%\n",
      "\n",
      "\n"
     ]
    },
    {
     "name": "stderr",
     "output_type": "stream",
     "text": [
      "100%|██████████| 320/320 [00:00<00:00, 402.16it/s]\n"
     ]
    },
    {
     "name": "stdout",
     "output_type": "stream",
     "text": [
      "Epsilon = 0.1\n",
      "Success Rate: 82.5%\n",
      "Average L0 Distance for Successful Attacks: 10.943181818181818\n",
      "Average L1 Distance for Successful Attacks: 0.1000000187336947\n",
      "Average L2 Distance for Successful Attacks: 0.32384332337162713\n",
      "Average Linf Distance for Successful Attacks: 1.0643111783446688\n",
      "Average Mahalanobis Distance for Successful Attacks: 4.6746856125246925\n",
      "Average Sensitivity for Successful Attacks: 0.07327185681259091\n",
      "Outlier Rate for Successful Attacks: 53.03030303030303%\n",
      "\n",
      "\n"
     ]
    },
    {
     "name": "stderr",
     "output_type": "stream",
     "text": [
      "100%|██████████| 320/320 [00:00<00:00, 378.07it/s]\n"
     ]
    },
    {
     "name": "stdout",
     "output_type": "stream",
     "text": [
      "Epsilon = 0.3\n",
      "Success Rate: 100.0%\n",
      "Average L0 Distance for Successful Attacks: 10.95\n",
      "Average L1 Distance for Successful Attacks: 0.3000000236555934\n",
      "Average L2 Distance for Successful Attacks: 0.884981201402843\n",
      "Average Linf Distance for Successful Attacks: 2.801942451298237\n",
      "Average Mahalanobis Distance for Successful Attacks: 9.803261175511029\n",
      "Average Sensitivity for Successful Attacks: 0.21966331703588365\n",
      "Outlier Rate for Successful Attacks: 100.0%\n",
      "\n",
      "\n"
     ]
    },
    {
     "name": "stderr",
     "output_type": "stream",
     "text": [
      "100%|██████████| 320/320 [00:00<00:00, 372.30it/s]\n"
     ]
    },
    {
     "name": "stdout",
     "output_type": "stream",
     "text": [
      "Epsilon = 0.5\n",
      "Success Rate: 100.0%\n",
      "Average L0 Distance for Successful Attacks: 10.95\n",
      "Average L1 Distance for Successful Attacks: 0.5\n",
      "Average L2 Distance for Successful Attacks: 1.354224430769682\n",
      "Average Linf Distance for Successful Attacks: 4.140885680168867\n",
      "Average Mahalanobis Distance for Successful Attacks: 14.683045706451896\n",
      "Average Sensitivity for Successful Attacks: 0.366105476859957\n",
      "Outlier Rate for Successful Attacks: 100.0%\n",
      "\n",
      "\n"
     ]
    },
    {
     "name": "stderr",
     "output_type": "stream",
     "text": [
      "100%|██████████| 320/320 [00:00<00:00, 439.11it/s]\n"
     ]
    },
    {
     "name": "stdout",
     "output_type": "stream",
     "text": [
      "Epsilon = 1.0\n",
      "Success Rate: 100.0%\n",
      "Average L0 Distance for Successful Attacks: 10.95\n",
      "Average L1 Distance for Successful Attacks: 0.9285423150286078\n",
      "Average L2 Distance for Successful Attacks: 1.966635026037693\n",
      "Average Linf Distance for Successful Attacks: 5.675472028553486\n",
      "Average Mahalanobis Distance for Successful Attacks: 21.734440560168178\n",
      "Average Sensitivity for Successful Attacks: 0.6799013249576091\n",
      "Outlier Rate for Successful Attacks: 100.0%\n",
      "\n",
      "\n",
      "Running LinfPGD on WineQuality-Red with LogisticRegression\n",
      "Threshold: 4.4356665308251575\n"
     ]
    },
    {
     "name": "stderr",
     "output_type": "stream",
     "text": [
      "100%|██████████| 320/320 [00:09<00:00, 33.50it/s]\n"
     ]
    },
    {
     "name": "stdout",
     "output_type": "stream",
     "text": [
      "Epsilon = 0.0\n",
      "Success Rate: 27.8125%\n",
      "Average L0 Distance for Successful Attacks: 0.0\n",
      "Average L1 Distance for Successful Attacks: 0.0\n",
      "Average L2 Distance for Successful Attacks: 0.0\n",
      "Average Linf Distance for Successful Attacks: 0.0\n",
      "Average Mahalanobis Distance for Successful Attacks: 2.846129352706799\n",
      "Average Sensitivity for Successful Attacks: 0.0\n",
      "Outlier Rate for Successful Attacks: 3.3707865168539324%\n",
      "\n",
      "\n"
     ]
    },
    {
     "name": "stderr",
     "output_type": "stream",
     "text": [
      "100%|██████████| 320/320 [00:07<00:00, 45.58it/s]\n"
     ]
    },
    {
     "name": "stdout",
     "output_type": "stream",
     "text": [
      "Epsilon = 0.01\n",
      "Success Rate: 32.8125%\n",
      "Average L0 Distance for Successful Attacks: 10.952380952380953\n",
      "Average L1 Distance for Successful Attacks: 0.01000000513380482\n",
      "Average L2 Distance for Successful Attacks: 0.030017626622603055\n",
      "Average Linf Distance for Successful Attacks: 0.09716530988613764\n",
      "Average Mahalanobis Distance for Successful Attacks: 2.9292406801971165\n",
      "Average Sensitivity for Successful Attacks: 0.0073198729904279825\n",
      "Outlier Rate for Successful Attacks: 5.714285714285714%\n",
      "\n",
      "\n"
     ]
    },
    {
     "name": "stderr",
     "output_type": "stream",
     "text": [
      "100%|██████████| 320/320 [00:06<00:00, 49.80it/s]\n"
     ]
    },
    {
     "name": "stdout",
     "output_type": "stream",
     "text": [
      "Epsilon = 0.03\n",
      "Success Rate: 51.5625%\n",
      "Average L0 Distance for Successful Attacks: 10.951515151515151\n",
      "Average L1 Distance for Successful Attacks: 0.030000001192092896\n",
      "Average L2 Distance for Successful Attacks: 0.09026213401194774\n",
      "Average Linf Distance for Successful Attacks: 0.29246109209277416\n",
      "Average Mahalanobis Distance for Successful Attacks: 3.086706984636759\n",
      "Average Sensitivity for Successful Attacks: 0.021964442842837537\n",
      "Outlier Rate for Successful Attacks: 7.2727272727272725%\n",
      "\n",
      "\n"
     ]
    },
    {
     "name": "stderr",
     "output_type": "stream",
     "text": [
      "100%|██████████| 320/320 [00:06<00:00, 48.58it/s]\n"
     ]
    },
    {
     "name": "stdout",
     "output_type": "stream",
     "text": [
      "Epsilon = 0.05\n",
      "Success Rate: 63.74999999999999%\n",
      "Average L0 Distance for Successful Attacks: 10.950980392156863\n",
      "Average L1 Distance for Successful Attacks: 0.05000001182962282\n",
      "Average L2 Distance for Successful Attacks: 0.14983973206550466\n",
      "Average Linf Distance for Successful Attacks: 0.4847509177292095\n",
      "Average Mahalanobis Distance for Successful Attacks: 3.3485065640939924\n",
      "Average Sensitivity for Successful Attacks: 0.03660842571772781\n",
      "Outlier Rate for Successful Attacks: 11.27450980392157%\n",
      "\n",
      "\n"
     ]
    },
    {
     "name": "stderr",
     "output_type": "stream",
     "text": [
      "100%|██████████| 320/320 [00:06<00:00, 49.16it/s]\n"
     ]
    },
    {
     "name": "stdout",
     "output_type": "stream",
     "text": [
      "Epsilon = 0.1\n",
      "Success Rate: 79.0625%\n",
      "Average L0 Distance for Successful Attacks: 10.940711462450594\n",
      "Average L1 Distance for Successful Attacks: 0.10000001600844116\n",
      "Average L2 Distance for Successful Attacks: 0.295573078066464\n",
      "Average Linf Distance for Successful Attacks: 0.9527063982288828\n",
      "Average Mahalanobis Distance for Successful Attacks: 4.4601103312994725\n",
      "Average Sensitivity for Successful Attacks: 0.07329011767395871\n",
      "Outlier Rate for Successful Attacks: 47.03557312252965%\n",
      "\n",
      "\n"
     ]
    },
    {
     "name": "stderr",
     "output_type": "stream",
     "text": [
      "100%|██████████| 320/320 [00:06<00:00, 48.05it/s]\n"
     ]
    },
    {
     "name": "stdout",
     "output_type": "stream",
     "text": [
      "Epsilon = 0.3\n",
      "Success Rate: 100.0%\n",
      "Average L0 Distance for Successful Attacks: 10.95\n",
      "Average L1 Distance for Successful Attacks: 0.3000000192783773\n",
      "Average L2 Distance for Successful Attacks: 0.8295839559286833\n",
      "Average Linf Distance for Successful Attacks: 2.602182822674513\n",
      "Average Mahalanobis Distance for Successful Attacks: 9.455945396745332\n",
      "Average Sensitivity for Successful Attacks: 0.21966331051662563\n",
      "Outlier Rate for Successful Attacks: 100.0%\n",
      "\n",
      "\n"
     ]
    },
    {
     "name": "stderr",
     "output_type": "stream",
     "text": [
      "100%|██████████| 320/320 [00:06<00:00, 46.85it/s]\n"
     ]
    },
    {
     "name": "stdout",
     "output_type": "stream",
     "text": [
      "Epsilon = 0.5\n",
      "Success Rate: 100.0%\n",
      "Average L0 Distance for Successful Attacks: 10.95\n",
      "Average L1 Distance for Successful Attacks: 0.5\n",
      "Average L2 Distance for Successful Attacks: 1.2998251017183065\n",
      "Average Linf Distance for Successful Attacks: 3.95575900003314\n",
      "Average Mahalanobis Distance for Successful Attacks: 14.257479724617516\n",
      "Average Sensitivity for Successful Attacks: 0.366105476859957\n",
      "Outlier Rate for Successful Attacks: 100.0%\n",
      "\n",
      "\n"
     ]
    },
    {
     "name": "stderr",
     "output_type": "stream",
     "text": [
      "100%|██████████| 320/320 [00:06<00:00, 46.89it/s]\n"
     ]
    },
    {
     "name": "stdout",
     "output_type": "stream",
     "text": [
      "Epsilon = 1.0\n",
      "Success Rate: 100.0%\n",
      "Average L0 Distance for Successful Attacks: 10.95\n",
      "Average L1 Distance for Successful Attacks: 0.9285423150286078\n",
      "Average L2 Distance for Successful Attacks: 1.966635026037693\n",
      "Average Linf Distance for Successful Attacks: 5.675472028553486\n",
      "Average Mahalanobis Distance for Successful Attacks: 21.734440560168178\n",
      "Average Sensitivity for Successful Attacks: 0.6799013249576091\n",
      "Outlier Rate for Successful Attacks: 100.0%\n",
      "\n",
      "\n",
      "Running LinfBIM on WineQuality-Red with LogisticRegression\n",
      "Threshold: 4.4356665308251575\n"
     ]
    },
    {
     "name": "stderr",
     "output_type": "stream",
     "text": [
      "100%|██████████| 320/320 [00:02<00:00, 147.86it/s]\n"
     ]
    },
    {
     "name": "stdout",
     "output_type": "stream",
     "text": [
      "Epsilon = 0.0\n",
      "Success Rate: 27.8125%\n",
      "Average L0 Distance for Successful Attacks: 0.0\n",
      "Average L1 Distance for Successful Attacks: 0.0\n",
      "Average L2 Distance for Successful Attacks: 0.0\n",
      "Average Linf Distance for Successful Attacks: 0.0\n",
      "Average Mahalanobis Distance for Successful Attacks: 2.846129352706799\n",
      "Average Sensitivity for Successful Attacks: 0.0\n",
      "Outlier Rate for Successful Attacks: 3.3707865168539324%\n",
      "\n",
      "\n"
     ]
    },
    {
     "name": "stderr",
     "output_type": "stream",
     "text": [
      "100%|██████████| 320/320 [00:02<00:00, 142.63it/s]\n"
     ]
    },
    {
     "name": "stdout",
     "output_type": "stream",
     "text": [
      "Epsilon = 0.01\n",
      "Success Rate: 33.4375%\n",
      "Average L0 Distance for Successful Attacks: 10.953271028037383\n",
      "Average L1 Distance for Successful Attacks: 0.010000005956286582\n",
      "Average L2 Distance for Successful Attacks: 0.03308152814752588\n",
      "Average Linf Distance for Successful Attacks: 0.10947224595279337\n",
      "Average Mahalanobis Distance for Successful Attacks: 2.9485729766205613\n",
      "Average Sensitivity for Successful Attacks: 0.007319225176785873\n",
      "Outlier Rate for Successful Attacks: 6.5420560747663545%\n",
      "\n",
      "\n"
     ]
    },
    {
     "name": "stderr",
     "output_type": "stream",
     "text": [
      "100%|██████████| 320/320 [00:02<00:00, 138.23it/s]\n"
     ]
    },
    {
     "name": "stdout",
     "output_type": "stream",
     "text": [
      "Epsilon = 0.03\n",
      "Success Rate: 54.0625%\n",
      "Average L0 Distance for Successful Attacks: 10.947976878612717\n",
      "Average L1 Distance for Successful Attacks: 0.030000001192092896\n",
      "Average L2 Distance for Successful Attacks: 0.09896958076712713\n",
      "Average Linf Distance for Successful Attacks: 0.3272572759258954\n",
      "Average Mahalanobis Distance for Successful Attacks: 3.1239312849117375\n",
      "Average Sensitivity for Successful Attacks: 0.02197203981135622\n",
      "Outlier Rate for Successful Attacks: 7.514450867052023%\n",
      "\n",
      "\n"
     ]
    },
    {
     "name": "stderr",
     "output_type": "stream",
     "text": [
      "100%|██████████| 320/320 [00:02<00:00, 132.80it/s]\n"
     ]
    },
    {
     "name": "stdout",
     "output_type": "stream",
     "text": [
      "Epsilon = 0.05\n",
      "Success Rate: 66.25%\n",
      "Average L0 Distance for Successful Attacks: 10.94811320754717\n",
      "Average L1 Distance for Successful Attacks: 0.050000011920928955\n",
      "Average L2 Distance for Successful Attacks: 0.16442741601253455\n",
      "Average Linf Distance for Successful Attacks: 0.5429338107131562\n",
      "Average Mahalanobis Distance for Successful Attacks: 3.4494301502491176\n",
      "Average Sensitivity for Successful Attacks: 0.03661872003719492\n",
      "Outlier Rate for Successful Attacks: 12.735849056603774%\n",
      "\n",
      "\n"
     ]
    },
    {
     "name": "stderr",
     "output_type": "stream",
     "text": [
      "100%|██████████| 320/320 [00:02<00:00, 142.25it/s]\n"
     ]
    },
    {
     "name": "stdout",
     "output_type": "stream",
     "text": [
      "Epsilon = 0.1\n",
      "Success Rate: 82.5%\n",
      "Average L0 Distance for Successful Attacks: 10.943181818181818\n",
      "Average L1 Distance for Successful Attacks: 0.1000000187336947\n",
      "Average L2 Distance for Successful Attacks: 0.32384332337162713\n",
      "Average Linf Distance for Successful Attacks: 1.0643111783446688\n",
      "Average Mahalanobis Distance for Successful Attacks: 4.6746856125246925\n",
      "Average Sensitivity for Successful Attacks: 0.07327185681259091\n",
      "Outlier Rate for Successful Attacks: 53.03030303030303%\n",
      "\n",
      "\n"
     ]
    },
    {
     "name": "stderr",
     "output_type": "stream",
     "text": [
      "100%|██████████| 320/320 [00:02<00:00, 151.87it/s]\n"
     ]
    },
    {
     "name": "stdout",
     "output_type": "stream",
     "text": [
      "Epsilon = 0.3\n",
      "Success Rate: 100.0%\n",
      "Average L0 Distance for Successful Attacks: 10.95\n",
      "Average L1 Distance for Successful Attacks: 0.3000000236555934\n",
      "Average L2 Distance for Successful Attacks: 0.884981201402843\n",
      "Average Linf Distance for Successful Attacks: 2.801942451298237\n",
      "Average Mahalanobis Distance for Successful Attacks: 9.803261175511029\n",
      "Average Sensitivity for Successful Attacks: 0.21966331703588365\n",
      "Outlier Rate for Successful Attacks: 100.0%\n",
      "\n",
      "\n"
     ]
    },
    {
     "name": "stderr",
     "output_type": "stream",
     "text": [
      "100%|██████████| 320/320 [00:02<00:00, 147.21it/s]\n"
     ]
    },
    {
     "name": "stdout",
     "output_type": "stream",
     "text": [
      "Epsilon = 0.5\n",
      "Success Rate: 100.0%\n",
      "Average L0 Distance for Successful Attacks: 10.95\n",
      "Average L1 Distance for Successful Attacks: 0.5\n",
      "Average L2 Distance for Successful Attacks: 1.354224430769682\n",
      "Average Linf Distance for Successful Attacks: 4.140885680168867\n",
      "Average Mahalanobis Distance for Successful Attacks: 14.683045706451896\n",
      "Average Sensitivity for Successful Attacks: 0.366105476859957\n",
      "Outlier Rate for Successful Attacks: 100.0%\n",
      "\n",
      "\n"
     ]
    },
    {
     "name": "stderr",
     "output_type": "stream",
     "text": [
      "100%|██████████| 320/320 [00:02<00:00, 150.31it/s]\n"
     ]
    },
    {
     "name": "stdout",
     "output_type": "stream",
     "text": [
      "Epsilon = 1.0\n",
      "Success Rate: 100.0%\n",
      "Average L0 Distance for Successful Attacks: 10.95\n",
      "Average L1 Distance for Successful Attacks: 0.9285423150286078\n",
      "Average L2 Distance for Successful Attacks: 1.966635026037693\n",
      "Average Linf Distance for Successful Attacks: 5.675472028553486\n",
      "Average Mahalanobis Distance for Successful Attacks: 21.734440560168178\n",
      "Average Sensitivity for Successful Attacks: 0.6799013249576091\n",
      "Outlier Rate for Successful Attacks: 100.0%\n",
      "\n",
      "\n",
      "Running L2FGSM on WineQuality-Red with LogisticRegression\n",
      "Threshold: 4.4356665308251575\n"
     ]
    },
    {
     "name": "stderr",
     "output_type": "stream",
     "text": [
      "100%|██████████| 320/320 [00:00<00:00, 387.85it/s]\n"
     ]
    },
    {
     "name": "stdout",
     "output_type": "stream",
     "text": [
      "Epsilon = 0.0\n",
      "Success Rate: 27.8125%\n",
      "Average L0 Distance for Successful Attacks: 0.0\n",
      "Average L1 Distance for Successful Attacks: 0.0\n",
      "Average L2 Distance for Successful Attacks: 0.0\n",
      "Average Linf Distance for Successful Attacks: 0.0\n",
      "Average Mahalanobis Distance for Successful Attacks: 2.846129352706799\n",
      "Average Sensitivity for Successful Attacks: 0.0\n",
      "Outlier Rate for Successful Attacks: 3.3707865168539324%\n",
      "\n",
      "\n"
     ]
    },
    {
     "name": "stderr",
     "output_type": "stream",
     "text": [
      "100%|██████████| 320/320 [00:00<00:00, 363.42it/s]\n"
     ]
    },
    {
     "name": "stdout",
     "output_type": "stream",
     "text": [
      "Epsilon = 0.01\n",
      "Success Rate: 30.0%\n",
      "Average L0 Distance for Successful Attacks: 10.947916666666666\n",
      "Average L1 Distance for Successful Attacks: 0.004377151528994243\n",
      "Average L2 Distance for Successful Attacks: 0.00999044394120574\n",
      "Average Linf Distance for Successful Attacks: 0.029728671613459785\n",
      "Average Mahalanobis Distance for Successful Attacks: 2.9270227458683813\n",
      "Average Sensitivity for Successful Attacks: 0.003205441392007439\n",
      "Outlier Rate for Successful Attacks: 4.166666666666666%\n",
      "\n",
      "\n"
     ]
    },
    {
     "name": "stderr",
     "output_type": "stream",
     "text": [
      "100%|██████████| 320/320 [00:00<00:00, 370.02it/s]\n"
     ]
    },
    {
     "name": "stdout",
     "output_type": "stream",
     "text": [
      "Epsilon = 0.03\n",
      "Success Rate: 33.4375%\n",
      "Average L0 Distance for Successful Attacks: 10.953271028037383\n",
      "Average L1 Distance for Successful Attacks: 0.013131445186717487\n",
      "Average L2 Distance for Successful Attacks: 0.029957951055230383\n",
      "Average Linf Distance for Successful Attacks: 0.08914902534718826\n",
      "Average Mahalanobis Distance for Successful Attacks: 2.9444108260262936\n",
      "Average Sensitivity for Successful Attacks: 0.009611193908848495\n",
      "Outlier Rate for Successful Attacks: 5.607476635514018%\n",
      "\n",
      "\n"
     ]
    },
    {
     "name": "stderr",
     "output_type": "stream",
     "text": [
      "100%|██████████| 320/320 [00:00<00:00, 354.85it/s]\n"
     ]
    },
    {
     "name": "stdout",
     "output_type": "stream",
     "text": [
      "Epsilon = 0.05\n",
      "Success Rate: 41.5625%\n",
      "Average L0 Distance for Successful Attacks: 10.962406015037594\n",
      "Average L1 Distance for Successful Attacks: 0.021885751669568226\n",
      "Average L2 Distance for Successful Attacks: 0.049913581964888966\n",
      "Average Linf Distance for Successful Attacks: 0.14859019634418918\n",
      "Average Mahalanobis Distance for Successful Attacks: 2.8997316744032737\n",
      "Average Sensitivity for Successful Attacks: 0.016004100203850215\n",
      "Outlier Rate for Successful Attacks: 5.263157894736842%\n",
      "\n",
      "\n"
     ]
    },
    {
     "name": "stderr",
     "output_type": "stream",
     "text": [
      "100%|██████████| 320/320 [00:00<00:00, 355.23it/s]\n"
     ]
    },
    {
     "name": "stdout",
     "output_type": "stream",
     "text": [
      "Epsilon = 0.1\n",
      "Success Rate: 56.875%\n",
      "Average L0 Distance for Successful Attacks: 10.95054945054945\n",
      "Average L1 Distance for Successful Attacks: 0.043762051285459444\n",
      "Average L2 Distance for Successful Attacks: 0.09937643689604905\n",
      "Average Linf Distance for Successful Attacks: 0.29559230771693557\n",
      "Average Mahalanobis Distance for Successful Attacks: 3.1573426383091814\n",
      "Average Sensitivity for Successful Attacks: 0.03204301658731241\n",
      "Outlier Rate for Successful Attacks: 8.241758241758241%\n",
      "\n",
      "\n"
     ]
    },
    {
     "name": "stderr",
     "output_type": "stream",
     "text": [
      "100%|██████████| 320/320 [00:00<00:00, 367.80it/s]\n"
     ]
    },
    {
     "name": "stdout",
     "output_type": "stream",
     "text": [
      "Epsilon = 0.3\n",
      "Success Rate: 82.8125%\n",
      "Average L0 Distance for Successful Attacks: 10.943396226415095\n",
      "Average L1 Distance for Successful Attacks: 0.13113924467338706\n",
      "Average L2 Distance for Successful Attacks: 0.29377550572719213\n",
      "Average Linf Distance for Successful Attacks: 0.8697092645573166\n",
      "Average Mahalanobis Distance for Successful Attacks: 4.799936722189754\n",
      "Average Sensitivity for Successful Attacks: 0.0960808017343845\n",
      "Outlier Rate for Successful Attacks: 61.13207547169811%\n",
      "\n",
      "\n"
     ]
    },
    {
     "name": "stderr",
     "output_type": "stream",
     "text": [
      "100%|██████████| 320/320 [00:00<00:00, 356.77it/s]\n"
     ]
    },
    {
     "name": "stdout",
     "output_type": "stream",
     "text": [
      "Epsilon = 0.5\n",
      "Success Rate: 99.375%\n",
      "Average L0 Distance for Successful Attacks: 10.949685534591195\n",
      "Average L1 Distance for Successful Attacks: 0.21786324637678434\n",
      "Average L2 Distance for Successful Attacks: 0.4784324381898784\n",
      "Average Linf Distance for Successful Attacks: 1.405672718144063\n",
      "Average Mahalanobis Distance for Successful Attacks: 6.744280132760228\n",
      "Average Sensitivity for Successful Attacks: 0.15951490055465098\n",
      "Outlier Rate for Successful Attacks: 98.74213836477988%\n",
      "\n",
      "\n"
     ]
    },
    {
     "name": "stderr",
     "output_type": "stream",
     "text": [
      "100%|██████████| 320/320 [00:00<00:00, 358.98it/s]\n"
     ]
    },
    {
     "name": "stdout",
     "output_type": "stream",
     "text": [
      "Epsilon = 1.0\n",
      "Success Rate: 100.0%\n",
      "Average L0 Distance for Successful Attacks: 10.95\n",
      "Average L1 Distance for Successful Attacks: 0.4292003764770925\n",
      "Average L2 Distance for Successful Attacks: 0.885296249948442\n",
      "Average Linf Distance for Successful Attacks: 2.552656764537096\n",
      "Average Mahalanobis Distance for Successful Attacks: 11.464400547034035\n",
      "Average Sensitivity for Successful Attacks: 0.3142370516434312\n",
      "Outlier Rate for Successful Attacks: 100.0%\n",
      "\n",
      "\n",
      "Running L2PGD on WineQuality-Red with LogisticRegression\n",
      "Threshold: 4.4356665308251575\n"
     ]
    },
    {
     "name": "stderr",
     "output_type": "stream",
     "text": [
      "100%|██████████| 320/320 [00:12<00:00, 24.97it/s]\n"
     ]
    },
    {
     "name": "stdout",
     "output_type": "stream",
     "text": [
      "Epsilon = 0.0\n",
      "Success Rate: 27.8125%\n",
      "Average L0 Distance for Successful Attacks: 0.0\n",
      "Average L1 Distance for Successful Attacks: 0.0\n",
      "Average L2 Distance for Successful Attacks: 0.0\n",
      "Average Linf Distance for Successful Attacks: 0.0\n",
      "Average Mahalanobis Distance for Successful Attacks: 2.846129352706799\n",
      "Average Sensitivity for Successful Attacks: 0.0\n",
      "Outlier Rate for Successful Attacks: 3.3707865168539324%\n",
      "\n",
      "\n"
     ]
    },
    {
     "name": "stderr",
     "output_type": "stream",
     "text": [
      "100%|██████████| 320/320 [00:13<00:00, 24.38it/s]\n"
     ]
    },
    {
     "name": "stdout",
     "output_type": "stream",
     "text": [
      "Epsilon = 0.01\n",
      "Success Rate: 29.6875%\n",
      "Average L0 Distance for Successful Attacks: 10.957894736842105\n",
      "Average L1 Distance for Successful Attacks: 0.005514135613645378\n",
      "Average L2 Distance for Successful Attacks: 0.009985368826279515\n",
      "Average Linf Distance for Successful Attacks: 0.02773574071103021\n",
      "Average Mahalanobis Distance for Successful Attacks: 2.921678432542665\n",
      "Average Sensitivity for Successful Attacks: 0.004033082581468318\n",
      "Outlier Rate for Successful Attacks: 4.2105263157894735%\n",
      "\n",
      "\n"
     ]
    },
    {
     "name": "stderr",
     "output_type": "stream",
     "text": [
      "100%|██████████| 320/320 [00:13<00:00, 23.23it/s]\n"
     ]
    },
    {
     "name": "stdout",
     "output_type": "stream",
     "text": [
      "Epsilon = 0.03\n",
      "Success Rate: 32.5%\n",
      "Average L0 Distance for Successful Attacks: 10.971153846153847\n",
      "Average L1 Distance for Successful Attacks: 0.016432056275124732\n",
      "Average L2 Distance for Successful Attacks: 0.02996087847993924\n",
      "Average Linf Distance for Successful Attacks: 0.08390873083128379\n",
      "Average Mahalanobis Distance for Successful Attacks: 2.939748943486524\n",
      "Average Sensitivity for Successful Attacks: 0.012002843548543751\n",
      "Outlier Rate for Successful Attacks: 6.730769230769231%\n",
      "\n",
      "\n"
     ]
    },
    {
     "name": "stderr",
     "output_type": "stream",
     "text": [
      "100%|██████████| 320/320 [00:13<00:00, 24.59it/s]\n"
     ]
    },
    {
     "name": "stdout",
     "output_type": "stream",
     "text": [
      "Epsilon = 0.05\n",
      "Success Rate: 37.8125%\n",
      "Average L0 Distance for Successful Attacks: 10.96694214876033\n",
      "Average L1 Distance for Successful Attacks: 0.027626896046163623\n",
      "Average L2 Distance for Successful Attacks: 0.04988001080707085\n",
      "Average Linf Distance for Successful Attacks: 0.1387375220656395\n",
      "Average Mahalanobis Distance for Successful Attacks: 2.9458537909581204\n",
      "Average Sensitivity for Successful Attacks: 0.020196885771064228\n",
      "Outlier Rate for Successful Attacks: 4.958677685950414%\n",
      "\n",
      "\n"
     ]
    },
    {
     "name": "stderr",
     "output_type": "stream",
     "text": [
      "100%|██████████| 320/320 [00:12<00:00, 24.62it/s]\n"
     ]
    },
    {
     "name": "stdout",
     "output_type": "stream",
     "text": [
      "Epsilon = 0.1\n",
      "Success Rate: 52.1875%\n",
      "Average L0 Distance for Successful Attacks: 10.964071856287426\n",
      "Average L1 Distance for Successful Attacks: 0.0552193277744119\n",
      "Average L2 Distance for Successful Attacks: 0.09980066852298325\n",
      "Average Linf Distance for Successful Attacks: 0.2804964139254507\n",
      "Average Mahalanobis Distance for Successful Attacks: 3.1883312760399187\n",
      "Average Sensitivity for Successful Attacks: 0.04037191590550774\n",
      "Outlier Rate for Successful Attacks: 8.982035928143713%\n",
      "\n",
      "\n"
     ]
    },
    {
     "name": "stderr",
     "output_type": "stream",
     "text": [
      "100%|██████████| 320/320 [00:12<00:00, 24.71it/s]\n"
     ]
    },
    {
     "name": "stdout",
     "output_type": "stream",
     "text": [
      "Epsilon = 0.3\n",
      "Success Rate: 80.0%\n",
      "Average L0 Distance for Successful Attacks: 10.95703125\n",
      "Average L1 Distance for Successful Attacks: 0.1674373465939425\n",
      "Average L2 Distance for Successful Attacks: 0.29936549172271043\n",
      "Average Linf Distance for Successful Attacks: 0.8313784622587264\n",
      "Average Mahalanobis Distance for Successful Attacks: 4.863179081713534\n",
      "Average Sensitivity for Successful Attacks: 0.12255166124668904\n",
      "Outlier Rate for Successful Attacks: 60.15625%\n",
      "\n",
      "\n"
     ]
    },
    {
     "name": "stderr",
     "output_type": "stream",
     "text": [
      "100%|██████████| 320/320 [00:13<00:00, 24.27it/s]\n"
     ]
    },
    {
     "name": "stdout",
     "output_type": "stream",
     "text": [
      "Epsilon = 0.5\n",
      "Success Rate: 96.875%\n",
      "Average L0 Distance for Successful Attacks: 10.958064516129033\n",
      "Average L1 Distance for Successful Attacks: 0.2810454921376321\n",
      "Average L2 Distance for Successful Attacks: 0.49645711395048325\n",
      "Average Linf Distance for Successful Attacks: 1.3788143315622883\n",
      "Average Mahalanobis Distance for Successful Attacks: 6.710605722691084\n",
      "Average Sensitivity for Successful Attacks: 0.20568750765054455\n",
      "Outlier Rate for Successful Attacks: 90.0%\n",
      "\n",
      "\n"
     ]
    },
    {
     "name": "stderr",
     "output_type": "stream",
     "text": [
      "100%|██████████| 320/320 [00:13<00:00, 23.54it/s]\n"
     ]
    },
    {
     "name": "stdout",
     "output_type": "stream",
     "text": [
      "Epsilon = 1.0\n",
      "Success Rate: 100.0%\n",
      "Average L0 Distance for Successful Attacks: 10.9625\n",
      "Average L1 Distance for Successful Attacks: 0.5679396890103817\n",
      "Average L2 Distance for Successful Attacks: 0.9838165130466223\n",
      "Average Linf Distance for Successful Attacks: 2.6995066922158\n",
      "Average Mahalanobis Distance for Successful Attacks: 12.08874371797869\n",
      "Average Sensitivity for Successful Attacks: 0.41535228453576567\n",
      "Outlier Rate for Successful Attacks: 100.0%\n",
      "\n",
      "\n",
      "Running L2BIM on WineQuality-Red with LogisticRegression\n",
      "Threshold: 4.4356665308251575\n"
     ]
    },
    {
     "name": "stderr",
     "output_type": "stream",
     "text": [
      "100%|██████████| 320/320 [00:03<00:00, 101.64it/s]\n"
     ]
    },
    {
     "name": "stdout",
     "output_type": "stream",
     "text": [
      "Epsilon = 0.0\n",
      "Success Rate: 27.8125%\n",
      "Average L0 Distance for Successful Attacks: 0.0\n",
      "Average L1 Distance for Successful Attacks: 0.0\n",
      "Average L2 Distance for Successful Attacks: 0.0\n",
      "Average Linf Distance for Successful Attacks: 0.0\n",
      "Average Mahalanobis Distance for Successful Attacks: 2.846129352706799\n",
      "Average Sensitivity for Successful Attacks: 0.0\n",
      "Outlier Rate for Successful Attacks: 3.3707865168539324%\n",
      "\n",
      "\n"
     ]
    },
    {
     "name": "stderr",
     "output_type": "stream",
     "text": [
      "100%|██████████| 320/320 [00:03<00:00, 100.60it/s]\n"
     ]
    },
    {
     "name": "stdout",
     "output_type": "stream",
     "text": [
      "Epsilon = 0.01\n",
      "Success Rate: 30.0%\n",
      "Average L0 Distance for Successful Attacks: 10.947916666666666\n",
      "Average L1 Distance for Successful Attacks: 0.004381285592292746\n",
      "Average L2 Distance for Successful Attacks: 0.009999461345917856\n",
      "Average Linf Distance for Successful Attacks: 0.029754609412824113\n",
      "Average Mahalanobis Distance for Successful Attacks: 2.9270308084775234\n",
      "Average Sensitivity for Successful Attacks: 0.0032086971574851\n",
      "Outlier Rate for Successful Attacks: 4.166666666666666%\n",
      "\n",
      "\n"
     ]
    },
    {
     "name": "stderr",
     "output_type": "stream",
     "text": [
      "100%|██████████| 320/320 [00:03<00:00, 101.05it/s]\n"
     ]
    },
    {
     "name": "stdout",
     "output_type": "stream",
     "text": [
      "Epsilon = 0.03\n",
      "Success Rate: 33.4375%\n",
      "Average L0 Distance for Successful Attacks: 10.953271028037383\n",
      "Average L1 Distance for Successful Attacks: 0.013149738938451927\n",
      "Average L2 Distance for Successful Attacks: 0.029997466445386967\n",
      "Average Linf Distance for Successful Attacks: 0.08926149854593188\n",
      "Average Mahalanobis Distance for Successful Attacks: 2.9445292733727597\n",
      "Average Sensitivity for Successful Attacks: 0.009625178787892109\n",
      "Outlier Rate for Successful Attacks: 5.607476635514018%\n",
      "\n",
      "\n"
     ]
    },
    {
     "name": "stderr",
     "output_type": "stream",
     "text": [
      "100%|██████████| 320/320 [00:03<00:00, 105.26it/s]\n"
     ]
    },
    {
     "name": "stdout",
     "output_type": "stream",
     "text": [
      "Epsilon = 0.05\n",
      "Success Rate: 41.5625%\n",
      "Average L0 Distance for Successful Attacks: 10.962406015037594\n",
      "Average L1 Distance for Successful Attacks: 0.021923169605714037\n",
      "Average L2 Distance for Successful Attacks: 0.049992459497057405\n",
      "Average Linf Distance for Successful Attacks: 0.14881732824601626\n",
      "Average Mahalanobis Distance for Successful Attacks: 2.9000658620454747\n",
      "Average Sensitivity for Successful Attacks: 0.016032241214823006\n",
      "Outlier Rate for Successful Attacks: 5.263157894736842%\n",
      "\n",
      "\n"
     ]
    },
    {
     "name": "stderr",
     "output_type": "stream",
     "text": [
      "100%|██████████| 320/320 [00:03<00:00, 101.16it/s]\n"
     ]
    },
    {
     "name": "stdout",
     "output_type": "stream",
     "text": [
      "Epsilon = 0.1\n",
      "Success Rate: 56.875%\n",
      "Average L0 Distance for Successful Attacks: 10.95054945054945\n",
      "Average L1 Distance for Successful Attacks: 0.044029160269669125\n",
      "Average L2 Distance for Successful Attacks: 0.09992808312341407\n",
      "Average Linf Distance for Successful Attacks: 0.29718086712962977\n",
      "Average Mahalanobis Distance for Successful Attacks: 3.160241720733113\n",
      "Average Sensitivity for Successful Attacks: 0.03224079644532649\n",
      "Outlier Rate for Successful Attacks: 8.241758241758241%\n",
      "\n",
      "\n"
     ]
    },
    {
     "name": "stderr",
     "output_type": "stream",
     "text": [
      "100%|██████████| 320/320 [00:03<00:00, 98.60it/s] \n"
     ]
    },
    {
     "name": "stdout",
     "output_type": "stream",
     "text": [
      "Epsilon = 0.3\n",
      "Success Rate: 83.125%\n",
      "Average L0 Distance for Successful Attacks: 10.943609022556391\n",
      "Average L1 Distance for Successful Attacks: 0.13387884076376608\n",
      "Average L2 Distance for Successful Attacks: 0.29929262310042415\n",
      "Average Linf Distance for Successful Attacks: 0.8853170869493843\n",
      "Average Mahalanobis Distance for Successful Attacks: 4.8753974813875685\n",
      "Average Sensitivity for Successful Attacks: 0.09810202535157814\n",
      "Outlier Rate for Successful Attacks: 65.41353383458647%\n",
      "\n",
      "\n"
     ]
    },
    {
     "name": "stderr",
     "output_type": "stream",
     "text": [
      "100%|██████████| 320/320 [00:03<00:00, 92.90it/s]\n"
     ]
    },
    {
     "name": "stdout",
     "output_type": "stream",
     "text": [
      "Epsilon = 0.5\n",
      "Success Rate: 99.375%\n",
      "Average L0 Distance for Successful Attacks: 10.949685534591195\n",
      "Average L1 Distance for Successful Attacks: 0.2274719902648116\n",
      "Average L2 Distance for Successful Attacks: 0.4973719488337355\n",
      "Average Linf Distance for Successful Attacks: 1.4589669655703899\n",
      "Average Mahalanobis Distance for Successful Attacks: 6.959412947213184\n",
      "Average Sensitivity for Successful Attacks: 0.16658470878061257\n",
      "Outlier Rate for Successful Attacks: 99.05660377358491%\n",
      "\n",
      "\n"
     ]
    },
    {
     "name": "stderr",
     "output_type": "stream",
     "text": [
      "100%|██████████| 320/320 [00:03<00:00, 89.56it/s]\n"
     ]
    },
    {
     "name": "stdout",
     "output_type": "stream",
     "text": [
      "Epsilon = 1.0\n",
      "Success Rate: 100.0%\n",
      "Average L0 Distance for Successful Attacks: 10.95\n",
      "Average L1 Distance for Successful Attacks: 0.4889348724856973\n",
      "Average L2 Distance for Successful Attacks: 0.9841979945078492\n",
      "Average Linf Distance for Successful Attacks: 2.8158643297851085\n",
      "Average Mahalanobis Distance for Successful Attacks: 12.595967721827183\n",
      "Average Sensitivity for Successful Attacks: 0.3580765181221068\n",
      "Outlier Rate for Successful Attacks: 100.0%\n",
      "\n",
      "\n",
      "Running LinfDeepFool on WineQuality-Red with LogisticRegression\n",
      "Threshold: 4.4356665308251575\n"
     ]
    },
    {
     "name": "stderr",
     "output_type": "stream",
     "text": [
      "100%|██████████| 320/320 [00:01<00:00, 162.34it/s]\n"
     ]
    },
    {
     "name": "stdout",
     "output_type": "stream",
     "text": [
      "Epsilon = 0.0\n",
      "Success Rate: 27.8125%\n",
      "Average L0 Distance for Successful Attacks: 0.0\n",
      "Average L1 Distance for Successful Attacks: 0.0\n",
      "Average L2 Distance for Successful Attacks: 0.0\n",
      "Average Linf Distance for Successful Attacks: 0.0\n",
      "Average Mahalanobis Distance for Successful Attacks: 2.846129352706799\n",
      "Average Sensitivity for Successful Attacks: 0.0\n",
      "Outlier Rate for Successful Attacks: 3.3707865168539324%\n",
      "\n",
      "\n"
     ]
    },
    {
     "name": "stderr",
     "output_type": "stream",
     "text": [
      "100%|██████████| 320/320 [00:02<00:00, 154.82it/s]\n"
     ]
    },
    {
     "name": "stdout",
     "output_type": "stream",
     "text": [
      "Epsilon = 0.01\n",
      "Success Rate: 33.4375%\n",
      "Average L0 Distance for Successful Attacks: 1.8504672897196262\n",
      "Average L1 Distance for Successful Attacks: 0.0008223452300668877\n",
      "Average L2 Distance for Successful Attacks: 0.002727403973499052\n",
      "Average Linf Distance for Successful Attacks: 0.009045775753454628\n",
      "Average Mahalanobis Distance for Successful Attacks: 2.90996284490472\n",
      "Average Sensitivity for Successful Attacks: 0.000599093120501629\n",
      "Outlier Rate for Successful Attacks: 5.607476635514018%\n",
      "\n",
      "\n"
     ]
    },
    {
     "name": "stderr",
     "output_type": "stream",
     "text": [
      "100%|██████████| 320/320 [00:02<00:00, 157.84it/s]\n"
     ]
    },
    {
     "name": "stdout",
     "output_type": "stream",
     "text": [
      "Epsilon = 0.03\n",
      "Success Rate: 54.0625%\n",
      "Average L0 Distance for Successful Attacks: 5.317919075144508\n",
      "Average L1 Distance for Successful Attacks: 0.008035956887323732\n",
      "Average L2 Distance for Successful Attacks: 0.026534073796349367\n",
      "Average Linf Distance for Successful Attacks: 0.08772513542776507\n",
      "Average Mahalanobis Distance for Successful Attacks: 2.9117773904838273\n",
      "Average Sensitivity for Successful Attacks: 0.005896355162073207\n",
      "Outlier Rate for Successful Attacks: 5.780346820809249%\n",
      "\n",
      "\n"
     ]
    },
    {
     "name": "stderr",
     "output_type": "stream",
     "text": [
      "100%|██████████| 320/320 [00:01<00:00, 160.21it/s]\n"
     ]
    },
    {
     "name": "stdout",
     "output_type": "stream",
     "text": [
      "Epsilon = 0.05\n",
      "Success Rate: 66.25%\n",
      "Average L0 Distance for Successful Attacks: 6.35377358490566\n",
      "Average L1 Distance for Successful Attacks: 0.013701012691939777\n",
      "Average L2 Distance for Successful Attacks: 0.04518418531438757\n",
      "Average Linf Distance for Successful Attacks: 0.14933630976087922\n",
      "Average Mahalanobis Distance for Successful Attacks: 2.94264139414469\n",
      "Average Sensitivity for Successful Attacks: 0.010045539290657407\n",
      "Outlier Rate for Successful Attacks: 7.0754716981132075%\n",
      "\n",
      "\n"
     ]
    },
    {
     "name": "stderr",
     "output_type": "stream",
     "text": [
      "100%|██████████| 320/320 [00:01<00:00, 179.12it/s]\n"
     ]
    },
    {
     "name": "stdout",
     "output_type": "stream",
     "text": [
      "Epsilon = 0.1\n",
      "Success Rate: 82.5%\n",
      "Average L0 Distance for Successful Attacks: 7.253787878787879\n",
      "Average L1 Distance for Successful Attacks: 0.025479717166021917\n",
      "Average L2 Distance for Successful Attacks: 0.08359335405861423\n",
      "Average Linf Distance for Successful Attacks: 0.27586391487045947\n",
      "Average Mahalanobis Distance for Successful Attacks: 3.155171438244659\n",
      "Average Sensitivity for Successful Attacks: 0.01868791630003023\n",
      "Outlier Rate for Successful Attacks: 10.984848484848484%\n",
      "\n",
      "\n"
     ]
    },
    {
     "name": "stderr",
     "output_type": "stream",
     "text": [
      "100%|██████████| 320/320 [00:01<00:00, 186.05it/s]\n"
     ]
    },
    {
     "name": "stdout",
     "output_type": "stream",
     "text": [
      "Epsilon = 0.3\n",
      "Success Rate: 100.0%\n",
      "Average L0 Distance for Successful Attacks: 7.90625\n",
      "Average L1 Distance for Successful Attacks: 0.04427685475675389\n",
      "Average L2 Distance for Successful Attacks: 0.1424409368824854\n",
      "Average Linf Distance for Successful Attacks: 0.46716984816011975\n",
      "Average Mahalanobis Distance for Successful Attacks: 3.49956119376298\n",
      "Average Sensitivity for Successful Attacks: 0.03238994118401024\n",
      "Outlier Rate for Successful Attacks: 21.875%\n",
      "\n",
      "\n"
     ]
    },
    {
     "name": "stderr",
     "output_type": "stream",
     "text": [
      "100%|██████████| 320/320 [00:01<00:00, 175.50it/s]\n"
     ]
    },
    {
     "name": "stdout",
     "output_type": "stream",
     "text": [
      "Epsilon = 0.5\n",
      "Success Rate: 100.0%\n",
      "Average L0 Distance for Successful Attacks: 7.90625\n",
      "Average L1 Distance for Successful Attacks: 0.04427685475675389\n",
      "Average L2 Distance for Successful Attacks: 0.1424409368824854\n",
      "Average Linf Distance for Successful Attacks: 0.46716984816011975\n",
      "Average Mahalanobis Distance for Successful Attacks: 3.49956119376298\n",
      "Average Sensitivity for Successful Attacks: 0.03238994118401024\n",
      "Outlier Rate for Successful Attacks: 21.875%\n",
      "\n",
      "\n"
     ]
    },
    {
     "name": "stderr",
     "output_type": "stream",
     "text": [
      "100%|██████████| 320/320 [00:01<00:00, 188.58it/s]\n"
     ]
    },
    {
     "name": "stdout",
     "output_type": "stream",
     "text": [
      "Epsilon = 1.0\n",
      "Success Rate: 100.0%\n",
      "Average L0 Distance for Successful Attacks: 7.90625\n",
      "Average L1 Distance for Successful Attacks: 0.04427685475675389\n",
      "Average L2 Distance for Successful Attacks: 0.1424409368824854\n",
      "Average Linf Distance for Successful Attacks: 0.46716984816011975\n",
      "Average Mahalanobis Distance for Successful Attacks: 3.49956119376298\n",
      "Average Sensitivity for Successful Attacks: 0.03238994118401024\n",
      "Outlier Rate for Successful Attacks: 21.875%\n",
      "\n",
      "\n",
      "Running L2DeepFool on WineQuality-Red with LogisticRegression\n",
      "Threshold: 4.4356665308251575\n"
     ]
    },
    {
     "name": "stderr",
     "output_type": "stream",
     "text": [
      "100%|██████████| 320/320 [00:01<00:00, 169.31it/s]\n"
     ]
    },
    {
     "name": "stdout",
     "output_type": "stream",
     "text": [
      "Epsilon = 0.0\n",
      "Success Rate: 27.8125%\n",
      "Average L0 Distance for Successful Attacks: 0.0\n",
      "Average L1 Distance for Successful Attacks: 0.0\n",
      "Average L2 Distance for Successful Attacks: 0.0\n",
      "Average Linf Distance for Successful Attacks: 0.0\n",
      "Average Mahalanobis Distance for Successful Attacks: 2.846129352706799\n",
      "Average Sensitivity for Successful Attacks: 0.0\n",
      "Outlier Rate for Successful Attacks: 3.3707865168539324%\n",
      "\n",
      "\n"
     ]
    },
    {
     "name": "stderr",
     "output_type": "stream",
     "text": [
      "100%|██████████| 320/320 [00:01<00:00, 175.40it/s]\n"
     ]
    },
    {
     "name": "stdout",
     "output_type": "stream",
     "text": [
      "Epsilon = 0.01\n",
      "Success Rate: 30.0%\n",
      "Average L0 Distance for Successful Attacks: 0.8020833333333334\n",
      "Average L1 Distance for Successful Attacks: 0.0001849521261950334\n",
      "Average L2 Distance for Successful Attacks: 0.00042254047002643347\n",
      "Average Linf Distance for Successful Attacks: 0.0012601411047702034\n",
      "Average Mahalanobis Distance for Successful Attacks: 2.920686065556694\n",
      "Average Sensitivity for Successful Attacks: 0.00013474090762125948\n",
      "Outlier Rate for Successful Attacks: 4.166666666666666%\n",
      "\n",
      "\n"
     ]
    },
    {
     "name": "stderr",
     "output_type": "stream",
     "text": [
      "100%|██████████| 320/320 [00:01<00:00, 167.93it/s]\n"
     ]
    },
    {
     "name": "stdout",
     "output_type": "stream",
     "text": [
      "Epsilon = 0.03\n",
      "Success Rate: 33.4375%\n",
      "Average L0 Distance for Successful Attacks: 1.8504672897196262\n",
      "Average L1 Distance for Successful Attacks: 0.0010585955509515566\n",
      "Average L2 Distance for Successful Attacks: 0.00241845827027459\n",
      "Average Linf Distance for Successful Attacks: 0.007212561772805508\n",
      "Average Mahalanobis Distance for Successful Attacks: 2.9095425226512424\n",
      "Average Sensitivity for Successful Attacks: 0.0007712056721064532\n",
      "Outlier Rate for Successful Attacks: 5.607476635514018%\n",
      "\n",
      "\n"
     ]
    },
    {
     "name": "stderr",
     "output_type": "stream",
     "text": [
      "100%|██████████| 320/320 [00:01<00:00, 170.53it/s]\n"
     ]
    },
    {
     "name": "stdout",
     "output_type": "stream",
     "text": [
      "Epsilon = 0.05\n",
      "Success Rate: 41.5625%\n",
      "Average L0 Distance for Successful Attacks: 3.6390977443609023\n",
      "Average L1 Distance for Successful Attacks: 0.004445429695279975\n",
      "Average L2 Distance for Successful Attacks: 0.010155991602100824\n",
      "Average Linf Distance for Successful Attacks: 0.03028818774492221\n",
      "Average Mahalanobis Distance for Successful Attacks: 2.823870965528509\n",
      "Average Sensitivity for Successful Attacks: 0.0032385745596952903\n",
      "Outlier Rate for Successful Attacks: 4.511278195488721%\n",
      "\n",
      "\n"
     ]
    },
    {
     "name": "stderr",
     "output_type": "stream",
     "text": [
      "100%|██████████| 320/320 [00:01<00:00, 181.29it/s]\n"
     ]
    },
    {
     "name": "stdout",
     "output_type": "stream",
     "text": [
      "Epsilon = 0.1\n",
      "Success Rate: 56.875%\n",
      "Average L0 Distance for Successful Attacks: 5.5989010989010985\n",
      "Average L1 Distance for Successful Attacks: 0.012050471258359952\n",
      "Average L2 Distance for Successful Attacks: 0.027412426289539417\n",
      "Average Linf Distance for Successful Attacks: 0.08156297208516153\n",
      "Average Mahalanobis Distance for Successful Attacks: 2.9074486456501876\n",
      "Average Sensitivity for Successful Attacks: 0.008828876811274132\n",
      "Outlier Rate for Successful Attacks: 5.4945054945054945%\n",
      "\n",
      "\n"
     ]
    },
    {
     "name": "stderr",
     "output_type": "stream",
     "text": [
      "100%|██████████| 320/320 [00:01<00:00, 178.62it/s]\n"
     ]
    },
    {
     "name": "stdout",
     "output_type": "stream",
     "text": [
      "Epsilon = 0.3\n",
      "Success Rate: 83.125%\n",
      "Average L0 Distance for Successful Attacks: 7.2819548872180455\n",
      "Average L1 Distance for Successful Attacks: 0.033877945736162644\n",
      "Average L2 Distance for Successful Attacks: 0.07699839534812179\n",
      "Average Linf Distance for Successful Attacks: 0.22877201589202523\n",
      "Average Mahalanobis Distance for Successful Attacks: 3.2069371218717277\n",
      "Average Sensitivity for Successful Attacks: 0.024837364691232603\n",
      "Outlier Rate for Successful Attacks: 12.406015037593985%\n",
      "\n",
      "\n"
     ]
    },
    {
     "name": "stderr",
     "output_type": "stream",
     "text": [
      "100%|██████████| 320/320 [00:01<00:00, 190.77it/s]\n"
     ]
    },
    {
     "name": "stdout",
     "output_type": "stream",
     "text": [
      "Epsilon = 0.5\n",
      "Success Rate: 99.375%\n",
      "Average L0 Distance for Successful Attacks: 7.886792452830188\n",
      "Average L1 Distance for Successful Attacks: 0.055895094297029685\n",
      "Average L2 Distance for Successful Attacks: 0.1260948681547863\n",
      "Average Linf Distance for Successful Attacks: 0.37310555835002623\n",
      "Average Mahalanobis Distance for Successful Attacks: 3.520135118226776\n",
      "Average Sensitivity for Successful Attacks: 0.04089016034179982\n",
      "Outlier Rate for Successful Attacks: 22.641509433962266%\n",
      "\n",
      "\n"
     ]
    },
    {
     "name": "stderr",
     "output_type": "stream",
     "text": [
      "100%|██████████| 320/320 [00:01<00:00, 170.16it/s]\n"
     ]
    },
    {
     "name": "stdout",
     "output_type": "stream",
     "text": [
      "Epsilon = 1.0\n",
      "Success Rate: 100.0%\n",
      "Average L0 Distance for Successful Attacks: 7.90625\n",
      "Average L1 Distance for Successful Attacks: 0.05710312307346612\n",
      "Average L2 Distance for Successful Attacks: 0.12881816736771726\n",
      "Average Linf Distance for Successful Attacks: 0.38117294474504887\n",
      "Average Mahalanobis Distance for Successful Attacks: 3.5382682477780767\n",
      "Average Sensitivity for Successful Attacks: 0.04176917078730184\n",
      "Outlier Rate for Successful Attacks: 23.125%\n",
      "\n",
      "\n",
      "Running L2CarliniWagner on WineQuality-Red with LogisticRegression\n",
      "Threshold: 4.4356665308251575\n"
     ]
    },
    {
     "name": "stderr",
     "output_type": "stream",
     "text": [
      "100%|██████████| 320/320 [00:42<00:00,  7.55it/s]\n"
     ]
    },
    {
     "name": "stdout",
     "output_type": "stream",
     "text": [
      "Epsilon = 0.0\n",
      "Success Rate: 27.8125%\n",
      "Average L0 Distance for Successful Attacks: 0.0\n",
      "Average L1 Distance for Successful Attacks: 0.0\n",
      "Average L2 Distance for Successful Attacks: 0.0\n",
      "Average Linf Distance for Successful Attacks: 0.0\n",
      "Average Mahalanobis Distance for Successful Attacks: 2.846129352706799\n",
      "Average Sensitivity for Successful Attacks: 0.0\n",
      "Outlier Rate for Successful Attacks: 3.3707865168539324%\n",
      "\n",
      "\n"
     ]
    },
    {
     "name": "stderr",
     "output_type": "stream",
     "text": [
      "100%|██████████| 320/320 [00:42<00:00,  7.56it/s]\n"
     ]
    },
    {
     "name": "stdout",
     "output_type": "stream",
     "text": [
      "Epsilon = 0.01\n",
      "Success Rate: 29.6875%\n",
      "Average L0 Distance for Successful Attacks: 10.389473684210527\n",
      "Average L1 Distance for Successful Attacks: 0.00027016676031053064\n",
      "Average L2 Distance for Successful Attacks: 0.0006325119774816669\n",
      "Average Linf Distance for Successful Attacks: 0.0019429299808842572\n",
      "Average Mahalanobis Distance for Successful Attacks: 2.9154549210085277\n",
      "Average Sensitivity for Successful Attacks: 0.00019684164180884374\n",
      "Outlier Rate for Successful Attacks: 4.2105263157894735%\n",
      "\n",
      "\n"
     ]
    },
    {
     "name": "stderr",
     "output_type": "stream",
     "text": [
      "100%|██████████| 320/320 [00:42<00:00,  7.55it/s]\n"
     ]
    },
    {
     "name": "stdout",
     "output_type": "stream",
     "text": [
      "Epsilon = 0.03\n",
      "Success Rate: 32.8125%\n",
      "Average L0 Distance for Successful Attacks: 10.447619047619048\n",
      "Average L1 Distance for Successful Attacks: 0.0019500504669156813\n",
      "Average L2 Distance for Successful Attacks: 0.004572273370572908\n",
      "Average Linf Distance for Successful Attacks: 0.014012795919552446\n",
      "Average Mahalanobis Distance for Successful Attacks: 2.898558826601631\n",
      "Average Sensitivity for Successful Attacks: 0.0014206648456901608\n",
      "Outlier Rate for Successful Attacks: 4.761904761904762%\n",
      "\n",
      "\n"
     ]
    },
    {
     "name": "stderr",
     "output_type": "stream",
     "text": [
      "100%|██████████| 320/320 [00:45<00:00,  7.08it/s]\n"
     ]
    },
    {
     "name": "stdout",
     "output_type": "stream",
     "text": [
      "Epsilon = 0.05\n",
      "Success Rate: 39.375%\n",
      "Average L0 Distance for Successful Attacks: 10.53968253968254\n",
      "Average L1 Distance for Successful Attacks: 0.006453478444618957\n",
      "Average L2 Distance for Successful Attacks: 0.014683243970980114\n",
      "Average Linf Distance for Successful Attacks: 0.044401199174379666\n",
      "Average Mahalanobis Distance for Successful Attacks: 2.845066878786557\n",
      "Average Sensitivity for Successful Attacks: 0.004701489099138219\n",
      "Outlier Rate for Successful Attacks: 3.968253968253968%\n",
      "\n",
      "\n"
     ]
    },
    {
     "name": "stderr",
     "output_type": "stream",
     "text": [
      "100%|██████████| 320/320 [00:45<00:00,  7.02it/s]\n"
     ]
    },
    {
     "name": "stdout",
     "output_type": "stream",
     "text": [
      "Epsilon = 0.1\n",
      "Success Rate: 55.00000000000001%\n",
      "Average L0 Distance for Successful Attacks: 10.670454545454545\n",
      "Average L1 Distance for Successful Attacks: 0.02013306510343682\n",
      "Average L2 Distance for Successful Attacks: 0.04428341224143137\n",
      "Average Linf Distance for Successful Attacks: 0.131486021967827\n",
      "Average Mahalanobis Distance for Successful Attacks: 2.9738209458986464\n",
      "Average Sensitivity for Successful Attacks: 0.014667306770485505\n",
      "Outlier Rate for Successful Attacks: 6.25%\n",
      "\n",
      "\n"
     ]
    },
    {
     "name": "stderr",
     "output_type": "stream",
     "text": [
      "100%|██████████| 320/320 [00:46<00:00,  6.94it/s]\n"
     ]
    },
    {
     "name": "stdout",
     "output_type": "stream",
     "text": [
      "Epsilon = 0.3\n",
      "Success Rate: 81.25%\n",
      "Average L0 Distance for Successful Attacks: 10.776923076923078\n",
      "Average L1 Distance for Successful Attacks: 0.04655301952107738\n",
      "Average L2 Distance for Successful Attacks: 0.1031815388548628\n",
      "Average Linf Distance for Successful Attacks: 0.3106167772435583\n",
      "Average Mahalanobis Distance for Successful Attacks: 3.2012622759467586\n",
      "Average Sensitivity for Successful Attacks: 0.03391470944789712\n",
      "Outlier Rate for Successful Attacks: 10.76923076923077%\n",
      "\n",
      "\n"
     ]
    },
    {
     "name": "stderr",
     "output_type": "stream",
     "text": [
      "100%|██████████| 320/320 [00:47<00:00,  6.74it/s]\n"
     ]
    },
    {
     "name": "stdout",
     "output_type": "stream",
     "text": [
      "Epsilon = 0.5\n",
      "Success Rate: 96.5625%\n",
      "Average L0 Distance for Successful Attacks: 10.812297734627832\n",
      "Average L1 Distance for Successful Attacks: 0.0694397527575312\n",
      "Average L2 Distance for Successful Attacks: 0.15480107489351908\n",
      "Average Linf Distance for Successful Attacks: 0.4677104182054611\n",
      "Average Mahalanobis Distance for Successful Attacks: 3.4691226885589925\n",
      "Average Sensitivity for Successful Attacks: 0.05058809992969977\n",
      "Outlier Rate for Successful Attacks: 18.12297734627832%\n",
      "\n",
      "\n"
     ]
    },
    {
     "name": "stderr",
     "output_type": "stream",
     "text": [
      "100%|██████████| 320/320 [00:48<00:00,  6.66it/s]\n",
      "/home/zippo/miniconda3/envs/tabular-benchmark/lib/python3.10/site-packages/foolbox/models/pytorch.py:36: UserWarning: The PyTorch model is in training mode and therefore might not be deterministic. Call the eval() method to set it in evaluation mode if this is not intended.\n",
      "  warnings.warn(\n"
     ]
    },
    {
     "name": "stdout",
     "output_type": "stream",
     "text": [
      "Epsilon = 1.0\n",
      "Success Rate: 100.0%\n",
      "Average L0 Distance for Successful Attacks: 10.81875\n",
      "Average L1 Distance for Successful Attacks: 0.0764621112270106\n",
      "Average L2 Distance for Successful Attacks: 0.17033957108685946\n",
      "Average Linf Distance for Successful Attacks: 0.5129485785793804\n",
      "Average Mahalanobis Distance for Successful Attacks: 3.553138010664822\n",
      "Average Sensitivity for Successful Attacks: 0.05570401301253565\n",
      "Outlier Rate for Successful Attacks: 21.5625%\n",
      "\n",
      "\n",
      "Running L2Gaussian on WineQuality-Red with MLP\n",
      "Threshold: 4.4356665308251575\n"
     ]
    },
    {
     "name": "stderr",
     "output_type": "stream",
     "text": [
      "100%|██████████| 320/320 [00:00<00:00, 395.50it/s]\n"
     ]
    },
    {
     "name": "stdout",
     "output_type": "stream",
     "text": [
      "Epsilon = 0.0\n",
      "Success Rate: 26.5625%\n",
      "Average L0 Distance for Successful Attacks: 0.0\n",
      "Average L1 Distance for Successful Attacks: 0.0\n",
      "Average L2 Distance for Successful Attacks: 0.0\n",
      "Average Linf Distance for Successful Attacks: 0.0\n",
      "Average Mahalanobis Distance for Successful Attacks: 3.1482747734847347\n",
      "Average Sensitivity for Successful Attacks: 0.0\n",
      "Outlier Rate for Successful Attacks: 10.588235294117647%\n",
      "\n",
      "\n"
     ]
    },
    {
     "name": "stderr",
     "output_type": "stream",
     "text": [
      "100%|██████████| 320/320 [00:01<00:00, 313.09it/s]\n"
     ]
    },
    {
     "name": "stdout",
     "output_type": "stream",
     "text": [
      "Epsilon = 0.01\n",
      "Success Rate: 26.5625%\n",
      "Average L0 Distance for Successful Attacks: 10.952941176470588\n",
      "Average L1 Distance for Successful Attacks: 0.005870108859723105\n",
      "Average L2 Distance for Successful Attacks: 0.009991661831736564\n",
      "Average Linf Distance for Successful Attacks: 0.027098713683731415\n",
      "Average Mahalanobis Distance for Successful Attacks: 3.147515165385604\n",
      "Average Sensitivity for Successful Attacks: 0.004297988215351806\n",
      "Outlier Rate for Successful Attacks: 10.588235294117647%\n",
      "\n",
      "\n"
     ]
    },
    {
     "name": "stderr",
     "output_type": "stream",
     "text": [
      "100%|██████████| 320/320 [00:00<00:00, 337.39it/s]\n"
     ]
    },
    {
     "name": "stdout",
     "output_type": "stream",
     "text": [
      "Epsilon = 0.03\n",
      "Success Rate: 25.624999999999996%\n",
      "Average L0 Distance for Successful Attacks: 10.914634146341463\n",
      "Average L1 Distance for Successful Attacks: 0.017737218065232766\n",
      "Average L2 Distance for Successful Attacks: 0.02979206414211814\n",
      "Average Linf Distance for Successful Attacks: 0.08053992643225484\n",
      "Average Mahalanobis Distance for Successful Attacks: 3.1754455875580234\n",
      "Average Sensitivity for Successful Attacks: 0.013022697337607785\n",
      "Outlier Rate for Successful Attacks: 10.975609756097562%\n",
      "\n",
      "\n"
     ]
    },
    {
     "name": "stderr",
     "output_type": "stream",
     "text": [
      "100%|██████████| 320/320 [00:01<00:00, 285.47it/s]\n"
     ]
    },
    {
     "name": "stdout",
     "output_type": "stream",
     "text": [
      "Epsilon = 0.05\n",
      "Success Rate: 26.25%\n",
      "Average L0 Distance for Successful Attacks: 10.952380952380953\n",
      "Average L1 Distance for Successful Attacks: 0.02935860042149822\n",
      "Average L2 Distance for Successful Attacks: 0.049811878019855135\n",
      "Average Linf Distance for Successful Attacks: 0.13474660677214464\n",
      "Average Mahalanobis Distance for Successful Attacks: 3.2310256921518965\n",
      "Average Sensitivity for Successful Attacks: 0.021486379982282717\n",
      "Outlier Rate for Successful Attacks: 10.714285714285714%\n",
      "\n",
      "\n"
     ]
    },
    {
     "name": "stderr",
     "output_type": "stream",
     "text": [
      "100%|██████████| 320/320 [00:01<00:00, 311.11it/s]\n"
     ]
    },
    {
     "name": "stdout",
     "output_type": "stream",
     "text": [
      "Epsilon = 0.1\n",
      "Success Rate: 26.875%\n",
      "Average L0 Distance for Successful Attacks: 10.953488372093023\n",
      "Average L1 Distance for Successful Attacks: 0.05848492798936922\n",
      "Average L2 Distance for Successful Attacks: 0.09969419188970743\n",
      "Average Linf Distance for Successful Attacks: 0.2694506404358287\n",
      "Average Mahalanobis Distance for Successful Attacks: 3.3183137668373894\n",
      "Average Sensitivity for Successful Attacks: 0.04278939953723619\n",
      "Outlier Rate for Successful Attacks: 11.627906976744185%\n",
      "\n",
      "\n"
     ]
    },
    {
     "name": "stderr",
     "output_type": "stream",
     "text": [
      "100%|██████████| 320/320 [00:00<00:00, 321.18it/s]\n"
     ]
    },
    {
     "name": "stdout",
     "output_type": "stream",
     "text": [
      "Epsilon = 0.3\n",
      "Success Rate: 28.749999999999996%\n",
      "Average L0 Distance for Successful Attacks: 10.956521739130435\n",
      "Average L1 Distance for Successful Attacks: 0.1757305749570546\n",
      "Average L2 Distance for Successful Attacks: 0.2863422311518503\n",
      "Average Linf Distance for Successful Attacks: 0.7698717719834783\n",
      "Average Mahalanobis Distance for Successful Attacks: 4.840202646428099\n",
      "Average Sensitivity for Successful Attacks: 0.1285335432090189\n",
      "Outlier Rate for Successful Attacks: 52.17391304347826%\n",
      "\n",
      "\n"
     ]
    },
    {
     "name": "stderr",
     "output_type": "stream",
     "text": [
      "100%|██████████| 320/320 [00:00<00:00, 343.66it/s]\n"
     ]
    },
    {
     "name": "stdout",
     "output_type": "stream",
     "text": [
      "Epsilon = 0.5\n",
      "Success Rate: 33.4375%\n",
      "Average L0 Distance for Successful Attacks: 10.934579439252337\n",
      "Average L1 Distance for Successful Attacks: 0.2720024509129123\n",
      "Average L2 Distance for Successful Attacks: 0.4504921647989861\n",
      "Average Linf Distance for Successful Attacks: 1.2046646063572892\n",
      "Average Mahalanobis Distance for Successful Attacks: 6.364361797295997\n",
      "Average Sensitivity for Successful Attacks: 0.1995179646204565\n",
      "Outlier Rate for Successful Attacks: 89.7196261682243%\n",
      "\n",
      "\n"
     ]
    },
    {
     "name": "stderr",
     "output_type": "stream",
     "text": [
      "100%|██████████| 320/320 [00:00<00:00, 362.65it/s]\n"
     ]
    },
    {
     "name": "stdout",
     "output_type": "stream",
     "text": [
      "Epsilon = 1.0\n",
      "Success Rate: 43.125%\n",
      "Average L0 Distance for Successful Attacks: 10.956521739130435\n",
      "Average L1 Distance for Successful Attacks: 0.5016131232614103\n",
      "Average L2 Distance for Successful Attacks: 0.8200348397527916\n",
      "Average Linf Distance for Successful Attacks: 2.202282534993213\n",
      "Average Mahalanobis Distance for Successful Attacks: 10.75000778524578\n",
      "Average Sensitivity for Successful Attacks: 0.3668107233833576\n",
      "Outlier Rate for Successful Attacks: 98.55072463768117%\n",
      "\n",
      "\n",
      "Running L2Uniform on WineQuality-Red with MLP\n",
      "Threshold: 4.4356665308251575\n"
     ]
    },
    {
     "name": "stderr",
     "output_type": "stream",
     "text": [
      "100%|██████████| 320/320 [00:01<00:00, 275.97it/s]\n"
     ]
    },
    {
     "name": "stdout",
     "output_type": "stream",
     "text": [
      "Epsilon = 0.0\n",
      "Success Rate: 26.5625%\n",
      "Average L0 Distance for Successful Attacks: 0.0\n",
      "Average L1 Distance for Successful Attacks: 0.0\n",
      "Average L2 Distance for Successful Attacks: 0.0\n",
      "Average Linf Distance for Successful Attacks: 0.0\n",
      "Average Mahalanobis Distance for Successful Attacks: 3.1482747734847347\n",
      "Average Sensitivity for Successful Attacks: 0.0\n",
      "Outlier Rate for Successful Attacks: 10.588235294117647%\n",
      "\n",
      "\n"
     ]
    },
    {
     "name": "stderr",
     "output_type": "stream",
     "text": [
      "100%|██████████| 320/320 [00:01<00:00, 304.98it/s]\n"
     ]
    },
    {
     "name": "stdout",
     "output_type": "stream",
     "text": [
      "Epsilon = 0.01\n",
      "Success Rate: 26.5625%\n",
      "Average L0 Distance for Successful Attacks: 10.929411764705883\n",
      "Average L1 Distance for Successful Attacks: 0.00489509815678877\n",
      "Average L2 Distance for Successful Attacks: 0.009957450956982725\n",
      "Average Linf Distance for Successful Attacks: 0.028845651491599924\n",
      "Average Mahalanobis Distance for Successful Attacks: 3.149790985225506\n",
      "Average Sensitivity for Successful Attacks: 0.003591333987081752\n",
      "Outlier Rate for Successful Attacks: 10.588235294117647%\n",
      "\n",
      "\n"
     ]
    },
    {
     "name": "stderr",
     "output_type": "stream",
     "text": [
      "100%|██████████| 320/320 [00:01<00:00, 300.10it/s]\n"
     ]
    },
    {
     "name": "stdout",
     "output_type": "stream",
     "text": [
      "Epsilon = 0.03\n",
      "Success Rate: 27.500000000000004%\n",
      "Average L0 Distance for Successful Attacks: 10.954545454545455\n",
      "Average L1 Distance for Successful Attacks: 0.01450924949974499\n",
      "Average L2 Distance for Successful Attacks: 0.029945975868031383\n",
      "Average Linf Distance for Successful Attacks: 0.087236024947329\n",
      "Average Mahalanobis Distance for Successful Attacks: 3.1304761560988776\n",
      "Average Sensitivity for Successful Attacks: 0.010625737518156793\n",
      "Outlier Rate for Successful Attacks: 10.227272727272728%\n",
      "\n",
      "\n"
     ]
    },
    {
     "name": "stderr",
     "output_type": "stream",
     "text": [
      "100%|██████████| 320/320 [00:01<00:00, 298.91it/s]\n"
     ]
    },
    {
     "name": "stdout",
     "output_type": "stream",
     "text": [
      "Epsilon = 0.05\n",
      "Success Rate: 27.187499999999996%\n",
      "Average L0 Distance for Successful Attacks: 10.977011494252874\n",
      "Average L1 Distance for Successful Attacks: 0.0247203154039794\n",
      "Average L2 Distance for Successful Attacks: 0.04993921646784092\n",
      "Average Linf Distance for Successful Attacks: 0.1440931373629077\n",
      "Average Mahalanobis Distance for Successful Attacks: 3.2243553850390767\n",
      "Average Sensitivity for Successful Attacks: 0.018048108919341672\n",
      "Outlier Rate for Successful Attacks: 10.344827586206897%\n",
      "\n",
      "\n"
     ]
    },
    {
     "name": "stderr",
     "output_type": "stream",
     "text": [
      "100%|██████████| 320/320 [00:00<00:00, 338.79it/s]\n"
     ]
    },
    {
     "name": "stdout",
     "output_type": "stream",
     "text": [
      "Epsilon = 0.1\n",
      "Success Rate: 27.187499999999996%\n",
      "Average L0 Distance for Successful Attacks: 10.931034482758621\n",
      "Average L1 Distance for Successful Attacks: 0.04894561517512661\n",
      "Average L2 Distance for Successful Attacks: 0.09914418909398989\n",
      "Average Linf Distance for Successful Attacks: 0.2854794383734122\n",
      "Average Mahalanobis Distance for Successful Attacks: 3.438806027295698\n",
      "Average Sensitivity for Successful Attacks: 0.03587872102514081\n",
      "Outlier Rate for Successful Attacks: 11.494252873563218%\n",
      "\n",
      "\n"
     ]
    },
    {
     "name": "stderr",
     "output_type": "stream",
     "text": [
      "100%|██████████| 320/320 [00:01<00:00, 303.10it/s]\n"
     ]
    },
    {
     "name": "stdout",
     "output_type": "stream",
     "text": [
      "Epsilon = 0.3\n",
      "Success Rate: 29.062500000000004%\n",
      "Average L0 Distance for Successful Attacks: 10.924731182795698\n",
      "Average L1 Distance for Successful Attacks: 0.1462230227326834\n",
      "Average L2 Distance for Successful Attacks: 0.28837683780859874\n",
      "Average Linf Distance for Successful Attacks: 0.8255298227392217\n",
      "Average Mahalanobis Distance for Successful Attacks: 4.814104963497894\n",
      "Average Sensitivity for Successful Attacks: 0.10733132040308367\n",
      "Outlier Rate for Successful Attacks: 52.68817204301075%\n",
      "\n",
      "\n"
     ]
    },
    {
     "name": "stderr",
     "output_type": "stream",
     "text": [
      "100%|██████████| 320/320 [00:00<00:00, 344.09it/s]\n"
     ]
    },
    {
     "name": "stdout",
     "output_type": "stream",
     "text": [
      "Epsilon = 0.5\n",
      "Success Rate: 33.125%\n",
      "Average L0 Distance for Successful Attacks: 10.915094339622641\n",
      "Average L1 Distance for Successful Attacks: 0.23815479059264344\n",
      "Average L2 Distance for Successful Attacks: 0.46580046302867384\n",
      "Average Linf Distance for Successful Attacks: 1.3352167117145826\n",
      "Average Mahalanobis Distance for Successful Attacks: 6.600070145983941\n",
      "Average Sensitivity for Successful Attacks: 0.17494354727414418\n",
      "Outlier Rate for Successful Attacks: 94.33962264150944%\n",
      "\n",
      "\n"
     ]
    },
    {
     "name": "stderr",
     "output_type": "stream",
     "text": [
      "100%|██████████| 320/320 [00:01<00:00, 305.20it/s]\n"
     ]
    },
    {
     "name": "stdout",
     "output_type": "stream",
     "text": [
      "Epsilon = 1.0\n",
      "Success Rate: 40.3125%\n",
      "Average L0 Distance for Successful Attacks: 10.953488372093023\n",
      "Average L1 Distance for Successful Attacks: 0.4578757794328438\n",
      "Average L2 Distance for Successful Attacks: 0.8677342552547307\n",
      "Average Linf Distance for Successful Attacks: 2.437840141067209\n",
      "Average Mahalanobis Distance for Successful Attacks: 11.454736618065276\n",
      "Average Sensitivity for Successful Attacks: 0.3350985690142757\n",
      "Outlier Rate for Successful Attacks: 100.0%\n",
      "\n",
      "\n",
      "Running LinfUniform on WineQuality-Red with MLP\n",
      "Threshold: 4.4356665308251575\n"
     ]
    },
    {
     "name": "stderr",
     "output_type": "stream",
     "text": [
      "100%|██████████| 320/320 [00:00<00:00, 383.64it/s]\n"
     ]
    },
    {
     "name": "stdout",
     "output_type": "stream",
     "text": [
      "Epsilon = 0.0\n",
      "Success Rate: 26.5625%\n",
      "Average L0 Distance for Successful Attacks: 0.0\n",
      "Average L1 Distance for Successful Attacks: 0.0\n",
      "Average L2 Distance for Successful Attacks: 0.0\n",
      "Average Linf Distance for Successful Attacks: 0.0\n",
      "Average Mahalanobis Distance for Successful Attacks: 3.1482747734847347\n",
      "Average Sensitivity for Successful Attacks: 0.0\n",
      "Outlier Rate for Successful Attacks: 10.588235294117647%\n",
      "\n",
      "\n"
     ]
    },
    {
     "name": "stderr",
     "output_type": "stream",
     "text": [
      "100%|██████████| 320/320 [00:00<00:00, 330.69it/s]\n"
     ]
    },
    {
     "name": "stdout",
     "output_type": "stream",
     "text": [
      "Epsilon = 0.01\n",
      "Success Rate: 27.187499999999996%\n",
      "Average L0 Distance for Successful Attacks: 10.942528735632184\n",
      "Average L1 Distance for Successful Attacks: 0.00999999917701058\n",
      "Average L2 Distance for Successful Attacks: 0.021393355624429112\n",
      "Average Linf Distance for Successful Attacks: 0.06145731552407659\n",
      "Average Mahalanobis Distance for Successful Attacks: 3.149681118821961\n",
      "Average Sensitivity for Successful Attacks: 0.007327046041944246\n",
      "Outlier Rate for Successful Attacks: 10.344827586206897%\n",
      "\n",
      "\n"
     ]
    },
    {
     "name": "stderr",
     "output_type": "stream",
     "text": [
      "100%|██████████| 320/320 [00:00<00:00, 330.47it/s]\n"
     ]
    },
    {
     "name": "stdout",
     "output_type": "stream",
     "text": [
      "Epsilon = 0.03\n",
      "Success Rate: 26.875%\n",
      "Average L0 Distance for Successful Attacks: 10.94186046511628\n",
      "Average L1 Distance for Successful Attacks: 0.02999999718523996\n",
      "Average L2 Distance for Successful Attacks: 0.06441523273323857\n",
      "Average Linf Distance for Successful Attacks: 0.18690332882972652\n",
      "Average Mahalanobis Distance for Successful Attacks: 3.2806694952641187\n",
      "Average Sensitivity for Successful Attacks: 0.021982597425406755\n",
      "Outlier Rate for Successful Attacks: 11.627906976744185%\n",
      "\n",
      "\n"
     ]
    },
    {
     "name": "stderr",
     "output_type": "stream",
     "text": [
      "100%|██████████| 320/320 [00:00<00:00, 358.81it/s]\n"
     ]
    },
    {
     "name": "stdout",
     "output_type": "stream",
     "text": [
      "Epsilon = 0.05\n",
      "Success Rate: 25.937500000000004%\n",
      "Average L0 Distance for Successful Attacks: 10.939759036144578\n",
      "Average L1 Distance for Successful Attacks: 0.050000005951487875\n",
      "Average L2 Distance for Successful Attacks: 0.10879983286182564\n",
      "Average Linf Distance for Successful Attacks: 0.31756865439644777\n",
      "Average Mahalanobis Distance for Successful Attacks: 3.4198357091408944\n",
      "Average Sensitivity for Successful Attacks: 0.036645326763391495\n",
      "Outlier Rate for Successful Attacks: 13.253012048192772%\n",
      "\n",
      "\n"
     ]
    },
    {
     "name": "stderr",
     "output_type": "stream",
     "text": [
      "100%|██████████| 320/320 [00:00<00:00, 333.96it/s]\n"
     ]
    },
    {
     "name": "stdout",
     "output_type": "stream",
     "text": [
      "Epsilon = 0.1\n",
      "Success Rate: 29.375%\n",
      "Average L0 Distance for Successful Attacks: 10.957446808510639\n",
      "Average L1 Distance for Successful Attacks: 0.10000000616654436\n",
      "Average L2 Distance for Successful Attacks: 0.22657510939430683\n",
      "Average Linf Distance for Successful Attacks: 0.6641584850372152\n",
      "Average Mahalanobis Distance for Successful Attacks: 4.0614940786363105\n",
      "Average Sensitivity for Successful Attacks: 0.07316178915665504\n",
      "Outlier Rate for Successful Attacks: 22.340425531914892%\n",
      "\n",
      "\n"
     ]
    },
    {
     "name": "stderr",
     "output_type": "stream",
     "text": [
      "100%|██████████| 320/320 [00:00<00:00, 368.11it/s]\n"
     ]
    },
    {
     "name": "stdout",
     "output_type": "stream",
     "text": [
      "Epsilon = 0.3\n",
      "Success Rate: 36.5625%\n",
      "Average L0 Distance for Successful Attacks: 10.957264957264957\n",
      "Average L1 Distance for Successful Attacks: 0.2999397686913482\n",
      "Average L2 Distance for Successful Attacks: 0.6059281471957508\n",
      "Average Linf Distance for Successful Attacks: 1.7430793556392703\n",
      "Average Mahalanobis Distance for Successful Attacks: 8.303379305483045\n",
      "Average Sensitivity for Successful Attacks: 0.2194454548960058\n",
      "Outlier Rate for Successful Attacks: 98.29059829059828%\n",
      "\n",
      "\n"
     ]
    },
    {
     "name": "stderr",
     "output_type": "stream",
     "text": [
      "100%|██████████| 320/320 [00:01<00:00, 318.28it/s]\n"
     ]
    },
    {
     "name": "stdout",
     "output_type": "stream",
     "text": [
      "Epsilon = 0.5\n",
      "Success Rate: 42.8125%\n",
      "Average L0 Distance for Successful Attacks: 10.941605839416058\n",
      "Average L1 Distance for Successful Attacks: 0.49395518994679416\n",
      "Average L2 Distance for Successful Attacks: 0.9443213891809004\n",
      "Average Linf Distance for Successful Attacks: 2.6646438227952833\n",
      "Average Mahalanobis Distance for Successful Attacks: 11.603427807116647\n",
      "Average Sensitivity for Successful Attacks: 0.36190857232487117\n",
      "Outlier Rate for Successful Attacks: 100.0%\n",
      "\n",
      "\n"
     ]
    },
    {
     "name": "stderr",
     "output_type": "stream",
     "text": [
      "100%|██████████| 320/320 [00:00<00:00, 349.30it/s]\n"
     ]
    },
    {
     "name": "stdout",
     "output_type": "stream",
     "text": [
      "Epsilon = 1.0\n",
      "Success Rate: 44.6875%\n",
      "Average L0 Distance for Successful Attacks: 10.958041958041958\n",
      "Average L1 Distance for Successful Attacks: 0.8492392539144396\n",
      "Average L2 Distance for Successful Attacks: 1.478387314956505\n",
      "Average Linf Distance for Successful Attacks: 4.006665876695326\n",
      "Average Mahalanobis Distance for Successful Attacks: 17.691707988493445\n",
      "Average Sensitivity for Successful Attacks: 0.6211371492672634\n",
      "Outlier Rate for Successful Attacks: 100.0%\n",
      "\n",
      "\n",
      "Running LinfFGSM on WineQuality-Red with MLP\n",
      "Threshold: 4.4356665308251575\n"
     ]
    },
    {
     "name": "stderr",
     "output_type": "stream",
     "text": [
      "100%|██████████| 320/320 [00:01<00:00, 254.59it/s]\n"
     ]
    },
    {
     "name": "stdout",
     "output_type": "stream",
     "text": [
      "Epsilon = 0.0\n",
      "Success Rate: 26.5625%\n",
      "Average L0 Distance for Successful Attacks: 0.0\n",
      "Average L1 Distance for Successful Attacks: 0.0\n",
      "Average L2 Distance for Successful Attacks: 0.0\n",
      "Average Linf Distance for Successful Attacks: 0.0\n",
      "Average Mahalanobis Distance for Successful Attacks: 3.1482747734847347\n",
      "Average Sensitivity for Successful Attacks: 0.0\n",
      "Outlier Rate for Successful Attacks: 10.588235294117647%\n",
      "\n",
      "\n"
     ]
    },
    {
     "name": "stderr",
     "output_type": "stream",
     "text": [
      "100%|██████████| 320/320 [00:01<00:00, 253.00it/s]\n"
     ]
    },
    {
     "name": "stdout",
     "output_type": "stream",
     "text": [
      "Epsilon = 0.01\n",
      "Success Rate: 32.5%\n",
      "Average L0 Distance for Successful Attacks: 10.98076923076923\n",
      "Average L1 Distance for Successful Attacks: 0.01000000568679892\n",
      "Average L2 Distance for Successful Attacks: 0.033123608033817545\n",
      "Average Linf Distance for Successful Attacks: 0.10974548470515472\n",
      "Average Mahalanobis Distance for Successful Attacks: 3.100083860288924\n",
      "Average Sensitivity for Successful Attacks: 0.007299192066196925\n",
      "Outlier Rate for Successful Attacks: 9.615384615384617%\n",
      "\n",
      "\n"
     ]
    },
    {
     "name": "stderr",
     "output_type": "stream",
     "text": [
      "100%|██████████| 320/320 [00:01<00:00, 276.50it/s]\n"
     ]
    },
    {
     "name": "stdout",
     "output_type": "stream",
     "text": [
      "Epsilon = 0.03\n",
      "Success Rate: 46.875%\n",
      "Average L0 Distance for Successful Attacks: 10.98\n",
      "Average L1 Distance for Successful Attacks: 0.030000001192092896\n",
      "Average L2 Distance for Successful Attacks: 0.09911037385463714\n",
      "Average Linf Distance for Successful Attacks: 0.3281460676590602\n",
      "Average Mahalanobis Distance for Successful Attacks: 3.244185486976877\n",
      "Average Sensitivity for Successful Attacks: 0.02189924418926239\n",
      "Outlier Rate for Successful Attacks: 8.0%\n",
      "\n",
      "\n"
     ]
    },
    {
     "name": "stderr",
     "output_type": "stream",
     "text": [
      "100%|██████████| 320/320 [00:01<00:00, 239.52it/s]\n"
     ]
    },
    {
     "name": "stdout",
     "output_type": "stream",
     "text": [
      "Epsilon = 0.05\n",
      "Success Rate: 60.3125%\n",
      "Average L0 Distance for Successful Attacks: 10.968911917098445\n",
      "Average L1 Distance for Successful Attacks: 0.050000011920928955\n",
      "Average L2 Distance for Successful Attacks: 0.16448607647048377\n",
      "Average Linf Distance for Successful Attacks: 0.5435698906374719\n",
      "Average Mahalanobis Distance for Successful Attacks: 3.576905261833834\n",
      "Average Sensitivity for Successful Attacks: 0.036539140702683694\n",
      "Outlier Rate for Successful Attacks: 12.435233160621761%\n",
      "\n",
      "\n"
     ]
    },
    {
     "name": "stderr",
     "output_type": "stream",
     "text": [
      "100%|██████████| 320/320 [00:01<00:00, 241.33it/s]\n"
     ]
    },
    {
     "name": "stdout",
     "output_type": "stream",
     "text": [
      "Epsilon = 0.1\n",
      "Success Rate: 87.8125%\n",
      "Average L0 Distance for Successful Attacks: 10.92526690391459\n",
      "Average L1 Distance for Successful Attacks: 0.10000001946696183\n",
      "Average L2 Distance for Successful Attacks: 0.32338409618975006\n",
      "Average Linf Distance for Successful Attacks: 1.061772763304863\n",
      "Average Mahalanobis Distance for Successful Attacks: 4.965851930680776\n",
      "Average Sensitivity for Successful Attacks: 0.07340199980235185\n",
      "Outlier Rate for Successful Attacks: 68.68327402135232%\n",
      "\n",
      "\n"
     ]
    },
    {
     "name": "stderr",
     "output_type": "stream",
     "text": [
      "100%|██████████| 320/320 [00:01<00:00, 241.12it/s]\n"
     ]
    },
    {
     "name": "stdout",
     "output_type": "stream",
     "text": [
      "Epsilon = 0.3\n",
      "Success Rate: 100.0%\n",
      "Average L0 Distance for Successful Attacks: 10.934375\n",
      "Average L1 Distance for Successful Attacks: 0.30000002281740307\n",
      "Average L2 Distance for Successful Attacks: 0.887239016406238\n",
      "Average Linf Distance for Successful Attacks: 2.8104635566473006\n",
      "Average Mahalanobis Distance for Successful Attacks: 11.668395060887468\n",
      "Average Sensitivity for Successful Attacks: 0.22000480811111628\n",
      "Outlier Rate for Successful Attacks: 100.0%\n",
      "\n",
      "\n"
     ]
    },
    {
     "name": "stderr",
     "output_type": "stream",
     "text": [
      "100%|██████████| 320/320 [00:01<00:00, 274.81it/s]\n"
     ]
    },
    {
     "name": "stdout",
     "output_type": "stream",
     "text": [
      "Epsilon = 0.5\n",
      "Success Rate: 100.0%\n",
      "Average L0 Distance for Successful Attacks: 10.934375\n",
      "Average L1 Distance for Successful Attacks: 0.5\n",
      "Average L2 Distance for Successful Attacks: 1.3551185723394155\n",
      "Average Linf Distance for Successful Attacks: 4.142075408995152\n",
      "Average Mahalanobis Distance for Successful Attacks: 17.308308019485978\n",
      "Average Sensitivity for Successful Attacks: 0.36667463183403015\n",
      "Outlier Rate for Successful Attacks: 100.0%\n",
      "\n",
      "\n"
     ]
    },
    {
     "name": "stderr",
     "output_type": "stream",
     "text": [
      "100%|██████████| 320/320 [00:01<00:00, 232.97it/s]\n"
     ]
    },
    {
     "name": "stdout",
     "output_type": "stream",
     "text": [
      "Epsilon = 1.0\n",
      "Success Rate: 100.0%\n",
      "Average L0 Distance for Successful Attacks: 10.934375\n",
      "Average L1 Distance for Successful Attacks: 0.9210106054320931\n",
      "Average L2 Distance for Successful Attacks: 1.973186706751585\n",
      "Average Linf Distance for Successful Attacks: 5.677851466834545\n",
      "Average Mahalanobis Distance for Successful Attacks: 22.930858190432687\n",
      "Average Sensitivity for Successful Attacks: 0.6754683267325163\n",
      "Outlier Rate for Successful Attacks: 100.0%\n",
      "\n",
      "\n",
      "Running LinfPGD on WineQuality-Red with MLP\n",
      "Threshold: 4.4356665308251575\n"
     ]
    },
    {
     "name": "stderr",
     "output_type": "stream",
     "text": [
      "100%|██████████| 320/320 [00:11<00:00, 27.55it/s]\n"
     ]
    },
    {
     "name": "stdout",
     "output_type": "stream",
     "text": [
      "Epsilon = 0.0\n",
      "Success Rate: 26.5625%\n",
      "Average L0 Distance for Successful Attacks: 0.0\n",
      "Average L1 Distance for Successful Attacks: 0.0\n",
      "Average L2 Distance for Successful Attacks: 0.0\n",
      "Average Linf Distance for Successful Attacks: 0.0\n",
      "Average Mahalanobis Distance for Successful Attacks: 3.1482747734847347\n",
      "Average Sensitivity for Successful Attacks: 0.0\n",
      "Outlier Rate for Successful Attacks: 10.588235294117647%\n",
      "\n",
      "\n"
     ]
    },
    {
     "name": "stderr",
     "output_type": "stream",
     "text": [
      "100%|██████████| 320/320 [00:11<00:00, 28.56it/s]\n"
     ]
    },
    {
     "name": "stdout",
     "output_type": "stream",
     "text": [
      "Epsilon = 0.01\n",
      "Success Rate: 31.5625%\n",
      "Average L0 Distance for Successful Attacks: 10.98019801980198\n",
      "Average L1 Distance for Successful Attacks: 0.010000005014019438\n",
      "Average L2 Distance for Successful Attacks: 0.02991110523517179\n",
      "Average Linf Distance for Successful Attacks: 0.09675035839623744\n",
      "Average Mahalanobis Distance for Successful Attacks: 3.1024811482331587\n",
      "Average Sensitivity for Successful Attacks: 0.0072996076473062586\n",
      "Outlier Rate for Successful Attacks: 8.91089108910891%\n",
      "\n",
      "\n"
     ]
    },
    {
     "name": "stderr",
     "output_type": "stream",
     "text": [
      "100%|██████████| 320/320 [00:11<00:00, 27.43it/s]\n"
     ]
    },
    {
     "name": "stdout",
     "output_type": "stream",
     "text": [
      "Epsilon = 0.03\n",
      "Success Rate: 44.375%\n",
      "Average L0 Distance for Successful Attacks: 10.985915492957746\n",
      "Average L1 Distance for Successful Attacks: 0.030000001192092896\n",
      "Average L2 Distance for Successful Attacks: 0.08945640806161181\n",
      "Average Linf Distance for Successful Attacks: 0.2890111531170321\n",
      "Average Mahalanobis Distance for Successful Attacks: 3.19659021791603\n",
      "Average Sensitivity for Successful Attacks: 0.02188631556403469\n",
      "Outlier Rate for Successful Attacks: 7.746478873239436%\n",
      "\n",
      "\n"
     ]
    },
    {
     "name": "stderr",
     "output_type": "stream",
     "text": [
      "100%|██████████| 320/320 [00:12<00:00, 26.53it/s]\n"
     ]
    },
    {
     "name": "stdout",
     "output_type": "stream",
     "text": [
      "Epsilon = 0.05\n",
      "Success Rate: 56.56250000000001%\n",
      "Average L0 Distance for Successful Attacks: 10.98342541436464\n",
      "Average L1 Distance for Successful Attacks: 0.05000001163278495\n",
      "Average L2 Distance for Successful Attacks: 0.14704884716325042\n",
      "Average Linf Distance for Successful Attacks: 0.4725230295025841\n",
      "Average Mahalanobis Distance for Successful Attacks: 3.4576707490128027\n",
      "Average Sensitivity for Successful Attacks: 0.03648627376523466\n",
      "Outlier Rate for Successful Attacks: 8.83977900552486%\n",
      "\n",
      "\n"
     ]
    },
    {
     "name": "stderr",
     "output_type": "stream",
     "text": [
      "100%|██████████| 320/320 [00:12<00:00, 26.62it/s]\n"
     ]
    },
    {
     "name": "stdout",
     "output_type": "stream",
     "text": [
      "Epsilon = 0.1\n",
      "Success Rate: 83.4375%\n",
      "Average L0 Distance for Successful Attacks: 10.97752808988764\n",
      "Average L1 Distance for Successful Attacks: 0.10000001421470321\n",
      "Average L2 Distance for Successful Attacks: 0.28920372511340436\n",
      "Average Linf Distance for Successful Attacks: 0.9228145486853095\n",
      "Average Mahalanobis Distance for Successful Attacks: 4.658077476796273\n",
      "Average Sensitivity for Successful Attacks: 0.07301550152038368\n",
      "Outlier Rate for Successful Attacks: 49.812734082397%\n",
      "\n",
      "\n"
     ]
    },
    {
     "name": "stderr",
     "output_type": "stream",
     "text": [
      "100%|██████████| 320/320 [00:12<00:00, 26.54it/s]\n"
     ]
    },
    {
     "name": "stdout",
     "output_type": "stream",
     "text": [
      "Epsilon = 0.3\n",
      "Success Rate: 100.0%\n",
      "Average L0 Distance for Successful Attacks: 10.990625\n",
      "Average L1 Distance for Successful Attacks: 0.3000000208616257\n",
      "Average L2 Distance for Successful Attacks: 0.7988795338198542\n",
      "Average Linf Distance for Successful Attacks: 2.4628349613398313\n",
      "Average Mahalanobis Distance for Successful Attacks: 10.872496925747274\n",
      "Average Sensitivity for Successful Attacks: 0.21876025502569973\n",
      "Outlier Rate for Successful Attacks: 100.0%\n",
      "\n",
      "\n"
     ]
    },
    {
     "name": "stderr",
     "output_type": "stream",
     "text": [
      "100%|██████████| 320/320 [00:11<00:00, 26.95it/s]\n"
     ]
    },
    {
     "name": "stdout",
     "output_type": "stream",
     "text": [
      "Epsilon = 0.5\n",
      "Success Rate: 100.0%\n",
      "Average L0 Distance for Successful Attacks: 10.9875\n",
      "Average L1 Distance for Successful Attacks: 0.499999999627471\n",
      "Average L2 Distance for Successful Attacks: 1.2674854088574647\n",
      "Average Linf Distance for Successful Attacks: 3.796695040911436\n",
      "Average Mahalanobis Distance for Successful Attacks: 16.778795451435023\n",
      "Average Sensitivity for Successful Attacks: 0.36471420936286447\n",
      "Outlier Rate for Successful Attacks: 100.0%\n",
      "\n",
      "\n"
     ]
    },
    {
     "name": "stderr",
     "output_type": "stream",
     "text": [
      "100%|██████████| 320/320 [00:11<00:00, 28.35it/s]\n"
     ]
    },
    {
     "name": "stdout",
     "output_type": "stream",
     "text": [
      "Epsilon = 1.0\n",
      "Success Rate: 100.0%\n",
      "Average L0 Distance for Successful Attacks: 10.990625\n",
      "Average L1 Distance for Successful Attacks: 0.9235331136733294\n",
      "Average L2 Distance for Successful Attacks: 1.9469536054879426\n",
      "Average Linf Distance for Successful Attacks: 5.579997766017914\n",
      "Average Mahalanobis Distance for Successful Attacks: 23.160052952582554\n",
      "Average Sensitivity for Successful Attacks: 0.6734548458829522\n",
      "Outlier Rate for Successful Attacks: 100.0%\n",
      "\n",
      "\n",
      "Running LinfBIM on WineQuality-Red with MLP\n",
      "Threshold: 4.4356665308251575\n"
     ]
    },
    {
     "name": "stderr",
     "output_type": "stream",
     "text": [
      "100%|██████████| 320/320 [00:03<00:00, 88.16it/s] \n"
     ]
    },
    {
     "name": "stdout",
     "output_type": "stream",
     "text": [
      "Epsilon = 0.0\n",
      "Success Rate: 26.5625%\n",
      "Average L0 Distance for Successful Attacks: 0.0\n",
      "Average L1 Distance for Successful Attacks: 0.0\n",
      "Average L2 Distance for Successful Attacks: 0.0\n",
      "Average Linf Distance for Successful Attacks: 0.0\n",
      "Average Mahalanobis Distance for Successful Attacks: 3.1482747734847347\n",
      "Average Sensitivity for Successful Attacks: 0.0\n",
      "Outlier Rate for Successful Attacks: 10.588235294117647%\n",
      "\n",
      "\n"
     ]
    },
    {
     "name": "stderr",
     "output_type": "stream",
     "text": [
      "100%|██████████| 320/320 [00:04<00:00, 78.23it/s]\n"
     ]
    },
    {
     "name": "stdout",
     "output_type": "stream",
     "text": [
      "Epsilon = 0.01\n",
      "Success Rate: 32.5%\n",
      "Average L0 Distance for Successful Attacks: 10.961538461538462\n",
      "Average L1 Distance for Successful Attacks: 0.01000000568679892\n",
      "Average L2 Distance for Successful Attacks: 0.03298163360271316\n",
      "Average Linf Distance for Successful Attacks: 0.10901471499640208\n",
      "Average Mahalanobis Distance for Successful Attacks: 3.0978334697787955\n",
      "Average Sensitivity for Successful Attacks: 0.00731320201437204\n",
      "Outlier Rate for Successful Attacks: 9.615384615384617%\n",
      "\n",
      "\n"
     ]
    },
    {
     "name": "stderr",
     "output_type": "stream",
     "text": [
      "100%|██████████| 320/320 [00:03<00:00, 81.57it/s]\n"
     ]
    },
    {
     "name": "stdout",
     "output_type": "stream",
     "text": [
      "Epsilon = 0.03\n",
      "Success Rate: 46.875%\n",
      "Average L0 Distance for Successful Attacks: 10.953333333333333\n",
      "Average L1 Distance for Successful Attacks: 0.030000001192092896\n",
      "Average L2 Distance for Successful Attacks: 0.09820733333627384\n",
      "Average Linf Distance for Successful Attacks: 0.3237994013230006\n",
      "Average Mahalanobis Distance for Successful Attacks: 3.2303243677362654\n",
      "Average Sensitivity for Successful Attacks: 0.02195752561092377\n",
      "Outlier Rate for Successful Attacks: 7.333333333333333%\n",
      "\n",
      "\n"
     ]
    },
    {
     "name": "stderr",
     "output_type": "stream",
     "text": [
      "100%|██████████| 320/320 [00:04<00:00, 73.42it/s]\n"
     ]
    },
    {
     "name": "stdout",
     "output_type": "stream",
     "text": [
      "Epsilon = 0.05\n",
      "Success Rate: 60.62499999999999%\n",
      "Average L0 Distance for Successful Attacks: 10.922680412371134\n",
      "Average L1 Distance for Successful Attacks: 0.050000011920928955\n",
      "Average L2 Distance for Successful Attacks: 0.1623237398789101\n",
      "Average Linf Distance for Successful Attacks: 0.5332471451808497\n",
      "Average Mahalanobis Distance for Successful Attacks: 3.5637390234717614\n",
      "Average Sensitivity for Successful Attacks: 0.03670754289427369\n",
      "Outlier Rate for Successful Attacks: 11.855670103092782%\n",
      "\n",
      "\n"
     ]
    },
    {
     "name": "stderr",
     "output_type": "stream",
     "text": [
      "100%|██████████| 320/320 [00:04<00:00, 73.97it/s]\n"
     ]
    },
    {
     "name": "stdout",
     "output_type": "stream",
     "text": [
      "Epsilon = 0.1\n",
      "Success Rate: 88.4375%\n",
      "Average L0 Distance for Successful Attacks: 10.915194346289752\n",
      "Average L1 Distance for Successful Attacks: 0.10000001831315852\n",
      "Average L2 Distance for Successful Attacks: 0.3173601563111632\n",
      "Average Linf Distance for Successful Attacks: 1.0349851581317375\n",
      "Average Mahalanobis Distance for Successful Attacks: 4.927601622986342\n",
      "Average Sensitivity for Successful Attacks: 0.07346961771009668\n",
      "Outlier Rate for Successful Attacks: 64.31095406360424%\n",
      "\n",
      "\n"
     ]
    },
    {
     "name": "stderr",
     "output_type": "stream",
     "text": [
      "100%|██████████| 320/320 [00:04<00:00, 78.89it/s]\n"
     ]
    },
    {
     "name": "stdout",
     "output_type": "stream",
     "text": [
      "Epsilon = 0.3\n",
      "Success Rate: 100.0%\n",
      "Average L0 Distance for Successful Attacks: 10.940625\n",
      "Average L1 Distance for Successful Attacks: 0.30000002356246114\n",
      "Average L2 Distance for Successful Attacks: 0.8605262508615852\n",
      "Average Linf Distance for Successful Attacks: 2.693599005043507\n",
      "Average Mahalanobis Distance for Successful Attacks: 12.019603280731335\n",
      "Average Sensitivity for Successful Attacks: 0.21985303480178117\n",
      "Outlier Rate for Successful Attacks: 100.0%\n",
      "\n",
      "\n"
     ]
    },
    {
     "name": "stderr",
     "output_type": "stream",
     "text": [
      "100%|██████████| 320/320 [00:03<00:00, 84.81it/s]\n"
     ]
    },
    {
     "name": "stdout",
     "output_type": "stream",
     "text": [
      "Epsilon = 0.5\n",
      "Success Rate: 100.0%\n",
      "Average L0 Distance for Successful Attacks: 10.946875\n",
      "Average L1 Distance for Successful Attacks: 0.5\n",
      "Average L2 Distance for Successful Attacks: 1.3294132579118014\n",
      "Average Linf Distance for Successful Attacks: 4.0122407175600525\n",
      "Average Mahalanobis Distance for Successful Attacks: 17.953789810119765\n",
      "Average Sensitivity for Successful Attacks: 0.36619401229545473\n",
      "Outlier Rate for Successful Attacks: 100.0%\n",
      "\n",
      "\n"
     ]
    },
    {
     "name": "stderr",
     "output_type": "stream",
     "text": [
      "100%|██████████| 320/320 [00:03<00:00, 81.16it/s]\n"
     ]
    },
    {
     "name": "stdout",
     "output_type": "stream",
     "text": [
      "Epsilon = 1.0\n",
      "Success Rate: 100.0%\n",
      "Average L0 Distance for Successful Attacks: 10.984375\n",
      "Average L1 Distance for Successful Attacks: 0.9241333805024624\n",
      "Average L2 Distance for Successful Attacks: 1.9376430127769708\n",
      "Average Linf Distance for Successful Attacks: 5.5372522383928295\n",
      "Average Mahalanobis Distance for Successful Attacks: 23.294591015834712\n",
      "Average Sensitivity for Successful Attacks: 0.6743079476058483\n",
      "Outlier Rate for Successful Attacks: 100.0%\n",
      "\n",
      "\n",
      "Running L2FGSM on WineQuality-Red with MLP\n",
      "Threshold: 4.4356665308251575\n"
     ]
    },
    {
     "name": "stderr",
     "output_type": "stream",
     "text": [
      "100%|██████████| 320/320 [00:01<00:00, 222.49it/s]\n"
     ]
    },
    {
     "name": "stdout",
     "output_type": "stream",
     "text": [
      "Epsilon = 0.0\n",
      "Success Rate: 26.5625%\n",
      "Average L0 Distance for Successful Attacks: 0.0\n",
      "Average L1 Distance for Successful Attacks: 0.0\n",
      "Average L2 Distance for Successful Attacks: 0.0\n",
      "Average Linf Distance for Successful Attacks: 0.0\n",
      "Average Mahalanobis Distance for Successful Attacks: 3.1482747734847347\n",
      "Average Sensitivity for Successful Attacks: 0.0\n",
      "Outlier Rate for Successful Attacks: 10.588235294117647%\n",
      "\n",
      "\n"
     ]
    },
    {
     "name": "stderr",
     "output_type": "stream",
     "text": [
      "100%|██████████| 320/320 [00:01<00:00, 228.52it/s]\n"
     ]
    },
    {
     "name": "stdout",
     "output_type": "stream",
     "text": [
      "Epsilon = 0.01\n",
      "Success Rate: 29.062500000000004%\n",
      "Average L0 Distance for Successful Attacks: 10.978494623655914\n",
      "Average L1 Distance for Successful Attacks: 0.005638063594859134\n",
      "Average L2 Distance for Successful Attacks: 0.009977238933726023\n",
      "Average Linf Distance for Successful Attacks: 0.025895719847051045\n",
      "Average Mahalanobis Distance for Successful Attacks: 3.098602384684971\n",
      "Average Sensitivity for Successful Attacks: 0.004115439388119886\n",
      "Outlier Rate for Successful Attacks: 10.75268817204301%\n",
      "\n",
      "\n"
     ]
    },
    {
     "name": "stderr",
     "output_type": "stream",
     "text": [
      "100%|██████████| 320/320 [00:01<00:00, 220.49it/s]\n"
     ]
    },
    {
     "name": "stdout",
     "output_type": "stream",
     "text": [
      "Epsilon = 0.03\n",
      "Success Rate: 32.8125%\n",
      "Average L0 Distance for Successful Attacks: 10.980952380952381\n",
      "Average L1 Distance for Successful Attacks: 0.01694034341545332\n",
      "Average L2 Distance for Successful Attacks: 0.029921667242334003\n",
      "Average Linf Distance for Successful Attacks: 0.07774341035456885\n",
      "Average Mahalanobis Distance for Successful Attacks: 3.076825664827728\n",
      "Average Sensitivity for Successful Attacks: 0.012362624438745634\n",
      "Outlier Rate for Successful Attacks: 8.571428571428571%\n",
      "\n",
      "\n"
     ]
    },
    {
     "name": "stderr",
     "output_type": "stream",
     "text": [
      "100%|██████████| 320/320 [00:01<00:00, 254.79it/s]\n"
     ]
    },
    {
     "name": "stdout",
     "output_type": "stream",
     "text": [
      "Epsilon = 0.05\n",
      "Success Rate: 38.125%\n",
      "Average L0 Distance for Successful Attacks: 10.975409836065573\n",
      "Average L1 Distance for Successful Attacks: 0.028256922364845626\n",
      "Average L2 Distance for Successful Attacks: 0.04979628290919984\n",
      "Average Linf Distance for Successful Attacks: 0.12951839452639954\n",
      "Average Mahalanobis Distance for Successful Attacks: 3.035595338319043\n",
      "Average Sensitivity for Successful Attacks: 0.0206321153301196\n",
      "Outlier Rate for Successful Attacks: 8.19672131147541%\n",
      "\n",
      "\n"
     ]
    },
    {
     "name": "stderr",
     "output_type": "stream",
     "text": [
      "100%|██████████| 320/320 [00:01<00:00, 260.88it/s]\n"
     ]
    },
    {
     "name": "stdout",
     "output_type": "stream",
     "text": [
      "Epsilon = 0.1\n",
      "Success Rate: 52.81249999999999%\n",
      "Average L0 Distance for Successful Attacks: 10.976331360946746\n",
      "Average L1 Distance for Successful Attacks: 0.05643857942794907\n",
      "Average L2 Distance for Successful Attacks: 0.09899104942055144\n",
      "Average Linf Distance for Successful Attacks: 0.25694177665654017\n",
      "Average Mahalanobis Distance for Successful Attacks: 3.0495672866124957\n",
      "Average Sensitivity for Successful Attacks: 0.04120786673218541\n",
      "Outlier Rate for Successful Attacks: 5.9171597633136095%\n",
      "\n",
      "\n"
     ]
    },
    {
     "name": "stderr",
     "output_type": "stream",
     "text": [
      "100%|██████████| 320/320 [00:01<00:00, 231.61it/s]\n"
     ]
    },
    {
     "name": "stdout",
     "output_type": "stream",
     "text": [
      "Epsilon = 0.3\n",
      "Success Rate: 92.5%\n",
      "Average L0 Distance for Successful Attacks: 10.929054054054054\n",
      "Average L1 Distance for Successful Attacks: 0.167216761943859\n",
      "Average L2 Distance for Successful Attacks: 0.2913853313169769\n",
      "Average Linf Distance for Successful Attacks: 0.7553482814817816\n",
      "Average Mahalanobis Distance for Successful Attacks: 3.696591436759258\n",
      "Average Sensitivity for Successful Attacks: 0.12266791740281356\n",
      "Outlier Rate for Successful Attacks: 15.54054054054054%\n",
      "\n",
      "\n"
     ]
    },
    {
     "name": "stderr",
     "output_type": "stream",
     "text": [
      "100%|██████████| 320/320 [00:01<00:00, 222.99it/s]\n"
     ]
    },
    {
     "name": "stdout",
     "output_type": "stream",
     "text": [
      "Epsilon = 0.5\n",
      "Success Rate: 100.0%\n",
      "Average L0 Distance for Successful Attacks: 10.934375\n",
      "Average L1 Distance for Successful Attacks: 0.27397671858780087\n",
      "Average L2 Distance for Successful Attacks: 0.46652311319485307\n",
      "Average Linf Distance for Successful Attacks: 1.2111927142366767\n",
      "Average Mahalanobis Distance for Successful Attacks: 4.635887104180109\n",
      "Average Sensitivity for Successful Attacks: 0.20089868330396712\n",
      "Outlier Rate for Successful Attacks: 51.5625%\n",
      "\n",
      "\n"
     ]
    },
    {
     "name": "stderr",
     "output_type": "stream",
     "text": [
      "100%|██████████| 320/320 [00:01<00:00, 224.35it/s]\n"
     ]
    },
    {
     "name": "stdout",
     "output_type": "stream",
     "text": [
      "Epsilon = 1.0\n",
      "Success Rate: 100.0%\n",
      "Average L0 Distance for Successful Attacks: 10.934375\n",
      "Average L1 Distance for Successful Attacks: 0.5205049362033606\n",
      "Average L2 Distance for Successful Attacks: 0.8287145605310797\n",
      "Average Linf Distance for Successful Attacks: 2.1146578546613455\n",
      "Average Mahalanobis Distance for Successful Attacks: 7.232698228090252\n",
      "Average Sensitivity for Successful Attacks: 0.38167777806520464\n",
      "Outlier Rate for Successful Attacks: 100.0%\n",
      "\n",
      "\n",
      "Running L2PGD on WineQuality-Red with MLP\n",
      "Threshold: 4.4356665308251575\n"
     ]
    },
    {
     "name": "stderr",
     "output_type": "stream",
     "text": [
      "100%|██████████| 320/320 [00:23<00:00, 13.82it/s]\n"
     ]
    },
    {
     "name": "stdout",
     "output_type": "stream",
     "text": [
      "Epsilon = 0.0\n",
      "Success Rate: 26.5625%\n",
      "Average L0 Distance for Successful Attacks: 0.0\n",
      "Average L1 Distance for Successful Attacks: 0.0\n",
      "Average L2 Distance for Successful Attacks: 0.0\n",
      "Average Linf Distance for Successful Attacks: 0.0\n",
      "Average Mahalanobis Distance for Successful Attacks: 3.1482747734847347\n",
      "Average Sensitivity for Successful Attacks: 0.0\n",
      "Outlier Rate for Successful Attacks: 10.588235294117647%\n",
      "\n",
      "\n"
     ]
    },
    {
     "name": "stderr",
     "output_type": "stream",
     "text": [
      "100%|██████████| 320/320 [00:20<00:00, 15.82it/s]\n"
     ]
    },
    {
     "name": "stdout",
     "output_type": "stream",
     "text": [
      "Epsilon = 0.01\n",
      "Success Rate: 28.749999999999996%\n",
      "Average L0 Distance for Successful Attacks: 10.978260869565217\n",
      "Average L1 Distance for Successful Attacks: 0.0059062327136812\n",
      "Average L2 Distance for Successful Attacks: 0.009977777923821755\n",
      "Average Linf Distance for Successful Attacks: 0.026776139685155256\n",
      "Average Mahalanobis Distance for Successful Attacks: 3.1080338681077895\n",
      "Average Sensitivity for Successful Attacks: 0.004312541348474991\n",
      "Outlier Rate for Successful Attacks: 10.869565217391305%\n",
      "\n",
      "\n"
     ]
    },
    {
     "name": "stderr",
     "output_type": "stream",
     "text": [
      "100%|██████████| 320/320 [00:19<00:00, 16.65it/s]\n"
     ]
    },
    {
     "name": "stdout",
     "output_type": "stream",
     "text": [
      "Epsilon = 0.03\n",
      "Success Rate: 31.5625%\n",
      "Average L0 Distance for Successful Attacks: 10.990099009900991\n",
      "Average L1 Distance for Successful Attacks: 0.01781502974653008\n",
      "Average L2 Distance for Successful Attacks: 0.029750485286706745\n",
      "Average Linf Distance for Successful Attacks: 0.07965857033977414\n",
      "Average Mahalanobis Distance for Successful Attacks: 3.1041146911992157\n",
      "Average Sensitivity for Successful Attacks: 0.012991112822869627\n",
      "Outlier Rate for Successful Attacks: 9.900990099009901%\n",
      "\n",
      "\n"
     ]
    },
    {
     "name": "stderr",
     "output_type": "stream",
     "text": [
      "100%|██████████| 320/320 [00:19<00:00, 16.29it/s]\n"
     ]
    },
    {
     "name": "stdout",
     "output_type": "stream",
     "text": [
      "Epsilon = 0.05\n",
      "Success Rate: 36.25%\n",
      "Average L0 Distance for Successful Attacks: 10.991379310344827\n",
      "Average L1 Distance for Successful Attacks: 0.029226107089298552\n",
      "Average L2 Distance for Successful Attacks: 0.049908990586369203\n",
      "Average Linf Distance for Successful Attacks: 0.13473189204674343\n",
      "Average Mahalanobis Distance for Successful Attacks: 3.0603926610135326\n",
      "Average Sensitivity for Successful Attacks: 0.021306426826350647\n",
      "Outlier Rate for Successful Attacks: 8.620689655172415%\n",
      "\n",
      "\n"
     ]
    },
    {
     "name": "stderr",
     "output_type": "stream",
     "text": [
      "100%|██████████| 320/320 [00:21<00:00, 14.64it/s]\n"
     ]
    },
    {
     "name": "stdout",
     "output_type": "stream",
     "text": [
      "Epsilon = 0.1\n",
      "Success Rate: 48.4375%\n",
      "Average L0 Distance for Successful Attacks: 10.987096774193548\n",
      "Average L1 Distance for Successful Attacks: 0.05906791595682021\n",
      "Average L2 Distance for Successful Attacks: 0.09980105964406843\n",
      "Average Linf Distance for Successful Attacks: 0.2696427162616484\n",
      "Average Mahalanobis Distance for Successful Attacks: 3.087749975069756\n",
      "Average Sensitivity for Successful Attacks: 0.04308044601592326\n",
      "Outlier Rate for Successful Attacks: 6.451612903225806%\n",
      "\n",
      "\n"
     ]
    },
    {
     "name": "stderr",
     "output_type": "stream",
     "text": [
      "100%|██████████| 320/320 [00:20<00:00, 15.84it/s]\n"
     ]
    },
    {
     "name": "stdout",
     "output_type": "stream",
     "text": [
      "Epsilon = 0.3\n",
      "Success Rate: 87.8125%\n",
      "Average L0 Distance for Successful Attacks: 10.982206405693951\n",
      "Average L1 Distance for Successful Attacks: 0.17622472048866367\n",
      "Average L2 Distance for Successful Attacks: 0.2990780261169549\n",
      "Average Linf Distance for Successful Attacks: 0.8053026581149932\n",
      "Average Mahalanobis Distance for Successful Attacks: 3.988707951486596\n",
      "Average Sensitivity for Successful Attacks: 0.12860970941514732\n",
      "Outlier Rate for Successful Attacks: 27.402135231316727%\n",
      "\n",
      "\n"
     ]
    },
    {
     "name": "stderr",
     "output_type": "stream",
     "text": [
      "100%|██████████| 320/320 [00:19<00:00, 16.41it/s]\n"
     ]
    },
    {
     "name": "stdout",
     "output_type": "stream",
     "text": [
      "Epsilon = 0.5\n",
      "Success Rate: 99.375%\n",
      "Average L0 Distance for Successful Attacks: 10.9937106918239\n",
      "Average L1 Distance for Successful Attacks: 0.2989559109855748\n",
      "Average L2 Distance for Successful Attacks: 0.4963366063135975\n",
      "Average Linf Distance for Successful Attacks: 1.3253400925570313\n",
      "Average Mahalanobis Distance for Successful Attacks: 5.300128647477273\n",
      "Average Sensitivity for Successful Attacks: 0.21793910040982864\n",
      "Outlier Rate for Successful Attacks: 69.18238993710692%\n",
      "\n",
      "\n"
     ]
    },
    {
     "name": "stderr",
     "output_type": "stream",
     "text": [
      "100%|██████████| 320/320 [00:20<00:00, 15.75it/s]\n"
     ]
    },
    {
     "name": "stdout",
     "output_type": "stream",
     "text": [
      "Epsilon = 1.0\n",
      "Success Rate: 100.0%\n",
      "Average L0 Distance for Successful Attacks: 10.996875\n",
      "Average L1 Distance for Successful Attacks: 0.6018105075694621\n",
      "Average L2 Distance for Successful Attacks: 0.9885413814336061\n",
      "Average Linf Distance for Successful Attacks: 2.6344401173293592\n",
      "Average Mahalanobis Distance for Successful Attacks: 9.683667762592028\n",
      "Average Sensitivity for Successful Attacks: 0.4385673665441573\n",
      "Outlier Rate for Successful Attacks: 100.0%\n",
      "\n",
      "\n",
      "Running L2BIM on WineQuality-Red with MLP\n",
      "Threshold: 4.4356665308251575\n"
     ]
    },
    {
     "name": "stderr",
     "output_type": "stream",
     "text": [
      "100%|██████████| 320/320 [00:04<00:00, 68.67it/s]\n"
     ]
    },
    {
     "name": "stdout",
     "output_type": "stream",
     "text": [
      "Epsilon = 0.0\n",
      "Success Rate: 26.5625%\n",
      "Average L0 Distance for Successful Attacks: 0.0\n",
      "Average L1 Distance for Successful Attacks: 0.0\n",
      "Average L2 Distance for Successful Attacks: 0.0\n",
      "Average Linf Distance for Successful Attacks: 0.0\n",
      "Average Mahalanobis Distance for Successful Attacks: 3.1482747734847347\n",
      "Average Sensitivity for Successful Attacks: 0.0\n",
      "Outlier Rate for Successful Attacks: 10.588235294117647%\n",
      "\n",
      "\n"
     ]
    },
    {
     "name": "stderr",
     "output_type": "stream",
     "text": [
      "100%|██████████| 320/320 [00:04<00:00, 68.57it/s]\n"
     ]
    },
    {
     "name": "stdout",
     "output_type": "stream",
     "text": [
      "Epsilon = 0.01\n",
      "Success Rate: 29.062500000000004%\n",
      "Average L0 Distance for Successful Attacks: 10.989247311827956\n",
      "Average L1 Distance for Successful Attacks: 0.005657207581304734\n",
      "Average L2 Distance for Successful Attacks: 0.009998941974293801\n",
      "Average Linf Distance for Successful Attacks: 0.025915692049649455\n",
      "Average Mahalanobis Distance for Successful Attacks: 3.098262377057264\n",
      "Average Sensitivity for Successful Attacks: 0.00412606331269427\n",
      "Outlier Rate for Successful Attacks: 10.75268817204301%\n",
      "\n",
      "\n"
     ]
    },
    {
     "name": "stderr",
     "output_type": "stream",
     "text": [
      "100%|██████████| 320/320 [00:04<00:00, 68.67it/s]\n"
     ]
    },
    {
     "name": "stdout",
     "output_type": "stream",
     "text": [
      "Epsilon = 0.03\n",
      "Success Rate: 32.8125%\n",
      "Average L0 Distance for Successful Attacks: 10.99047619047619\n",
      "Average L1 Distance for Successful Attacks: 0.016974434008200964\n",
      "Average L2 Distance for Successful Attacks: 0.029995734776769367\n",
      "Average Linf Distance for Successful Attacks: 0.07771607978003366\n",
      "Average Mahalanobis Distance for Successful Attacks: 3.0732636836282605\n",
      "Average Sensitivity for Successful Attacks: 0.012378653538014208\n",
      "Outlier Rate for Successful Attacks: 8.571428571428571%\n",
      "\n",
      "\n"
     ]
    },
    {
     "name": "stderr",
     "output_type": "stream",
     "text": [
      "100%|██████████| 320/320 [00:04<00:00, 67.03it/s]\n"
     ]
    },
    {
     "name": "stdout",
     "output_type": "stream",
     "text": [
      "Epsilon = 0.05\n",
      "Success Rate: 38.125%\n",
      "Average L0 Distance for Successful Attacks: 10.98360655737705\n",
      "Average L1 Distance for Successful Attacks: 0.028316317538379647\n",
      "Average L2 Distance for Successful Attacks: 0.04998475511665227\n",
      "Average Linf Distance for Successful Attacks: 0.1297536532654137\n",
      "Average Mahalanobis Distance for Successful Attacks: 3.0268078658795643\n",
      "Average Sensitivity for Successful Attacks: 0.02066257131881401\n",
      "Outlier Rate for Successful Attacks: 8.19672131147541%\n",
      "\n",
      "\n"
     ]
    },
    {
     "name": "stderr",
     "output_type": "stream",
     "text": [
      "100%|██████████| 320/320 [00:04<00:00, 69.87it/s]\n"
     ]
    },
    {
     "name": "stdout",
     "output_type": "stream",
     "text": [
      "Epsilon = 0.1\n",
      "Success Rate: 52.81249999999999%\n",
      "Average L0 Distance for Successful Attacks: 10.982248520710058\n",
      "Average L1 Distance for Successful Attacks: 0.056868217863451094\n",
      "Average L2 Distance for Successful Attacks: 0.09990717364838843\n",
      "Average Linf Distance for Successful Attacks: 0.25932742955063925\n",
      "Average Mahalanobis Distance for Successful Attacks: 3.0203522361575947\n",
      "Average Sensitivity for Successful Attacks: 0.04150364581032617\n",
      "Outlier Rate for Successful Attacks: 5.9171597633136095%\n",
      "\n",
      "\n"
     ]
    },
    {
     "name": "stderr",
     "output_type": "stream",
     "text": [
      "100%|██████████| 320/320 [00:04<00:00, 67.49it/s]\n"
     ]
    },
    {
     "name": "stdout",
     "output_type": "stream",
     "text": [
      "Epsilon = 0.3\n",
      "Success Rate: 93.75%\n",
      "Average L0 Distance for Successful Attacks: 10.98\n",
      "Average L1 Distance for Successful Attacks: 0.17330316762129466\n",
      "Average L2 Distance for Successful Attacks: 0.2993986799319585\n",
      "Average Linf Distance for Successful Attacks: 0.7786774537960688\n",
      "Average Mahalanobis Distance for Successful Attacks: 3.557384878698068\n",
      "Average Sensitivity for Successful Attacks: 0.12649453242619832\n",
      "Outlier Rate for Successful Attacks: 13.666666666666666%\n",
      "\n",
      "\n"
     ]
    },
    {
     "name": "stderr",
     "output_type": "stream",
     "text": [
      "100%|██████████| 320/320 [00:04<00:00, 71.09it/s]\n"
     ]
    },
    {
     "name": "stdout",
     "output_type": "stream",
     "text": [
      "Epsilon = 0.5\n",
      "Success Rate: 100.0%\n",
      "Average L0 Distance for Successful Attacks: 10.990625\n",
      "Average L1 Distance for Successful Attacks: 0.2952099452726543\n",
      "Average L2 Distance for Successful Attacks: 0.498070387262851\n",
      "Average Linf Distance for Successful Attacks: 1.3015354570001363\n",
      "Average Mahalanobis Distance for Successful Attacks: 4.648837630158987\n",
      "Average Sensitivity for Successful Attacks: 0.21525676753371953\n",
      "Outlier Rate for Successful Attacks: 55.00000000000001%\n",
      "\n",
      "\n"
     ]
    },
    {
     "name": "stderr",
     "output_type": "stream",
     "text": [
      "100%|██████████| 320/320 [00:04<00:00, 69.82it/s]\n"
     ]
    },
    {
     "name": "stdout",
     "output_type": "stream",
     "text": [
      "Epsilon = 1.0\n",
      "Success Rate: 100.0%\n",
      "Average L0 Distance for Successful Attacks: 10.99375\n",
      "Average L1 Distance for Successful Attacks: 0.6295165983960033\n",
      "Average L2 Distance for Successful Attacks: 0.9896684397011996\n",
      "Average Linf Distance for Successful Attacks: 2.5680914975702764\n",
      "Average Mahalanobis Distance for Successful Attacks: 8.55629656760672\n",
      "Average Sensitivity for Successful Attacks: 0.45891845095902684\n",
      "Outlier Rate for Successful Attacks: 100.0%\n",
      "\n",
      "\n",
      "Running LinfDeepFool on WineQuality-Red with MLP\n",
      "Threshold: 4.4356665308251575\n"
     ]
    },
    {
     "name": "stderr",
     "output_type": "stream",
     "text": [
      "100%|██████████| 320/320 [00:01<00:00, 161.32it/s]\n"
     ]
    },
    {
     "name": "stdout",
     "output_type": "stream",
     "text": [
      "Epsilon = 0.0\n",
      "Success Rate: 26.5625%\n",
      "Average L0 Distance for Successful Attacks: 0.0\n",
      "Average L1 Distance for Successful Attacks: 0.0\n",
      "Average L2 Distance for Successful Attacks: 0.0\n",
      "Average Linf Distance for Successful Attacks: 0.0\n",
      "Average Mahalanobis Distance for Successful Attacks: 3.1482747734847347\n",
      "Average Sensitivity for Successful Attacks: 0.0\n",
      "Outlier Rate for Successful Attacks: 10.588235294117647%\n",
      "\n",
      "\n"
     ]
    },
    {
     "name": "stderr",
     "output_type": "stream",
     "text": [
      "100%|██████████| 320/320 [00:02<00:00, 148.64it/s]\n"
     ]
    },
    {
     "name": "stdout",
     "output_type": "stream",
     "text": [
      "Epsilon = 0.01\n",
      "Success Rate: 32.5%\n",
      "Average L0 Distance for Successful Attacks: 2.0\n",
      "Average L1 Distance for Successful Attacks: 0.0009852066779365907\n",
      "Average L2 Distance for Successful Attacks: 0.003264468767716048\n",
      "Average Linf Distance for Successful Attacks: 0.010817257024777623\n",
      "Average Mahalanobis Distance for Successful Attacks: 3.060060995947413\n",
      "Average Sensitivity for Successful Attacks: 0.0007191975041328428\n",
      "Outlier Rate for Successful Attacks: 9.615384615384617%\n",
      "\n",
      "\n"
     ]
    },
    {
     "name": "stderr",
     "output_type": "stream",
     "text": [
      "100%|██████████| 320/320 [00:02<00:00, 159.88it/s]\n"
     ]
    },
    {
     "name": "stdout",
     "output_type": "stream",
     "text": [
      "Epsilon = 0.03\n",
      "Success Rate: 46.875%\n",
      "Average L0 Distance for Successful Attacks: 4.753333333333333\n",
      "Average L1 Distance for Successful Attacks: 0.007365695362289746\n",
      "Average L2 Distance for Successful Attacks: 0.02433421107319494\n",
      "Average Linf Distance for Successful Attacks: 0.08058594369639953\n",
      "Average Mahalanobis Distance for Successful Attacks: 3.006811859136623\n",
      "Average Sensitivity for Successful Attacks: 0.005376180129436155\n",
      "Outlier Rate for Successful Attacks: 7.333333333333333%\n",
      "\n",
      "\n"
     ]
    },
    {
     "name": "stderr",
     "output_type": "stream",
     "text": [
      "100%|██████████| 320/320 [00:02<00:00, 152.06it/s]\n"
     ]
    },
    {
     "name": "stdout",
     "output_type": "stream",
     "text": [
      "Epsilon = 0.05\n",
      "Success Rate: 60.3125%\n",
      "Average L0 Distance for Successful Attacks: 6.129533678756476\n",
      "Average L1 Distance for Successful Attacks: 0.01561499165052577\n",
      "Average L2 Distance for Successful Attacks: 0.051430035534512655\n",
      "Average Linf Distance for Successful Attacks: 0.16998646330146283\n",
      "Average Mahalanobis Distance for Successful Attacks: 3.0513448690730645\n",
      "Average Sensitivity for Successful Attacks: 0.011433681930352602\n",
      "Outlier Rate for Successful Attacks: 8.290155440414509%\n",
      "\n",
      "\n"
     ]
    },
    {
     "name": "stderr",
     "output_type": "stream",
     "text": [
      "100%|██████████| 320/320 [00:02<00:00, 149.85it/s]\n"
     ]
    },
    {
     "name": "stdout",
     "output_type": "stream",
     "text": [
      "Epsilon = 0.1\n",
      "Success Rate: 87.8125%\n",
      "Average L0 Distance for Successful Attacks: 7.601423487544484\n",
      "Average L1 Distance for Successful Attacks: 0.039264440629299846\n",
      "Average L2 Distance for Successful Attacks: 0.12813920192122194\n",
      "Average Linf Distance for Successful Attacks: 0.42147115267335944\n",
      "Average Mahalanobis Distance for Successful Attacks: 3.583904384861871\n",
      "Average Sensitivity for Successful Attacks: 0.02897126001166677\n",
      "Outlier Rate for Successful Attacks: 23.843416370106763%\n",
      "\n",
      "\n"
     ]
    },
    {
     "name": "stderr",
     "output_type": "stream",
     "text": [
      "100%|██████████| 320/320 [00:02<00:00, 149.25it/s]\n"
     ]
    },
    {
     "name": "stdout",
     "output_type": "stream",
     "text": [
      "Epsilon = 0.3\n",
      "Success Rate: 100.0%\n",
      "Average L0 Distance for Successful Attacks: 8.015625\n",
      "Average L1 Distance for Successful Attacks: 0.06251766028581188\n",
      "Average L2 Distance for Successful Attacks: 0.2010811951578944\n",
      "Average Linf Distance for Successful Attacks: 0.6583422435622197\n",
      "Average Mahalanobis Distance for Successful Attacks: 4.263507220587415\n",
      "Average Sensitivity for Successful Attacks: 0.04589195404187194\n",
      "Outlier Rate for Successful Attacks: 37.1875%\n",
      "\n",
      "\n"
     ]
    },
    {
     "name": "stderr",
     "output_type": "stream",
     "text": [
      "100%|██████████| 320/320 [00:02<00:00, 154.76it/s]\n"
     ]
    },
    {
     "name": "stdout",
     "output_type": "stream",
     "text": [
      "Epsilon = 0.5\n",
      "Success Rate: 100.0%\n",
      "Average L0 Distance for Successful Attacks: 8.015625\n",
      "Average L1 Distance for Successful Attacks: 0.06251766028581188\n",
      "Average L2 Distance for Successful Attacks: 0.2010811951578944\n",
      "Average Linf Distance for Successful Attacks: 0.6583422435622197\n",
      "Average Mahalanobis Distance for Successful Attacks: 4.263507220587415\n",
      "Average Sensitivity for Successful Attacks: 0.04589195404187194\n",
      "Outlier Rate for Successful Attacks: 37.1875%\n",
      "\n",
      "\n"
     ]
    },
    {
     "name": "stderr",
     "output_type": "stream",
     "text": [
      "100%|██████████| 320/320 [00:02<00:00, 148.91it/s]\n"
     ]
    },
    {
     "name": "stdout",
     "output_type": "stream",
     "text": [
      "Epsilon = 1.0\n",
      "Success Rate: 100.0%\n",
      "Average L0 Distance for Successful Attacks: 8.015625\n",
      "Average L1 Distance for Successful Attacks: 0.06251766028581188\n",
      "Average L2 Distance for Successful Attacks: 0.2010811951578944\n",
      "Average Linf Distance for Successful Attacks: 0.6583422435622197\n",
      "Average Mahalanobis Distance for Successful Attacks: 4.263507220587415\n",
      "Average Sensitivity for Successful Attacks: 0.04589195404187194\n",
      "Outlier Rate for Successful Attacks: 37.1875%\n",
      "\n",
      "\n",
      "Running L2DeepFool on WineQuality-Red with MLP\n",
      "Threshold: 4.4356665308251575\n"
     ]
    },
    {
     "name": "stderr",
     "output_type": "stream",
     "text": [
      "100%|██████████| 320/320 [00:02<00:00, 142.59it/s]\n"
     ]
    },
    {
     "name": "stdout",
     "output_type": "stream",
     "text": [
      "Epsilon = 0.0\n",
      "Success Rate: 26.5625%\n",
      "Average L0 Distance for Successful Attacks: 0.0\n",
      "Average L1 Distance for Successful Attacks: 0.0\n",
      "Average L2 Distance for Successful Attacks: 0.0\n",
      "Average Linf Distance for Successful Attacks: 0.0\n",
      "Average Mahalanobis Distance for Successful Attacks: 3.1482747734847347\n",
      "Average Sensitivity for Successful Attacks: 0.0\n",
      "Outlier Rate for Successful Attacks: 10.588235294117647%\n",
      "\n",
      "\n"
     ]
    },
    {
     "name": "stderr",
     "output_type": "stream",
     "text": [
      "100%|██████████| 320/320 [00:02<00:00, 152.13it/s]\n"
     ]
    },
    {
     "name": "stdout",
     "output_type": "stream",
     "text": [
      "Epsilon = 0.01\n",
      "Success Rate: 29.062500000000004%\n",
      "Average L0 Distance for Successful Attacks: 0.9354838709677419\n",
      "Average L1 Distance for Successful Attacks: 0.0002871577938397725\n",
      "Average L2 Distance for Successful Attacks: 0.0005139228662536029\n",
      "Average Linf Distance for Successful Attacks: 0.0013624843690664538\n",
      "Average Mahalanobis Distance for Successful Attacks: 3.0916194789228255\n",
      "Average Sensitivity for Successful Attacks: 0.00021161268445192484\n",
      "Outlier Rate for Successful Attacks: 10.75268817204301%\n",
      "\n",
      "\n"
     ]
    },
    {
     "name": "stderr",
     "output_type": "stream",
     "text": [
      "100%|██████████| 320/320 [00:02<00:00, 136.62it/s]\n"
     ]
    },
    {
     "name": "stdout",
     "output_type": "stream",
     "text": [
      "Epsilon = 0.03\n",
      "Success Rate: 32.8125%\n",
      "Average L0 Distance for Successful Attacks: 2.085714285714286\n",
      "Average L1 Distance for Successful Attacks: 0.0015935970913796198\n",
      "Average L2 Distance for Successful Attacks: 0.0027939570291588703\n",
      "Average Linf Distance for Successful Attacks: 0.007344371985111918\n",
      "Average Mahalanobis Distance for Successful Attacks: 3.051996626149311\n",
      "Average Sensitivity for Successful Attacks: 0.0011631011364183256\n",
      "Outlier Rate for Successful Attacks: 9.523809523809524%\n",
      "\n",
      "\n"
     ]
    },
    {
     "name": "stderr",
     "output_type": "stream",
     "text": [
      "100%|██████████| 320/320 [00:02<00:00, 143.42it/s]\n"
     ]
    },
    {
     "name": "stdout",
     "output_type": "stream",
     "text": [
      "Epsilon = 0.05\n",
      "Success Rate: 38.125%\n",
      "Average L0 Distance for Successful Attacks: 3.319672131147541\n",
      "Average L1 Distance for Successful Attacks: 0.00465976637711779\n",
      "Average L2 Distance for Successful Attacks: 0.008175484578461066\n",
      "Average Linf Distance for Successful Attacks: 0.02143382548247693\n",
      "Average Mahalanobis Distance for Successful Attacks: 2.988300457317292\n",
      "Average Sensitivity for Successful Attacks: 0.0034125427978846136\n",
      "Outlier Rate for Successful Attacks: 8.19672131147541%\n",
      "\n",
      "\n"
     ]
    },
    {
     "name": "stderr",
     "output_type": "stream",
     "text": [
      "100%|██████████| 320/320 [00:02<00:00, 142.91it/s]\n"
     ]
    },
    {
     "name": "stdout",
     "output_type": "stream",
     "text": [
      "Epsilon = 0.1\n",
      "Success Rate: 52.81249999999999%\n",
      "Average L0 Distance for Successful Attacks: 5.449704142011834\n",
      "Average L1 Distance for Successful Attacks: 0.01581538877499527\n",
      "Average L2 Distance for Successful Attacks: 0.02769832347365394\n",
      "Average Linf Distance for Successful Attacks: 0.07174892731275431\n",
      "Average Mahalanobis Distance for Successful Attacks: 2.9333388153220583\n",
      "Average Sensitivity for Successful Attacks: 0.011560524363324222\n",
      "Outlier Rate for Successful Attacks: 5.9171597633136095%\n",
      "\n",
      "\n"
     ]
    },
    {
     "name": "stderr",
     "output_type": "stream",
     "text": [
      "100%|██████████| 320/320 [00:02<00:00, 151.24it/s]\n"
     ]
    },
    {
     "name": "stdout",
     "output_type": "stream",
     "text": [
      "Epsilon = 0.3\n",
      "Success Rate: 92.5%\n",
      "Average L0 Distance for Successful Attacks: 7.773648648648648\n",
      "Average L1 Distance for Successful Attacks: 0.06657109242813611\n",
      "Average L2 Distance for Successful Attacks: 0.11687566545820241\n",
      "Average Linf Distance for Successful Attacks: 0.30341611645889244\n",
      "Average Mahalanobis Distance for Successful Attacks: 3.1117610993072002\n",
      "Average Sensitivity for Successful Attacks: 0.04902207596318771\n",
      "Outlier Rate for Successful Attacks: 10.135135135135135%\n",
      "\n",
      "\n"
     ]
    },
    {
     "name": "stderr",
     "output_type": "stream",
     "text": [
      "100%|██████████| 320/320 [00:02<00:00, 141.23it/s]\n"
     ]
    },
    {
     "name": "stdout",
     "output_type": "stream",
     "text": [
      "Epsilon = 0.5\n",
      "Success Rate: 100.0%\n",
      "Average L0 Distance for Successful Attacks: 8.015625\n",
      "Average L1 Distance for Successful Attacks: 0.09031372409663163\n",
      "Average L2 Distance for Successful Attacks: 0.157924510580051\n",
      "Average Linf Distance for Successful Attacks: 0.4154604804178234\n",
      "Average Mahalanobis Distance for Successful Attacks: 3.2795995792104606\n",
      "Average Sensitivity for Successful Attacks: 0.06628925098702894\n",
      "Outlier Rate for Successful Attacks: 14.0625%\n",
      "\n",
      "\n"
     ]
    },
    {
     "name": "stderr",
     "output_type": "stream",
     "text": [
      "100%|██████████| 320/320 [00:02<00:00, 154.15it/s]\n"
     ]
    },
    {
     "name": "stdout",
     "output_type": "stream",
     "text": [
      "Epsilon = 1.0\n",
      "Success Rate: 100.0%\n",
      "Average L0 Distance for Successful Attacks: 8.015625\n",
      "Average L1 Distance for Successful Attacks: 0.0925724608299788\n",
      "Average L2 Distance for Successful Attacks: 0.16184823209841853\n",
      "Average Linf Distance for Successful Attacks: 0.42622280124924145\n",
      "Average Mahalanobis Distance for Successful Attacks: 3.3042675204998035\n",
      "Average Sensitivity for Successful Attacks: 0.06793478067629621\n",
      "Outlier Rate for Successful Attacks: 15.625%\n",
      "\n",
      "\n",
      "Running L2CarliniWagner on WineQuality-Red with MLP\n",
      "Threshold: 4.4356665308251575\n"
     ]
    },
    {
     "name": "stderr",
     "output_type": "stream",
     "text": [
      "100%|██████████| 320/320 [00:50<00:00,  6.36it/s]\n"
     ]
    },
    {
     "name": "stdout",
     "output_type": "stream",
     "text": [
      "Epsilon = 0.0\n",
      "Success Rate: 26.5625%\n",
      "Average L0 Distance for Successful Attacks: 0.0\n",
      "Average L1 Distance for Successful Attacks: 0.0\n",
      "Average L2 Distance for Successful Attacks: 0.0\n",
      "Average Linf Distance for Successful Attacks: 0.0\n",
      "Average Mahalanobis Distance for Successful Attacks: 3.1482747734847347\n",
      "Average Sensitivity for Successful Attacks: 0.0\n",
      "Outlier Rate for Successful Attacks: 10.588235294117647%\n",
      "\n",
      "\n"
     ]
    },
    {
     "name": "stderr",
     "output_type": "stream",
     "text": [
      "100%|██████████| 320/320 [00:49<00:00,  6.47it/s]\n"
     ]
    },
    {
     "name": "stdout",
     "output_type": "stream",
     "text": [
      "Epsilon = 0.01\n",
      "Success Rate: 28.4375%\n",
      "Average L0 Distance for Successful Attacks: 10.395604395604396\n",
      "Average L1 Distance for Successful Attacks: 0.0002897576260083652\n",
      "Average L2 Distance for Successful Attacks: 0.0006602836624414432\n",
      "Average Linf Distance for Successful Attacks: 0.0020047645058974134\n",
      "Average Mahalanobis Distance for Successful Attacks: 3.1187455099604824\n",
      "Average Sensitivity for Successful Attacks: 0.0002111141278240731\n",
      "Outlier Rate for Successful Attacks: 10.989010989010989%\n",
      "\n",
      "\n"
     ]
    },
    {
     "name": "stderr",
     "output_type": "stream",
     "text": [
      "100%|██████████| 320/320 [00:46<00:00,  6.95it/s]\n"
     ]
    },
    {
     "name": "stdout",
     "output_type": "stream",
     "text": [
      "Epsilon = 0.03\n",
      "Success Rate: 31.874999999999996%\n",
      "Average L0 Distance for Successful Attacks: 10.46078431372549\n",
      "Average L1 Distance for Successful Attacks: 0.002172204905518276\n",
      "Average L2 Distance for Successful Attacks: 0.005000841609824322\n",
      "Average Linf Distance for Successful Attacks: 0.015231433655500557\n",
      "Average Mahalanobis Distance for Successful Attacks: 3.0612448901242644\n",
      "Average Sensitivity for Successful Attacks: 0.0015825081922521216\n",
      "Outlier Rate for Successful Attacks: 8.823529411764707%\n",
      "\n",
      "\n"
     ]
    },
    {
     "name": "stderr",
     "output_type": "stream",
     "text": [
      "100%|██████████| 320/320 [00:44<00:00,  7.20it/s]\n"
     ]
    },
    {
     "name": "stdout",
     "output_type": "stream",
     "text": [
      "Epsilon = 0.05\n",
      "Success Rate: 35.3125%\n",
      "Average L0 Distance for Successful Attacks: 10.513274336283185\n",
      "Average L1 Distance for Successful Attacks: 0.005935858475637779\n",
      "Average L2 Distance for Successful Attacks: 0.012311004553469227\n",
      "Average Linf Distance for Successful Attacks: 0.03565202144271307\n",
      "Average Mahalanobis Distance for Successful Attacks: 3.053229460866201\n",
      "Average Sensitivity for Successful Attacks: 0.0043243948448520335\n",
      "Outlier Rate for Successful Attacks: 7.964601769911504%\n",
      "\n",
      "\n"
     ]
    },
    {
     "name": "stderr",
     "output_type": "stream",
     "text": [
      "100%|██████████| 320/320 [00:44<00:00,  7.22it/s]\n"
     ]
    },
    {
     "name": "stdout",
     "output_type": "stream",
     "text": [
      "Epsilon = 0.1\n",
      "Success Rate: 47.8125%\n",
      "Average L0 Distance for Successful Attacks: 10.640522875816993\n",
      "Average L1 Distance for Successful Attacks: 0.018740341434060455\n",
      "Average L2 Distance for Successful Attacks: 0.03684278430715521\n",
      "Average Linf Distance for Successful Attacks: 0.10543805793128616\n",
      "Average Mahalanobis Distance for Successful Attacks: 2.9993861922426586\n",
      "Average Sensitivity for Successful Attacks: 0.01365268387941352\n",
      "Outlier Rate for Successful Attacks: 5.88235294117647%\n",
      "\n",
      "\n"
     ]
    },
    {
     "name": "stderr",
     "output_type": "stream",
     "text": [
      "100%|██████████| 320/320 [00:43<00:00,  7.30it/s]\n"
     ]
    },
    {
     "name": "stdout",
     "output_type": "stream",
     "text": [
      "Epsilon = 0.3\n",
      "Success Rate: 89.0625%\n",
      "Average L0 Distance for Successful Attacks: 10.807017543859649\n",
      "Average L1 Distance for Successful Attacks: 0.061321531406914195\n",
      "Average L2 Distance for Successful Attacks: 0.12271052653443827\n",
      "Average Linf Distance for Successful Attacks: 0.3493176045329228\n",
      "Average Mahalanobis Distance for Successful Attacks: 3.3422090311910377\n",
      "Average Sensitivity for Successful Attacks: 0.04467383173719199\n",
      "Outlier Rate for Successful Attacks: 16.49122807017544%\n",
      "\n",
      "\n"
     ]
    },
    {
     "name": "stderr",
     "output_type": "stream",
     "text": [
      "100%|██████████| 320/320 [00:41<00:00,  7.67it/s]\n"
     ]
    },
    {
     "name": "stdout",
     "output_type": "stream",
     "text": [
      "Epsilon = 0.5\n",
      "Success Rate: 100.0%\n",
      "Average L0 Distance for Successful Attacks: 10.828125\n",
      "Average L1 Distance for Successful Attacks: 0.07812097132045892\n",
      "Average L2 Distance for Successful Attacks: 0.15434014882994268\n",
      "Average Linf Distance for Successful Attacks: 0.4394062007959292\n",
      "Average Mahalanobis Distance for Successful Attacks: 3.5107790306260838\n",
      "Average Sensitivity for Successful Attacks: 0.056912521438062136\n",
      "Outlier Rate for Successful Attacks: 19.6875%\n",
      "\n",
      "\n"
     ]
    },
    {
     "name": "stderr",
     "output_type": "stream",
     "text": [
      "100%|██████████| 320/320 [00:42<00:00,  7.57it/s]\n",
      "/home/zippo/miniconda3/envs/tabular-benchmark/lib/python3.10/site-packages/foolbox/models/pytorch.py:36: UserWarning: The PyTorch model is in training mode and therefore might not be deterministic. Call the eval() method to set it in evaluation mode if this is not intended.\n",
      "  warnings.warn(\n"
     ]
    },
    {
     "name": "stdout",
     "output_type": "stream",
     "text": [
      "Epsilon = 1.0\n",
      "Success Rate: 100.0%\n",
      "Average L0 Distance for Successful Attacks: 10.828125\n",
      "Average L1 Distance for Successful Attacks: 0.0782382873709139\n",
      "Average L2 Distance for Successful Attacks: 0.15460409011793708\n",
      "Average Linf Distance for Successful Attacks: 0.44020997203842854\n",
      "Average Mahalanobis Distance for Successful Attacks: 3.512784640258821\n",
      "Average Sensitivity for Successful Attacks: 0.056997988305374926\n",
      "Outlier Rate for Successful Attacks: 19.6875%\n",
      "\n",
      "\n",
      "Running L2Gaussian on WineQuality-Red with TabTransformer\n",
      "Threshold: 4.4356665308251575\n"
     ]
    },
    {
     "name": "stderr",
     "output_type": "stream",
     "text": [
      "100%|██████████| 320/320 [00:00<00:00, 374.19it/s]\n"
     ]
    },
    {
     "name": "stdout",
     "output_type": "stream",
     "text": [
      "Epsilon = 0.0\n",
      "Success Rate: 27.187499999999996%\n",
      "Average L0 Distance for Successful Attacks: 0.0\n",
      "Average L1 Distance for Successful Attacks: 0.0\n",
      "Average L2 Distance for Successful Attacks: 0.0\n",
      "Average Linf Distance for Successful Attacks: 0.0\n",
      "Average Mahalanobis Distance for Successful Attacks: 2.883120473653743\n",
      "Average Sensitivity for Successful Attacks: 0.0\n",
      "Outlier Rate for Successful Attacks: 5.747126436781609%\n",
      "\n",
      "\n"
     ]
    },
    {
     "name": "stderr",
     "output_type": "stream",
     "text": [
      "100%|██████████| 320/320 [00:00<00:00, 394.66it/s]\n"
     ]
    },
    {
     "name": "stdout",
     "output_type": "stream",
     "text": [
      "Epsilon = 0.01\n",
      "Success Rate: 26.875%\n",
      "Average L0 Distance for Successful Attacks: 10.965116279069768\n",
      "Average L1 Distance for Successful Attacks: 0.006080134132833675\n",
      "Average L2 Distance for Successful Attacks: 0.00999664723180061\n",
      "Average Linf Distance for Successful Attacks: 0.02693083202249782\n",
      "Average Mahalanobis Distance for Successful Attacks: 2.8962531098568514\n",
      "Average Sensitivity for Successful Attacks: 0.00444676604955782\n",
      "Outlier Rate for Successful Attacks: 5.813953488372093%\n",
      "\n",
      "\n"
     ]
    },
    {
     "name": "stderr",
     "output_type": "stream",
     "text": [
      "100%|██████████| 320/320 [00:00<00:00, 393.76it/s]\n"
     ]
    },
    {
     "name": "stdout",
     "output_type": "stream",
     "text": [
      "Epsilon = 0.03\n",
      "Success Rate: 26.25%\n",
      "Average L0 Distance for Successful Attacks: 10.94047619047619\n",
      "Average L1 Distance for Successful Attacks: 0.018484324992944796\n",
      "Average L2 Distance for Successful Attacks: 0.029979156441099587\n",
      "Average Linf Distance for Successful Attacks: 0.08006059768654052\n",
      "Average Mahalanobis Distance for Successful Attacks: 2.909162366332079\n",
      "Average Sensitivity for Successful Attacks: 0.013551241529750683\n",
      "Outlier Rate for Successful Attacks: 5.952380952380952%\n",
      "\n",
      "\n"
     ]
    },
    {
     "name": "stderr",
     "output_type": "stream",
     "text": [
      "100%|██████████| 320/320 [00:00<00:00, 391.61it/s]\n"
     ]
    },
    {
     "name": "stdout",
     "output_type": "stream",
     "text": [
      "Epsilon = 0.05\n",
      "Success Rate: 25.0%\n",
      "Average L0 Distance for Successful Attacks: 10.925\n",
      "Average L1 Distance for Successful Attacks: 0.030311737745068967\n",
      "Average L2 Distance for Successful Attacks: 0.04953970005735755\n",
      "Average Linf Distance for Successful Attacks: 0.13093315688893198\n",
      "Average Mahalanobis Distance for Successful Attacks: 3.0056368895465075\n",
      "Average Sensitivity for Successful Attacks: 0.02225211525801569\n",
      "Outlier Rate for Successful Attacks: 6.25%\n",
      "\n",
      "\n"
     ]
    },
    {
     "name": "stderr",
     "output_type": "stream",
     "text": [
      "100%|██████████| 320/320 [00:00<00:00, 384.34it/s]\n"
     ]
    },
    {
     "name": "stdout",
     "output_type": "stream",
     "text": [
      "Epsilon = 0.1\n",
      "Success Rate: 26.875%\n",
      "Average L0 Distance for Successful Attacks: 10.94186046511628\n",
      "Average L1 Distance for Successful Attacks: 0.058562752422551774\n",
      "Average L2 Distance for Successful Attacks: 0.0989458806119686\n",
      "Average Linf Distance for Successful Attacks: 0.2670811906803486\n",
      "Average Mahalanobis Distance for Successful Attacks: 3.1738302832553282\n",
      "Average Sensitivity for Successful Attacks: 0.04286899268193994\n",
      "Outlier Rate for Successful Attacks: 9.30232558139535%\n",
      "\n",
      "\n"
     ]
    },
    {
     "name": "stderr",
     "output_type": "stream",
     "text": [
      "100%|██████████| 320/320 [00:00<00:00, 379.95it/s]\n"
     ]
    },
    {
     "name": "stdout",
     "output_type": "stream",
     "text": [
      "Epsilon = 0.3\n",
      "Success Rate: 28.749999999999996%\n",
      "Average L0 Distance for Successful Attacks: 10.978260869565217\n",
      "Average L1 Distance for Successful Attacks: 0.16924188974434914\n",
      "Average L2 Distance for Successful Attacks: 0.2877213263317295\n",
      "Average Linf Distance for Successful Attacks: 0.778547082906184\n",
      "Average Mahalanobis Distance for Successful Attacks: 4.776915873768746\n",
      "Average Sensitivity for Successful Attacks: 0.12354113104874673\n",
      "Outlier Rate for Successful Attacks: 55.434782608695656%\n",
      "\n",
      "\n"
     ]
    },
    {
     "name": "stderr",
     "output_type": "stream",
     "text": [
      "100%|██████████| 320/320 [00:00<00:00, 368.00it/s]\n"
     ]
    },
    {
     "name": "stdout",
     "output_type": "stream",
     "text": [
      "Epsilon = 0.5\n",
      "Success Rate: 35.625%\n",
      "Average L0 Distance for Successful Attacks: 10.964912280701755\n",
      "Average L1 Distance for Successful Attacks: 0.2686306775400513\n",
      "Average L2 Distance for Successful Attacks: 0.46243909132062344\n",
      "Average Linf Distance for Successful Attacks: 1.261089315539912\n",
      "Average Mahalanobis Distance for Successful Attacks: 6.734635780841378\n",
      "Average Sensitivity for Successful Attacks: 0.19646790924302318\n",
      "Outlier Rate for Successful Attacks: 88.59649122807018%\n",
      "\n",
      "\n"
     ]
    },
    {
     "name": "stderr",
     "output_type": "stream",
     "text": [
      "100%|██████████| 320/320 [00:00<00:00, 381.00it/s]\n"
     ]
    },
    {
     "name": "stdout",
     "output_type": "stream",
     "text": [
      "Epsilon = 1.0\n",
      "Success Rate: 43.4375%\n",
      "Average L0 Distance for Successful Attacks: 10.971223021582734\n",
      "Average L1 Distance for Successful Attacks: 0.5067010721285566\n",
      "Average L2 Distance for Successful Attacks: 0.829708805187143\n",
      "Average Linf Distance for Successful Attacks: 2.2189298645197915\n",
      "Average Mahalanobis Distance for Successful Attacks: 11.079918890247372\n",
      "Average Sensitivity for Successful Attacks: 0.3701411398837892\n",
      "Outlier Rate for Successful Attacks: 100.0%\n",
      "\n",
      "\n",
      "Running L2Uniform on WineQuality-Red with TabTransformer\n",
      "Threshold: 4.4356665308251575\n"
     ]
    },
    {
     "name": "stderr",
     "output_type": "stream",
     "text": [
      "100%|██████████| 320/320 [00:00<00:00, 393.21it/s]\n"
     ]
    },
    {
     "name": "stdout",
     "output_type": "stream",
     "text": [
      "Epsilon = 0.0\n",
      "Success Rate: 27.187499999999996%\n",
      "Average L0 Distance for Successful Attacks: 0.0\n",
      "Average L1 Distance for Successful Attacks: 0.0\n",
      "Average L2 Distance for Successful Attacks: 0.0\n",
      "Average Linf Distance for Successful Attacks: 0.0\n",
      "Average Mahalanobis Distance for Successful Attacks: 2.883120473653743\n",
      "Average Sensitivity for Successful Attacks: 0.0\n",
      "Outlier Rate for Successful Attacks: 5.747126436781609%\n",
      "\n",
      "\n"
     ]
    },
    {
     "name": "stderr",
     "output_type": "stream",
     "text": [
      "100%|██████████| 320/320 [00:00<00:00, 372.20it/s]\n"
     ]
    },
    {
     "name": "stdout",
     "output_type": "stream",
     "text": [
      "Epsilon = 0.01\n",
      "Success Rate: 26.5625%\n",
      "Average L0 Distance for Successful Attacks: 10.952941176470588\n",
      "Average L1 Distance for Successful Attacks: 0.0049064647515907\n",
      "Average L2 Distance for Successful Attacks: 0.009983609846847898\n",
      "Average Linf Distance for Successful Attacks: 0.02883966817137073\n",
      "Average Mahalanobis Distance for Successful Attacks: 2.9017587187998424\n",
      "Average Sensitivity for Successful Attacks: 0.003590240274720332\n",
      "Outlier Rate for Successful Attacks: 5.88235294117647%\n",
      "\n",
      "\n"
     ]
    },
    {
     "name": "stderr",
     "output_type": "stream",
     "text": [
      "100%|██████████| 320/320 [00:00<00:00, 388.38it/s]\n"
     ]
    },
    {
     "name": "stdout",
     "output_type": "stream",
     "text": [
      "Epsilon = 0.03\n",
      "Success Rate: 26.5625%\n",
      "Average L0 Distance for Successful Attacks: 10.952941176470588\n",
      "Average L1 Distance for Successful Attacks: 0.014678797476431903\n",
      "Average L2 Distance for Successful Attacks: 0.029944955754806015\n",
      "Average Linf Distance for Successful Attacks: 0.08646559697740218\n",
      "Average Mahalanobis Distance for Successful Attacks: 2.9575431447618317\n",
      "Average Sensitivity for Successful Attacks: 0.010742968474240864\n",
      "Outlier Rate for Successful Attacks: 7.0588235294117645%\n",
      "\n",
      "\n"
     ]
    },
    {
     "name": "stderr",
     "output_type": "stream",
     "text": [
      "100%|██████████| 320/320 [00:00<00:00, 384.32it/s]\n"
     ]
    },
    {
     "name": "stdout",
     "output_type": "stream",
     "text": [
      "Epsilon = 0.05\n",
      "Success Rate: 25.3125%\n",
      "Average L0 Distance for Successful Attacks: 10.925925925925926\n",
      "Average L1 Distance for Successful Attacks: 0.02461618072364801\n",
      "Average L2 Distance for Successful Attacks: 0.04992431172250229\n",
      "Average Linf Distance for Successful Attacks: 0.14348111320057033\n",
      "Average Mahalanobis Distance for Successful Attacks: 2.9717300514682954\n",
      "Average Sensitivity for Successful Attacks: 0.018066369468507208\n",
      "Outlier Rate for Successful Attacks: 6.172839506172839%\n",
      "\n",
      "\n"
     ]
    },
    {
     "name": "stderr",
     "output_type": "stream",
     "text": [
      "100%|██████████| 320/320 [00:00<00:00, 367.08it/s]\n"
     ]
    },
    {
     "name": "stdout",
     "output_type": "stream",
     "text": [
      "Epsilon = 0.1\n",
      "Success Rate: 27.8125%\n",
      "Average L0 Distance for Successful Attacks: 10.955056179775282\n",
      "Average L1 Distance for Successful Attacks: 0.04934686857662844\n",
      "Average L2 Distance for Successful Attacks: 0.09933115801449573\n",
      "Average Linf Distance for Successful Attacks: 0.2858996644113841\n",
      "Average Mahalanobis Distance for Successful Attacks: 3.1047428249067393\n",
      "Average Sensitivity for Successful Attacks: 0.03611968279805746\n",
      "Outlier Rate for Successful Attacks: 7.865168539325842%\n",
      "\n",
      "\n"
     ]
    },
    {
     "name": "stderr",
     "output_type": "stream",
     "text": [
      "100%|██████████| 320/320 [00:00<00:00, 378.93it/s]\n"
     ]
    },
    {
     "name": "stdout",
     "output_type": "stream",
     "text": [
      "Epsilon = 0.3\n",
      "Success Rate: 28.4375%\n",
      "Average L0 Distance for Successful Attacks: 10.945054945054945\n",
      "Average L1 Distance for Successful Attacks: 0.1443646189930675\n",
      "Average L2 Distance for Successful Attacks: 0.2879435595247772\n",
      "Average Linf Distance for Successful Attacks: 0.8235843234009795\n",
      "Average Mahalanobis Distance for Successful Attacks: 4.749243678076479\n",
      "Average Sensitivity for Successful Attacks: 0.10574668637671314\n",
      "Outlier Rate for Successful Attacks: 52.74725274725275%\n",
      "\n",
      "\n"
     ]
    },
    {
     "name": "stderr",
     "output_type": "stream",
     "text": [
      "100%|██████████| 320/320 [00:00<00:00, 377.71it/s]\n"
     ]
    },
    {
     "name": "stdout",
     "output_type": "stream",
     "text": [
      "Epsilon = 0.5\n",
      "Success Rate: 34.0625%\n",
      "Average L0 Distance for Successful Attacks: 10.944954128440367\n",
      "Average L1 Distance for Successful Attacks: 0.23907399656028921\n",
      "Average L2 Distance for Successful Attacks: 0.46111301407901517\n",
      "Average Linf Distance for Successful Attacks: 1.3134510232767929\n",
      "Average Mahalanobis Distance for Successful Attacks: 6.566523845691902\n",
      "Average Sensitivity for Successful Attacks: 0.17504192765699614\n",
      "Outlier Rate for Successful Attacks: 89.90825688073394%\n",
      "\n",
      "\n"
     ]
    },
    {
     "name": "stderr",
     "output_type": "stream",
     "text": [
      "100%|██████████| 320/320 [00:00<00:00, 368.09it/s]\n"
     ]
    },
    {
     "name": "stdout",
     "output_type": "stream",
     "text": [
      "Epsilon = 1.0\n",
      "Success Rate: 43.125%\n",
      "Average L0 Distance for Successful Attacks: 10.934782608695652\n",
      "Average L1 Distance for Successful Attacks: 0.46121161096337915\n",
      "Average L2 Distance for Successful Attacks: 0.84546557025633\n",
      "Average Linf Distance for Successful Attacks: 2.3394581304080244\n",
      "Average Mahalanobis Distance for Successful Attacks: 10.797845754893727\n",
      "Average Sensitivity for Successful Attacks: 0.33825704055851785\n",
      "Outlier Rate for Successful Attacks: 100.0%\n",
      "\n",
      "\n",
      "Running LinfUniform on WineQuality-Red with TabTransformer\n",
      "Threshold: 4.4356665308251575\n"
     ]
    },
    {
     "name": "stderr",
     "output_type": "stream",
     "text": [
      "100%|██████████| 320/320 [00:00<00:00, 427.50it/s]\n"
     ]
    },
    {
     "name": "stdout",
     "output_type": "stream",
     "text": [
      "Epsilon = 0.0\n",
      "Success Rate: 27.187499999999996%\n",
      "Average L0 Distance for Successful Attacks: 0.0\n",
      "Average L1 Distance for Successful Attacks: 0.0\n",
      "Average L2 Distance for Successful Attacks: 0.0\n",
      "Average Linf Distance for Successful Attacks: 0.0\n",
      "Average Mahalanobis Distance for Successful Attacks: 2.883120473653743\n",
      "Average Sensitivity for Successful Attacks: 0.0\n",
      "Outlier Rate for Successful Attacks: 5.747126436781609%\n",
      "\n",
      "\n"
     ]
    },
    {
     "name": "stderr",
     "output_type": "stream",
     "text": [
      "100%|██████████| 320/320 [00:00<00:00, 403.28it/s]\n"
     ]
    },
    {
     "name": "stdout",
     "output_type": "stream",
     "text": [
      "Epsilon = 0.01\n",
      "Success Rate: 26.5625%\n",
      "Average L0 Distance for Successful Attacks: 10.929411764705883\n",
      "Average L1 Distance for Successful Attacks: 0.010000001485733425\n",
      "Average L2 Distance for Successful Attacks: 0.02169054191121284\n",
      "Average Linf Distance for Successful Attacks: 0.062941395973458\n",
      "Average Mahalanobis Distance for Successful Attacks: 2.9372873141535663\n",
      "Average Sensitivity for Successful Attacks: 0.007336603707688696\n",
      "Outlier Rate for Successful Attacks: 5.88235294117647%\n",
      "\n",
      "\n"
     ]
    },
    {
     "name": "stderr",
     "output_type": "stream",
     "text": [
      "100%|██████████| 320/320 [00:00<00:00, 357.21it/s]\n"
     ]
    },
    {
     "name": "stdout",
     "output_type": "stream",
     "text": [
      "Epsilon = 0.03\n",
      "Success Rate: 25.624999999999996%\n",
      "Average L0 Distance for Successful Attacks: 10.951219512195122\n",
      "Average L1 Distance for Successful Attacks: 0.029999998897859235\n",
      "Average L2 Distance for Successful Attacks: 0.06574317890151245\n",
      "Average Linf Distance for Successful Attacks: 0.1923833876484778\n",
      "Average Mahalanobis Distance for Successful Attacks: 3.014026989937846\n",
      "Average Sensitivity for Successful Attacks: 0.021962143980511804\n",
      "Outlier Rate for Successful Attacks: 6.097560975609756%\n",
      "\n",
      "\n"
     ]
    },
    {
     "name": "stderr",
     "output_type": "stream",
     "text": [
      "100%|██████████| 320/320 [00:00<00:00, 399.86it/s]\n"
     ]
    },
    {
     "name": "stdout",
     "output_type": "stream",
     "text": [
      "Epsilon = 0.05\n",
      "Success Rate: 24.6875%\n",
      "Average L0 Distance for Successful Attacks: 10.936708860759493\n",
      "Average L1 Distance for Successful Attacks: 0.05000000541345983\n",
      "Average L2 Distance for Successful Attacks: 0.11103217860188665\n",
      "Average Linf Distance for Successful Attacks: 0.32319134417213974\n",
      "Average Mahalanobis Distance for Successful Attacks: 3.3789404564426584\n",
      "Average Sensitivity for Successful Attacks: 0.03665643689941756\n",
      "Outlier Rate for Successful Attacks: 10.126582278481013%\n",
      "\n",
      "\n"
     ]
    },
    {
     "name": "stderr",
     "output_type": "stream",
     "text": [
      "100%|██████████| 320/320 [00:00<00:00, 419.59it/s]\n"
     ]
    },
    {
     "name": "stdout",
     "output_type": "stream",
     "text": [
      "Epsilon = 0.1\n",
      "Success Rate: 26.25%\n",
      "Average L0 Distance for Successful Attacks: 10.928571428571429\n",
      "Average L1 Distance for Successful Attacks: 0.10000000255448478\n",
      "Average L2 Distance for Successful Attacks: 0.2125135954646837\n",
      "Average Linf Distance for Successful Attacks: 0.6172087270589102\n",
      "Average Mahalanobis Distance for Successful Attacks: 4.132696384054076\n",
      "Average Sensitivity for Successful Attacks: 0.07337214806604953\n",
      "Outlier Rate for Successful Attacks: 29.761904761904763%\n",
      "\n",
      "\n"
     ]
    },
    {
     "name": "stderr",
     "output_type": "stream",
     "text": [
      "100%|██████████| 320/320 [00:00<00:00, 413.03it/s]\n"
     ]
    },
    {
     "name": "stdout",
     "output_type": "stream",
     "text": [
      "Epsilon = 0.3\n",
      "Success Rate: 36.875%\n",
      "Average L0 Distance for Successful Attacks: 10.957627118644067\n",
      "Average L1 Distance for Successful Attacks: 0.30000001166836693\n",
      "Average L2 Distance for Successful Attacks: 0.6055797401626232\n",
      "Average Linf Distance for Successful Attacks: 1.729426070795221\n",
      "Average Mahalanobis Distance for Successful Attacks: 8.107099865888555\n",
      "Average Sensitivity for Successful Attacks: 0.21948142703306878\n",
      "Outlier Rate for Successful Attacks: 100.0%\n",
      "\n",
      "\n"
     ]
    },
    {
     "name": "stderr",
     "output_type": "stream",
     "text": [
      "100%|██████████| 320/320 [00:00<00:00, 419.48it/s]\n"
     ]
    },
    {
     "name": "stdout",
     "output_type": "stream",
     "text": [
      "Epsilon = 0.5\n",
      "Success Rate: 45.0%\n",
      "Average L0 Distance for Successful Attacks: 10.95138888888889\n",
      "Average L1 Distance for Successful Attacks: 0.494714373929633\n",
      "Average L2 Distance for Successful Attacks: 0.9346305177443557\n",
      "Average Linf Distance for Successful Attacks: 2.608604828516642\n",
      "Average Mahalanobis Distance for Successful Attacks: 11.995779884649249\n",
      "Average Sensitivity for Successful Attacks: 0.3621789169394308\n",
      "Outlier Rate for Successful Attacks: 100.0%\n",
      "\n",
      "\n"
     ]
    },
    {
     "name": "stderr",
     "output_type": "stream",
     "text": [
      "100%|██████████| 320/320 [00:00<00:00, 421.01it/s]\n"
     ]
    },
    {
     "name": "stdout",
     "output_type": "stream",
     "text": [
      "Epsilon = 1.0\n",
      "Success Rate: 47.1875%\n",
      "Average L0 Distance for Successful Attacks: 10.940397350993377\n",
      "Average L1 Distance for Successful Attacks: 0.8336192361566405\n",
      "Average L2 Distance for Successful Attacks: 1.4704074591200873\n",
      "Average Linf Distance for Successful Attacks: 4.006229217478771\n",
      "Average Mahalanobis Distance for Successful Attacks: 18.045269415633168\n",
      "Average Sensitivity for Successful Attacks: 0.6109868686720236\n",
      "Outlier Rate for Successful Attacks: 100.0%\n",
      "\n",
      "\n",
      "Running LinfFGSM on WineQuality-Red with TabTransformer\n",
      "Threshold: 4.4356665308251575\n"
     ]
    },
    {
     "name": "stderr",
     "output_type": "stream",
     "text": [
      "100%|██████████| 320/320 [00:00<00:00, 320.87it/s]\n"
     ]
    },
    {
     "name": "stdout",
     "output_type": "stream",
     "text": [
      "Epsilon = 0.0\n",
      "Success Rate: 27.187499999999996%\n",
      "Average L0 Distance for Successful Attacks: 0.0\n",
      "Average L1 Distance for Successful Attacks: 0.0\n",
      "Average L2 Distance for Successful Attacks: 0.0\n",
      "Average Linf Distance for Successful Attacks: 0.0\n",
      "Average Mahalanobis Distance for Successful Attacks: 2.883120473653743\n",
      "Average Sensitivity for Successful Attacks: 0.0\n",
      "Outlier Rate for Successful Attacks: 5.747126436781609%\n",
      "\n",
      "\n"
     ]
    },
    {
     "name": "stderr",
     "output_type": "stream",
     "text": [
      "100%|██████████| 320/320 [00:01<00:00, 311.93it/s]\n"
     ]
    },
    {
     "name": "stdout",
     "output_type": "stream",
     "text": [
      "Epsilon = 0.01\n",
      "Success Rate: 31.5625%\n",
      "Average L0 Distance for Successful Attacks: 10.534653465346535\n",
      "Average L1 Distance for Successful Attacks: 0.009603965695541684\n",
      "Average L2 Distance for Successful Attacks: 0.031806878819324\n",
      "Average Linf Distance for Successful Attacks: 0.10534650655371128\n",
      "Average Mahalanobis Distance for Successful Attacks: 2.924131068959879\n",
      "Average Sensitivity for Successful Attacks: 0.007018299054096241\n",
      "Outlier Rate for Successful Attacks: 4.9504950495049505%\n",
      "\n",
      "\n"
     ]
    },
    {
     "name": "stderr",
     "output_type": "stream",
     "text": [
      "100%|██████████| 320/320 [00:01<00:00, 307.43it/s]\n"
     ]
    },
    {
     "name": "stdout",
     "output_type": "stream",
     "text": [
      "Epsilon = 0.03\n",
      "Success Rate: 50.625%\n",
      "Average L0 Distance for Successful Attacks: 10.679012345679013\n",
      "Average L1 Distance for Successful Attacks: 0.029259260421917763\n",
      "Average L2 Distance for Successful Attacks: 0.09659669842617011\n",
      "Average Linf Distance for Successful Attacks: 0.3195214974291531\n",
      "Average Mahalanobis Distance for Successful Attacks: 3.2552356289625446\n",
      "Average Sensitivity for Successful Attacks: 0.02142381888848764\n",
      "Outlier Rate for Successful Attacks: 7.4074074074074066%\n",
      "\n",
      "\n"
     ]
    },
    {
     "name": "stderr",
     "output_type": "stream",
     "text": [
      "100%|██████████| 320/320 [00:01<00:00, 307.87it/s]\n"
     ]
    },
    {
     "name": "stdout",
     "output_type": "stream",
     "text": [
      "Epsilon = 0.05\n",
      "Success Rate: 60.0%\n",
      "Average L0 Distance for Successful Attacks: 10.708333333333334\n",
      "Average L1 Distance for Successful Attacks: 0.0489583450059096\n",
      "Average L2 Distance for Successful Attacks: 0.1607977799139917\n",
      "Average Linf Distance for Successful Attacks: 0.5307505466043949\n",
      "Average Mahalanobis Distance for Successful Attacks: 3.7510021912735216\n",
      "Average Sensitivity for Successful Attacks: 0.03589468837405244\n",
      "Outlier Rate for Successful Attacks: 18.229166666666664%\n",
      "\n",
      "\n"
     ]
    },
    {
     "name": "stderr",
     "output_type": "stream",
     "text": [
      "100%|██████████| 320/320 [00:01<00:00, 317.76it/s]\n"
     ]
    },
    {
     "name": "stdout",
     "output_type": "stream",
     "text": [
      "Epsilon = 0.1\n",
      "Success Rate: 73.75%\n",
      "Average L0 Distance for Successful Attacks: 10.728813559322035\n",
      "Average L1 Distance for Successful Attacks: 0.09830510445823104\n",
      "Average L2 Distance for Successful Attacks: 0.31734230899709764\n",
      "Average Linf Distance for Successful Attacks: 1.041095761171842\n",
      "Average Mahalanobis Distance for Successful Attacks: 5.34525907656188\n",
      "Average Sensitivity for Successful Attacks: 0.0722344068463071\n",
      "Outlier Rate for Successful Attacks: 78.8135593220339%\n",
      "\n",
      "\n"
     ]
    },
    {
     "name": "stderr",
     "output_type": "stream",
     "text": [
      "100%|██████████| 320/320 [00:01<00:00, 316.25it/s]\n"
     ]
    },
    {
     "name": "stdout",
     "output_type": "stream",
     "text": [
      "Epsilon = 0.3\n",
      "Success Rate: 79.375%\n",
      "Average L0 Distance for Successful Attacks: 10.728346456692913\n",
      "Average L1 Distance for Successful Attacks: 0.29527561566022437\n",
      "Average L2 Distance for Successful Attacks: 0.8615460391119709\n",
      "Average Linf Distance for Successful Attacks: 2.714605662766404\n",
      "Average Mahalanobis Distance for Successful Attacks: 12.204487767937716\n",
      "Average Sensitivity for Successful Attacks: 0.21728380417495263\n",
      "Outlier Rate for Successful Attacks: 98.81889763779527%\n",
      "\n",
      "\n"
     ]
    },
    {
     "name": "stderr",
     "output_type": "stream",
     "text": [
      "100%|██████████| 320/320 [00:00<00:00, 330.21it/s]\n"
     ]
    },
    {
     "name": "stdout",
     "output_type": "stream",
     "text": [
      "Epsilon = 0.5\n",
      "Success Rate: 79.6875%\n",
      "Average L0 Distance for Successful Attacks: 10.729411764705882\n",
      "Average L1 Distance for Successful Attacks: 0.492156862745098\n",
      "Average L2 Distance for Successful Attacks: 1.3140875638699998\n",
      "Average Linf Distance for Successful Attacks: 3.9918301900227866\n",
      "Average Mahalanobis Distance for Successful Attacks: 18.123648208086873\n",
      "Average Sensitivity for Successful Attacks: 0.36214793242660226\n",
      "Outlier Rate for Successful Attacks: 98.82352941176471%\n",
      "\n",
      "\n"
     ]
    },
    {
     "name": "stderr",
     "output_type": "stream",
     "text": [
      "100%|██████████| 320/320 [00:00<00:00, 322.81it/s]\n"
     ]
    },
    {
     "name": "stdout",
     "output_type": "stream",
     "text": [
      "Epsilon = 1.0\n",
      "Success Rate: 79.6875%\n",
      "Average L0 Distance for Successful Attacks: 10.729411764705882\n",
      "Average L1 Distance for Successful Attacks: 0.902529123250176\n",
      "Average L2 Distance for Successful Attacks: 1.8998782087774837\n",
      "Average Linf Distance for Successful Attacks: 5.454769728230495\n",
      "Average Mahalanobis Distance for Successful Attacks: 24.52269253060862\n",
      "Average Sensitivity for Successful Attacks: 0.6640906194845836\n",
      "Outlier Rate for Successful Attacks: 98.82352941176471%\n",
      "\n",
      "\n",
      "Running LinfPGD on WineQuality-Red with TabTransformer\n",
      "Threshold: 4.4356665308251575\n"
     ]
    },
    {
     "name": "stderr",
     "output_type": "stream",
     "text": [
      "100%|██████████| 320/320 [00:11<00:00, 28.46it/s]\n"
     ]
    },
    {
     "name": "stdout",
     "output_type": "stream",
     "text": [
      "Epsilon = 0.0\n",
      "Success Rate: 27.187499999999996%\n",
      "Average L0 Distance for Successful Attacks: 0.0\n",
      "Average L1 Distance for Successful Attacks: 0.0\n",
      "Average L2 Distance for Successful Attacks: 0.0\n",
      "Average Linf Distance for Successful Attacks: 0.0\n",
      "Average Mahalanobis Distance for Successful Attacks: 2.883120473653743\n",
      "Average Sensitivity for Successful Attacks: 0.0\n",
      "Outlier Rate for Successful Attacks: 5.747126436781609%\n",
      "\n",
      "\n"
     ]
    },
    {
     "name": "stderr",
     "output_type": "stream",
     "text": [
      "100%|██████████| 320/320 [00:11<00:00, 28.32it/s]\n"
     ]
    },
    {
     "name": "stdout",
     "output_type": "stream",
     "text": [
      "Epsilon = 0.01\n",
      "Success Rate: 30.9375%\n",
      "Average L0 Distance for Successful Attacks: 10.969696969696969\n",
      "Average L1 Distance for Successful Attacks: 0.009970063418902532\n",
      "Average L2 Distance for Successful Attacks: 0.029386814514344387\n",
      "Average Linf Distance for Successful Attacks: 0.09462348635148521\n",
      "Average Mahalanobis Distance for Successful Attacks: 2.9196057046616035\n",
      "Average Sensitivity for Successful Attacks: 0.007285444893770748\n",
      "Outlier Rate for Successful Attacks: 5.05050505050505%\n",
      "\n",
      "\n"
     ]
    },
    {
     "name": "stderr",
     "output_type": "stream",
     "text": [
      "100%|██████████| 320/320 [00:10<00:00, 29.34it/s]\n"
     ]
    },
    {
     "name": "stdout",
     "output_type": "stream",
     "text": [
      "Epsilon = 0.03\n",
      "Success Rate: 46.875%\n",
      "Average L0 Distance for Successful Attacks: 10.966666666666667\n",
      "Average L1 Distance for Successful Attacks: 0.029858443041642507\n",
      "Average L2 Distance for Successful Attacks: 0.08650763511657715\n",
      "Average Linf Distance for Successful Attacks: 0.2766185189286868\n",
      "Average Mahalanobis Distance for Successful Attacks: 3.147568366607597\n",
      "Average Sensitivity for Successful Attacks: 0.02182525728518764\n",
      "Outlier Rate for Successful Attacks: 8.0%\n",
      "\n",
      "\n"
     ]
    },
    {
     "name": "stderr",
     "output_type": "stream",
     "text": [
      "100%|██████████| 320/320 [00:10<00:00, 29.71it/s]\n"
     ]
    },
    {
     "name": "stdout",
     "output_type": "stream",
     "text": [
      "Epsilon = 0.05\n",
      "Success Rate: 58.75%\n",
      "Average L0 Distance for Successful Attacks: 10.952127659574469\n",
      "Average L1 Distance for Successful Attacks: 0.04982053997748075\n",
      "Average L2 Distance for Successful Attacks: 0.13878835155133237\n",
      "Average Linf Distance for Successful Attacks: 0.43693484318383197\n",
      "Average Mahalanobis Distance for Successful Attacks: 3.4934200860152105\n",
      "Average Sensitivity for Successful Attacks: 0.03646953005660722\n",
      "Outlier Rate for Successful Attacks: 11.702127659574469%\n",
      "\n",
      "\n"
     ]
    },
    {
     "name": "stderr",
     "output_type": "stream",
     "text": [
      "100%|██████████| 320/320 [00:11<00:00, 28.39it/s]\n"
     ]
    },
    {
     "name": "stdout",
     "output_type": "stream",
     "text": [
      "Epsilon = 0.1\n",
      "Success Rate: 76.25%\n",
      "Average L0 Distance for Successful Attacks: 10.971311475409836\n",
      "Average L1 Distance for Successful Attacks: 0.09945919480724413\n",
      "Average L2 Distance for Successful Attacks: 0.2525176436441844\n",
      "Average Linf Distance for Successful Attacks: 0.7686566898568732\n",
      "Average Mahalanobis Distance for Successful Attacks: 4.308242405212962\n",
      "Average Sensitivity for Successful Attacks: 0.07266679284025411\n",
      "Outlier Rate for Successful Attacks: 40.16393442622951%\n",
      "\n",
      "\n"
     ]
    },
    {
     "name": "stderr",
     "output_type": "stream",
     "text": [
      "100%|██████████| 320/320 [00:11<00:00, 28.17it/s]\n"
     ]
    },
    {
     "name": "stdout",
     "output_type": "stream",
     "text": [
      "Epsilon = 0.3\n",
      "Success Rate: 81.25%\n",
      "Average L0 Distance for Successful Attacks: 10.98076923076923\n",
      "Average L1 Distance for Successful Attacks: 0.2888238285596554\n",
      "Average L2 Distance for Successful Attacks: 0.5685368257073256\n",
      "Average Linf Distance for Successful Attacks: 1.5775260171064964\n",
      "Average Mahalanobis Distance for Successful Attacks: 6.456060023229963\n",
      "Average Sensitivity for Successful Attacks: 0.21083359454686826\n",
      "Outlier Rate for Successful Attacks: 92.3076923076923%\n",
      "\n",
      "\n"
     ]
    },
    {
     "name": "stderr",
     "output_type": "stream",
     "text": [
      "100%|██████████| 320/320 [00:11<00:00, 28.86it/s]\n"
     ]
    },
    {
     "name": "stdout",
     "output_type": "stream",
     "text": [
      "Epsilon = 0.5\n",
      "Success Rate: 84.0625%\n",
      "Average L0 Distance for Successful Attacks: 10.977695167286246\n",
      "Average L1 Distance for Successful Attacks: 0.4523251256091887\n",
      "Average L2 Distance for Successful Attacks: 0.8126117424229263\n",
      "Average Linf Distance for Successful Attacks: 2.223415591459735\n",
      "Average Mahalanobis Distance for Successful Attacks: 9.09046066560829\n",
      "Average Sensitivity for Successful Attacks: 0.33025744729104095\n",
      "Outlier Rate for Successful Attacks: 100.0%\n",
      "\n",
      "\n"
     ]
    },
    {
     "name": "stderr",
     "output_type": "stream",
     "text": [
      "100%|██████████| 320/320 [00:10<00:00, 29.74it/s]\n"
     ]
    },
    {
     "name": "stdout",
     "output_type": "stream",
     "text": [
      "Epsilon = 1.0\n",
      "Success Rate: 85.3125%\n",
      "Average L0 Distance for Successful Attacks: 10.981684981684982\n",
      "Average L1 Distance for Successful Attacks: 0.7171816757092109\n",
      "Average L2 Distance for Successful Attacks: 1.222710288924612\n",
      "Average Linf Distance for Successful Attacks: 3.2626337651368025\n",
      "Average Mahalanobis Distance for Successful Attacks: 13.593273607035938\n",
      "Average Sensitivity for Successful Attacks: 0.5233850603575235\n",
      "Outlier Rate for Successful Attacks: 100.0%\n",
      "\n",
      "\n",
      "Running LinfBIM on WineQuality-Red with TabTransformer\n",
      "Threshold: 4.4356665308251575\n"
     ]
    },
    {
     "name": "stderr",
     "output_type": "stream",
     "text": [
      "100%|██████████| 320/320 [00:03<00:00, 98.05it/s] \n"
     ]
    },
    {
     "name": "stdout",
     "output_type": "stream",
     "text": [
      "Epsilon = 0.0\n",
      "Success Rate: 27.187499999999996%\n",
      "Average L0 Distance for Successful Attacks: 0.0\n",
      "Average L1 Distance for Successful Attacks: 0.0\n",
      "Average L2 Distance for Successful Attacks: 0.0\n",
      "Average Linf Distance for Successful Attacks: 0.0\n",
      "Average Mahalanobis Distance for Successful Attacks: 2.883120473653743\n",
      "Average Sensitivity for Successful Attacks: 0.0\n",
      "Outlier Rate for Successful Attacks: 5.747126436781609%\n",
      "\n",
      "\n"
     ]
    },
    {
     "name": "stderr",
     "output_type": "stream",
     "text": [
      "100%|██████████| 320/320 [00:03<00:00, 91.68it/s]\n"
     ]
    },
    {
     "name": "stdout",
     "output_type": "stream",
     "text": [
      "Epsilon = 0.01\n",
      "Success Rate: 31.5625%\n",
      "Average L0 Distance for Successful Attacks: 10.485148514851485\n",
      "Average L1 Distance for Successful Attacks: 0.009485153868646906\n",
      "Average L2 Distance for Successful Attacks: 0.031234739366734383\n",
      "Average Linf Distance for Successful Attacks: 0.10306927749868666\n",
      "Average Mahalanobis Distance for Successful Attacks: 2.9156196123065463\n",
      "Average Sensitivity for Successful Attacks: 0.006969410651778378\n",
      "Outlier Rate for Successful Attacks: 4.9504950495049505%\n",
      "\n",
      "\n"
     ]
    },
    {
     "name": "stderr",
     "output_type": "stream",
     "text": [
      "100%|██████████| 320/320 [00:03<00:00, 92.02it/s]\n"
     ]
    },
    {
     "name": "stdout",
     "output_type": "stream",
     "text": [
      "Epsilon = 0.03\n",
      "Success Rate: 51.24999999999999%\n",
      "Average L0 Distance for Successful Attacks: 10.646341463414634\n",
      "Average L1 Distance for Successful Attacks: 0.02839024692046933\n",
      "Average L2 Distance for Successful Attacks: 0.09247145785881979\n",
      "Average Linf Distance for Successful Attacks: 0.3038078205796277\n",
      "Average Mahalanobis Distance for Successful Attacks: 3.174812724866315\n",
      "Average Sensitivity for Successful Attacks: 0.02086937025461982\n",
      "Outlier Rate for Successful Attacks: 7.317073170731707%\n",
      "\n",
      "\n"
     ]
    },
    {
     "name": "stderr",
     "output_type": "stream",
     "text": [
      "100%|██████████| 320/320 [00:03<00:00, 92.74it/s]\n"
     ]
    },
    {
     "name": "stdout",
     "output_type": "stream",
     "text": [
      "Epsilon = 0.05\n",
      "Success Rate: 62.18749999999999%\n",
      "Average L0 Distance for Successful Attacks: 10.56281407035176\n",
      "Average L1 Distance for Successful Attacks: 0.046231167606223166\n",
      "Average L2 Distance for Successful Attacks: 0.14654113616251466\n",
      "Average Linf Distance for Successful Attacks: 0.47554957806764536\n",
      "Average Mahalanobis Distance for Successful Attacks: 3.465943592904396\n",
      "Average Sensitivity for Successful Attacks: 0.03449213355264846\n",
      "Outlier Rate for Successful Attacks: 12.562814070351758%\n",
      "\n",
      "\n"
     ]
    },
    {
     "name": "stderr",
     "output_type": "stream",
     "text": [
      "100%|██████████| 320/320 [00:03<00:00, 95.54it/s]\n"
     ]
    },
    {
     "name": "stdout",
     "output_type": "stream",
     "text": [
      "Epsilon = 0.1\n",
      "Success Rate: 77.1875%\n",
      "Average L0 Distance for Successful Attacks: 10.388663967611336\n",
      "Average L1 Distance for Successful Attacks: 0.08647774923064931\n",
      "Average L2 Distance for Successful Attacks: 0.2548658630022636\n",
      "Average Linf Distance for Successful Attacks: 0.8002699125512891\n",
      "Average Mahalanobis Distance for Successful Attacks: 4.227079809047653\n",
      "Average Sensitivity for Successful Attacks: 0.06612874275669153\n",
      "Outlier Rate for Successful Attacks: 35.22267206477733%\n",
      "\n",
      "\n"
     ]
    },
    {
     "name": "stderr",
     "output_type": "stream",
     "text": [
      "100%|██████████| 320/320 [00:03<00:00, 92.41it/s] \n"
     ]
    },
    {
     "name": "stdout",
     "output_type": "stream",
     "text": [
      "Epsilon = 0.3\n",
      "Success Rate: 79.6875%\n",
      "Average L0 Distance for Successful Attacks: 9.72549019607843\n",
      "Average L1 Distance for Successful Attacks: 0.1985882435359207\n",
      "Average L2 Distance for Successful Attacks: 0.46945061964147233\n",
      "Average Linf Distance for Successful Attacks: 1.340758301230038\n",
      "Average Mahalanobis Distance for Successful Attacks: 5.530610628128591\n",
      "Average Sensitivity for Successful Attacks: 0.16690301725677414\n",
      "Outlier Rate for Successful Attacks: 81.56862745098039%\n",
      "\n",
      "\n"
     ]
    },
    {
     "name": "stderr",
     "output_type": "stream",
     "text": [
      "100%|██████████| 320/320 [00:03<00:00, 93.61it/s] \n"
     ]
    },
    {
     "name": "stdout",
     "output_type": "stream",
     "text": [
      "Epsilon = 0.5\n",
      "Success Rate: 79.6875%\n",
      "Average L0 Distance for Successful Attacks: 9.611764705882353\n",
      "Average L1 Distance for Successful Attacks: 0.27514330134087917\n",
      "Average L2 Distance for Successful Attacks: 0.5854065399543912\n",
      "Average Linf Distance for Successful Attacks: 1.6176042748432533\n",
      "Average Mahalanobis Distance for Successful Attacks: 6.648299890099304\n",
      "Average Sensitivity for Successful Attacks: 0.23479815292007783\n",
      "Outlier Rate for Successful Attacks: 93.72549019607843%\n",
      "\n",
      "\n"
     ]
    },
    {
     "name": "stderr",
     "output_type": "stream",
     "text": [
      "100%|██████████| 320/320 [00:03<00:00, 96.61it/s]\n"
     ]
    },
    {
     "name": "stdout",
     "output_type": "stream",
     "text": [
      "Epsilon = 1.0\n",
      "Success Rate: 79.6875%\n",
      "Average L0 Distance for Successful Attacks: 9.705882352941176\n",
      "Average L1 Distance for Successful Attacks: 0.4341061914668364\n",
      "Average L2 Distance for Successful Attacks: 0.8452731782314824\n",
      "Average Linf Distance for Successful Attacks: 2.257343993467443\n",
      "Average Mahalanobis Distance for Successful Attacks: 10.03606008370372\n",
      "Average Sensitivity for Successful Attacks: 0.38301263042524747\n",
      "Outlier Rate for Successful Attacks: 98.82352941176471%\n",
      "\n",
      "\n",
      "Running L2FGSM on WineQuality-Red with TabTransformer\n",
      "Threshold: 4.4356665308251575\n"
     ]
    },
    {
     "name": "stderr",
     "output_type": "stream",
     "text": [
      "100%|██████████| 320/320 [00:01<00:00, 283.87it/s]\n"
     ]
    },
    {
     "name": "stdout",
     "output_type": "stream",
     "text": [
      "Epsilon = 0.0\n",
      "Success Rate: 27.187499999999996%\n",
      "Average L0 Distance for Successful Attacks: 0.0\n",
      "Average L1 Distance for Successful Attacks: 0.0\n",
      "Average L2 Distance for Successful Attacks: 0.0\n",
      "Average Linf Distance for Successful Attacks: 0.0\n",
      "Average Mahalanobis Distance for Successful Attacks: 2.883120473653743\n",
      "Average Sensitivity for Successful Attacks: 0.0\n",
      "Outlier Rate for Successful Attacks: 5.747126436781609%\n",
      "\n",
      "\n"
     ]
    },
    {
     "name": "stderr",
     "output_type": "stream",
     "text": [
      "100%|██████████| 320/320 [00:01<00:00, 268.64it/s]\n"
     ]
    },
    {
     "name": "stdout",
     "output_type": "stream",
     "text": [
      "Epsilon = 0.01\n",
      "Success Rate: 28.125%\n",
      "Average L0 Distance for Successful Attacks: 10.477777777777778\n",
      "Average L1 Distance for Successful Attacks: 0.0055124827143218785\n",
      "Average L2 Distance for Successful Attacks: 0.009552901776300537\n",
      "Average Linf Distance for Successful Attacks: 0.024626317309836547\n",
      "Average Mahalanobis Distance for Successful Attacks: 2.8955110031193625\n",
      "Average Sensitivity for Successful Attacks: 0.004029615789962312\n",
      "Outlier Rate for Successful Attacks: 5.555555555555555%\n",
      "\n",
      "\n"
     ]
    },
    {
     "name": "stderr",
     "output_type": "stream",
     "text": [
      "100%|██████████| 320/320 [00:01<00:00, 274.06it/s]\n"
     ]
    },
    {
     "name": "stdout",
     "output_type": "stream",
     "text": [
      "Epsilon = 0.03\n",
      "Success Rate: 33.4375%\n",
      "Average L0 Distance for Successful Attacks: 10.560747663551401\n",
      "Average L1 Distance for Successful Attacks: 0.016685038578705253\n",
      "Average L2 Distance for Successful Attacks: 0.028871808288114094\n",
      "Average Linf Distance for Successful Attacks: 0.07448346223508086\n",
      "Average Mahalanobis Distance for Successful Attacks: 2.875489250648974\n",
      "Average Sensitivity for Successful Attacks: 0.01218985188230176\n",
      "Outlier Rate for Successful Attacks: 4.672897196261682%\n",
      "\n",
      "\n"
     ]
    },
    {
     "name": "stderr",
     "output_type": "stream",
     "text": [
      "100%|██████████| 320/320 [00:01<00:00, 282.22it/s]\n"
     ]
    },
    {
     "name": "stdout",
     "output_type": "stream",
     "text": [
      "Epsilon = 0.05\n",
      "Success Rate: 40.0%\n",
      "Average L0 Distance for Successful Attacks: 10.6015625\n",
      "Average L1 Distance for Successful Attacks: 0.02796877517539542\n",
      "Average L2 Distance for Successful Attacks: 0.04825679521309212\n",
      "Average Linf Distance for Successful Attacks: 0.1244860413717106\n",
      "Average Mahalanobis Distance for Successful Attacks: 2.924207005412641\n",
      "Average Sensitivity for Successful Attacks: 0.0204871513415128\n",
      "Outlier Rate for Successful Attacks: 6.25%\n",
      "\n",
      "\n"
     ]
    },
    {
     "name": "stderr",
     "output_type": "stream",
     "text": [
      "100%|██████████| 320/320 [00:01<00:00, 277.06it/s]\n"
     ]
    },
    {
     "name": "stdout",
     "output_type": "stream",
     "text": [
      "Epsilon = 0.1\n",
      "Success Rate: 54.37499999999999%\n",
      "Average L0 Distance for Successful Attacks: 10.683908045977011\n",
      "Average L1 Distance for Successful Attacks: 0.056181970919514525\n",
      "Average L2 Distance for Successful Attacks: 0.09637003631769926\n",
      "Average Linf Distance for Successful Attacks: 0.24886338412761688\n",
      "Average Mahalanobis Distance for Successful Attacks: 3.04847327935108\n",
      "Average Sensitivity for Successful Attacks: 0.04118724676898156\n",
      "Outlier Rate for Successful Attacks: 6.321839080459771%\n",
      "\n",
      "\n"
     ]
    },
    {
     "name": "stderr",
     "output_type": "stream",
     "text": [
      "100%|██████████| 320/320 [00:01<00:00, 273.77it/s]\n"
     ]
    },
    {
     "name": "stdout",
     "output_type": "stream",
     "text": [
      "Epsilon = 0.3\n",
      "Success Rate: 77.5%\n",
      "Average L0 Distance for Successful Attacks: 10.725806451612904\n",
      "Average L1 Distance for Successful Attacks: 0.16907645293301152\n",
      "Average L2 Distance for Successful Attacks: 0.28258631744932744\n",
      "Average Linf Distance for Successful Attacks: 0.7226522468751476\n",
      "Average Mahalanobis Distance for Successful Attacks: 4.122865145934945\n",
      "Average Sensitivity for Successful Attacks: 0.12438917802947183\n",
      "Outlier Rate for Successful Attacks: 32.25806451612903%\n",
      "\n",
      "\n"
     ]
    },
    {
     "name": "stderr",
     "output_type": "stream",
     "text": [
      "100%|██████████| 320/320 [00:01<00:00, 275.03it/s]\n"
     ]
    },
    {
     "name": "stdout",
     "output_type": "stream",
     "text": [
      "Epsilon = 0.5\n",
      "Success Rate: 79.0625%\n",
      "Average L0 Distance for Successful Attacks: 10.727272727272727\n",
      "Average L1 Distance for Successful Attacks: 0.2757224722106466\n",
      "Average L2 Distance for Successful Attacks: 0.44677768571103516\n",
      "Average Linf Distance for Successful Attacks: 1.1383377579832266\n",
      "Average Mahalanobis Distance for Successful Attacks: 5.411078486565101\n",
      "Average Sensitivity for Successful Attacks: 0.20293398007102634\n",
      "Outlier Rate for Successful Attacks: 83.79446640316206%\n",
      "\n",
      "\n"
     ]
    },
    {
     "name": "stderr",
     "output_type": "stream",
     "text": [
      "100%|██████████| 320/320 [00:01<00:00, 268.07it/s]\n"
     ]
    },
    {
     "name": "stdout",
     "output_type": "stream",
     "text": [
      "Epsilon = 1.0\n",
      "Success Rate: 79.6875%\n",
      "Average L0 Distance for Successful Attacks: 10.729411764705882\n",
      "Average L1 Distance for Successful Attacks: 0.5357955345920488\n",
      "Average L2 Distance for Successful Attacks: 0.7936163345972697\n",
      "Average Linf Distance for Successful Attacks: 1.98318804806354\n",
      "Average Mahalanobis Distance for Successful Attacks: 8.652966812116123\n",
      "Average Sensitivity for Successful Attacks: 0.3944339031097936\n",
      "Outlier Rate for Successful Attacks: 98.82352941176471%\n",
      "\n",
      "\n",
      "Running L2PGD on WineQuality-Red with TabTransformer\n",
      "Threshold: 4.4356665308251575\n"
     ]
    },
    {
     "name": "stderr",
     "output_type": "stream",
     "text": [
      "100%|██████████| 320/320 [00:18<00:00, 17.58it/s]\n"
     ]
    },
    {
     "name": "stdout",
     "output_type": "stream",
     "text": [
      "Epsilon = 0.0\n",
      "Success Rate: 27.187499999999996%\n",
      "Average L0 Distance for Successful Attacks: 0.0\n",
      "Average L1 Distance for Successful Attacks: 0.0\n",
      "Average L2 Distance for Successful Attacks: 0.0\n",
      "Average Linf Distance for Successful Attacks: 0.0\n",
      "Average Mahalanobis Distance for Successful Attacks: 2.883120473653743\n",
      "Average Sensitivity for Successful Attacks: 0.0\n",
      "Outlier Rate for Successful Attacks: 5.747126436781609%\n",
      "\n",
      "\n"
     ]
    },
    {
     "name": "stderr",
     "output_type": "stream",
     "text": [
      "100%|██████████| 320/320 [00:18<00:00, 17.61it/s]\n"
     ]
    },
    {
     "name": "stdout",
     "output_type": "stream",
     "text": [
      "Epsilon = 0.01\n",
      "Success Rate: 28.125%\n",
      "Average L0 Distance for Successful Attacks: 10.966666666666667\n",
      "Average L1 Distance for Successful Attacks: 0.005953104897505708\n",
      "Average L2 Distance for Successful Attacks: 0.009976702959587176\n",
      "Average Linf Distance for Successful Attacks: 0.026525587629940776\n",
      "Average Mahalanobis Distance for Successful Attacks: 2.891029141172824\n",
      "Average Sensitivity for Successful Attacks: 0.004350168653763831\n",
      "Outlier Rate for Successful Attacks: 5.555555555555555%\n",
      "\n",
      "\n"
     ]
    },
    {
     "name": "stderr",
     "output_type": "stream",
     "text": [
      "100%|██████████| 320/320 [00:18<00:00, 17.05it/s]\n"
     ]
    },
    {
     "name": "stdout",
     "output_type": "stream",
     "text": [
      "Epsilon = 0.03\n",
      "Success Rate: 31.25%\n",
      "Average L0 Distance for Successful Attacks: 10.99\n",
      "Average L1 Distance for Successful Attacks: 0.017947270702570677\n",
      "Average L2 Distance for Successful Attacks: 0.02981328934431076\n",
      "Average Linf Distance for Successful Attacks: 0.07881351433694363\n",
      "Average Mahalanobis Distance for Successful Attacks: 2.913284572604164\n",
      "Average Sensitivity for Successful Attacks: 0.013088157204911112\n",
      "Outlier Rate for Successful Attacks: 5.0%\n",
      "\n",
      "\n"
     ]
    },
    {
     "name": "stderr",
     "output_type": "stream",
     "text": [
      "100%|██████████| 320/320 [00:18<00:00, 17.58it/s]\n"
     ]
    },
    {
     "name": "stdout",
     "output_type": "stream",
     "text": [
      "Epsilon = 0.05\n",
      "Success Rate: 37.8125%\n",
      "Average L0 Distance for Successful Attacks: 10.96694214876033\n",
      "Average L1 Distance for Successful Attacks: 0.02990695831081099\n",
      "Average L2 Distance for Successful Attacks: 0.049613156933183515\n",
      "Average Linf Distance for Successful Attacks: 0.1325831345536492\n",
      "Average Mahalanobis Distance for Successful Attacks: 2.9142899820319426\n",
      "Average Sensitivity for Successful Attacks: 0.021858364105039885\n",
      "Outlier Rate for Successful Attacks: 5.785123966942149%\n",
      "\n",
      "\n"
     ]
    },
    {
     "name": "stderr",
     "output_type": "stream",
     "text": [
      "100%|██████████| 320/320 [00:19<00:00, 16.57it/s]\n"
     ]
    },
    {
     "name": "stdout",
     "output_type": "stream",
     "text": [
      "Epsilon = 0.1\n",
      "Success Rate: 52.5%\n",
      "Average L0 Distance for Successful Attacks: 10.982142857142858\n",
      "Average L1 Distance for Successful Attacks: 0.060076554505420585\n",
      "Average L2 Distance for Successful Attacks: 0.09883477126381227\n",
      "Average Linf Distance for Successful Attacks: 0.2620321718887204\n",
      "Average Mahalanobis Distance for Successful Attacks: 3.057533001429624\n",
      "Average Sensitivity for Successful Attacks: 0.043851121240073725\n",
      "Outlier Rate for Successful Attacks: 7.142857142857142%\n",
      "\n",
      "\n"
     ]
    },
    {
     "name": "stderr",
     "output_type": "stream",
     "text": [
      "100%|██████████| 320/320 [00:20<00:00, 15.98it/s]\n"
     ]
    },
    {
     "name": "stdout",
     "output_type": "stream",
     "text": [
      "Epsilon = 0.3\n",
      "Success Rate: 77.8125%\n",
      "Average L0 Distance for Successful Attacks: 10.987951807228916\n",
      "Average L1 Distance for Successful Attacks: 0.17727237999678616\n",
      "Average L2 Distance for Successful Attacks: 0.2925095828063038\n",
      "Average Linf Distance for Successful Attacks: 0.7730760483377909\n",
      "Average Mahalanobis Distance for Successful Attacks: 4.244787539994655\n",
      "Average Sensitivity for Successful Attacks: 0.12932069785144912\n",
      "Outlier Rate for Successful Attacks: 36.144578313253014%\n",
      "\n",
      "\n"
     ]
    },
    {
     "name": "stderr",
     "output_type": "stream",
     "text": [
      "100%|██████████| 320/320 [00:18<00:00, 16.90it/s]\n"
     ]
    },
    {
     "name": "stdout",
     "output_type": "stream",
     "text": [
      "Epsilon = 0.5\n",
      "Success Rate: 83.4375%\n",
      "Average L0 Distance for Successful Attacks: 10.98876404494382\n",
      "Average L1 Distance for Successful Attacks: 0.2890410813945956\n",
      "Average L2 Distance for Successful Attacks: 0.47363173358895805\n",
      "Average Linf Distance for Successful Attacks: 1.230053018094895\n",
      "Average Mahalanobis Distance for Successful Attacks: 5.690064766258467\n",
      "Average Sensitivity for Successful Attacks: 0.21083080269089352\n",
      "Outlier Rate for Successful Attacks: 85.76779026217228%\n",
      "\n",
      "\n"
     ]
    },
    {
     "name": "stderr",
     "output_type": "stream",
     "text": [
      "100%|██████████| 320/320 [00:19<00:00, 16.74it/s]\n"
     ]
    },
    {
     "name": "stdout",
     "output_type": "stream",
     "text": [
      "Epsilon = 1.0\n",
      "Success Rate: 83.125%\n",
      "Average L0 Distance for Successful Attacks: 10.988721804511279\n",
      "Average L1 Distance for Successful Attacks: 0.5194220160855386\n",
      "Average L2 Distance for Successful Attacks: 0.8201840574804106\n",
      "Average Linf Distance for Successful Attacks: 2.0725886077809155\n",
      "Average Mahalanobis Distance for Successful Attacks: 9.020321489020809\n",
      "Average Sensitivity for Successful Attacks: 0.3787805155143702\n",
      "Outlier Rate for Successful Attacks: 100.0%\n",
      "\n",
      "\n",
      "Running L2BIM on WineQuality-Red with TabTransformer\n",
      "Threshold: 4.4356665308251575\n"
     ]
    },
    {
     "name": "stderr",
     "output_type": "stream",
     "text": [
      "100%|██████████| 320/320 [00:04<00:00, 72.46it/s]\n"
     ]
    },
    {
     "name": "stdout",
     "output_type": "stream",
     "text": [
      "Epsilon = 0.0\n",
      "Success Rate: 27.187499999999996%\n",
      "Average L0 Distance for Successful Attacks: 0.0\n",
      "Average L1 Distance for Successful Attacks: 0.0\n",
      "Average L2 Distance for Successful Attacks: 0.0\n",
      "Average Linf Distance for Successful Attacks: 0.0\n",
      "Average Mahalanobis Distance for Successful Attacks: 2.883120473653743\n",
      "Average Sensitivity for Successful Attacks: 0.0\n",
      "Outlier Rate for Successful Attacks: 5.747126436781609%\n",
      "\n",
      "\n"
     ]
    },
    {
     "name": "stderr",
     "output_type": "stream",
     "text": [
      "100%|██████████| 320/320 [00:04<00:00, 73.14it/s]\n"
     ]
    },
    {
     "name": "stdout",
     "output_type": "stream",
     "text": [
      "Epsilon = 0.01\n",
      "Success Rate: 28.125%\n",
      "Average L0 Distance for Successful Attacks: 10.477777777777778\n",
      "Average L1 Distance for Successful Attacks: 0.005476723342306084\n",
      "Average L2 Distance for Successful Attacks: 0.009488824361728296\n",
      "Average Linf Distance for Successful Attacks: 0.02447604267961449\n",
      "Average Mahalanobis Distance for Successful Attacks: 2.8946933418066694\n",
      "Average Sensitivity for Successful Attacks: 0.004003579778751979\n",
      "Outlier Rate for Successful Attacks: 5.555555555555555%\n",
      "\n",
      "\n"
     ]
    },
    {
     "name": "stderr",
     "output_type": "stream",
     "text": [
      "100%|██████████| 320/320 [00:04<00:00, 69.44it/s]\n"
     ]
    },
    {
     "name": "stdout",
     "output_type": "stream",
     "text": [
      "Epsilon = 0.03\n",
      "Success Rate: 33.4375%\n",
      "Average L0 Distance for Successful Attacks: 10.560747663551401\n",
      "Average L1 Distance for Successful Attacks: 0.016470855571956277\n",
      "Average L2 Distance for Successful Attacks: 0.028485794442871186\n",
      "Average Linf Distance for Successful Attacks: 0.07361398066315696\n",
      "Average Mahalanobis Distance for Successful Attacks: 2.867763283540939\n",
      "Average Sensitivity for Successful Attacks: 0.012033500425761269\n",
      "Outlier Rate for Successful Attacks: 4.672897196261682%\n",
      "\n",
      "\n"
     ]
    },
    {
     "name": "stderr",
     "output_type": "stream",
     "text": [
      "100%|██████████| 320/320 [00:04<00:00, 68.50it/s]\n"
     ]
    },
    {
     "name": "stdout",
     "output_type": "stream",
     "text": [
      "Epsilon = 0.05\n",
      "Success Rate: 40.3125%\n",
      "Average L0 Distance for Successful Attacks: 10.612403100775193\n",
      "Average L1 Distance for Successful Attacks: 0.027545723804207736\n",
      "Average L2 Distance for Successful Attacks: 0.04741422667406326\n",
      "Average Linf Distance for Successful Attacks: 0.12256892426877983\n",
      "Average Mahalanobis Distance for Successful Attacks: 2.9148335954856037\n",
      "Average Sensitivity for Successful Attacks: 0.020163617446989746\n",
      "Outlier Rate for Successful Attacks: 6.2015503875969%\n",
      "\n",
      "\n"
     ]
    },
    {
     "name": "stderr",
     "output_type": "stream",
     "text": [
      "100%|██████████| 320/320 [00:04<00:00, 69.47it/s]\n"
     ]
    },
    {
     "name": "stdout",
     "output_type": "stream",
     "text": [
      "Epsilon = 0.1\n",
      "Success Rate: 55.3125%\n",
      "Average L0 Distance for Successful Attacks: 10.706214689265536\n",
      "Average L1 Distance for Successful Attacks: 0.05500444576228406\n",
      "Average L2 Distance for Successful Attacks: 0.09375825726379783\n",
      "Average Linf Distance for Successful Attacks: 0.24123600331571815\n",
      "Average Mahalanobis Distance for Successful Attacks: 2.974414258431449\n",
      "Average Sensitivity for Successful Attacks: 0.04026830181121658\n",
      "Outlier Rate for Successful Attacks: 6.214689265536723%\n",
      "\n",
      "\n"
     ]
    },
    {
     "name": "stderr",
     "output_type": "stream",
     "text": [
      "100%|██████████| 320/320 [00:04<00:00, 70.70it/s]\n"
     ]
    },
    {
     "name": "stdout",
     "output_type": "stream",
     "text": [
      "Epsilon = 0.3\n",
      "Success Rate: 78.75%\n",
      "Average L0 Distance for Successful Attacks: 10.797619047619047\n",
      "Average L1 Distance for Successful Attacks: 0.14965154427207178\n",
      "Average L2 Distance for Successful Attacks: 0.24953156892978956\n",
      "Average Linf Distance for Successful Attacks: 0.6277295604702973\n",
      "Average Mahalanobis Distance for Successful Attacks: 3.574278257349902\n",
      "Average Sensitivity for Successful Attacks: 0.10935397781727332\n",
      "Outlier Rate for Successful Attacks: 14.682539682539684%\n",
      "\n",
      "\n"
     ]
    },
    {
     "name": "stderr",
     "output_type": "stream",
     "text": [
      "100%|██████████| 320/320 [00:04<00:00, 70.97it/s]\n"
     ]
    },
    {
     "name": "stdout",
     "output_type": "stream",
     "text": [
      "Epsilon = 0.5\n",
      "Success Rate: 79.6875%\n",
      "Average L0 Distance for Successful Attacks: 10.792156862745099\n",
      "Average L1 Distance for Successful Attacks: 0.21526336108936983\n",
      "Average L2 Distance for Successful Attacks: 0.3582690441433121\n",
      "Average Linf Distance for Successful Attacks: 0.9149620941456627\n",
      "Average Mahalanobis Distance for Successful Attacks: 4.239930430822427\n",
      "Average Sensitivity for Successful Attacks: 0.15730854380948872\n",
      "Outlier Rate for Successful Attacks: 41.568627450980394%\n",
      "\n",
      "\n"
     ]
    },
    {
     "name": "stderr",
     "output_type": "stream",
     "text": [
      "100%|██████████| 320/320 [00:04<00:00, 71.01it/s]\n"
     ]
    },
    {
     "name": "stdout",
     "output_type": "stream",
     "text": [
      "Epsilon = 1.0\n",
      "Success Rate: 79.6875%\n",
      "Average L0 Distance for Successful Attacks: 10.780392156862746\n",
      "Average L1 Distance for Successful Attacks: 0.31665076008614373\n",
      "Average L2 Distance for Successful Attacks: 0.5117288679468865\n",
      "Average Linf Distance for Successful Attacks: 1.3077599385205436\n",
      "Average Mahalanobis Distance for Successful Attacks: 5.320940585343712\n",
      "Average Sensitivity for Successful Attacks: 0.2314388720720422\n",
      "Outlier Rate for Successful Attacks: 61.96078431372549%\n",
      "\n",
      "\n",
      "Running LinfDeepFool on WineQuality-Red with TabTransformer\n",
      "Threshold: 4.4356665308251575\n"
     ]
    },
    {
     "name": "stderr",
     "output_type": "stream",
     "text": [
      "100%|██████████| 320/320 [00:08<00:00, 36.51it/s]\n"
     ]
    },
    {
     "name": "stdout",
     "output_type": "stream",
     "text": [
      "Epsilon = 0.0\n",
      "Success Rate: 27.187499999999996%\n",
      "Average L0 Distance for Successful Attacks: 0.0\n",
      "Average L1 Distance for Successful Attacks: 0.0\n",
      "Average L2 Distance for Successful Attacks: 0.0\n",
      "Average Linf Distance for Successful Attacks: 0.0\n",
      "Average Mahalanobis Distance for Successful Attacks: 2.883120473653743\n",
      "Average Sensitivity for Successful Attacks: 0.0\n",
      "Outlier Rate for Successful Attacks: 5.747126436781609%\n",
      "\n",
      "\n"
     ]
    },
    {
     "name": "stderr",
     "output_type": "stream",
     "text": [
      "100%|██████████| 320/320 [00:08<00:00, 38.29it/s]\n"
     ]
    },
    {
     "name": "stdout",
     "output_type": "stream",
     "text": [
      "Epsilon = 0.01\n",
      "Success Rate: 31.5625%\n",
      "Average L0 Distance for Successful Attacks: 1.5247524752475248\n",
      "Average L1 Distance for Successful Attacks: 0.0008015202930068025\n",
      "Average L2 Distance for Successful Attacks: 0.0026524201125404474\n",
      "Average Linf Distance for Successful Attacks: 0.008791411867236146\n",
      "Average Mahalanobis Distance for Successful Attacks: 2.8818896926905135\n",
      "Average Sensitivity for Successful Attacks: 0.0005839217735435998\n",
      "Outlier Rate for Successful Attacks: 4.9504950495049505%\n",
      "\n",
      "\n"
     ]
    },
    {
     "name": "stderr",
     "output_type": "stream",
     "text": [
      "100%|██████████| 320/320 [00:08<00:00, 38.86it/s]\n"
     ]
    },
    {
     "name": "stdout",
     "output_type": "stream",
     "text": [
      "Epsilon = 0.03\n",
      "Success Rate: 50.625%\n",
      "Average L0 Distance for Successful Attacks: 5.061728395061729\n",
      "Average L1 Distance for Successful Attacks: 0.008519919520175015\n",
      "Average L2 Distance for Successful Attacks: 0.028125706251658913\n",
      "Average Linf Distance for Successful Attacks: 0.09300346208023436\n",
      "Average Mahalanobis Distance for Successful Attacks: 2.9790015475222997\n",
      "Average Sensitivity for Successful Attacks: 0.006246767715366994\n",
      "Outlier Rate for Successful Attacks: 6.790123456790123%\n",
      "\n",
      "\n"
     ]
    },
    {
     "name": "stderr",
     "output_type": "stream",
     "text": [
      "100%|██████████| 320/320 [00:08<00:00, 38.01it/s]\n"
     ]
    },
    {
     "name": "stdout",
     "output_type": "stream",
     "text": [
      "Epsilon = 0.05\n",
      "Success Rate: 60.0%\n",
      "Average L0 Distance for Successful Attacks: 5.96875\n",
      "Average L1 Distance for Successful Attacks: 0.013848429797993353\n",
      "Average L2 Distance for Successful Attacks: 0.045511224362295856\n",
      "Average Linf Distance for Successful Attacks: 0.1501997533487156\n",
      "Average Mahalanobis Distance for Successful Attacks: 3.043496183543331\n",
      "Average Sensitivity for Successful Attacks: 0.010179321239168834\n",
      "Outlier Rate for Successful Attacks: 7.8125%\n",
      "\n",
      "\n"
     ]
    },
    {
     "name": "stderr",
     "output_type": "stream",
     "text": [
      "100%|██████████| 320/320 [00:08<00:00, 37.83it/s]\n"
     ]
    },
    {
     "name": "stdout",
     "output_type": "stream",
     "text": [
      "Epsilon = 0.1\n",
      "Success Rate: 73.75%\n",
      "Average L0 Distance for Successful Attacks: 6.872881355932203\n",
      "Average L1 Distance for Successful Attacks: 0.026136088816417477\n",
      "Average L2 Distance for Successful Attacks: 0.085024907598489\n",
      "Average Linf Distance for Successful Attacks: 0.2794579470498582\n",
      "Average Mahalanobis Distance for Successful Attacks: 3.2742261845654905\n",
      "Average Sensitivity for Successful Attacks: 0.019296521428475252\n",
      "Outlier Rate for Successful Attacks: 12.711864406779661%\n",
      "\n",
      "\n"
     ]
    },
    {
     "name": "stderr",
     "output_type": "stream",
     "text": [
      "100%|██████████| 320/320 [00:08<00:00, 38.39it/s]\n"
     ]
    },
    {
     "name": "stdout",
     "output_type": "stream",
     "text": [
      "Epsilon = 0.3\n",
      "Success Rate: 79.375%\n",
      "Average L0 Distance for Successful Attacks: 7.145669291338582\n",
      "Average L1 Distance for Successful Attacks: 0.04815747731137933\n",
      "Average L2 Distance for Successful Attacks: 0.14208577929466126\n",
      "Average Linf Distance for Successful Attacks: 0.44927550919764625\n",
      "Average Mahalanobis Distance for Successful Attacks: 3.779632317136621\n",
      "Average Sensitivity for Successful Attacks: 0.035942797509652714\n",
      "Outlier Rate for Successful Attacks: 22.04724409448819%\n",
      "\n",
      "\n"
     ]
    },
    {
     "name": "stderr",
     "output_type": "stream",
     "text": [
      "100%|██████████| 320/320 [00:08<00:00, 37.77it/s]\n"
     ]
    },
    {
     "name": "stdout",
     "output_type": "stream",
     "text": [
      "Epsilon = 0.5\n",
      "Success Rate: 79.6875%\n",
      "Average L0 Distance for Successful Attacks: 7.1607843137254905\n",
      "Average L1 Distance for Successful Attacks: 0.061727302872082765\n",
      "Average L2 Distance for Successful Attacks: 0.1683900914186904\n",
      "Average Linf Distance for Successful Attacks: 0.5142892712179352\n",
      "Average Mahalanobis Distance for Successful Attacks: 4.049267410940896\n",
      "Average Sensitivity for Successful Attacks: 0.046253858343241555\n",
      "Outlier Rate for Successful Attacks: 22.35294117647059%\n",
      "\n",
      "\n"
     ]
    },
    {
     "name": "stderr",
     "output_type": "stream",
     "text": [
      "100%|██████████| 320/320 [00:08<00:00, 38.36it/s]\n"
     ]
    },
    {
     "name": "stdout",
     "output_type": "stream",
     "text": [
      "Epsilon = 1.0\n",
      "Success Rate: 79.6875%\n",
      "Average L0 Distance for Successful Attacks: 7.1607843137254905\n",
      "Average L1 Distance for Successful Attacks: 0.06927466832247435\n",
      "Average L2 Distance for Successful Attacks: 0.17946645574890735\n",
      "Average Linf Distance for Successful Attacks: 0.5379871589003825\n",
      "Average Mahalanobis Distance for Successful Attacks: 4.133930221840585\n",
      "Average Sensitivity for Successful Attacks: 0.052175925391744454\n",
      "Outlier Rate for Successful Attacks: 22.35294117647059%\n",
      "\n",
      "\n",
      "Running L2DeepFool on WineQuality-Red with TabTransformer\n",
      "Threshold: 4.4356665308251575\n"
     ]
    },
    {
     "name": "stderr",
     "output_type": "stream",
     "text": [
      "100%|██████████| 320/320 [00:08<00:00, 36.35it/s]\n"
     ]
    },
    {
     "name": "stdout",
     "output_type": "stream",
     "text": [
      "Epsilon = 0.0\n",
      "Success Rate: 27.187499999999996%\n",
      "Average L0 Distance for Successful Attacks: 0.0\n",
      "Average L1 Distance for Successful Attacks: 0.0\n",
      "Average L2 Distance for Successful Attacks: 0.0\n",
      "Average Linf Distance for Successful Attacks: 0.0\n",
      "Average Mahalanobis Distance for Successful Attacks: 2.883120473653743\n",
      "Average Sensitivity for Successful Attacks: 0.0\n",
      "Outlier Rate for Successful Attacks: 5.747126436781609%\n",
      "\n",
      "\n"
     ]
    },
    {
     "name": "stderr",
     "output_type": "stream",
     "text": [
      "100%|██████████| 320/320 [00:09<00:00, 35.49it/s]\n"
     ]
    },
    {
     "name": "stdout",
     "output_type": "stream",
     "text": [
      "Epsilon = 0.01\n",
      "Success Rate: 28.125%\n",
      "Average L0 Distance for Successful Attacks: 0.36666666666666664\n",
      "Average L1 Distance for Successful Attacks: 7.902731498082479e-05\n",
      "Average L2 Distance for Successful Attacks: 0.00013699791808095244\n",
      "Average Linf Distance for Successful Attacks: 0.0003569740802049637\n",
      "Average Mahalanobis Distance for Successful Attacks: 2.8921433860756247\n",
      "Average Sensitivity for Successful Attacks: 5.757280256754408e-05\n",
      "Outlier Rate for Successful Attacks: 5.555555555555555%\n",
      "\n",
      "\n"
     ]
    },
    {
     "name": "stderr",
     "output_type": "stream",
     "text": [
      "100%|██████████| 320/320 [00:09<00:00, 35.17it/s]\n"
     ]
    },
    {
     "name": "stdout",
     "output_type": "stream",
     "text": [
      "Epsilon = 0.03\n",
      "Success Rate: 33.4375%\n",
      "Average L0 Distance for Successful Attacks: 2.05607476635514\n",
      "Average L1 Distance for Successful Attacks: 0.0020655288456756377\n",
      "Average L2 Distance for Successful Attacks: 0.003547840938842464\n",
      "Average Linf Distance for Successful Attacks: 0.009160856115762318\n",
      "Average Mahalanobis Distance for Successful Attacks: 2.857603749285613\n",
      "Average Sensitivity for Successful Attacks: 0.001504774482553024\n",
      "Outlier Rate for Successful Attacks: 4.672897196261682%\n",
      "\n",
      "\n"
     ]
    },
    {
     "name": "stderr",
     "output_type": "stream",
     "text": [
      "100%|██████████| 320/320 [00:09<00:00, 35.26it/s]\n"
     ]
    },
    {
     "name": "stdout",
     "output_type": "stream",
     "text": [
      "Epsilon = 0.05\n",
      "Success Rate: 40.3125%\n",
      "Average L0 Distance for Successful Attacks: 3.550387596899225\n",
      "Average L1 Distance for Successful Attacks: 0.0060236079748286755\n",
      "Average L2 Distance for Successful Attacks: 0.010293568596388249\n",
      "Average Linf Distance for Successful Attacks: 0.02655604010982107\n",
      "Average Mahalanobis Distance for Successful Attacks: 2.8949769220400703\n",
      "Average Sensitivity for Successful Attacks: 0.004437975894773466\n",
      "Outlier Rate for Successful Attacks: 6.2015503875969%\n",
      "\n",
      "\n"
     ]
    },
    {
     "name": "stderr",
     "output_type": "stream",
     "text": [
      "100%|██████████| 320/320 [00:09<00:00, 35.36it/s]\n"
     ]
    },
    {
     "name": "stdout",
     "output_type": "stream",
     "text": [
      "Epsilon = 0.1\n",
      "Success Rate: 54.6875%\n",
      "Average L0 Distance for Successful Attacks: 5.485714285714286\n",
      "Average L1 Distance for Successful Attacks: 0.015725167095661165\n",
      "Average L2 Distance for Successful Attacks: 0.027055484005915266\n",
      "Average Linf Distance for Successful Attacks: 0.06998204803892544\n",
      "Average Mahalanobis Distance for Successful Attacks: 2.907266277291237\n",
      "Average Sensitivity for Successful Attacks: 0.011575011892210958\n",
      "Outlier Rate for Successful Attacks: 6.2857142857142865%\n",
      "\n",
      "\n"
     ]
    },
    {
     "name": "stderr",
     "output_type": "stream",
     "text": [
      "100%|██████████| 320/320 [00:08<00:00, 36.59it/s]\n"
     ]
    },
    {
     "name": "stdout",
     "output_type": "stream",
     "text": [
      "Epsilon = 0.3\n",
      "Success Rate: 78.4375%\n",
      "Average L0 Distance for Successful Attacks: 7.103585657370518\n",
      "Average L1 Distance for Successful Attacks: 0.0497445958662793\n",
      "Average L2 Distance for Successful Attacks: 0.08123608318851348\n",
      "Average Linf Distance for Successful Attacks: 0.20094451695621252\n",
      "Average Mahalanobis Distance for Successful Attacks: 3.165476738368384\n",
      "Average Sensitivity for Successful Attacks: 0.036875626038313764\n",
      "Outlier Rate for Successful Attacks: 12.749003984063744%\n",
      "\n",
      "\n"
     ]
    },
    {
     "name": "stderr",
     "output_type": "stream",
     "text": [
      "100%|██████████| 320/320 [00:08<00:00, 36.35it/s]\n"
     ]
    },
    {
     "name": "stdout",
     "output_type": "stream",
     "text": [
      "Epsilon = 0.5\n",
      "Success Rate: 79.375%\n",
      "Average L0 Distance for Successful Attacks: 7.145669291338582\n",
      "Average L1 Distance for Successful Attacks: 0.062217430218936894\n",
      "Average L2 Distance for Successful Attacks: 0.1004049898781557\n",
      "Average Linf Distance for Successful Attacks: 0.24430940724087982\n",
      "Average Mahalanobis Distance for Successful Attacks: 3.3214115640800186\n",
      "Average Sensitivity for Successful Attacks: 0.046333279991756175\n",
      "Outlier Rate for Successful Attacks: 16.92913385826772%\n",
      "\n",
      "\n"
     ]
    },
    {
     "name": "stderr",
     "output_type": "stream",
     "text": [
      "100%|██████████| 320/320 [00:08<00:00, 36.04it/s]\n"
     ]
    },
    {
     "name": "stdout",
     "output_type": "stream",
     "text": [
      "Epsilon = 1.0\n",
      "Success Rate: 79.6875%\n",
      "Average L0 Distance for Successful Attacks: 7.1607843137254905\n",
      "Average L1 Distance for Successful Attacks: 0.08709222265318328\n",
      "Average L2 Distance for Successful Attacks: 0.1385492678896031\n",
      "Average Linf Distance for Successful Attacks: 0.3293392893876515\n",
      "Average Mahalanobis Distance for Successful Attacks: 3.685094087381956\n",
      "Average Sensitivity for Successful Attacks: 0.06521512682255193\n",
      "Outlier Rate for Successful Attacks: 17.647058823529413%\n",
      "\n",
      "\n",
      "Running L2CarliniWagner on WineQuality-Red with TabTransformer\n",
      "Threshold: 4.4356665308251575\n"
     ]
    },
    {
     "name": "stderr",
     "output_type": "stream",
     "text": [
      "100%|██████████| 320/320 [00:39<00:00,  8.14it/s]\n"
     ]
    },
    {
     "name": "stdout",
     "output_type": "stream",
     "text": [
      "Epsilon = 0.0\n",
      "Success Rate: 27.187499999999996%\n",
      "Average L0 Distance for Successful Attacks: 0.0\n",
      "Average L1 Distance for Successful Attacks: 0.0\n",
      "Average L2 Distance for Successful Attacks: 0.0\n",
      "Average Linf Distance for Successful Attacks: 0.0\n",
      "Average Mahalanobis Distance for Successful Attacks: 2.883120473653743\n",
      "Average Sensitivity for Successful Attacks: 0.0\n",
      "Outlier Rate for Successful Attacks: 5.747126436781609%\n",
      "\n",
      "\n"
     ]
    },
    {
     "name": "stderr",
     "output_type": "stream",
     "text": [
      "100%|██████████| 320/320 [00:38<00:00,  8.25it/s]\n"
     ]
    },
    {
     "name": "stdout",
     "output_type": "stream",
     "text": [
      "Epsilon = 0.01\n",
      "Success Rate: 27.8125%\n",
      "Average L0 Distance for Successful Attacks: 10.404494382022472\n",
      "Average L1 Distance for Successful Attacks: 9.558241280695696e-05\n",
      "Average L2 Distance for Successful Attacks: 0.00022570480824620726\n",
      "Average Linf Distance for Successful Attacks: 0.000681725260016791\n",
      "Average Mahalanobis Distance for Successful Attacks: 2.89239132965847\n",
      "Average Sensitivity for Successful Attacks: 6.965364706326163e-05\n",
      "Outlier Rate for Successful Attacks: 5.617977528089887%\n",
      "\n",
      "\n"
     ]
    },
    {
     "name": "stderr",
     "output_type": "stream",
     "text": [
      "100%|██████████| 320/320 [00:39<00:00,  8.20it/s]\n"
     ]
    },
    {
     "name": "stdout",
     "output_type": "stream",
     "text": [
      "Epsilon = 0.03\n",
      "Success Rate: 30.312499999999996%\n",
      "Average L0 Distance for Successful Attacks: 10.45360824742268\n",
      "Average L1 Distance for Successful Attacks: 0.001311892703578798\n",
      "Average L2 Distance for Successful Attacks: 0.0030936884091972584\n",
      "Average Linf Distance for Successful Attacks: 0.009526409806453228\n",
      "Average Mahalanobis Distance for Successful Attacks: 2.8927738902674296\n",
      "Average Sensitivity for Successful Attacks: 0.0009557556402254114\n",
      "Outlier Rate for Successful Attacks: 5.154639175257731%\n",
      "\n",
      "\n"
     ]
    },
    {
     "name": "stderr",
     "output_type": "stream",
     "text": [
      "100%|██████████| 320/320 [00:39<00:00,  8.15it/s]\n"
     ]
    },
    {
     "name": "stdout",
     "output_type": "stream",
     "text": [
      "Epsilon = 0.05\n",
      "Success Rate: 35.9375%\n",
      "Average L0 Distance for Successful Attacks: 10.539130434782608\n",
      "Average L1 Distance for Successful Attacks: 0.0059130324637922255\n",
      "Average L2 Distance for Successful Attacks: 0.012140194566610835\n",
      "Average Linf Distance for Successful Attacks: 0.03512073306812216\n",
      "Average Mahalanobis Distance for Successful Attacks: 2.9252568297542894\n",
      "Average Sensitivity for Successful Attacks: 0.004307764752647235\n",
      "Outlier Rate for Successful Attacks: 6.086956521739131%\n",
      "\n",
      "\n"
     ]
    },
    {
     "name": "stderr",
     "output_type": "stream",
     "text": [
      "100%|██████████| 320/320 [00:38<00:00,  8.21it/s]\n"
     ]
    },
    {
     "name": "stdout",
     "output_type": "stream",
     "text": [
      "Epsilon = 0.1\n",
      "Success Rate: 49.6875%\n",
      "Average L0 Distance for Successful Attacks: 10.666666666666666\n",
      "Average L1 Distance for Successful Attacks: 0.01973878620514564\n",
      "Average L2 Distance for Successful Attacks: 0.03675716465017949\n",
      "Average Linf Distance for Successful Attacks: 0.10365930484437952\n",
      "Average Mahalanobis Distance for Successful Attacks: 3.0210223406844383\n",
      "Average Sensitivity for Successful Attacks: 0.014380067797940543\n",
      "Outlier Rate for Successful Attacks: 6.289308176100629%\n",
      "\n",
      "\n"
     ]
    },
    {
     "name": "stderr",
     "output_type": "stream",
     "text": [
      "100%|██████████| 320/320 [00:39<00:00,  8.17it/s]\n"
     ]
    },
    {
     "name": "stdout",
     "output_type": "stream",
     "text": [
      "Epsilon = 0.3\n",
      "Success Rate: 77.1875%\n",
      "Average L0 Distance for Successful Attacks: 10.785425101214575\n",
      "Average L1 Distance for Successful Attacks: 0.05069995152779105\n",
      "Average L2 Distance for Successful Attacks: 0.09886081450996527\n",
      "Average Linf Distance for Successful Attacks: 0.27909614274802386\n",
      "Average Mahalanobis Distance for Successful Attacks: 3.35218434766085\n",
      "Average Sensitivity for Successful Attacks: 0.03693582284980702\n",
      "Outlier Rate for Successful Attacks: 15.384615384615385%\n",
      "\n",
      "\n"
     ]
    },
    {
     "name": "stderr",
     "output_type": "stream",
     "text": [
      "100%|██████████| 320/320 [00:39<00:00,  8.17it/s]\n"
     ]
    },
    {
     "name": "stdout",
     "output_type": "stream",
     "text": [
      "Epsilon = 0.5\n",
      "Success Rate: 79.375%\n",
      "Average L0 Distance for Successful Attacks: 10.791338582677165\n",
      "Average L1 Distance for Successful Attacks: 0.05555132145931079\n",
      "Average L2 Distance for Successful Attacks: 0.1092938934549329\n",
      "Average Linf Distance for Successful Attacks: 0.30856218983283573\n",
      "Average Mahalanobis Distance for Successful Attacks: 3.4440062140081382\n",
      "Average Sensitivity for Successful Attacks: 0.04047013172436187\n",
      "Outlier Rate for Successful Attacks: 18.11023622047244%\n",
      "\n",
      "\n"
     ]
    },
    {
     "name": "stderr",
     "output_type": "stream",
     "text": [
      "100%|██████████| 320/320 [00:38<00:00,  8.22it/s]\n",
      "/home/zippo/miniconda3/envs/tabular-benchmark/lib/python3.10/site-packages/foolbox/models/pytorch.py:36: UserWarning: The PyTorch model is in training mode and therefore might not be deterministic. Call the eval() method to set it in evaluation mode if this is not intended.\n",
      "  warnings.warn(\n"
     ]
    },
    {
     "name": "stdout",
     "output_type": "stream",
     "text": [
      "Epsilon = 1.0\n",
      "Success Rate: 79.6875%\n",
      "Average L0 Distance for Successful Attacks: 10.792156862745099\n",
      "Average L1 Distance for Successful Attacks: 0.05657987545025261\n",
      "Average L2 Distance for Successful Attacks: 0.11092612171301572\n",
      "Average Linf Distance for Successful Attacks: 0.3118065808561868\n",
      "Average Mahalanobis Distance for Successful Attacks: 3.457260254401581\n",
      "Average Sensitivity for Successful Attacks: 0.041219451541519674\n",
      "Outlier Rate for Successful Attacks: 18.43137254901961%\n",
      "\n",
      "\n",
      "Running L2Gaussian on WineQuality-Red with FTTransformer\n",
      "Threshold: 4.4356665308251575\n"
     ]
    },
    {
     "name": "stderr",
     "output_type": "stream",
     "text": [
      "100%|██████████| 320/320 [00:03<00:00, 89.16it/s]\n"
     ]
    },
    {
     "name": "stdout",
     "output_type": "stream",
     "text": [
      "Epsilon = 0.0\n",
      "Success Rate: 26.875%\n",
      "Average L0 Distance for Successful Attacks: 0.0\n",
      "Average L1 Distance for Successful Attacks: 0.0\n",
      "Average L2 Distance for Successful Attacks: 0.0\n",
      "Average Linf Distance for Successful Attacks: 0.0\n",
      "Average Mahalanobis Distance for Successful Attacks: 2.879901104412683\n",
      "Average Sensitivity for Successful Attacks: 0.0\n",
      "Outlier Rate for Successful Attacks: 5.813953488372093%\n",
      "\n",
      "\n"
     ]
    },
    {
     "name": "stderr",
     "output_type": "stream",
     "text": [
      "100%|██████████| 320/320 [00:03<00:00, 89.39it/s]\n"
     ]
    },
    {
     "name": "stdout",
     "output_type": "stream",
     "text": [
      "Epsilon = 0.01\n",
      "Success Rate: 26.875%\n",
      "Average L0 Distance for Successful Attacks: 10.953488372093023\n",
      "Average L1 Distance for Successful Attacks: 0.00589271345673952\n",
      "Average L2 Distance for Successful Attacks: 0.009987465116780165\n",
      "Average Linf Distance for Successful Attacks: 0.027265181699984296\n",
      "Average Mahalanobis Distance for Successful Attacks: 2.8828272486609228\n",
      "Average Sensitivity for Successful Attacks: 0.004311960095777934\n",
      "Outlier Rate for Successful Attacks: 5.813953488372093%\n",
      "\n",
      "\n"
     ]
    },
    {
     "name": "stderr",
     "output_type": "stream",
     "text": [
      "100%|██████████| 320/320 [00:03<00:00, 87.12it/s]\n"
     ]
    },
    {
     "name": "stdout",
     "output_type": "stream",
     "text": [
      "Epsilon = 0.03\n",
      "Success Rate: 26.25%\n",
      "Average L0 Distance for Successful Attacks: 10.964285714285714\n",
      "Average L1 Distance for Successful Attacks: 0.0180264584099253\n",
      "Average L2 Distance for Successful Attacks: 0.02998296253471857\n",
      "Average Linf Distance for Successful Attacks: 0.08131735780764193\n",
      "Average Mahalanobis Distance for Successful Attacks: 2.944330974407631\n",
      "Average Sensitivity for Successful Attacks: 0.01317742758519238\n",
      "Outlier Rate for Successful Attacks: 7.142857142857142%\n",
      "\n",
      "\n"
     ]
    },
    {
     "name": "stderr",
     "output_type": "stream",
     "text": [
      "100%|██████████| 320/320 [00:03<00:00, 85.39it/s]\n"
     ]
    },
    {
     "name": "stdout",
     "output_type": "stream",
     "text": [
      "Epsilon = 0.05\n",
      "Success Rate: 26.5625%\n",
      "Average L0 Distance for Successful Attacks: 10.929411764705883\n",
      "Average L1 Distance for Successful Attacks: 0.029657571171136463\n",
      "Average L2 Distance for Successful Attacks: 0.049655591959462446\n",
      "Average Linf Distance for Successful Attacks: 0.13462631141438203\n",
      "Average Mahalanobis Distance for Successful Attacks: 2.9885542234875984\n",
      "Average Sensitivity for Successful Attacks: 0.021759343223974985\n",
      "Outlier Rate for Successful Attacks: 4.705882352941177%\n",
      "\n",
      "\n"
     ]
    },
    {
     "name": "stderr",
     "output_type": "stream",
     "text": [
      "100%|██████████| 320/320 [00:03<00:00, 84.83it/s]\n"
     ]
    },
    {
     "name": "stdout",
     "output_type": "stream",
     "text": [
      "Epsilon = 0.1\n",
      "Success Rate: 25.3125%\n",
      "Average L0 Distance for Successful Attacks: 10.938271604938272\n",
      "Average L1 Distance for Successful Attacks: 0.05820261355903414\n",
      "Average L2 Distance for Successful Attacks: 0.09893224894264598\n",
      "Average Linf Distance for Successful Attacks: 0.26602896201757736\n",
      "Average Mahalanobis Distance for Successful Attacks: 3.2596706353771387\n",
      "Average Sensitivity for Successful Attacks: 0.04267257767051091\n",
      "Outlier Rate for Successful Attacks: 9.876543209876543%\n",
      "\n",
      "\n"
     ]
    },
    {
     "name": "stderr",
     "output_type": "stream",
     "text": [
      "100%|██████████| 320/320 [00:03<00:00, 85.89it/s]\n"
     ]
    },
    {
     "name": "stdout",
     "output_type": "stream",
     "text": [
      "Epsilon = 0.3\n",
      "Success Rate: 27.8125%\n",
      "Average L0 Distance for Successful Attacks: 10.9438202247191\n",
      "Average L1 Distance for Successful Attacks: 0.16362838120607848\n",
      "Average L2 Distance for Successful Attacks: 0.2861562697740083\n",
      "Average Linf Distance for Successful Attacks: 0.7837442106075501\n",
      "Average Mahalanobis Distance for Successful Attacks: 4.752857814148435\n",
      "Average Sensitivity for Successful Attacks: 0.1198142956984177\n",
      "Outlier Rate for Successful Attacks: 50.56179775280899%\n",
      "\n",
      "\n"
     ]
    },
    {
     "name": "stderr",
     "output_type": "stream",
     "text": [
      "100%|██████████| 320/320 [00:03<00:00, 84.67it/s]\n"
     ]
    },
    {
     "name": "stdout",
     "output_type": "stream",
     "text": [
      "Epsilon = 0.5\n",
      "Success Rate: 33.4375%\n",
      "Average L0 Distance for Successful Attacks: 10.934579439252337\n",
      "Average L1 Distance for Successful Attacks: 0.26470200508554403\n",
      "Average L2 Distance for Successful Attacks: 0.4483808000511098\n",
      "Average Linf Distance for Successful Attacks: 1.2241312711038321\n",
      "Average Mahalanobis Distance for Successful Attacks: 6.4357887180631455\n",
      "Average Sensitivity for Successful Attacks: 0.19402114065172515\n",
      "Outlier Rate for Successful Attacks: 85.98130841121495%\n",
      "\n",
      "\n"
     ]
    },
    {
     "name": "stderr",
     "output_type": "stream",
     "text": [
      "100%|██████████| 320/320 [00:03<00:00, 82.78it/s]\n"
     ]
    },
    {
     "name": "stdout",
     "output_type": "stream",
     "text": [
      "Epsilon = 1.0\n",
      "Success Rate: 42.8125%\n",
      "Average L0 Distance for Successful Attacks: 10.956204379562044\n",
      "Average L1 Distance for Successful Attacks: 0.5054016239451666\n",
      "Average L2 Distance for Successful Attacks: 0.8259329095374058\n",
      "Average Linf Distance for Successful Attacks: 2.199985259640826\n",
      "Average Mahalanobis Distance for Successful Attacks: 10.877955101198982\n",
      "Average Sensitivity for Successful Attacks: 0.36986006774606495\n",
      "Outlier Rate for Successful Attacks: 100.0%\n",
      "\n",
      "\n",
      "Running L2Uniform on WineQuality-Red with FTTransformer\n",
      "Threshold: 4.4356665308251575\n"
     ]
    },
    {
     "name": "stderr",
     "output_type": "stream",
     "text": [
      "100%|██████████| 320/320 [00:03<00:00, 81.74it/s]\n"
     ]
    },
    {
     "name": "stdout",
     "output_type": "stream",
     "text": [
      "Epsilon = 0.0\n",
      "Success Rate: 26.5625%\n",
      "Average L0 Distance for Successful Attacks: 0.0\n",
      "Average L1 Distance for Successful Attacks: 0.0\n",
      "Average L2 Distance for Successful Attacks: 0.0\n",
      "Average Linf Distance for Successful Attacks: 0.0\n",
      "Average Mahalanobis Distance for Successful Attacks: 2.8906615668602975\n",
      "Average Sensitivity for Successful Attacks: 0.0\n",
      "Outlier Rate for Successful Attacks: 5.88235294117647%\n",
      "\n",
      "\n"
     ]
    },
    {
     "name": "stderr",
     "output_type": "stream",
     "text": [
      "100%|██████████| 320/320 [00:03<00:00, 80.19it/s]\n"
     ]
    },
    {
     "name": "stdout",
     "output_type": "stream",
     "text": [
      "Epsilon = 0.01\n",
      "Success Rate: 26.875%\n",
      "Average L0 Distance for Successful Attacks: 10.918604651162791\n",
      "Average L1 Distance for Successful Attacks: 0.0048664189647709905\n",
      "Average L2 Distance for Successful Attacks: 0.009944102499460759\n",
      "Average Linf Distance for Successful Attacks: 0.02865680727327979\n",
      "Average Mahalanobis Distance for Successful Attacks: 2.9033329152599916\n",
      "Average Sensitivity for Successful Attacks: 0.003573262303266241\n",
      "Outlier Rate for Successful Attacks: 5.813953488372093%\n",
      "\n",
      "\n"
     ]
    },
    {
     "name": "stderr",
     "output_type": "stream",
     "text": [
      "100%|██████████| 320/320 [00:03<00:00, 82.25it/s]\n"
     ]
    },
    {
     "name": "stdout",
     "output_type": "stream",
     "text": [
      "Epsilon = 0.03\n",
      "Success Rate: 27.187499999999996%\n",
      "Average L0 Distance for Successful Attacks: 10.919540229885058\n",
      "Average L1 Distance for Successful Attacks: 0.014505024078762394\n",
      "Average L2 Distance for Successful Attacks: 0.029927993600053347\n",
      "Average Linf Distance for Successful Attacks: 0.0865812985890213\n",
      "Average Mahalanobis Distance for Successful Attacks: 2.982164453876241\n",
      "Average Sensitivity for Successful Attacks: 0.010655313173587295\n",
      "Outlier Rate for Successful Attacks: 6.896551724137931%\n",
      "\n",
      "\n"
     ]
    },
    {
     "name": "stderr",
     "output_type": "stream",
     "text": [
      "100%|██████████| 320/320 [00:03<00:00, 81.95it/s]\n"
     ]
    },
    {
     "name": "stdout",
     "output_type": "stream",
     "text": [
      "Epsilon = 0.05\n",
      "Success Rate: 25.937500000000004%\n",
      "Average L0 Distance for Successful Attacks: 10.951807228915662\n",
      "Average L1 Distance for Successful Attacks: 0.024639808584049523\n",
      "Average L2 Distance for Successful Attacks: 0.049758727875459624\n",
      "Average Linf Distance for Successful Attacks: 0.1429091229675764\n",
      "Average Mahalanobis Distance for Successful Attacks: 2.9482415460187803\n",
      "Average Sensitivity for Successful Attacks: 0.018038116518901772\n",
      "Outlier Rate for Successful Attacks: 6.024096385542169%\n",
      "\n",
      "\n"
     ]
    },
    {
     "name": "stderr",
     "output_type": "stream",
     "text": [
      "100%|██████████| 320/320 [00:03<00:00, 82.76it/s]\n"
     ]
    },
    {
     "name": "stdout",
     "output_type": "stream",
     "text": [
      "Epsilon = 0.1\n",
      "Success Rate: 29.6875%\n",
      "Average L0 Distance for Successful Attacks: 10.968421052631578\n",
      "Average L1 Distance for Successful Attacks: 0.04896533826464101\n",
      "Average L2 Distance for Successful Attacks: 0.09947075992822647\n",
      "Average Linf Distance for Successful Attacks: 0.28748236392673693\n",
      "Average Mahalanobis Distance for Successful Attacks: 3.262799515437689\n",
      "Average Sensitivity for Successful Attacks: 0.035775849360384436\n",
      "Outlier Rate for Successful Attacks: 8.421052631578947%\n",
      "\n",
      "\n"
     ]
    },
    {
     "name": "stderr",
     "output_type": "stream",
     "text": [
      "100%|██████████| 320/320 [00:03<00:00, 82.58it/s]\n"
     ]
    },
    {
     "name": "stdout",
     "output_type": "stream",
     "text": [
      "Epsilon = 0.3\n",
      "Success Rate: 31.25%\n",
      "Average L0 Distance for Successful Attacks: 10.96\n",
      "Average L1 Distance for Successful Attacks: 0.14406970269978048\n",
      "Average L2 Distance for Successful Attacks: 0.28970073953270914\n",
      "Average Linf Distance for Successful Attacks: 0.8368383830785752\n",
      "Average Mahalanobis Distance for Successful Attacks: 4.696467685441178\n",
      "Average Sensitivity for Successful Attacks: 0.1053911443799734\n",
      "Outlier Rate for Successful Attacks: 52.0%\n",
      "\n",
      "\n"
     ]
    },
    {
     "name": "stderr",
     "output_type": "stream",
     "text": [
      "100%|██████████| 320/320 [00:03<00:00, 85.35it/s]\n"
     ]
    },
    {
     "name": "stdout",
     "output_type": "stream",
     "text": [
      "Epsilon = 0.5\n",
      "Success Rate: 37.1875%\n",
      "Average L0 Distance for Successful Attacks: 10.949579831932773\n",
      "Average L1 Distance for Successful Attacks: 0.23736262972615346\n",
      "Average L2 Distance for Successful Attacks: 0.46459158303356973\n",
      "Average Linf Distance for Successful Attacks: 1.3274429665894067\n",
      "Average Mahalanobis Distance for Successful Attacks: 6.467370381749586\n",
      "Average Sensitivity for Successful Attacks: 0.17378418423047587\n",
      "Outlier Rate for Successful Attacks: 93.27731092436974%\n",
      "\n",
      "\n"
     ]
    },
    {
     "name": "stderr",
     "output_type": "stream",
     "text": [
      "100%|██████████| 320/320 [00:03<00:00, 85.64it/s]\n"
     ]
    },
    {
     "name": "stdout",
     "output_type": "stream",
     "text": [
      "Epsilon = 1.0\n",
      "Success Rate: 41.875%\n",
      "Average L0 Distance for Successful Attacks: 10.955223880597014\n",
      "Average L1 Distance for Successful Attacks: 0.4584062499786491\n",
      "Average L2 Distance for Successful Attacks: 0.8686673494417276\n",
      "Average Linf Distance for Successful Attacks: 2.440751686025022\n",
      "Average Mahalanobis Distance for Successful Attacks: 11.73012767669729\n",
      "Average Sensitivity for Successful Attacks: 0.3354337068636026\n",
      "Outlier Rate for Successful Attacks: 100.0%\n",
      "\n",
      "\n",
      "Running LinfUniform on WineQuality-Red with FTTransformer\n",
      "Threshold: 4.4356665308251575\n"
     ]
    },
    {
     "name": "stderr",
     "output_type": "stream",
     "text": [
      "100%|██████████| 320/320 [00:03<00:00, 89.20it/s]\n"
     ]
    },
    {
     "name": "stdout",
     "output_type": "stream",
     "text": [
      "Epsilon = 0.0\n",
      "Success Rate: 26.5625%\n",
      "Average L0 Distance for Successful Attacks: 0.0\n",
      "Average L1 Distance for Successful Attacks: 0.0\n",
      "Average L2 Distance for Successful Attacks: 0.0\n",
      "Average Linf Distance for Successful Attacks: 0.0\n",
      "Average Mahalanobis Distance for Successful Attacks: 2.8906615668602975\n",
      "Average Sensitivity for Successful Attacks: 0.0\n",
      "Outlier Rate for Successful Attacks: 5.88235294117647%\n",
      "\n",
      "\n"
     ]
    },
    {
     "name": "stderr",
     "output_type": "stream",
     "text": [
      "100%|██████████| 320/320 [00:03<00:00, 86.99it/s]\n"
     ]
    },
    {
     "name": "stdout",
     "output_type": "stream",
     "text": [
      "Epsilon = 0.01\n",
      "Success Rate: 26.5625%\n",
      "Average L0 Distance for Successful Attacks: 10.905882352941177\n",
      "Average L1 Distance for Successful Attacks: 0.009999998768462854\n",
      "Average L2 Distance for Successful Attacks: 0.021862072015509885\n",
      "Average Linf Distance for Successful Attacks: 0.06400715480832493\n",
      "Average Mahalanobis Distance for Successful Attacks: 2.961287258321054\n",
      "Average Sensitivity for Successful Attacks: 0.00735374328077716\n",
      "Outlier Rate for Successful Attacks: 7.0588235294117645%\n",
      "\n",
      "\n"
     ]
    },
    {
     "name": "stderr",
     "output_type": "stream",
     "text": [
      "100%|██████████| 320/320 [00:03<00:00, 88.07it/s]\n"
     ]
    },
    {
     "name": "stdout",
     "output_type": "stream",
     "text": [
      "Epsilon = 0.03\n",
      "Success Rate: 26.25%\n",
      "Average L0 Distance for Successful Attacks: 10.952380952380953\n",
      "Average L1 Distance for Successful Attacks: 0.029999998908135154\n",
      "Average L2 Distance for Successful Attacks: 0.06720891874283552\n",
      "Average Linf Distance for Successful Attacks: 0.19684629452725252\n",
      "Average Mahalanobis Distance for Successful Attacks: 3.0780322039299377\n",
      "Average Sensitivity for Successful Attacks: 0.021959605604587568\n",
      "Outlier Rate for Successful Attacks: 5.952380952380952%\n",
      "\n",
      "\n"
     ]
    },
    {
     "name": "stderr",
     "output_type": "stream",
     "text": [
      "100%|██████████| 320/320 [00:03<00:00, 85.31it/s]\n"
     ]
    },
    {
     "name": "stdout",
     "output_type": "stream",
     "text": [
      "Epsilon = 0.05\n",
      "Success Rate: 27.187499999999996%\n",
      "Average L0 Distance for Successful Attacks: 10.931034482758621\n",
      "Average L1 Distance for Successful Attacks: 0.0500000052839175\n",
      "Average L2 Distance for Successful Attacks: 0.10982693586198763\n",
      "Average Linf Distance for Successful Attacks: 0.3177959203034982\n",
      "Average Mahalanobis Distance for Successful Attacks: 3.2757062106845187\n",
      "Average Sensitivity for Successful Attacks: 0.03667710601598367\n",
      "Outlier Rate for Successful Attacks: 6.896551724137931%\n",
      "\n",
      "\n"
     ]
    },
    {
     "name": "stderr",
     "output_type": "stream",
     "text": [
      "100%|██████████| 320/320 [00:03<00:00, 86.68it/s]\n"
     ]
    },
    {
     "name": "stdout",
     "output_type": "stream",
     "text": [
      "Epsilon = 0.1\n",
      "Success Rate: 28.4375%\n",
      "Average L0 Distance for Successful Attacks: 10.934065934065934\n",
      "Average L1 Distance for Successful Attacks: 0.10000000517446916\n",
      "Average L2 Distance for Successful Attacks: 0.2187761142031177\n",
      "Average Linf Distance for Successful Attacks: 0.6358927154279017\n",
      "Average Mahalanobis Distance for Successful Attacks: 4.189677617840251\n",
      "Average Sensitivity for Successful Attacks: 0.07333212206651876\n",
      "Outlier Rate for Successful Attacks: 30.76923076923077%\n",
      "\n",
      "\n"
     ]
    },
    {
     "name": "stderr",
     "output_type": "stream",
     "text": [
      "100%|██████████| 320/320 [00:03<00:00, 86.44it/s]\n"
     ]
    },
    {
     "name": "stdout",
     "output_type": "stream",
     "text": [
      "Epsilon = 0.3\n",
      "Success Rate: 40.3125%\n",
      "Average L0 Distance for Successful Attacks: 10.953488372093023\n",
      "Average L1 Distance for Successful Attacks: 0.3000000112278517\n",
      "Average L2 Distance for Successful Attacks: 0.611303576896357\n",
      "Average Linf Distance for Successful Attacks: 1.7535699827726496\n",
      "Average Mahalanobis Distance for Successful Attacks: 8.349811743745578\n",
      "Average Sensitivity for Successful Attacks: 0.21957188186257384\n",
      "Outlier Rate for Successful Attacks: 97.67441860465115%\n",
      "\n",
      "\n"
     ]
    },
    {
     "name": "stderr",
     "output_type": "stream",
     "text": [
      "100%|██████████| 320/320 [00:03<00:00, 88.01it/s]\n"
     ]
    },
    {
     "name": "stdout",
     "output_type": "stream",
     "text": [
      "Epsilon = 0.5\n",
      "Success Rate: 43.4375%\n",
      "Average L0 Distance for Successful Attacks: 10.928057553956835\n",
      "Average L1 Distance for Successful Attacks: 0.4967159047830019\n",
      "Average L2 Distance for Successful Attacks: 0.944661567537047\n",
      "Average Linf Distance for Successful Attacks: 2.643496081983443\n",
      "Average Mahalanobis Distance for Successful Attacks: 12.535683288818605\n",
      "Average Sensitivity for Successful Attacks: 0.36447423632196385\n",
      "Outlier Rate for Successful Attacks: 100.0%\n",
      "\n",
      "\n"
     ]
    },
    {
     "name": "stderr",
     "output_type": "stream",
     "text": [
      "100%|██████████| 320/320 [00:03<00:00, 87.29it/s]\n"
     ]
    },
    {
     "name": "stdout",
     "output_type": "stream",
     "text": [
      "Epsilon = 1.0\n",
      "Success Rate: 51.5625%\n",
      "Average L0 Distance for Successful Attacks: 10.963636363636363\n",
      "Average L1 Distance for Successful Attacks: 0.8405216123118545\n",
      "Average L2 Distance for Successful Attacks: 1.455766210050294\n",
      "Average Linf Distance for Successful Attacks: 3.964384682973226\n",
      "Average Mahalanobis Distance for Successful Attacks: 18.374899932415204\n",
      "Average Sensitivity for Successful Attacks: 0.6147053593939001\n",
      "Outlier Rate for Successful Attacks: 100.0%\n",
      "\n",
      "\n",
      "Running LinfFGSM on WineQuality-Red with FTTransformer\n",
      "Threshold: 4.4356665308251575\n"
     ]
    },
    {
     "name": "stderr",
     "output_type": "stream",
     "text": [
      "100%|██████████| 320/320 [00:06<00:00, 53.18it/s]\n"
     ]
    },
    {
     "name": "stdout",
     "output_type": "stream",
     "text": [
      "Epsilon = 0.0\n",
      "Success Rate: 26.5625%\n",
      "Average L0 Distance for Successful Attacks: 0.0\n",
      "Average L1 Distance for Successful Attacks: 0.0\n",
      "Average L2 Distance for Successful Attacks: 0.0\n",
      "Average Linf Distance for Successful Attacks: 0.0\n",
      "Average Mahalanobis Distance for Successful Attacks: 2.8906615668602975\n",
      "Average Sensitivity for Successful Attacks: 0.0\n",
      "Outlier Rate for Successful Attacks: 5.88235294117647%\n",
      "\n",
      "\n"
     ]
    },
    {
     "name": "stderr",
     "output_type": "stream",
     "text": [
      "100%|██████████| 320/320 [00:06<00:00, 52.98it/s]\n"
     ]
    },
    {
     "name": "stdout",
     "output_type": "stream",
     "text": [
      "Epsilon = 0.01\n",
      "Success Rate: 33.75%\n",
      "Average L0 Distance for Successful Attacks: 10.953703703703704\n",
      "Average L1 Distance for Successful Attacks: 0.010000005536885173\n",
      "Average L2 Distance for Successful Attacks: 0.03308231249037716\n",
      "Average Linf Distance for Successful Attacks: 0.1094771317999672\n",
      "Average Mahalanobis Distance for Successful Attacks: 2.9551150456928346\n",
      "Average Sensitivity for Successful Attacks: 0.007318909663741512\n",
      "Outlier Rate for Successful Attacks: 5.555555555555555%\n",
      "\n",
      "\n"
     ]
    },
    {
     "name": "stderr",
     "output_type": "stream",
     "text": [
      "100%|██████████| 320/320 [00:06<00:00, 52.94it/s]\n"
     ]
    },
    {
     "name": "stdout",
     "output_type": "stream",
     "text": [
      "Epsilon = 0.03\n",
      "Success Rate: 49.6875%\n",
      "Average L0 Distance for Successful Attacks: 10.943396226415095\n",
      "Average L1 Distance for Successful Attacks: 0.030000001192092896\n",
      "Average L2 Distance for Successful Attacks: 0.09896235866179257\n",
      "Average Linf Distance for Successful Attacks: 0.32712271228526374\n",
      "Average Mahalanobis Distance for Successful Attacks: 3.123301391449457\n",
      "Average Sensitivity for Successful Attacks: 0.02197924368786362\n",
      "Outlier Rate for Successful Attacks: 7.547169811320755%\n",
      "\n",
      "\n"
     ]
    },
    {
     "name": "stderr",
     "output_type": "stream",
     "text": [
      "100%|██████████| 320/320 [00:06<00:00, 52.68it/s]\n"
     ]
    },
    {
     "name": "stdout",
     "output_type": "stream",
     "text": [
      "Epsilon = 0.05\n",
      "Success Rate: 59.68750000000001%\n",
      "Average L0 Distance for Successful Attacks: 10.926701570680628\n",
      "Average L1 Distance for Successful Attacks: 0.050000011920928955\n",
      "Average L2 Distance for Successful Attacks: 0.16436379835867757\n",
      "Average Linf Distance for Successful Attacks: 0.5423438343078054\n",
      "Average Mahalanobis Distance for Successful Attacks: 3.457916080396457\n",
      "Average Sensitivity for Successful Attacks: 0.03669713355639842\n",
      "Outlier Rate for Successful Attacks: 12.56544502617801%\n",
      "\n",
      "\n"
     ]
    },
    {
     "name": "stderr",
     "output_type": "stream",
     "text": [
      "100%|██████████| 320/320 [00:06<00:00, 52.06it/s]\n"
     ]
    },
    {
     "name": "stdout",
     "output_type": "stream",
     "text": [
      "Epsilon = 0.1\n",
      "Success Rate: 84.0625%\n",
      "Average L0 Distance for Successful Attacks: 10.9182156133829\n",
      "Average L1 Distance for Successful Attacks: 0.10000001852397139\n",
      "Average L2 Distance for Successful Attacks: 0.3230508952557376\n",
      "Average Linf Distance for Successful Attacks: 1.0602971891488284\n",
      "Average Mahalanobis Distance for Successful Attacks: 4.708002957993951\n",
      "Average Sensitivity for Successful Attacks: 0.07345362592031521\n",
      "Outlier Rate for Successful Attacks: 56.877323420074354%\n",
      "\n",
      "\n"
     ]
    },
    {
     "name": "stderr",
     "output_type": "stream",
     "text": [
      "100%|██████████| 320/320 [00:06<00:00, 52.76it/s]\n"
     ]
    },
    {
     "name": "stdout",
     "output_type": "stream",
     "text": [
      "Epsilon = 0.3\n",
      "Success Rate: 92.5%\n",
      "Average L0 Distance for Successful Attacks: 10.91891891891892\n",
      "Average L1 Distance for Successful Attacks: 0.30000002450636915\n",
      "Average L2 Distance for Successful Attacks: 0.880030893393465\n",
      "Average Linf Distance for Successful Attacks: 2.780392569464606\n",
      "Average Mahalanobis Distance for Successful Attacks: 10.321477875720669\n",
      "Average Sensitivity for Successful Attacks: 0.22034384179356936\n",
      "Outlier Rate for Successful Attacks: 100.0%\n",
      "\n",
      "\n"
     ]
    },
    {
     "name": "stderr",
     "output_type": "stream",
     "text": [
      "100%|██████████| 320/320 [00:06<00:00, 52.37it/s]\n"
     ]
    },
    {
     "name": "stdout",
     "output_type": "stream",
     "text": [
      "Epsilon = 0.5\n",
      "Success Rate: 92.5%\n",
      "Average L0 Distance for Successful Attacks: 10.91891891891892\n",
      "Average L1 Distance for Successful Attacks: 0.5\n",
      "Average L2 Distance for Successful Attacks: 1.3466762330483746\n",
      "Average Linf Distance for Successful Attacks: 4.106517020915006\n",
      "Average Mahalanobis Distance for Successful Attacks: 15.309531269882061\n",
      "Average Sensitivity for Successful Attacks: 0.36723968477265256\n",
      "Outlier Rate for Successful Attacks: 100.0%\n",
      "\n",
      "\n"
     ]
    },
    {
     "name": "stderr",
     "output_type": "stream",
     "text": [
      "100%|██████████| 320/320 [00:06<00:00, 51.74it/s]\n"
     ]
    },
    {
     "name": "stdout",
     "output_type": "stream",
     "text": [
      "Epsilon = 1.0\n",
      "Success Rate: 92.5%\n",
      "Average L0 Distance for Successful Attacks: 10.91891891891892\n",
      "Average L1 Distance for Successful Attacks: 0.9158452187438268\n",
      "Average L2 Distance for Successful Attacks: 1.9438520621609043\n",
      "Average Linf Distance for Successful Attacks: 5.603283080700281\n",
      "Average Mahalanobis Distance for Successful Attacks: 21.932560677733665\n",
      "Average Sensitivity for Successful Attacks: 0.672739859569717\n",
      "Outlier Rate for Successful Attacks: 100.0%\n",
      "\n",
      "\n",
      "Running LinfPGD on WineQuality-Red with FTTransformer\n",
      "Threshold: 4.4356665308251575\n"
     ]
    },
    {
     "name": "stderr",
     "output_type": "stream",
     "text": [
      "100%|██████████| 320/320 [01:24<00:00,  3.77it/s]\n"
     ]
    },
    {
     "name": "stdout",
     "output_type": "stream",
     "text": [
      "Epsilon = 0.0\n",
      "Success Rate: 26.5625%\n",
      "Average L0 Distance for Successful Attacks: 0.0\n",
      "Average L1 Distance for Successful Attacks: 0.0\n",
      "Average L2 Distance for Successful Attacks: 0.0\n",
      "Average Linf Distance for Successful Attacks: 0.0\n",
      "Average Mahalanobis Distance for Successful Attacks: 2.8906615668602975\n",
      "Average Sensitivity for Successful Attacks: 0.0\n",
      "Outlier Rate for Successful Attacks: 5.88235294117647%\n",
      "\n",
      "\n"
     ]
    },
    {
     "name": "stderr",
     "output_type": "stream",
     "text": [
      "100%|██████████| 320/320 [01:23<00:00,  3.84it/s]\n"
     ]
    },
    {
     "name": "stdout",
     "output_type": "stream",
     "text": [
      "Epsilon = 0.01\n",
      "Success Rate: 32.5%\n",
      "Average L0 Distance for Successful Attacks: 10.951923076923077\n",
      "Average L1 Distance for Successful Attacks: 0.010000004952486891\n",
      "Average L2 Distance for Successful Attacks: 0.029783506859810308\n",
      "Average Linf Distance for Successful Attacks: 0.09599803438266882\n",
      "Average Mahalanobis Distance for Successful Attacks: 2.9610647703846498\n",
      "Average Sensitivity for Successful Attacks: 0.007320206428770549\n",
      "Outlier Rate for Successful Attacks: 5.769230769230769%\n",
      "\n",
      "\n"
     ]
    },
    {
     "name": "stderr",
     "output_type": "stream",
     "text": [
      "100%|██████████| 320/320 [01:23<00:00,  3.84it/s]\n"
     ]
    },
    {
     "name": "stdout",
     "output_type": "stream",
     "text": [
      "Epsilon = 0.03\n",
      "Success Rate: 47.1875%\n",
      "Average L0 Distance for Successful Attacks: 10.960264900662251\n",
      "Average L1 Distance for Successful Attacks: 0.030000000994726522\n",
      "Average L2 Distance for Successful Attacks: 0.08827172143273795\n",
      "Average Linf Distance for Successful Attacks: 0.28301769445668784\n",
      "Average Mahalanobis Distance for Successful Attacks: 3.1098604685157367\n",
      "Average Sensitivity for Successful Attacks: 0.021942376165299225\n",
      "Outlier Rate for Successful Attacks: 7.9470198675496695%\n",
      "\n",
      "\n"
     ]
    },
    {
     "name": "stderr",
     "output_type": "stream",
     "text": [
      "100%|██████████| 320/320 [01:23<00:00,  3.83it/s]\n"
     ]
    },
    {
     "name": "stdout",
     "output_type": "stream",
     "text": [
      "Epsilon = 0.05\n",
      "Success Rate: 56.56250000000001%\n",
      "Average L0 Distance for Successful Attacks: 10.94475138121547\n",
      "Average L1 Distance for Successful Attacks: 0.05000001138580438\n",
      "Average L2 Distance for Successful Attacks: 0.14594300008939776\n",
      "Average Linf Distance for Successful Attacks: 0.46560387387460106\n",
      "Average Mahalanobis Distance for Successful Attacks: 3.358265753241262\n",
      "Average Sensitivity for Successful Attacks: 0.036627146996845855\n",
      "Outlier Rate for Successful Attacks: 9.392265193370166%\n",
      "\n",
      "\n"
     ]
    },
    {
     "name": "stderr",
     "output_type": "stream",
     "text": [
      "100%|██████████| 320/320 [01:23<00:00,  3.83it/s]\n"
     ]
    },
    {
     "name": "stdout",
     "output_type": "stream",
     "text": [
      "Epsilon = 0.1\n",
      "Success Rate: 80.3125%\n",
      "Average L0 Distance for Successful Attacks: 10.957198443579767\n",
      "Average L1 Distance for Successful Attacks: 0.10000001488376684\n",
      "Average L2 Distance for Successful Attacks: 0.28184338754717014\n",
      "Average Linf Distance for Successful Attacks: 0.8883374676630191\n",
      "Average Mahalanobis Distance for Successful Attacks: 4.301796619641396\n",
      "Average Sensitivity for Successful Attacks: 0.07316360724111476\n",
      "Outlier Rate for Successful Attacks: 36.964980544747085%\n",
      "\n",
      "\n"
     ]
    },
    {
     "name": "stderr",
     "output_type": "stream",
     "text": [
      "100%|██████████| 320/320 [01:23<00:00,  3.84it/s]\n"
     ]
    },
    {
     "name": "stdout",
     "output_type": "stream",
     "text": [
      "Epsilon = 0.3\n",
      "Success Rate: 92.5%\n",
      "Average L0 Distance for Successful Attacks: 10.97972972972973\n",
      "Average L1 Distance for Successful Attacks: 0.2953882646319029\n",
      "Average L2 Distance for Successful Attacks: 0.6888226458953844\n",
      "Average Linf Distance for Successful Attacks: 2.03391837288399\n",
      "Average Mahalanobis Distance for Successful Attacks: 8.035321679261628\n",
      "Average Sensitivity for Successful Attacks: 0.21563862762539773\n",
      "Outlier Rate for Successful Attacks: 97.2972972972973%\n",
      "\n",
      "\n"
     ]
    },
    {
     "name": "stderr",
     "output_type": "stream",
     "text": [
      "100%|██████████| 320/320 [01:23<00:00,  3.85it/s]\n"
     ]
    },
    {
     "name": "stdout",
     "output_type": "stream",
     "text": [
      "Epsilon = 0.5\n",
      "Success Rate: 92.5%\n",
      "Average L0 Distance for Successful Attacks: 10.986486486486486\n",
      "Average L1 Distance for Successful Attacks: 0.47460765129811056\n",
      "Average L2 Distance for Successful Attacks: 1.0231420479312137\n",
      "Average Linf Distance for Successful Attacks: 2.9206423642667563\n",
      "Average Mahalanobis Distance for Successful Attacks: 11.687917034715632\n",
      "Average Sensitivity for Successful Attacks: 0.3462163418833468\n",
      "Outlier Rate for Successful Attacks: 100.0%\n",
      "\n",
      "\n"
     ]
    },
    {
     "name": "stderr",
     "output_type": "stream",
     "text": [
      "100%|██████████| 320/320 [01:23<00:00,  3.84it/s]\n"
     ]
    },
    {
     "name": "stdout",
     "output_type": "stream",
     "text": [
      "Epsilon = 1.0\n",
      "Success Rate: 94.0625%\n",
      "Average L0 Distance for Successful Attacks: 10.986710963455149\n",
      "Average L1 Distance for Successful Attacks: 0.7961963924062608\n",
      "Average L2 Distance for Successful Attacks: 1.488126663076521\n",
      "Average Linf Distance for Successful Attacks: 4.131216945046206\n",
      "Average Mahalanobis Distance for Successful Attacks: 16.10991729062355\n",
      "Average Sensitivity for Successful Attacks: 0.5809173478042564\n",
      "Outlier Rate for Successful Attacks: 100.0%\n",
      "\n",
      "\n",
      "Running LinfBIM on WineQuality-Red with FTTransformer\n",
      "Threshold: 4.4356665308251575\n"
     ]
    },
    {
     "name": "stderr",
     "output_type": "stream",
     "text": [
      "100%|██████████| 320/320 [00:27<00:00, 11.66it/s]\n"
     ]
    },
    {
     "name": "stdout",
     "output_type": "stream",
     "text": [
      "Epsilon = 0.0\n",
      "Success Rate: 26.5625%\n",
      "Average L0 Distance for Successful Attacks: 0.0\n",
      "Average L1 Distance for Successful Attacks: 0.0\n",
      "Average L2 Distance for Successful Attacks: 0.0\n",
      "Average Linf Distance for Successful Attacks: 0.0\n",
      "Average Mahalanobis Distance for Successful Attacks: 2.8906615668602975\n",
      "Average Sensitivity for Successful Attacks: 0.0\n",
      "Outlier Rate for Successful Attacks: 5.88235294117647%\n",
      "\n",
      "\n"
     ]
    },
    {
     "name": "stderr",
     "output_type": "stream",
     "text": [
      "100%|██████████| 320/320 [00:26<00:00, 11.88it/s]\n"
     ]
    },
    {
     "name": "stdout",
     "output_type": "stream",
     "text": [
      "Epsilon = 0.01\n",
      "Success Rate: 33.75%\n",
      "Average L0 Distance for Successful Attacks: 10.916666666666666\n",
      "Average L1 Distance for Successful Attacks: 0.010000005674858889\n",
      "Average L2 Distance for Successful Attacks: 0.03275416287834997\n",
      "Average Linf Distance for Successful Attacks: 0.10790305819224429\n",
      "Average Mahalanobis Distance for Successful Attacks: 2.9489111285816043\n",
      "Average Sensitivity for Successful Attacks: 0.007345891885321449\n",
      "Outlier Rate for Successful Attacks: 5.555555555555555%\n",
      "\n",
      "\n"
     ]
    },
    {
     "name": "stderr",
     "output_type": "stream",
     "text": [
      "100%|██████████| 320/320 [00:27<00:00, 11.79it/s]\n"
     ]
    },
    {
     "name": "stdout",
     "output_type": "stream",
     "text": [
      "Epsilon = 0.03\n",
      "Success Rate: 49.6875%\n",
      "Average L0 Distance for Successful Attacks: 10.79874213836478\n",
      "Average L1 Distance for Successful Attacks: 0.030000001004656905\n",
      "Average L2 Distance for Successful Attacks: 0.09638566401956966\n",
      "Average Linf Distance for Successful Attacks: 0.31497261607609456\n",
      "Average Mahalanobis Distance for Successful Attacks: 3.112126487431223\n",
      "Average Sensitivity for Successful Attacks: 0.022796343566861544\n",
      "Outlier Rate for Successful Attacks: 6.918238993710692%\n",
      "\n",
      "\n"
     ]
    },
    {
     "name": "stderr",
     "output_type": "stream",
     "text": [
      "100%|██████████| 320/320 [00:27<00:00, 11.76it/s]\n"
     ]
    },
    {
     "name": "stdout",
     "output_type": "stream",
     "text": [
      "Epsilon = 0.05\n",
      "Success Rate: 59.68750000000001%\n",
      "Average L0 Distance for Successful Attacks: 10.74869109947644\n",
      "Average L1 Distance for Successful Attacks: 0.05000001188192068\n",
      "Average L2 Distance for Successful Attacks: 0.15935093343882037\n",
      "Average Linf Distance for Successful Attacks: 0.5184066070936113\n",
      "Average Mahalanobis Distance for Successful Attacks: 3.429020416473234\n",
      "Average Sensitivity for Successful Attacks: 0.03907466976274371\n",
      "Outlier Rate for Successful Attacks: 12.56544502617801%\n",
      "\n",
      "\n"
     ]
    },
    {
     "name": "stderr",
     "output_type": "stream",
     "text": [
      "100%|██████████| 320/320 [00:27<00:00, 11.79it/s]\n"
     ]
    },
    {
     "name": "stdout",
     "output_type": "stream",
     "text": [
      "Epsilon = 0.1\n",
      "Success Rate: 84.375%\n",
      "Average L0 Distance for Successful Attacks: 10.662962962962963\n",
      "Average L1 Distance for Successful Attacks: 0.09925927699164108\n",
      "Average L2 Distance for Successful Attacks: 0.30594340555685023\n",
      "Average Linf Distance for Successful Attacks: 0.9816965828891153\n",
      "Average Mahalanobis Distance for Successful Attacks: 4.506421284357758\n",
      "Average Sensitivity for Successful Attacks: 0.07456470868672618\n",
      "Outlier Rate for Successful Attacks: 44.81481481481481%\n",
      "\n",
      "\n"
     ]
    },
    {
     "name": "stderr",
     "output_type": "stream",
     "text": [
      "100%|██████████| 320/320 [00:27<00:00, 11.80it/s]\n"
     ]
    },
    {
     "name": "stdout",
     "output_type": "stream",
     "text": [
      "Epsilon = 0.3\n",
      "Success Rate: 92.5%\n",
      "Average L0 Distance for Successful Attacks: 10.45945945945946\n",
      "Average L1 Distance for Successful Attacks: 0.24965278781648423\n",
      "Average L2 Distance for Successful Attacks: 0.6709826511859491\n",
      "Average Linf Distance for Successful Attacks: 2.0416525187272883\n",
      "Average Mahalanobis Distance for Successful Attacks: 7.761369712363268\n",
      "Average Sensitivity for Successful Attacks: 0.19354441958303387\n",
      "Outlier Rate for Successful Attacks: 91.21621621621621%\n",
      "\n",
      "\n"
     ]
    },
    {
     "name": "stderr",
     "output_type": "stream",
     "text": [
      "100%|██████████| 320/320 [00:27<00:00, 11.72it/s]\n"
     ]
    },
    {
     "name": "stdout",
     "output_type": "stream",
     "text": [
      "Epsilon = 0.5\n",
      "Success Rate: 92.5%\n",
      "Average L0 Distance for Successful Attacks: 9.983108108108109\n",
      "Average L1 Distance for Successful Attacks: 0.3654200948674131\n",
      "Average L2 Distance for Successful Attacks: 0.8432948304894002\n",
      "Average Linf Distance for Successful Attacks: 2.4387976778419436\n",
      "Average Mahalanobis Distance for Successful Attacks: 9.299108837918565\n",
      "Average Sensitivity for Successful Attacks: 0.3026077758420158\n",
      "Outlier Rate for Successful Attacks: 95.6081081081081%\n",
      "\n",
      "\n"
     ]
    },
    {
     "name": "stderr",
     "output_type": "stream",
     "text": [
      "100%|██████████| 320/320 [00:27<00:00, 11.80it/s]\n"
     ]
    },
    {
     "name": "stdout",
     "output_type": "stream",
     "text": [
      "Epsilon = 1.0\n",
      "Success Rate: 75.0%\n",
      "Average L0 Distance for Successful Attacks: 9.8625\n",
      "Average L1 Distance for Successful Attacks: 0.6028230432420969\n",
      "Average L2 Distance for Successful Attacks: 1.1574942113831639\n",
      "Average Linf Distance for Successful Attacks: 3.2309258582691354\n",
      "Average Mahalanobis Distance for Successful Attacks: 12.427507114458962\n",
      "Average Sensitivity for Successful Attacks: 0.4979693631331126\n",
      "Outlier Rate for Successful Attacks: 99.16666666666667%\n",
      "\n",
      "\n",
      "Running L2FGSM on WineQuality-Red with FTTransformer\n",
      "Threshold: 4.4356665308251575\n"
     ]
    },
    {
     "name": "stderr",
     "output_type": "stream",
     "text": [
      "100%|██████████| 320/320 [00:06<00:00, 50.95it/s]\n"
     ]
    },
    {
     "name": "stdout",
     "output_type": "stream",
     "text": [
      "Epsilon = 0.0\n",
      "Success Rate: 26.5625%\n",
      "Average L0 Distance for Successful Attacks: 0.0\n",
      "Average L1 Distance for Successful Attacks: 0.0\n",
      "Average L2 Distance for Successful Attacks: 0.0\n",
      "Average Linf Distance for Successful Attacks: 0.0\n",
      "Average Mahalanobis Distance for Successful Attacks: 2.8906615668602975\n",
      "Average Sensitivity for Successful Attacks: 0.0\n",
      "Outlier Rate for Successful Attacks: 5.88235294117647%\n",
      "\n",
      "\n"
     ]
    },
    {
     "name": "stderr",
     "output_type": "stream",
     "text": [
      "100%|██████████| 320/320 [00:06<00:00, 50.47it/s]\n"
     ]
    },
    {
     "name": "stdout",
     "output_type": "stream",
     "text": [
      "Epsilon = 0.01\n",
      "Success Rate: 30.0%\n",
      "Average L0 Distance for Successful Attacks: 10.958333333333334\n",
      "Average L1 Distance for Successful Attacks: 0.00844996616554757\n",
      "Average L2 Distance for Successful Attacks: 0.009999967044374595\n",
      "Average Linf Distance for Successful Attacks: 0.018397213144150253\n",
      "Average Mahalanobis Distance for Successful Attacks: 2.9150592093723726\n",
      "Average Sensitivity for Successful Attacks: 0.006182865923619829\n",
      "Outlier Rate for Successful Attacks: 6.25%\n",
      "\n",
      "\n"
     ]
    },
    {
     "name": "stderr",
     "output_type": "stream",
     "text": [
      "100%|██████████| 320/320 [00:06<00:00, 51.24it/s]\n"
     ]
    },
    {
     "name": "stdout",
     "output_type": "stream",
     "text": [
      "Epsilon = 0.03\n",
      "Success Rate: 40.0%\n",
      "Average L0 Distance for Successful Attacks: 10.953125\n",
      "Average L1 Distance for Successful Attacks: 0.025227697857189924\n",
      "Average L2 Distance for Successful Attacks: 0.029976386329508387\n",
      "Average Linf Distance for Successful Attacks: 0.055394953727955\n",
      "Average Mahalanobis Distance for Successful Attacks: 2.9792811933333905\n",
      "Average Sensitivity for Successful Attacks: 0.018464550987118855\n",
      "Outlier Rate for Successful Attacks: 7.03125%\n",
      "\n",
      "\n"
     ]
    },
    {
     "name": "stderr",
     "output_type": "stream",
     "text": [
      "100%|██████████| 320/320 [00:06<00:00, 50.13it/s]\n"
     ]
    },
    {
     "name": "stdout",
     "output_type": "stream",
     "text": [
      "Epsilon = 0.05\n",
      "Success Rate: 46.25%\n",
      "Average L0 Distance for Successful Attacks: 10.952702702702704\n",
      "Average L1 Distance for Successful Attacks: 0.04187223496469292\n",
      "Average L2 Distance for Successful Attacks: 0.04996596135803171\n",
      "Average Linf Distance for Successful Attacks: 0.092701552586781\n",
      "Average Mahalanobis Distance for Successful Attacks: 2.9330097646840882\n",
      "Average Sensitivity for Successful Attacks: 0.03065095075431305\n",
      "Outlier Rate for Successful Attacks: 6.756756756756757%\n",
      "\n",
      "\n"
     ]
    },
    {
     "name": "stderr",
     "output_type": "stream",
     "text": [
      "100%|██████████| 320/320 [00:06<00:00, 51.22it/s]\n"
     ]
    },
    {
     "name": "stdout",
     "output_type": "stream",
     "text": [
      "Epsilon = 0.1\n",
      "Success Rate: 59.68750000000001%\n",
      "Average L0 Distance for Successful Attacks: 10.916230366492147\n",
      "Average L1 Distance for Successful Attacks: 0.08277851483584699\n",
      "Average L2 Distance for Successful Attacks: 0.09994661320410474\n",
      "Average Linf Distance for Successful Attacks: 0.1871770532187367\n",
      "Average Mahalanobis Distance for Successful Attacks: 3.047940253380444\n",
      "Average Sensitivity for Successful Attacks: 0.06083176103639977\n",
      "Outlier Rate for Successful Attacks: 7.329842931937172%\n",
      "\n",
      "\n"
     ]
    },
    {
     "name": "stderr",
     "output_type": "stream",
     "text": [
      "100%|██████████| 320/320 [00:06<00:00, 50.84it/s]\n"
     ]
    },
    {
     "name": "stdout",
     "output_type": "stream",
     "text": [
      "Epsilon = 0.3\n",
      "Success Rate: 85.0%\n",
      "Average L0 Distance for Successful Attacks: 10.911764705882353\n",
      "Average L1 Distance for Successful Attacks: 0.20727035896304777\n",
      "Average L2 Distance for Successful Attacks: 0.27107578417395845\n",
      "Average Linf Distance for Successful Attacks: 0.5458808695787892\n",
      "Average Mahalanobis Distance for Successful Attacks: 3.716660093150803\n",
      "Average Sensitivity for Successful Attacks: 0.15233369333231273\n",
      "Outlier Rate for Successful Attacks: 15.808823529411764%\n",
      "\n",
      "\n"
     ]
    },
    {
     "name": "stderr",
     "output_type": "stream",
     "text": [
      "100%|██████████| 320/320 [00:06<00:00, 51.35it/s]\n"
     ]
    },
    {
     "name": "stdout",
     "output_type": "stream",
     "text": [
      "Epsilon = 0.5\n",
      "Success Rate: 91.5625%\n",
      "Average L0 Distance for Successful Attacks: 10.918088737201366\n",
      "Average L1 Distance for Successful Attacks: 0.32070164382457733\n",
      "Average L2 Distance for Successful Attacks: 0.42229520374394114\n",
      "Average Linf Distance for Successful Attacks: 0.8606103816842057\n",
      "Average Mahalanobis Distance for Successful Attacks: 4.629129200772028\n",
      "Average Sensitivity for Successful Attacks: 0.23543746677885283\n",
      "Outlier Rate for Successful Attacks: 56.31399317406144%\n",
      "\n",
      "\n"
     ]
    },
    {
     "name": "stderr",
     "output_type": "stream",
     "text": [
      "100%|██████████| 320/320 [00:06<00:00, 51.54it/s]\n"
     ]
    },
    {
     "name": "stdout",
     "output_type": "stream",
     "text": [
      "Epsilon = 1.0\n",
      "Success Rate: 92.5%\n",
      "Average L0 Distance for Successful Attacks: 10.91891891891892\n",
      "Average L1 Distance for Successful Attacks: 0.5889790716606218\n",
      "Average L2 Distance for Successful Attacks: 0.7394619184873394\n",
      "Average Linf Distance for Successful Attacks: 1.5101514479799851\n",
      "Average Mahalanobis Distance for Successful Attacks: 7.015465910289122\n",
      "Average Sensitivity for Successful Attacks: 0.43240871363495653\n",
      "Outlier Rate for Successful Attacks: 87.83783783783784%\n",
      "\n",
      "\n",
      "Running L2PGD on WineQuality-Red with FTTransformer\n",
      "Threshold: 4.4356665308251575\n"
     ]
    },
    {
     "name": "stderr",
     "output_type": "stream",
     "text": [
      "100%|██████████| 320/320 [01:46<00:00,  3.00it/s]\n"
     ]
    },
    {
     "name": "stdout",
     "output_type": "stream",
     "text": [
      "Epsilon = 0.0\n",
      "Success Rate: 26.5625%\n",
      "Average L0 Distance for Successful Attacks: 0.0\n",
      "Average L1 Distance for Successful Attacks: 0.0\n",
      "Average L2 Distance for Successful Attacks: 0.0\n",
      "Average Linf Distance for Successful Attacks: 0.0\n",
      "Average Mahalanobis Distance for Successful Attacks: 2.8906615668602975\n",
      "Average Sensitivity for Successful Attacks: 0.0\n",
      "Outlier Rate for Successful Attacks: 5.88235294117647%\n",
      "\n",
      "\n"
     ]
    },
    {
     "name": "stderr",
     "output_type": "stream",
     "text": [
      "100%|██████████| 320/320 [01:46<00:00,  3.01it/s]\n"
     ]
    },
    {
     "name": "stdout",
     "output_type": "stream",
     "text": [
      "Epsilon = 0.01\n",
      "Success Rate: 29.375%\n",
      "Average L0 Distance for Successful Attacks: 10.97872340425532\n",
      "Average L1 Distance for Successful Attacks: 0.0072320008531529855\n",
      "Average L2 Distance for Successful Attacks: 0.010000000152974687\n",
      "Average Linf Distance for Successful Attacks: 0.024235924586970756\n",
      "Average Mahalanobis Distance for Successful Attacks: 2.928537883138091\n",
      "Average Sensitivity for Successful Attacks: 0.0052829652063627825\n",
      "Outlier Rate for Successful Attacks: 6.382978723404255%\n",
      "\n",
      "\n"
     ]
    },
    {
     "name": "stderr",
     "output_type": "stream",
     "text": [
      "100%|██████████| 320/320 [01:46<00:00,  3.02it/s]\n"
     ]
    },
    {
     "name": "stdout",
     "output_type": "stream",
     "text": [
      "Epsilon = 0.03\n",
      "Success Rate: 36.5625%\n",
      "Average L0 Distance for Successful Attacks: 10.982905982905983\n",
      "Average L1 Distance for Successful Attacks: 0.020931647947201364\n",
      "Average L2 Distance for Successful Attacks: 0.029928381355781842\n",
      "Average Linf Distance for Successful Attacks: 0.0741307853251441\n",
      "Average Mahalanobis Distance for Successful Attacks: 3.009698251109234\n",
      "Average Sensitivity for Successful Attacks: 0.015273044220147988\n",
      "Outlier Rate for Successful Attacks: 7.6923076923076925%\n",
      "\n",
      "\n"
     ]
    },
    {
     "name": "stderr",
     "output_type": "stream",
     "text": [
      "100%|██████████| 320/320 [01:45<00:00,  3.02it/s]\n"
     ]
    },
    {
     "name": "stdout",
     "output_type": "stream",
     "text": [
      "Epsilon = 0.05\n",
      "Success Rate: 44.0625%\n",
      "Average L0 Distance for Successful Attacks: 10.98581560283688\n",
      "Average L1 Distance for Successful Attacks: 0.03449324666396946\n",
      "Average L2 Distance for Successful Attacks: 0.049894319781174895\n",
      "Average Linf Distance for Successful Attacks: 0.12340947510080134\n",
      "Average Mahalanobis Distance for Successful Attacks: 2.9586576698028577\n",
      "Average Sensitivity for Successful Attacks: 0.025166632951045712\n",
      "Outlier Rate for Successful Attacks: 7.092198581560284%\n",
      "\n",
      "\n"
     ]
    },
    {
     "name": "stderr",
     "output_type": "stream",
     "text": [
      "100%|██████████| 320/320 [01:45<00:00,  3.02it/s]\n"
     ]
    },
    {
     "name": "stdout",
     "output_type": "stream",
     "text": [
      "Epsilon = 0.1\n",
      "Success Rate: 58.4375%\n",
      "Average L0 Distance for Successful Attacks: 10.957219251336898\n",
      "Average L1 Distance for Successful Attacks: 0.0671282098055842\n",
      "Average L2 Distance for Successful Attacks: 0.09990897906177185\n",
      "Average Linf Distance for Successful Attacks: 0.2488491281787342\n",
      "Average Mahalanobis Distance for Successful Attacks: 3.0271320895308285\n",
      "Average Sensitivity for Successful Attacks: 0.04911274042598066\n",
      "Outlier Rate for Successful Attacks: 6.951871657754011%\n",
      "\n",
      "\n"
     ]
    },
    {
     "name": "stderr",
     "output_type": "stream",
     "text": [
      "100%|██████████| 320/320 [01:46<00:00,  3.01it/s]\n"
     ]
    },
    {
     "name": "stdout",
     "output_type": "stream",
     "text": [
      "Epsilon = 0.3\n",
      "Success Rate: 86.875%\n",
      "Average L0 Distance for Successful Attacks: 10.964028776978417\n",
      "Average L1 Distance for Successful Attacks: 0.1877095074051147\n",
      "Average L2 Distance for Successful Attacks: 0.2975615044291928\n",
      "Average Linf Distance for Successful Attacks: 0.770008281838122\n",
      "Average Mahalanobis Distance for Successful Attacks: 4.0971558564212724\n",
      "Average Sensitivity for Successful Attacks: 0.13724689081096822\n",
      "Outlier Rate for Successful Attacks: 27.697841726618705%\n",
      "\n",
      "\n"
     ]
    },
    {
     "name": "stderr",
     "output_type": "stream",
     "text": [
      "100%|██████████| 320/320 [01:46<00:00,  3.02it/s]\n"
     ]
    },
    {
     "name": "stdout",
     "output_type": "stream",
     "text": [
      "Epsilon = 0.5\n",
      "Success Rate: 91.25%\n",
      "Average L0 Distance for Successful Attacks: 10.972602739726028\n",
      "Average L1 Distance for Successful Attacks: 0.31146712090871104\n",
      "Average L2 Distance for Successful Attacks: 0.48591009670332685\n",
      "Average Linf Distance for Successful Attacks: 1.2462482797364667\n",
      "Average Mahalanobis Distance for Successful Attacks: 5.674152798846488\n",
      "Average Sensitivity for Successful Attacks: 0.2274656586144885\n",
      "Outlier Rate for Successful Attacks: 81.84931506849315%\n",
      "\n",
      "\n"
     ]
    },
    {
     "name": "stderr",
     "output_type": "stream",
     "text": [
      "100%|██████████| 320/320 [01:46<00:00,  3.02it/s]\n"
     ]
    },
    {
     "name": "stdout",
     "output_type": "stream",
     "text": [
      "Epsilon = 1.0\n",
      "Success Rate: 92.1875%\n",
      "Average L0 Distance for Successful Attacks: 10.996610169491525\n",
      "Average L1 Distance for Successful Attacks: 0.5117339492854426\n",
      "Average L2 Distance for Successful Attacks: 0.8714360577575231\n",
      "Average Linf Distance for Successful Attacks: 2.320186214123742\n",
      "Average Mahalanobis Distance for Successful Attacks: 10.179382404766946\n",
      "Average Sensitivity for Successful Attacks: 0.3729514946876946\n",
      "Outlier Rate for Successful Attacks: 98.64406779661017%\n",
      "\n",
      "\n",
      "Running L2BIM on WineQuality-Red with FTTransformer\n",
      "Threshold: 4.4356665308251575\n"
     ]
    },
    {
     "name": "stderr",
     "output_type": "stream",
     "text": [
      "100%|██████████| 320/320 [00:27<00:00, 11.51it/s]\n"
     ]
    },
    {
     "name": "stdout",
     "output_type": "stream",
     "text": [
      "Epsilon = 0.0\n",
      "Success Rate: 26.5625%\n",
      "Average L0 Distance for Successful Attacks: 0.0\n",
      "Average L1 Distance for Successful Attacks: 0.0\n",
      "Average L2 Distance for Successful Attacks: 0.0\n",
      "Average Linf Distance for Successful Attacks: 0.0\n",
      "Average Mahalanobis Distance for Successful Attacks: 2.8906615668602975\n",
      "Average Sensitivity for Successful Attacks: 0.0\n",
      "Outlier Rate for Successful Attacks: 5.88235294117647%\n",
      "\n",
      "\n"
     ]
    },
    {
     "name": "stderr",
     "output_type": "stream",
     "text": [
      "100%|██████████| 320/320 [00:28<00:00, 11.29it/s]\n"
     ]
    },
    {
     "name": "stdout",
     "output_type": "stream",
     "text": [
      "Epsilon = 0.01\n",
      "Success Rate: 30.0%\n",
      "Average L0 Distance for Successful Attacks: 10.96875\n",
      "Average L1 Distance for Successful Attacks: 0.008312451730792722\n",
      "Average L2 Distance for Successful Attacks: 0.009999997360864654\n",
      "Average Linf Distance for Successful Attacks: 0.01870254934571373\n",
      "Average Mahalanobis Distance for Successful Attacks: 2.914644368284314\n",
      "Average Sensitivity for Successful Attacks: 0.0060749907812957344\n",
      "Outlier Rate for Successful Attacks: 6.25%\n",
      "\n",
      "\n"
     ]
    },
    {
     "name": "stderr",
     "output_type": "stream",
     "text": [
      "100%|██████████| 320/320 [00:27<00:00, 11.53it/s]\n"
     ]
    },
    {
     "name": "stdout",
     "output_type": "stream",
     "text": [
      "Epsilon = 0.03\n",
      "Success Rate: 40.0%\n",
      "Average L0 Distance for Successful Attacks: 10.9609375\n",
      "Average L1 Distance for Successful Attacks: 0.024005991406738758\n",
      "Average L2 Distance for Successful Attacks: 0.029973755343235098\n",
      "Average Linf Distance for Successful Attacks: 0.05823535460513085\n",
      "Average Mahalanobis Distance for Successful Attacks: 2.975377546655855\n",
      "Average Sensitivity for Successful Attacks: 0.017554148958879523\n",
      "Outlier Rate for Successful Attacks: 7.03125%\n",
      "\n",
      "\n"
     ]
    },
    {
     "name": "stderr",
     "output_type": "stream",
     "text": [
      "100%|██████████| 320/320 [00:28<00:00, 11.38it/s]\n"
     ]
    },
    {
     "name": "stdout",
     "output_type": "stream",
     "text": [
      "Epsilon = 0.05\n",
      "Success Rate: 47.5%\n",
      "Average L0 Distance for Successful Attacks: 10.947368421052632\n",
      "Average L1 Distance for Successful Attacks: 0.03865622305066178\n",
      "Average L2 Distance for Successful Attacks: 0.04985159602457363\n",
      "Average Linf Distance for Successful Attacks: 0.09985477237128898\n",
      "Average Mahalanobis Distance for Successful Attacks: 2.916354080734392\n",
      "Average Sensitivity for Successful Attacks: 0.02830863855534086\n",
      "Outlier Rate for Successful Attacks: 5.921052631578947%\n",
      "\n",
      "\n"
     ]
    },
    {
     "name": "stderr",
     "output_type": "stream",
     "text": [
      "100%|██████████| 320/320 [00:28<00:00, 11.31it/s]\n"
     ]
    },
    {
     "name": "stdout",
     "output_type": "stream",
     "text": [
      "Epsilon = 0.1\n",
      "Success Rate: 62.81250000000001%\n",
      "Average L0 Distance for Successful Attacks: 10.935323383084578\n",
      "Average L1 Distance for Successful Attacks: 0.07069837546615458\n",
      "Average L2 Distance for Successful Attacks: 0.09964609867082307\n",
      "Average Linf Distance for Successful Attacks: 0.21071710504257857\n",
      "Average Mahalanobis Distance for Successful Attacks: 2.961824337581218\n",
      "Average Sensitivity for Successful Attacks: 0.051847299486769374\n",
      "Outlier Rate for Successful Attacks: 6.467661691542288%\n",
      "\n",
      "\n"
     ]
    },
    {
     "name": "stderr",
     "output_type": "stream",
     "text": [
      "100%|██████████| 320/320 [00:28<00:00, 11.19it/s]\n"
     ]
    },
    {
     "name": "stdout",
     "output_type": "stream",
     "text": [
      "Epsilon = 0.3\n",
      "Success Rate: 91.25%\n",
      "Average L0 Distance for Successful Attacks: 10.948630136986301\n",
      "Average L1 Distance for Successful Attacks: 0.1956362343099836\n",
      "Average L2 Distance for Successful Attacks: 0.29039162006994634\n",
      "Average Linf Distance for Successful Attacks: 0.64018033057043\n",
      "Average Mahalanobis Distance for Successful Attacks: 3.5621791792856468\n",
      "Average Sensitivity for Successful Attacks: 0.14328813031060647\n",
      "Outlier Rate for Successful Attacks: 13.698630136986301%\n",
      "\n",
      "\n"
     ]
    },
    {
     "name": "stderr",
     "output_type": "stream",
     "text": [
      "100%|██████████| 320/320 [00:28<00:00, 11.16it/s]\n"
     ]
    },
    {
     "name": "stdout",
     "output_type": "stream",
     "text": [
      "Epsilon = 0.5\n",
      "Success Rate: 92.5%\n",
      "Average L0 Distance for Successful Attacks: 10.983108108108109\n",
      "Average L1 Distance for Successful Attacks: 0.30040923229141814\n",
      "Average L2 Distance for Successful Attacks: 0.43794442245082277\n",
      "Average Linf Distance for Successful Attacks: 0.9777136775287422\n",
      "Average Mahalanobis Distance for Successful Attacks: 4.403202404113524\n",
      "Average Sensitivity for Successful Attacks: 0.21922993531601653\n",
      "Outlier Rate for Successful Attacks: 47.2972972972973%\n",
      "\n",
      "\n"
     ]
    },
    {
     "name": "stderr",
     "output_type": "stream",
     "text": [
      "100%|██████████| 320/320 [00:28<00:00, 11.14it/s]\n"
     ]
    },
    {
     "name": "stdout",
     "output_type": "stream",
     "text": [
      "Epsilon = 1.0\n",
      "Success Rate: 92.8125%\n",
      "Average L0 Distance for Successful Attacks: 10.98989898989899\n",
      "Average L1 Distance for Successful Attacks: 0.49146281012180276\n",
      "Average L2 Distance for Successful Attacks: 0.7308675139038651\n",
      "Average Linf Distance for Successful Attacks: 1.7184642924604192\n",
      "Average Mahalanobis Distance for Successful Attacks: 7.643268687337312\n",
      "Average Sensitivity for Successful Attacks: 0.35850946075888196\n",
      "Outlier Rate for Successful Attacks: 65.65656565656566%\n",
      "\n",
      "\n",
      "Running LinfDeepFool on WineQuality-Red with FTTransformer\n",
      "Threshold: 4.4356665308251575\n"
     ]
    },
    {
     "name": "stderr",
     "output_type": "stream",
     "text": [
      "100%|██████████| 320/320 [00:17<00:00, 18.09it/s]\n"
     ]
    },
    {
     "name": "stdout",
     "output_type": "stream",
     "text": [
      "Epsilon = 0.0\n",
      "Success Rate: 26.5625%\n",
      "Average L0 Distance for Successful Attacks: 0.0\n",
      "Average L1 Distance for Successful Attacks: 0.0\n",
      "Average L2 Distance for Successful Attacks: 0.0\n",
      "Average Linf Distance for Successful Attacks: 0.0\n",
      "Average Mahalanobis Distance for Successful Attacks: 2.8906615668602975\n",
      "Average Sensitivity for Successful Attacks: 0.0\n",
      "Outlier Rate for Successful Attacks: 5.88235294117647%\n",
      "\n",
      "\n"
     ]
    },
    {
     "name": "stderr",
     "output_type": "stream",
     "text": [
      "100%|██████████| 320/320 [00:17<00:00, 18.27it/s]\n"
     ]
    },
    {
     "name": "stdout",
     "output_type": "stream",
     "text": [
      "Epsilon = 0.01\n",
      "Success Rate: 33.75%\n",
      "Average L0 Distance for Successful Attacks: 2.3333333333333335\n",
      "Average L1 Distance for Successful Attacks: 0.0012461827309043318\n",
      "Average L2 Distance for Successful Attacks: 0.004118650218178691\n",
      "Average Linf Distance for Successful Attacks: 0.013618022375912578\n",
      "Average Mahalanobis Distance for Successful Attacks: 2.9198707478806343\n",
      "Average Sensitivity for Successful Attacks: 0.0009140920163998897\n",
      "Outlier Rate for Successful Attacks: 5.555555555555555%\n",
      "\n",
      "\n"
     ]
    },
    {
     "name": "stderr",
     "output_type": "stream",
     "text": [
      "100%|██████████| 320/320 [00:17<00:00, 18.20it/s]\n"
     ]
    },
    {
     "name": "stdout",
     "output_type": "stream",
     "text": [
      "Epsilon = 0.03\n",
      "Success Rate: 49.6875%\n",
      "Average L0 Distance for Successful Attacks: 5.088050314465409\n",
      "Average L1 Distance for Successful Attacks: 0.00787828691631743\n",
      "Average L2 Distance for Successful Attacks: 0.025742618494473818\n",
      "Average Linf Distance for Successful Attacks: 0.08487353733969184\n",
      "Average Mahalanobis Distance for Successful Attacks: 2.9295861383401096\n",
      "Average Sensitivity for Successful Attacks: 0.005783954793594648\n",
      "Outlier Rate for Successful Attacks: 6.289308176100629%\n",
      "\n",
      "\n"
     ]
    },
    {
     "name": "stderr",
     "output_type": "stream",
     "text": [
      "100%|██████████| 320/320 [00:17<00:00, 18.36it/s]\n"
     ]
    },
    {
     "name": "stdout",
     "output_type": "stream",
     "text": [
      "Epsilon = 0.05\n",
      "Success Rate: 59.68750000000001%\n",
      "Average L0 Distance for Successful Attacks: 6.052356020942408\n",
      "Average L1 Distance for Successful Attacks: 0.01460921149993442\n",
      "Average L2 Distance for Successful Attacks: 0.04782579889818441\n",
      "Average Linf Distance for Successful Attacks: 0.15751914572731363\n",
      "Average Mahalanobis Distance for Successful Attacks: 2.9949216711673343\n",
      "Average Sensitivity for Successful Attacks: 0.010766916849963728\n",
      "Outlier Rate for Successful Attacks: 7.853403141361256%\n",
      "\n",
      "\n"
     ]
    },
    {
     "name": "stderr",
     "output_type": "stream",
     "text": [
      "100%|██████████| 320/320 [00:17<00:00, 18.36it/s]\n"
     ]
    },
    {
     "name": "stdout",
     "output_type": "stream",
     "text": [
      "Epsilon = 0.1\n",
      "Success Rate: 84.0625%\n",
      "Average L0 Distance for Successful Attacks: 7.4572490706319705\n",
      "Average L1 Distance for Successful Attacks: 0.03897476042568905\n",
      "Average L2 Distance for Successful Attacks: 0.12617197297565416\n",
      "Average Linf Distance for Successful Attacks: 0.4140589930338709\n",
      "Average Mahalanobis Distance for Successful Attacks: 3.4723589302455835\n",
      "Average Sensitivity for Successful Attacks: 0.028697898379569445\n",
      "Outlier Rate for Successful Attacks: 18.587360594795538%\n",
      "\n",
      "\n"
     ]
    },
    {
     "name": "stderr",
     "output_type": "stream",
     "text": [
      "100%|██████████| 320/320 [00:17<00:00, 18.29it/s]\n"
     ]
    },
    {
     "name": "stdout",
     "output_type": "stream",
     "text": [
      "Epsilon = 0.3\n",
      "Success Rate: 93.125%\n",
      "Average L0 Distance for Successful Attacks: 7.795302013422819\n",
      "Average L1 Distance for Successful Attacks: 0.09691831000749297\n",
      "Average L2 Distance for Successful Attacks: 0.2940898031338537\n",
      "Average Linf Distance for Successful Attacks: 0.9389696030833777\n",
      "Average Mahalanobis Distance for Successful Attacks: 5.0405806547134535\n",
      "Average Sensitivity for Successful Attacks: 0.07122478992594235\n",
      "Outlier Rate for Successful Attacks: 38.25503355704698%\n",
      "\n",
      "\n"
     ]
    },
    {
     "name": "stderr",
     "output_type": "stream",
     "text": [
      "100%|██████████| 320/320 [00:17<00:00, 18.11it/s]\n"
     ]
    },
    {
     "name": "stdout",
     "output_type": "stream",
     "text": [
      "Epsilon = 0.5\n",
      "Success Rate: 93.4375%\n",
      "Average L0 Distance for Successful Attacks: 7.806020066889632\n",
      "Average L1 Distance for Successful Attacks: 0.13731203929686228\n",
      "Average L2 Distance for Successful Attacks: 0.3899266342795999\n",
      "Average Linf Distance for Successful Attacks: 1.2124963625642569\n",
      "Average Mahalanobis Distance for Successful Attacks: 5.989069071192385\n",
      "Average Sensitivity for Successful Attacks: 0.10077527388130209\n",
      "Outlier Rate for Successful Attacks: 38.46153846153847%\n",
      "\n",
      "\n"
     ]
    },
    {
     "name": "stderr",
     "output_type": "stream",
     "text": [
      "100%|██████████| 320/320 [00:17<00:00, 18.11it/s]\n"
     ]
    },
    {
     "name": "stdout",
     "output_type": "stream",
     "text": [
      "Epsilon = 1.0\n",
      "Success Rate: 93.4375%\n",
      "Average L0 Distance for Successful Attacks: 7.806020066889632\n",
      "Average L1 Distance for Successful Attacks: 0.19662674834148142\n",
      "Average L2 Distance for Successful Attacks: 0.4666526881490451\n",
      "Average Linf Distance for Successful Attacks: 1.4018018283199107\n",
      "Average Mahalanobis Distance for Successful Attacks: 6.755942775830839\n",
      "Average Sensitivity for Successful Attacks: 0.14406229673667162\n",
      "Outlier Rate for Successful Attacks: 38.46153846153847%\n",
      "\n",
      "\n",
      "Running L2DeepFool on WineQuality-Red with FTTransformer\n",
      "Threshold: 4.4356665308251575\n"
     ]
    },
    {
     "name": "stderr",
     "output_type": "stream",
     "text": [
      "100%|██████████| 320/320 [00:18<00:00, 17.27it/s]\n"
     ]
    },
    {
     "name": "stdout",
     "output_type": "stream",
     "text": [
      "Epsilon = 0.0\n",
      "Success Rate: 26.5625%\n",
      "Average L0 Distance for Successful Attacks: 0.0\n",
      "Average L1 Distance for Successful Attacks: 0.0\n",
      "Average L2 Distance for Successful Attacks: 0.0\n",
      "Average Linf Distance for Successful Attacks: 0.0\n",
      "Average Mahalanobis Distance for Successful Attacks: 2.8906615668602975\n",
      "Average Sensitivity for Successful Attacks: 0.0\n",
      "Outlier Rate for Successful Attacks: 5.88235294117647%\n",
      "\n",
      "\n"
     ]
    },
    {
     "name": "stderr",
     "output_type": "stream",
     "text": [
      "100%|██████████| 320/320 [00:18<00:00, 17.28it/s]\n"
     ]
    },
    {
     "name": "stdout",
     "output_type": "stream",
     "text": [
      "Epsilon = 0.01\n",
      "Success Rate: 30.0%\n",
      "Average L0 Distance for Successful Attacks: 1.2604166666666667\n",
      "Average L1 Distance for Successful Attacks: 0.0005861800163984299\n",
      "Average L2 Distance for Successful Attacks: 0.0006561831463235043\n",
      "Average Linf Distance for Successful Attacks: 0.0011396838429694374\n",
      "Average Mahalanobis Distance for Successful Attacks: 2.907585887020113\n",
      "Average Sensitivity for Successful Attacks: 0.0004270425500484028\n",
      "Outlier Rate for Successful Attacks: 6.25%\n",
      "\n",
      "\n"
     ]
    },
    {
     "name": "stderr",
     "output_type": "stream",
     "text": [
      "100%|██████████| 320/320 [00:18<00:00, 17.32it/s]\n"
     ]
    },
    {
     "name": "stdout",
     "output_type": "stream",
     "text": [
      "Epsilon = 0.03\n",
      "Success Rate: 40.0%\n",
      "Average L0 Distance for Successful Attacks: 3.6796875\n",
      "Average L1 Distance for Successful Attacks: 0.005243065825197846\n",
      "Average L2 Distance for Successful Attacks: 0.006248099559797993\n",
      "Average Linf Distance for Successful Attacks: 0.01162306108744815\n",
      "Average Mahalanobis Distance for Successful Attacks: 2.9550621995986\n",
      "Average Sensitivity for Successful Attacks: 0.003840684413262352\n",
      "Outlier Rate for Successful Attacks: 7.03125%\n",
      "\n",
      "\n"
     ]
    },
    {
     "name": "stderr",
     "output_type": "stream",
     "text": [
      "100%|██████████| 320/320 [00:18<00:00, 17.31it/s]\n"
     ]
    },
    {
     "name": "stdout",
     "output_type": "stream",
     "text": [
      "Epsilon = 0.05\n",
      "Success Rate: 46.5625%\n",
      "Average L0 Distance for Successful Attacks: 4.697986577181208\n",
      "Average L1 Distance for Successful Attacks: 0.009843780440372108\n",
      "Average L2 Distance for Successful Attacks: 0.011899191252934128\n",
      "Average Linf Distance for Successful Attacks: 0.0224824046228556\n",
      "Average Mahalanobis Distance for Successful Attacks: 2.884591242878151\n",
      "Average Sensitivity for Successful Attacks: 0.007228138033869433\n",
      "Outlier Rate for Successful Attacks: 6.0402684563758395%\n",
      "\n",
      "\n"
     ]
    },
    {
     "name": "stderr",
     "output_type": "stream",
     "text": [
      "100%|██████████| 320/320 [00:18<00:00, 17.29it/s]\n"
     ]
    },
    {
     "name": "stdout",
     "output_type": "stream",
     "text": [
      "Epsilon = 0.1\n",
      "Success Rate: 60.0%\n",
      "Average L0 Distance for Successful Attacks: 6.067708333333333\n",
      "Average L1 Distance for Successful Attacks: 0.023002583455915254\n",
      "Average L2 Distance for Successful Attacks: 0.029310227404190908\n",
      "Average Linf Distance for Successful Attacks: 0.057493387760284044\n",
      "Average Mahalanobis Distance for Successful Attacks: 2.9054941040776203\n",
      "Average Sensitivity for Successful Attacks: 0.017024216850283363\n",
      "Outlier Rate for Successful Attacks: 6.770833333333333%\n",
      "\n",
      "\n"
     ]
    },
    {
     "name": "stderr",
     "output_type": "stream",
     "text": [
      "100%|██████████| 320/320 [00:18<00:00, 17.38it/s]\n"
     ]
    },
    {
     "name": "stdout",
     "output_type": "stream",
     "text": [
      "Epsilon = 0.3\n",
      "Success Rate: 84.6875%\n",
      "Average L0 Distance for Successful Attacks: 7.476014760147602\n",
      "Average L1 Distance for Successful Attacks: 0.07477008152711875\n",
      "Average L2 Distance for Successful Attacks: 0.1027507603783212\n",
      "Average Linf Distance for Successful Attacks: 0.2202547361654989\n",
      "Average Mahalanobis Distance for Successful Attacks: 3.1273051391724382\n",
      "Average Sensitivity for Successful Attacks: 0.055186543137271546\n",
      "Outlier Rate for Successful Attacks: 11.439114391143912%\n",
      "\n",
      "\n"
     ]
    },
    {
     "name": "stderr",
     "output_type": "stream",
     "text": [
      "100%|██████████| 320/320 [00:18<00:00, 17.41it/s]\n"
     ]
    },
    {
     "name": "stdout",
     "output_type": "stream",
     "text": [
      "Epsilon = 0.5\n",
      "Success Rate: 92.1875%\n",
      "Average L0 Distance for Successful Attacks: 7.762711864406779\n",
      "Average L1 Distance for Successful Attacks: 0.11783274215156748\n",
      "Average L2 Distance for Successful Attacks: 0.16847813987721674\n",
      "Average Linf Distance for Successful Attacks: 0.3768135824193389\n",
      "Average Mahalanobis Distance for Successful Attacks: 3.488084694719055\n",
      "Average Sensitivity for Successful Attacks: 0.08668297383168681\n",
      "Outlier Rate for Successful Attacks: 22.71186440677966%\n",
      "\n",
      "\n"
     ]
    },
    {
     "name": "stderr",
     "output_type": "stream",
     "text": [
      "100%|██████████| 320/320 [00:18<00:00, 17.31it/s]\n"
     ]
    },
    {
     "name": "stdout",
     "output_type": "stream",
     "text": [
      "Epsilon = 1.0\n",
      "Success Rate: 92.5%\n",
      "Average L0 Distance for Successful Attacks: 7.773648648648648\n",
      "Average L1 Distance for Successful Attacks: 0.1780112072624065\n",
      "Average L2 Distance for Successful Attacks: 0.26180875592930336\n",
      "Average Linf Distance for Successful Attacks: 0.602123026887106\n",
      "Average Mahalanobis Distance for Successful Attacks: 4.262352362237712\n",
      "Average Sensitivity for Successful Attacks: 0.13076276956810426\n",
      "Outlier Rate for Successful Attacks: 30.067567567567565%\n",
      "\n",
      "\n",
      "Running L2CarliniWagner on WineQuality-Red with FTTransformer\n",
      "Threshold: 4.4356665308251575\n"
     ]
    },
    {
     "name": "stderr",
     "output_type": "stream",
     "text": [
      "100%|██████████| 320/320 [02:27<00:00,  2.17it/s]\n"
     ]
    },
    {
     "name": "stdout",
     "output_type": "stream",
     "text": [
      "Epsilon = 0.0\n",
      "Success Rate: 26.5625%\n",
      "Average L0 Distance for Successful Attacks: 0.0\n",
      "Average L1 Distance for Successful Attacks: 0.0\n",
      "Average L2 Distance for Successful Attacks: 0.0\n",
      "Average Linf Distance for Successful Attacks: 0.0\n",
      "Average Mahalanobis Distance for Successful Attacks: 2.8906615668602975\n",
      "Average Sensitivity for Successful Attacks: 0.0\n",
      "Outlier Rate for Successful Attacks: 5.88235294117647%\n",
      "\n",
      "\n"
     ]
    },
    {
     "name": "stderr",
     "output_type": "stream",
     "text": [
      "100%|██████████| 320/320 [02:27<00:00,  2.17it/s]\n"
     ]
    },
    {
     "name": "stdout",
     "output_type": "stream",
     "text": [
      "Epsilon = 0.01\n",
      "Success Rate: 28.125%\n",
      "Average L0 Distance for Successful Attacks: 10.444444444444445\n",
      "Average L1 Distance for Successful Attacks: 0.00023764432149214878\n",
      "Average L2 Distance for Successful Attacks: 0.0005565078932452\n",
      "Average Linf Distance for Successful Attacks: 0.0016633097108246552\n",
      "Average Mahalanobis Distance for Successful Attacks: 2.937206444967981\n",
      "Average Sensitivity for Successful Attacks: 0.00017314695878067394\n",
      "Outlier Rate for Successful Attacks: 6.666666666666667%\n",
      "\n",
      "\n"
     ]
    },
    {
     "name": "stderr",
     "output_type": "stream",
     "text": [
      "100%|██████████| 320/320 [02:28<00:00,  2.16it/s]\n"
     ]
    },
    {
     "name": "stdout",
     "output_type": "stream",
     "text": [
      "Epsilon = 0.03\n",
      "Success Rate: 35.0%\n",
      "Average L0 Distance for Successful Attacks: 10.553571428571429\n",
      "Average L1 Distance for Successful Attacks: 0.003575377251503856\n",
      "Average L2 Distance for Successful Attacks: 0.007232907993458834\n",
      "Average Linf Distance for Successful Attacks: 0.02098613106188298\n",
      "Average Mahalanobis Distance for Successful Attacks: 2.933793734955788\n",
      "Average Sensitivity for Successful Attacks: 0.002604740967597457\n",
      "Outlier Rate for Successful Attacks: 6.25%\n",
      "\n",
      "\n"
     ]
    },
    {
     "name": "stderr",
     "output_type": "stream",
     "text": [
      "100%|██████████| 320/320 [02:27<00:00,  2.17it/s]\n"
     ]
    },
    {
     "name": "stdout",
     "output_type": "stream",
     "text": [
      "Epsilon = 0.05\n",
      "Success Rate: 42.5%\n",
      "Average L0 Distance for Successful Attacks: 10.632352941176471\n",
      "Average L1 Distance for Successful Attacks: 0.010434929899501559\n",
      "Average L2 Distance for Successful Attacks: 0.018733828493124934\n",
      "Average Linf Distance for Successful Attacks: 0.0515189128671088\n",
      "Average Mahalanobis Distance for Successful Attacks: 2.958487993369749\n",
      "Average Sensitivity for Successful Attacks: 0.007602044227606379\n",
      "Outlier Rate for Successful Attacks: 6.61764705882353%\n",
      "\n",
      "\n"
     ]
    },
    {
     "name": "stderr",
     "output_type": "stream",
     "text": [
      "100%|██████████| 320/320 [02:26<00:00,  2.18it/s]\n"
     ]
    },
    {
     "name": "stdout",
     "output_type": "stream",
     "text": [
      "Epsilon = 0.1\n",
      "Success Rate: 53.75%\n",
      "Average L0 Distance for Successful Attacks: 10.709302325581396\n",
      "Average L1 Distance for Successful Attacks: 0.024136734618751203\n",
      "Average L2 Distance for Successful Attacks: 0.042092040332947764\n",
      "Average Linf Distance for Successful Attacks: 0.11414299212358242\n",
      "Average Mahalanobis Distance for Successful Attacks: 2.9497089613256287\n",
      "Average Sensitivity for Successful Attacks: 0.017584049741600605\n",
      "Outlier Rate for Successful Attacks: 6.395348837209303%\n",
      "\n",
      "\n"
     ]
    },
    {
     "name": "stderr",
     "output_type": "stream",
     "text": [
      "100%|██████████| 320/320 [02:26<00:00,  2.18it/s]\n"
     ]
    },
    {
     "name": "stdout",
     "output_type": "stream",
     "text": [
      "Epsilon = 0.3\n",
      "Success Rate: 87.8125%\n",
      "Average L0 Distance for Successful Attacks: 10.822064056939501\n",
      "Average L1 Distance for Successful Attacks: 0.0608036015986455\n",
      "Average L2 Distance for Successful Attacks: 0.10699346286398048\n",
      "Average Linf Distance for Successful Attacks: 0.28463607485691134\n",
      "Average Mahalanobis Distance for Successful Attacks: 3.1156768535635453\n",
      "Average Sensitivity for Successful Attacks: 0.044296510307372534\n",
      "Outlier Rate for Successful Attacks: 10.676156583629894%\n",
      "\n",
      "\n"
     ]
    },
    {
     "name": "stderr",
     "output_type": "stream",
     "text": [
      "100%|██████████| 320/320 [02:26<00:00,  2.18it/s]\n"
     ]
    },
    {
     "name": "stdout",
     "output_type": "stream",
     "text": [
      "Epsilon = 0.5\n",
      "Success Rate: 91.875%\n",
      "Average L0 Distance for Successful Attacks: 10.829931972789115\n",
      "Average L1 Distance for Successful Attacks: 0.06638486932434116\n",
      "Average L2 Distance for Successful Attacks: 0.11874969238995921\n",
      "Average Linf Distance for Successful Attacks: 0.31810213584962876\n",
      "Average Mahalanobis Distance for Successful Attacks: 3.165149704813595\n",
      "Average Sensitivity for Successful Attacks: 0.04836256280215365\n",
      "Outlier Rate for Successful Attacks: 11.564625850340136%\n",
      "\n",
      "\n"
     ]
    },
    {
     "name": "stderr",
     "output_type": "stream",
     "text": [
      "100%|██████████| 320/320 [02:26<00:00,  2.18it/s]\n",
      "/home/zippo/miniconda3/envs/tabular-benchmark/lib/python3.10/site-packages/foolbox/models/pytorch.py:36: UserWarning: The PyTorch model is in training mode and therefore might not be deterministic. Call the eval() method to set it in evaluation mode if this is not intended.\n",
      "  warnings.warn(\n"
     ]
    },
    {
     "name": "stdout",
     "output_type": "stream",
     "text": [
      "Epsilon = 1.0\n",
      "Success Rate: 99.375%\n",
      "Average L0 Distance for Successful Attacks: 10.839622641509434\n",
      "Average L1 Distance for Successful Attacks: 0.10089076629696332\n",
      "Average L2 Distance for Successful Attacks: 0.1809563504286928\n",
      "Average Linf Distance for Successful Attacks: 0.4895103096781861\n",
      "Average Mahalanobis Distance for Successful Attacks: 3.557341822074553\n",
      "Average Sensitivity for Successful Attacks: 0.07361448860935395\n",
      "Outlier Rate for Successful Attacks: 17.92452830188679%\n",
      "\n",
      "\n",
      "Running L2Gaussian on WineQuality-White with LogisticRegression\n",
      "Threshold: 4.4356665308251575\n"
     ]
    },
    {
     "name": "stderr",
     "output_type": "stream",
     "text": [
      "100%|██████████| 980/980 [00:01<00:00, 575.02it/s]\n"
     ]
    },
    {
     "name": "stdout",
     "output_type": "stream",
     "text": [
      "Epsilon = 0.0\n",
      "Success Rate: 32.55102040816327%\n",
      "Average L0 Distance for Successful Attacks: 0.0\n",
      "Average L1 Distance for Successful Attacks: 0.0\n",
      "Average L2 Distance for Successful Attacks: 0.0\n",
      "Average Linf Distance for Successful Attacks: 0.0\n",
      "Average Mahalanobis Distance for Successful Attacks: 3.401831791478458\n",
      "Average Sensitivity for Successful Attacks: 0.0\n",
      "Outlier Rate for Successful Attacks: 15.987460815047022%\n",
      "\n",
      "\n"
     ]
    },
    {
     "name": "stderr",
     "output_type": "stream",
     "text": [
      "100%|██████████| 980/980 [00:01<00:00, 569.96it/s]\n"
     ]
    },
    {
     "name": "stdout",
     "output_type": "stream",
     "text": [
      "Epsilon = 0.01\n",
      "Success Rate: 32.55102040816327%\n",
      "Average L0 Distance for Successful Attacks: 10.990595611285267\n",
      "Average L1 Distance for Successful Attacks: 0.005966197493483187\n",
      "Average L2 Distance for Successful Attacks: 0.009984554257243872\n",
      "Average Linf Distance for Successful Attacks: 0.02691889476603288\n",
      "Average Mahalanobis Distance for Successful Attacks: 3.4229797284818275\n",
      "Average Sensitivity for Successful Attacks: 0.0064207292862563485\n",
      "Outlier Rate for Successful Attacks: 16.30094043887147%\n",
      "\n",
      "\n"
     ]
    },
    {
     "name": "stderr",
     "output_type": "stream",
     "text": [
      "100%|██████████| 980/980 [00:01<00:00, 569.60it/s]\n"
     ]
    },
    {
     "name": "stdout",
     "output_type": "stream",
     "text": [
      "Epsilon = 0.03\n",
      "Success Rate: 32.44897959183673%\n",
      "Average L0 Distance for Successful Attacks: 10.984276729559749\n",
      "Average L1 Distance for Successful Attacks: 0.01752337249605067\n",
      "Average L2 Distance for Successful Attacks: 0.02989839521711165\n",
      "Average Linf Distance for Successful Attacks: 0.08102173119221094\n",
      "Average Mahalanobis Distance for Successful Attacks: 3.587388696673695\n",
      "Average Sensitivity for Successful Attacks: 0.01886520043905801\n",
      "Outlier Rate for Successful Attacks: 19.81132075471698%\n",
      "\n",
      "\n"
     ]
    },
    {
     "name": "stderr",
     "output_type": "stream",
     "text": [
      "100%|██████████| 980/980 [00:01<00:00, 545.00it/s]\n"
     ]
    },
    {
     "name": "stdout",
     "output_type": "stream",
     "text": [
      "Epsilon = 0.05\n",
      "Success Rate: 32.55102040816327%\n",
      "Average L0 Distance for Successful Attacks: 10.993730407523511\n",
      "Average L1 Distance for Successful Attacks: 0.029435720901971326\n",
      "Average L2 Distance for Successful Attacks: 0.04958747258427375\n",
      "Average Linf Distance for Successful Attacks: 0.13476058093357984\n",
      "Average Mahalanobis Distance for Successful Attacks: 3.8996889015928335\n",
      "Average Sensitivity for Successful Attacks: 0.03166858839063809\n",
      "Outlier Rate for Successful Attacks: 29.153605015673982%\n",
      "\n",
      "\n"
     ]
    },
    {
     "name": "stderr",
     "output_type": "stream",
     "text": [
      "100%|██████████| 980/980 [00:01<00:00, 565.86it/s]\n"
     ]
    },
    {
     "name": "stdout",
     "output_type": "stream",
     "text": [
      "Epsilon = 0.1\n",
      "Success Rate: 32.44897959183673%\n",
      "Average L0 Distance for Successful Attacks: 11.0\n",
      "Average L1 Distance for Successful Attacks: 0.05905299206153027\n",
      "Average L2 Distance for Successful Attacks: 0.09884244182480956\n",
      "Average Linf Distance for Successful Attacks: 0.2667693286290709\n",
      "Average Mahalanobis Distance for Successful Attacks: 5.10445672703571\n",
      "Average Sensitivity for Successful Attacks: 0.06349286224997644\n",
      "Outlier Rate for Successful Attacks: 59.11949685534591%\n",
      "\n",
      "\n"
     ]
    },
    {
     "name": "stderr",
     "output_type": "stream",
     "text": [
      "100%|██████████| 980/980 [00:01<00:00, 556.52it/s]\n"
     ]
    },
    {
     "name": "stdout",
     "output_type": "stream",
     "text": [
      "Epsilon = 0.3\n",
      "Success Rate: 32.6530612244898%\n",
      "Average L0 Distance for Successful Attacks: 10.984375\n",
      "Average L1 Distance for Successful Attacks: 0.16643364320043474\n",
      "Average L2 Distance for Successful Attacks: 0.28584816432558\n",
      "Average Linf Distance for Successful Attacks: 0.7757297980599105\n",
      "Average Mahalanobis Distance for Successful Attacks: 10.335560409511213\n",
      "Average Sensitivity for Successful Attacks: 0.17924156528897583\n",
      "Outlier Rate for Successful Attacks: 93.125%\n",
      "\n",
      "\n"
     ]
    },
    {
     "name": "stderr",
     "output_type": "stream",
     "text": [
      "100%|██████████| 980/980 [00:01<00:00, 551.66it/s]\n"
     ]
    },
    {
     "name": "stdout",
     "output_type": "stream",
     "text": [
      "Epsilon = 0.5\n",
      "Success Rate: 31.326530612244895%\n",
      "Average L0 Distance for Successful Attacks: 10.986970684039088\n",
      "Average L1 Distance for Successful Attacks: 0.26607731261354317\n",
      "Average L2 Distance for Successful Attacks: 0.4486889023734226\n",
      "Average Linf Distance for Successful Attacks: 1.219322122851878\n",
      "Average Mahalanobis Distance for Successful Attacks: 14.724474865222673\n",
      "Average Sensitivity for Successful Attacks: 0.2864215972951647\n",
      "Outlier Rate for Successful Attacks: 100.0%\n",
      "\n",
      "\n"
     ]
    },
    {
     "name": "stderr",
     "output_type": "stream",
     "text": [
      "100%|██████████| 980/980 [00:01<00:00, 564.20it/s]\n"
     ]
    },
    {
     "name": "stdout",
     "output_type": "stream",
     "text": [
      "Epsilon = 1.0\n",
      "Success Rate: 32.3469387755102%\n",
      "Average L0 Distance for Successful Attacks: 10.993690851735016\n",
      "Average L1 Distance for Successful Attacks: 0.4992424582927385\n",
      "Average L2 Distance for Successful Attacks: 0.8094390304494732\n",
      "Average Linf Distance for Successful Attacks: 2.172192739387416\n",
      "Average Mahalanobis Distance for Successful Attacks: 25.533620217500307\n",
      "Average Sensitivity for Successful Attacks: 0.5371657741088597\n",
      "Outlier Rate for Successful Attacks: 100.0%\n",
      "\n",
      "\n",
      "Running L2Uniform on WineQuality-White with LogisticRegression\n",
      "Threshold: 4.4356665308251575\n"
     ]
    },
    {
     "name": "stderr",
     "output_type": "stream",
     "text": [
      "100%|██████████| 980/980 [00:01<00:00, 573.94it/s]\n"
     ]
    },
    {
     "name": "stdout",
     "output_type": "stream",
     "text": [
      "Epsilon = 0.0\n",
      "Success Rate: 32.55102040816327%\n",
      "Average L0 Distance for Successful Attacks: 0.0\n",
      "Average L1 Distance for Successful Attacks: 0.0\n",
      "Average L2 Distance for Successful Attacks: 0.0\n",
      "Average Linf Distance for Successful Attacks: 0.0\n",
      "Average Mahalanobis Distance for Successful Attacks: 3.401831791478458\n",
      "Average Sensitivity for Successful Attacks: 0.0\n",
      "Outlier Rate for Successful Attacks: 15.987460815047022%\n",
      "\n",
      "\n"
     ]
    },
    {
     "name": "stderr",
     "output_type": "stream",
     "text": [
      "100%|██████████| 980/980 [00:01<00:00, 556.89it/s]\n"
     ]
    },
    {
     "name": "stdout",
     "output_type": "stream",
     "text": [
      "Epsilon = 0.01\n",
      "Success Rate: 32.55102040816327%\n",
      "Average L0 Distance for Successful Attacks: 10.990595611285267\n",
      "Average L1 Distance for Successful Attacks: 0.004905074589585062\n",
      "Average L2 Distance for Successful Attacks: 0.009996907616203482\n",
      "Average Linf Distance for Successful Attacks: 0.028877026270082377\n",
      "Average Mahalanobis Distance for Successful Attacks: 3.4248483470328446\n",
      "Average Sensitivity for Successful Attacks: 0.005278995117540456\n",
      "Outlier Rate for Successful Attacks: 16.30094043887147%\n",
      "\n",
      "\n"
     ]
    },
    {
     "name": "stderr",
     "output_type": "stream",
     "text": [
      "100%|██████████| 980/980 [00:01<00:00, 549.26it/s]\n"
     ]
    },
    {
     "name": "stdout",
     "output_type": "stream",
     "text": [
      "Epsilon = 0.03\n",
      "Success Rate: 32.55102040816327%\n",
      "Average L0 Distance for Successful Attacks: 10.990595611285267\n",
      "Average L1 Distance for Successful Attacks: 0.014679277987222314\n",
      "Average L2 Distance for Successful Attacks: 0.02995061211661672\n",
      "Average Linf Distance for Successful Attacks: 0.08641632041400503\n",
      "Average Mahalanobis Distance for Successful Attacks: 3.641306366736577\n",
      "Average Sensitivity for Successful Attacks: 0.01579857730893506\n",
      "Outlier Rate for Successful Attacks: 20.37617554858934%\n",
      "\n",
      "\n"
     ]
    },
    {
     "name": "stderr",
     "output_type": "stream",
     "text": [
      "100%|██████████| 980/980 [00:01<00:00, 551.63it/s]\n"
     ]
    },
    {
     "name": "stdout",
     "output_type": "stream",
     "text": [
      "Epsilon = 0.05\n",
      "Success Rate: 32.55102040816327%\n",
      "Average L0 Distance for Successful Attacks: 10.993730407523511\n",
      "Average L1 Distance for Successful Attacks: 0.024371785827004423\n",
      "Average L2 Distance for Successful Attacks: 0.049672602264204745\n",
      "Average Linf Distance for Successful Attacks: 0.14358272431505884\n",
      "Average Mahalanobis Distance for Successful Attacks: 3.9431286028410173\n",
      "Average Sensitivity for Successful Attacks: 0.026221323670778528\n",
      "Outlier Rate for Successful Attacks: 28.213166144200624%\n",
      "\n",
      "\n"
     ]
    },
    {
     "name": "stderr",
     "output_type": "stream",
     "text": [
      "100%|██████████| 980/980 [00:01<00:00, 551.34it/s]\n"
     ]
    },
    {
     "name": "stdout",
     "output_type": "stream",
     "text": [
      "Epsilon = 0.1\n",
      "Success Rate: 32.44897959183673%\n",
      "Average L0 Distance for Successful Attacks: 10.99056603773585\n",
      "Average L1 Distance for Successful Attacks: 0.04895138048197863\n",
      "Average L2 Distance for Successful Attacks: 0.09908240126832477\n",
      "Average Linf Distance for Successful Attacks: 0.28450417303064335\n",
      "Average Mahalanobis Distance for Successful Attacks: 5.162448476439877\n",
      "Average Sensitivity for Successful Attacks: 0.05267901319143532\n",
      "Outlier Rate for Successful Attacks: 64.15094339622641%\n",
      "\n",
      "\n"
     ]
    },
    {
     "name": "stderr",
     "output_type": "stream",
     "text": [
      "100%|██████████| 980/980 [00:01<00:00, 557.88it/s]\n"
     ]
    },
    {
     "name": "stdout",
     "output_type": "stream",
     "text": [
      "Epsilon = 0.3\n",
      "Success Rate: 32.44897959183673%\n",
      "Average L0 Distance for Successful Attacks: 10.99056603773585\n",
      "Average L1 Distance for Successful Attacks: 0.1442198428624081\n",
      "Average L2 Distance for Successful Attacks: 0.29161949816552346\n",
      "Average Linf Distance for Successful Attacks: 0.8392234401507948\n",
      "Average Mahalanobis Distance for Successful Attacks: 10.891372492971774\n",
      "Average Sensitivity for Successful Attacks: 0.1552149494348457\n",
      "Outlier Rate for Successful Attacks: 95.59748427672956%\n",
      "\n",
      "\n"
     ]
    },
    {
     "name": "stderr",
     "output_type": "stream",
     "text": [
      "100%|██████████| 980/980 [00:01<00:00, 533.80it/s]\n"
     ]
    },
    {
     "name": "stdout",
     "output_type": "stream",
     "text": [
      "Epsilon = 0.5\n",
      "Success Rate: 32.95918367346939%\n",
      "Average L0 Distance for Successful Attacks: 10.981424148606811\n",
      "Average L1 Distance for Successful Attacks: 0.23446581367368668\n",
      "Average L2 Distance for Successful Attacks: 0.46037864666605144\n",
      "Average Linf Distance for Successful Attacks: 1.317424242526016\n",
      "Average Mahalanobis Distance for Successful Attacks: 16.23426775514086\n",
      "Average Sensitivity for Successful Attacks: 0.25261354266489994\n",
      "Outlier Rate for Successful Attacks: 99.69040247678018%\n",
      "\n",
      "\n"
     ]
    },
    {
     "name": "stderr",
     "output_type": "stream",
     "text": [
      "100%|██████████| 980/980 [00:01<00:00, 555.73it/s]\n"
     ]
    },
    {
     "name": "stdout",
     "output_type": "stream",
     "text": [
      "Epsilon = 1.0\n",
      "Success Rate: 31.734693877551017%\n",
      "Average L0 Distance for Successful Attacks: 10.990353697749196\n",
      "Average L1 Distance for Successful Attacks: 0.4529984084547908\n",
      "Average L2 Distance for Successful Attacks: 0.8421496216123894\n",
      "Average Linf Distance for Successful Attacks: 2.362783846747837\n",
      "Average Mahalanobis Distance for Successful Attacks: 27.18419894680081\n",
      "Average Sensitivity for Successful Attacks: 0.48751578980703447\n",
      "Outlier Rate for Successful Attacks: 100.0%\n",
      "\n",
      "\n",
      "Running LinfUniform on WineQuality-White with LogisticRegression\n",
      "Threshold: 4.4356665308251575\n"
     ]
    },
    {
     "name": "stderr",
     "output_type": "stream",
     "text": [
      "100%|██████████| 980/980 [00:01<00:00, 679.53it/s]\n"
     ]
    },
    {
     "name": "stdout",
     "output_type": "stream",
     "text": [
      "Epsilon = 0.0\n",
      "Success Rate: 32.55102040816327%\n",
      "Average L0 Distance for Successful Attacks: 0.0\n",
      "Average L1 Distance for Successful Attacks: 0.0\n",
      "Average L2 Distance for Successful Attacks: 0.0\n",
      "Average Linf Distance for Successful Attacks: 0.0\n",
      "Average Mahalanobis Distance for Successful Attacks: 3.401831791478458\n",
      "Average Sensitivity for Successful Attacks: 0.0\n",
      "Outlier Rate for Successful Attacks: 15.987460815047022%\n",
      "\n",
      "\n"
     ]
    },
    {
     "name": "stderr",
     "output_type": "stream",
     "text": [
      "100%|██████████| 980/980 [00:01<00:00, 658.30it/s]\n"
     ]
    },
    {
     "name": "stdout",
     "output_type": "stream",
     "text": [
      "Epsilon = 0.01\n",
      "Success Rate: 32.55102040816327%\n",
      "Average L0 Distance for Successful Attacks: 10.990595611285267\n",
      "Average L1 Distance for Successful Attacks: 0.009999999846550738\n",
      "Average L2 Distance for Successful Attacks: 0.021939465542525332\n",
      "Average Linf Distance for Successful Attacks: 0.06402695960245536\n",
      "Average Mahalanobis Distance for Successful Attacks: 3.533781599615235\n",
      "Average Sensitivity for Successful Attacks: 0.01076195636898466\n",
      "Outlier Rate for Successful Attacks: 16.927899686520377%\n",
      "\n",
      "\n"
     ]
    },
    {
     "name": "stderr",
     "output_type": "stream",
     "text": [
      "100%|██████████| 980/980 [00:01<00:00, 639.27it/s]\n"
     ]
    },
    {
     "name": "stdout",
     "output_type": "stream",
     "text": [
      "Epsilon = 0.03\n",
      "Success Rate: 32.44897959183673%\n",
      "Average L0 Distance for Successful Attacks: 10.99056603773585\n",
      "Average L1 Distance for Successful Attacks: 0.029999999546170608\n",
      "Average L2 Distance for Successful Attacks: 0.06517277365116952\n",
      "Average Linf Distance for Successful Attacks: 0.1896146703862919\n",
      "Average Mahalanobis Distance for Successful Attacks: 4.286093500812711\n",
      "Average Sensitivity for Successful Attacks: 0.032285962230379474\n",
      "Outlier Rate for Successful Attacks: 39.62264150943396%\n",
      "\n",
      "\n"
     ]
    },
    {
     "name": "stderr",
     "output_type": "stream",
     "text": [
      "100%|██████████| 980/980 [00:01<00:00, 660.14it/s]\n"
     ]
    },
    {
     "name": "stdout",
     "output_type": "stream",
     "text": [
      "Epsilon = 0.05\n",
      "Success Rate: 32.55102040816327%\n",
      "Average L0 Distance for Successful Attacks: 10.993730407523511\n",
      "Average L1 Distance for Successful Attacks: 0.05000000560311688\n",
      "Average L2 Distance for Successful Attacks: 0.10996911013761658\n",
      "Average Linf Distance for Successful Attacks: 0.32189315786369166\n",
      "Average Mahalanobis Distance for Successful Attacks: 5.459213517912012\n",
      "Average Sensitivity for Successful Attacks: 0.05379293689673597\n",
      "Outlier Rate for Successful Attacks: 66.14420062695925%\n",
      "\n",
      "\n"
     ]
    },
    {
     "name": "stderr",
     "output_type": "stream",
     "text": [
      "100%|██████████| 980/980 [00:01<00:00, 667.99it/s]\n"
     ]
    },
    {
     "name": "stdout",
     "output_type": "stream",
     "text": [
      "Epsilon = 0.1\n",
      "Success Rate: 32.44897959183673%\n",
      "Average L0 Distance for Successful Attacks: 10.99685534591195\n",
      "Average L1 Distance for Successful Attacks: 0.10000000216957158\n",
      "Average L2 Distance for Successful Attacks: 0.2190178763941399\n",
      "Average Linf Distance for Successful Attacks: 0.6368905532659974\n",
      "Average Mahalanobis Distance for Successful Attacks: 8.7807827127269\n",
      "Average Sensitivity for Successful Attacks: 0.10755226552580138\n",
      "Outlier Rate for Successful Attacks: 87.73584905660378%\n",
      "\n",
      "\n"
     ]
    },
    {
     "name": "stderr",
     "output_type": "stream",
     "text": [
      "100%|██████████| 980/980 [00:01<00:00, 650.62it/s]\n"
     ]
    },
    {
     "name": "stdout",
     "output_type": "stream",
     "text": [
      "Epsilon = 0.3\n",
      "Success Rate: 32.3469387755102%\n",
      "Average L0 Distance for Successful Attacks: 10.990536277602523\n",
      "Average L1 Distance for Successful Attacks: 0.29974414375302166\n",
      "Average L2 Distance for Successful Attacks: 0.5983834665280411\n",
      "Average Linf Distance for Successful Attacks: 1.7193808091175669\n",
      "Average Mahalanobis Distance for Successful Attacks: 20.61402763338718\n",
      "Average Sensitivity for Successful Attacks: 0.32256523931064063\n",
      "Outlier Rate for Successful Attacks: 100.0%\n",
      "\n",
      "\n"
     ]
    },
    {
     "name": "stderr",
     "output_type": "stream",
     "text": [
      "100%|██████████| 980/980 [00:01<00:00, 639.13it/s]\n"
     ]
    },
    {
     "name": "stdout",
     "output_type": "stream",
     "text": [
      "Epsilon = 0.5\n",
      "Success Rate: 34.89795918367347%\n",
      "Average L0 Distance for Successful Attacks: 10.994152046783626\n",
      "Average L1 Distance for Successful Attacks: 0.4976853455542124\n",
      "Average L2 Distance for Successful Attacks: 0.9109978268021032\n",
      "Average Linf Distance for Successful Attacks: 2.5374485672565927\n",
      "Average Mahalanobis Distance for Successful Attacks: 30.404164094703734\n",
      "Average Sensitivity for Successful Attacks: 0.5354179402715281\n",
      "Outlier Rate for Successful Attacks: 100.0%\n",
      "\n",
      "\n"
     ]
    },
    {
     "name": "stderr",
     "output_type": "stream",
     "text": [
      "100%|██████████| 980/980 [00:01<00:00, 665.50it/s]\n"
     ]
    },
    {
     "name": "stdout",
     "output_type": "stream",
     "text": [
      "Epsilon = 1.0\n",
      "Success Rate: 41.53061224489796%\n",
      "Average L0 Distance for Successful Attacks: 10.992628992628992\n",
      "Average L1 Distance for Successful Attacks: 0.8356517219426298\n",
      "Average L2 Distance for Successful Attacks: 1.4992137444400084\n",
      "Average Linf Distance for Successful Attacks: 4.079428125365068\n",
      "Average Mahalanobis Distance for Successful Attacks: 48.4459930332362\n",
      "Average Sensitivity for Successful Attacks: 0.8992223594639752\n",
      "Outlier Rate for Successful Attacks: 100.0%\n",
      "\n",
      "\n",
      "Running LinfFGSM on WineQuality-White with LogisticRegression\n",
      "Threshold: 4.4356665308251575\n"
     ]
    },
    {
     "name": "stderr",
     "output_type": "stream",
     "text": [
      "100%|██████████| 980/980 [00:01<00:00, 532.66it/s]\n"
     ]
    },
    {
     "name": "stdout",
     "output_type": "stream",
     "text": [
      "Epsilon = 0.0\n",
      "Success Rate: 32.55102040816327%\n",
      "Average L0 Distance for Successful Attacks: 0.0\n",
      "Average L1 Distance for Successful Attacks: 0.0\n",
      "Average L2 Distance for Successful Attacks: 0.0\n",
      "Average Linf Distance for Successful Attacks: 0.0\n",
      "Average Mahalanobis Distance for Successful Attacks: 3.401831791478458\n",
      "Average Sensitivity for Successful Attacks: 0.0\n",
      "Outlier Rate for Successful Attacks: 15.987460815047022%\n",
      "\n",
      "\n"
     ]
    },
    {
     "name": "stderr",
     "output_type": "stream",
     "text": [
      "100%|██████████| 980/980 [00:01<00:00, 539.23it/s]\n"
     ]
    },
    {
     "name": "stdout",
     "output_type": "stream",
     "text": [
      "Epsilon = 0.01\n",
      "Success Rate: 32.6530612244898%\n",
      "Average L0 Distance for Successful Attacks: 10.990625\n",
      "Average L1 Distance for Successful Attacks: 0.01000000544008799\n",
      "Average L2 Distance for Successful Attacks: 0.03305891913478263\n",
      "Average Linf Distance for Successful Attacks: 0.10951609374023974\n",
      "Average Mahalanobis Distance for Successful Attacks: 3.4572407492926693\n",
      "Average Sensitivity for Successful Attacks: 0.010761930840089917\n",
      "Outlier Rate for Successful Attacks: 15.312500000000002%\n",
      "\n",
      "\n"
     ]
    },
    {
     "name": "stderr",
     "output_type": "stream",
     "text": [
      "100%|██████████| 980/980 [00:01<00:00, 523.06it/s]\n"
     ]
    },
    {
     "name": "stdout",
     "output_type": "stream",
     "text": [
      "Epsilon = 0.03\n",
      "Success Rate: 32.755102040816325%\n",
      "Average L0 Distance for Successful Attacks: 10.990654205607477\n",
      "Average L1 Distance for Successful Attacks: 0.030000001192092896\n",
      "Average L2 Distance for Successful Attacks: 0.09824181747306544\n",
      "Average Linf Distance for Successful Attacks: 0.3239197136828461\n",
      "Average Mahalanobis Distance for Successful Attacks: 4.092229902213805\n",
      "Average Sensitivity for Successful Attacks: 0.03228567947990427\n",
      "Outlier Rate for Successful Attacks: 27.41433021806853%\n",
      "\n",
      "\n"
     ]
    },
    {
     "name": "stderr",
     "output_type": "stream",
     "text": [
      "100%|██████████| 980/980 [00:01<00:00, 526.67it/s]\n"
     ]
    },
    {
     "name": "stdout",
     "output_type": "stream",
     "text": [
      "Epsilon = 0.05\n",
      "Success Rate: 33.36734693877551%\n",
      "Average L0 Distance for Successful Attacks: 10.990825688073395\n",
      "Average L1 Distance for Successful Attacks: 0.05000001187535966\n",
      "Average L2 Distance for Successful Attacks: 0.1631302656748244\n",
      "Average Linf Distance for Successful Attacks: 0.536212429449828\n",
      "Average Mahalanobis Distance for Successful Attacks: 5.290973143520745\n",
      "Average Sensitivity for Successful Attacks: 0.05380855995124998\n",
      "Outlier Rate for Successful Attacks: 75.53516819571865%\n",
      "\n",
      "\n"
     ]
    },
    {
     "name": "stderr",
     "output_type": "stream",
     "text": [
      "100%|██████████| 980/980 [00:01<00:00, 542.93it/s]\n"
     ]
    },
    {
     "name": "stdout",
     "output_type": "stream",
     "text": [
      "Epsilon = 0.1\n",
      "Success Rate: 41.734693877551024%\n",
      "Average L0 Distance for Successful Attacks: 10.992665036674817\n",
      "Average L1 Distance for Successful Attacks: 0.10000001489751788\n",
      "Average L2 Distance for Successful Attacks: 0.3227212874988472\n",
      "Average Linf Distance for Successful Attacks: 1.057422904630162\n",
      "Average Mahalanobis Distance for Successful Attacks: 8.890841727066105\n",
      "Average Sensitivity for Successful Attacks: 0.10759733464286496\n",
      "Outlier Rate for Successful Attacks: 100.0%\n",
      "\n",
      "\n"
     ]
    },
    {
     "name": "stderr",
     "output_type": "stream",
     "text": [
      "100%|██████████| 980/980 [00:01<00:00, 513.08it/s]\n"
     ]
    },
    {
     "name": "stdout",
     "output_type": "stream",
     "text": [
      "Epsilon = 0.3\n",
      "Success Rate: 98.26530612244898%\n",
      "Average L0 Distance for Successful Attacks: 10.996884735202492\n",
      "Average L1 Distance for Successful Attacks: 0.3000000248878792\n",
      "Average L2 Distance for Successful Attacks: 0.892971733648829\n",
      "Average Linf Distance for Successful Attacks: 2.856454253444295\n",
      "Average Mahalanobis Distance for Successful Attacks: 19.67447246599026\n",
      "Average Sensitivity for Successful Attacks: 0.32265584385902585\n",
      "Outlier Rate for Successful Attacks: 100.0%\n",
      "\n",
      "\n"
     ]
    },
    {
     "name": "stderr",
     "output_type": "stream",
     "text": [
      "100%|██████████| 980/980 [00:01<00:00, 513.90it/s]\n"
     ]
    },
    {
     "name": "stdout",
     "output_type": "stream",
     "text": [
      "Epsilon = 0.5\n",
      "Success Rate: 100.0%\n",
      "Average L0 Distance for Successful Attacks: 10.996938775510204\n",
      "Average L1 Distance for Successful Attacks: 0.4999999999695895\n",
      "Average L2 Distance for Successful Attacks: 1.3736500708424315\n",
      "Average Linf Distance for Successful Attacks: 4.255318970826208\n",
      "Average Mahalanobis Distance for Successful Attacks: 28.863042454447864\n",
      "Average Sensitivity for Successful Attacks: 0.537756801259761\n",
      "Outlier Rate for Successful Attacks: 100.0%\n",
      "\n",
      "\n"
     ]
    },
    {
     "name": "stderr",
     "output_type": "stream",
     "text": [
      "100%|██████████| 980/980 [00:01<00:00, 514.21it/s]\n"
     ]
    },
    {
     "name": "stdout",
     "output_type": "stream",
     "text": [
      "Epsilon = 1.0\n",
      "Success Rate: 100.0%\n",
      "Average L0 Distance for Successful Attacks: 10.996938775510204\n",
      "Average L1 Distance for Successful Attacks: 0.9268583996563542\n",
      "Average L2 Distance for Successful Attacks: 2.0717373629005587\n",
      "Average Linf Distance for Successful Attacks: 6.116919033138119\n",
      "Average Mahalanobis Distance for Successful Attacks: 44.95398666204908\n",
      "Average Sensitivity for Successful Attacks: 0.9968610674751048\n",
      "Outlier Rate for Successful Attacks: 100.0%\n",
      "\n",
      "\n",
      "Running LinfPGD on WineQuality-White with LogisticRegression\n",
      "Threshold: 4.4356665308251575\n"
     ]
    },
    {
     "name": "stderr",
     "output_type": "stream",
     "text": [
      "100%|██████████| 980/980 [00:18<00:00, 52.57it/s]\n"
     ]
    },
    {
     "name": "stdout",
     "output_type": "stream",
     "text": [
      "Epsilon = 0.0\n",
      "Success Rate: 32.55102040816327%\n",
      "Average L0 Distance for Successful Attacks: 0.0\n",
      "Average L1 Distance for Successful Attacks: 0.0\n",
      "Average L2 Distance for Successful Attacks: 0.0\n",
      "Average Linf Distance for Successful Attacks: 0.0\n",
      "Average Mahalanobis Distance for Successful Attacks: 3.401831791478458\n",
      "Average Sensitivity for Successful Attacks: 0.0\n",
      "Outlier Rate for Successful Attacks: 15.987460815047022%\n",
      "\n",
      "\n"
     ]
    },
    {
     "name": "stderr",
     "output_type": "stream",
     "text": [
      "100%|██████████| 980/980 [00:18<00:00, 52.71it/s]\n"
     ]
    },
    {
     "name": "stdout",
     "output_type": "stream",
     "text": [
      "Epsilon = 0.01\n",
      "Success Rate: 32.6530612244898%\n",
      "Average L0 Distance for Successful Attacks: 10.990625\n",
      "Average L1 Distance for Successful Attacks: 0.010000005143228918\n",
      "Average L2 Distance for Successful Attacks: 0.029881584516260773\n",
      "Average Linf Distance for Successful Attacks: 0.09675566023215651\n",
      "Average Mahalanobis Distance for Successful Attacks: 3.4536760442793217\n",
      "Average Sensitivity for Successful Attacks: 0.010761930496664717\n",
      "Outlier Rate for Successful Attacks: 16.25%\n",
      "\n",
      "\n"
     ]
    },
    {
     "name": "stderr",
     "output_type": "stream",
     "text": [
      "100%|██████████| 980/980 [00:19<00:00, 51.19it/s]\n"
     ]
    },
    {
     "name": "stdout",
     "output_type": "stream",
     "text": [
      "Epsilon = 0.03\n",
      "Success Rate: 32.6530612244898%\n",
      "Average L0 Distance for Successful Attacks: 10.990625\n",
      "Average L1 Distance for Successful Attacks: 0.030000001192092896\n",
      "Average L2 Distance for Successful Attacks: 0.08928369015920908\n",
      "Average Linf Distance for Successful Attacks: 0.28838064186275003\n",
      "Average Mahalanobis Distance for Successful Attacks: 4.002376275395438\n",
      "Average Sensitivity for Successful Attacks: 0.03228577368427068\n",
      "Outlier Rate for Successful Attacks: 26.5625%\n",
      "\n",
      "\n"
     ]
    },
    {
     "name": "stderr",
     "output_type": "stream",
     "text": [
      "100%|██████████| 980/980 [00:18<00:00, 52.22it/s]\n"
     ]
    },
    {
     "name": "stdout",
     "output_type": "stream",
     "text": [
      "Epsilon = 0.05\n",
      "Success Rate: 33.265306122448976%\n",
      "Average L0 Distance for Successful Attacks: 10.99079754601227\n",
      "Average L1 Distance for Successful Attacks: 0.05000001149811993\n",
      "Average L2 Distance for Successful Attacks: 0.14814403278330351\n",
      "Average Linf Distance for Successful Attacks: 0.47675422894442737\n",
      "Average Mahalanobis Distance for Successful Attacks: 5.056748007258516\n",
      "Average Sensitivity for Successful Attacks: 0.0538087108521008\n",
      "Outlier Rate for Successful Attacks: 64.7239263803681%\n",
      "\n",
      "\n"
     ]
    },
    {
     "name": "stderr",
     "output_type": "stream",
     "text": [
      "100%|██████████| 980/980 [00:18<00:00, 52.30it/s]\n"
     ]
    },
    {
     "name": "stdout",
     "output_type": "stream",
     "text": [
      "Epsilon = 0.1\n",
      "Success Rate: 38.775510204081634%\n",
      "Average L0 Distance for Successful Attacks: 10.992105263157894\n",
      "Average L1 Distance for Successful Attacks: 0.10000001223463761\n",
      "Average L2 Distance for Successful Attacks: 0.2928402102699405\n",
      "Average Linf Distance for Successful Attacks: 0.9401741366637381\n",
      "Average Mahalanobis Distance for Successful Attacks: 8.351399833702875\n",
      "Average Sensitivity for Successful Attacks: 0.10760335045817651\n",
      "Outlier Rate for Successful Attacks: 98.15789473684211%\n",
      "\n",
      "\n"
     ]
    },
    {
     "name": "stderr",
     "output_type": "stream",
     "text": [
      "100%|██████████| 980/980 [00:18<00:00, 52.16it/s]\n"
     ]
    },
    {
     "name": "stdout",
     "output_type": "stream",
     "text": [
      "Epsilon = 0.3\n",
      "Success Rate: 93.77551020408164%\n",
      "Average L0 Distance for Successful Attacks: 10.996735582154516\n",
      "Average L1 Distance for Successful Attacks: 0.2999914163344573\n",
      "Average L2 Distance for Successful Attacks: 0.8370211875477606\n",
      "Average Linf Distance for Successful Attacks: 2.65398303326118\n",
      "Average Mahalanobis Distance for Successful Attacks: 18.721076738487106\n",
      "Average Sensitivity for Successful Attacks: 0.3226513959248515\n",
      "Outlier Rate for Successful Attacks: 100.0%\n",
      "\n",
      "\n"
     ]
    },
    {
     "name": "stderr",
     "output_type": "stream",
     "text": [
      "100%|██████████| 980/980 [00:18<00:00, 52.80it/s]\n"
     ]
    },
    {
     "name": "stdout",
     "output_type": "stream",
     "text": [
      "Epsilon = 0.5\n",
      "Success Rate: 100.0%\n",
      "Average L0 Distance for Successful Attacks: 10.996938775510204\n",
      "Average L1 Distance for Successful Attacks: 0.49996740830187897\n",
      "Average L2 Distance for Successful Attacks: 1.3300266572407313\n",
      "Average Linf Distance for Successful Attacks: 4.111127367068311\n",
      "Average Mahalanobis Distance for Successful Attacks: 28.551087458976813\n",
      "Average Sensitivity for Successful Attacks: 0.5377217593849922\n",
      "Outlier Rate for Successful Attacks: 100.0%\n",
      "\n",
      "\n"
     ]
    },
    {
     "name": "stderr",
     "output_type": "stream",
     "text": [
      "100%|██████████| 980/980 [00:18<00:00, 51.79it/s]\n"
     ]
    },
    {
     "name": "stdout",
     "output_type": "stream",
     "text": [
      "Epsilon = 1.0\n",
      "Success Rate: 100.0%\n",
      "Average L0 Distance for Successful Attacks: 10.996938775510204\n",
      "Average L1 Distance for Successful Attacks: 0.9268583996563542\n",
      "Average L2 Distance for Successful Attacks: 2.0717373629005587\n",
      "Average Linf Distance for Successful Attacks: 6.116919033138119\n",
      "Average Mahalanobis Distance for Successful Attacks: 44.95398666204908\n",
      "Average Sensitivity for Successful Attacks: 0.9968610674751048\n",
      "Outlier Rate for Successful Attacks: 100.0%\n",
      "\n",
      "\n",
      "Running LinfBIM on WineQuality-White with LogisticRegression\n",
      "Threshold: 4.4356665308251575\n"
     ]
    },
    {
     "name": "stderr",
     "output_type": "stream",
     "text": [
      "100%|██████████| 980/980 [00:05<00:00, 168.36it/s]\n"
     ]
    },
    {
     "name": "stdout",
     "output_type": "stream",
     "text": [
      "Epsilon = 0.0\n",
      "Success Rate: 32.55102040816327%\n",
      "Average L0 Distance for Successful Attacks: 0.0\n",
      "Average L1 Distance for Successful Attacks: 0.0\n",
      "Average L2 Distance for Successful Attacks: 0.0\n",
      "Average Linf Distance for Successful Attacks: 0.0\n",
      "Average Mahalanobis Distance for Successful Attacks: 3.401831791478458\n",
      "Average Sensitivity for Successful Attacks: 0.0\n",
      "Outlier Rate for Successful Attacks: 15.987460815047022%\n",
      "\n",
      "\n"
     ]
    },
    {
     "name": "stderr",
     "output_type": "stream",
     "text": [
      "100%|██████████| 980/980 [00:05<00:00, 165.10it/s]\n"
     ]
    },
    {
     "name": "stdout",
     "output_type": "stream",
     "text": [
      "Epsilon = 0.01\n",
      "Success Rate: 32.6530612244898%\n",
      "Average L0 Distance for Successful Attacks: 10.990625\n",
      "Average L1 Distance for Successful Attacks: 0.01000000544008799\n",
      "Average L2 Distance for Successful Attacks: 0.03305891913478263\n",
      "Average Linf Distance for Successful Attacks: 0.10951609374023974\n",
      "Average Mahalanobis Distance for Successful Attacks: 3.4572407492926693\n",
      "Average Sensitivity for Successful Attacks: 0.010761930840089917\n",
      "Outlier Rate for Successful Attacks: 15.312500000000002%\n",
      "\n",
      "\n"
     ]
    },
    {
     "name": "stderr",
     "output_type": "stream",
     "text": [
      "100%|██████████| 980/980 [00:06<00:00, 160.72it/s]\n"
     ]
    },
    {
     "name": "stdout",
     "output_type": "stream",
     "text": [
      "Epsilon = 0.03\n",
      "Success Rate: 32.755102040816325%\n",
      "Average L0 Distance for Successful Attacks: 10.990654205607477\n",
      "Average L1 Distance for Successful Attacks: 0.030000001192092896\n",
      "Average L2 Distance for Successful Attacks: 0.09824181747306544\n",
      "Average Linf Distance for Successful Attacks: 0.3239197136828461\n",
      "Average Mahalanobis Distance for Successful Attacks: 4.092229902213805\n",
      "Average Sensitivity for Successful Attacks: 0.03228567947990427\n",
      "Outlier Rate for Successful Attacks: 27.41433021806853%\n",
      "\n",
      "\n"
     ]
    },
    {
     "name": "stderr",
     "output_type": "stream",
     "text": [
      "100%|██████████| 980/980 [00:05<00:00, 165.40it/s]\n"
     ]
    },
    {
     "name": "stdout",
     "output_type": "stream",
     "text": [
      "Epsilon = 0.05\n",
      "Success Rate: 33.36734693877551%\n",
      "Average L0 Distance for Successful Attacks: 10.990825688073395\n",
      "Average L1 Distance for Successful Attacks: 0.05000001187535966\n",
      "Average L2 Distance for Successful Attacks: 0.1631302656748244\n",
      "Average Linf Distance for Successful Attacks: 0.536212429449828\n",
      "Average Mahalanobis Distance for Successful Attacks: 5.290973143520745\n",
      "Average Sensitivity for Successful Attacks: 0.05380855995124998\n",
      "Outlier Rate for Successful Attacks: 75.53516819571865%\n",
      "\n",
      "\n"
     ]
    },
    {
     "name": "stderr",
     "output_type": "stream",
     "text": [
      "100%|██████████| 980/980 [00:06<00:00, 162.95it/s]\n"
     ]
    },
    {
     "name": "stdout",
     "output_type": "stream",
     "text": [
      "Epsilon = 0.1\n",
      "Success Rate: 41.734693877551024%\n",
      "Average L0 Distance for Successful Attacks: 10.992665036674817\n",
      "Average L1 Distance for Successful Attacks: 0.10000001489751788\n",
      "Average L2 Distance for Successful Attacks: 0.3227212874988472\n",
      "Average Linf Distance for Successful Attacks: 1.057422904630162\n",
      "Average Mahalanobis Distance for Successful Attacks: 8.890841727066105\n",
      "Average Sensitivity for Successful Attacks: 0.10759733464286496\n",
      "Outlier Rate for Successful Attacks: 100.0%\n",
      "\n",
      "\n"
     ]
    },
    {
     "name": "stderr",
     "output_type": "stream",
     "text": [
      "100%|██████████| 980/980 [00:05<00:00, 166.95it/s]\n"
     ]
    },
    {
     "name": "stdout",
     "output_type": "stream",
     "text": [
      "Epsilon = 0.3\n",
      "Success Rate: 98.26530612244898%\n",
      "Average L0 Distance for Successful Attacks: 10.996884735202492\n",
      "Average L1 Distance for Successful Attacks: 0.3000000248878792\n",
      "Average L2 Distance for Successful Attacks: 0.892971733648829\n",
      "Average Linf Distance for Successful Attacks: 2.856454253444295\n",
      "Average Mahalanobis Distance for Successful Attacks: 19.67447246599026\n",
      "Average Sensitivity for Successful Attacks: 0.32265584385902585\n",
      "Outlier Rate for Successful Attacks: 100.0%\n",
      "\n",
      "\n"
     ]
    },
    {
     "name": "stderr",
     "output_type": "stream",
     "text": [
      "100%|██████████| 980/980 [00:06<00:00, 161.55it/s]\n"
     ]
    },
    {
     "name": "stdout",
     "output_type": "stream",
     "text": [
      "Epsilon = 0.5\n",
      "Success Rate: 100.0%\n",
      "Average L0 Distance for Successful Attacks: 10.996938775510204\n",
      "Average L1 Distance for Successful Attacks: 0.4999999999695895\n",
      "Average L2 Distance for Successful Attacks: 1.3736500708424315\n",
      "Average Linf Distance for Successful Attacks: 4.255318970826208\n",
      "Average Mahalanobis Distance for Successful Attacks: 28.863042454447864\n",
      "Average Sensitivity for Successful Attacks: 0.537756801259761\n",
      "Outlier Rate for Successful Attacks: 100.0%\n",
      "\n",
      "\n"
     ]
    },
    {
     "name": "stderr",
     "output_type": "stream",
     "text": [
      "100%|██████████| 980/980 [00:05<00:00, 166.08it/s]\n"
     ]
    },
    {
     "name": "stdout",
     "output_type": "stream",
     "text": [
      "Epsilon = 1.0\n",
      "Success Rate: 100.0%\n",
      "Average L0 Distance for Successful Attacks: 10.996938775510204\n",
      "Average L1 Distance for Successful Attacks: 0.9268583996563542\n",
      "Average L2 Distance for Successful Attacks: 2.0717373629005587\n",
      "Average Linf Distance for Successful Attacks: 6.116919033138119\n",
      "Average Mahalanobis Distance for Successful Attacks: 44.95398666204908\n",
      "Average Sensitivity for Successful Attacks: 0.9968610674751048\n",
      "Outlier Rate for Successful Attacks: 100.0%\n",
      "\n",
      "\n",
      "Running L2FGSM on WineQuality-White with LogisticRegression\n",
      "Threshold: 4.4356665308251575\n"
     ]
    },
    {
     "name": "stderr",
     "output_type": "stream",
     "text": [
      "100%|██████████| 980/980 [00:02<00:00, 431.61it/s]\n"
     ]
    },
    {
     "name": "stdout",
     "output_type": "stream",
     "text": [
      "Epsilon = 0.0\n",
      "Success Rate: 32.55102040816327%\n",
      "Average L0 Distance for Successful Attacks: 0.0\n",
      "Average L1 Distance for Successful Attacks: 0.0\n",
      "Average L2 Distance for Successful Attacks: 0.0\n",
      "Average Linf Distance for Successful Attacks: 0.0\n",
      "Average Mahalanobis Distance for Successful Attacks: 3.401831791478458\n",
      "Average Sensitivity for Successful Attacks: 0.0\n",
      "Outlier Rate for Successful Attacks: 15.987460815047022%\n",
      "\n",
      "\n"
     ]
    },
    {
     "name": "stderr",
     "output_type": "stream",
     "text": [
      "100%|██████████| 980/980 [00:02<00:00, 418.16it/s]\n"
     ]
    },
    {
     "name": "stdout",
     "output_type": "stream",
     "text": [
      "Epsilon = 0.01\n",
      "Success Rate: 32.55102040816327%\n",
      "Average L0 Distance for Successful Attacks: 10.990595611285267\n",
      "Average L1 Distance for Successful Attacks: 0.006256361319727285\n",
      "Average L2 Distance for Successful Attacks: 0.00999713606758738\n",
      "Average Linf Distance for Successful Attacks: 0.02497571231476192\n",
      "Average Mahalanobis Distance for Successful Attacks: 3.395707423658132\n",
      "Average Sensitivity for Successful Attacks: 0.006733068609522615\n",
      "Outlier Rate for Successful Attacks: 15.360501567398119%\n",
      "\n",
      "\n"
     ]
    },
    {
     "name": "stderr",
     "output_type": "stream",
     "text": [
      "100%|██████████| 980/980 [00:02<00:00, 426.48it/s]\n"
     ]
    },
    {
     "name": "stdout",
     "output_type": "stream",
     "text": [
      "Epsilon = 0.03\n",
      "Success Rate: 32.6530612244898%\n",
      "Average L0 Distance for Successful Attacks: 10.990625\n",
      "Average L1 Distance for Successful Attacks: 0.018769087363034488\n",
      "Average L2 Distance for Successful Attacks: 0.029989379801554604\n",
      "Average Linf Distance for Successful Attacks: 0.07491406691260635\n",
      "Average Mahalanobis Distance for Successful Attacks: 3.4879154894616775\n",
      "Average Sensitivity for Successful Attacks: 0.020199150225380436\n",
      "Outlier Rate for Successful Attacks: 15.0%\n",
      "\n",
      "\n"
     ]
    },
    {
     "name": "stderr",
     "output_type": "stream",
     "text": [
      "100%|██████████| 980/980 [00:02<00:00, 418.51it/s]\n"
     ]
    },
    {
     "name": "stdout",
     "output_type": "stream",
     "text": [
      "Epsilon = 0.05\n",
      "Success Rate: 32.6530612244898%\n",
      "Average L0 Distance for Successful Attacks: 10.990625\n",
      "Average L1 Distance for Successful Attacks: 0.031281822675373404\n",
      "Average L2 Distance for Successful Attacks: 0.04998202698770911\n",
      "Average Linf Distance for Successful Attacks: 0.1248523781541735\n",
      "Average Mahalanobis Distance for Successful Attacks: 3.690666804903711\n",
      "Average Sensitivity for Successful Attacks: 0.03366526406025514\n",
      "Outlier Rate for Successful Attacks: 19.0625%\n",
      "\n",
      "\n"
     ]
    },
    {
     "name": "stderr",
     "output_type": "stream",
     "text": [
      "100%|██████████| 980/980 [00:02<00:00, 432.62it/s]\n"
     ]
    },
    {
     "name": "stdout",
     "output_type": "stream",
     "text": [
      "Epsilon = 0.1\n",
      "Success Rate: 33.16326530612245%\n",
      "Average L0 Distance for Successful Attacks: 10.990769230769232\n",
      "Average L1 Distance for Successful Attacks: 0.06256363683021986\n",
      "Average L2 Distance for Successful Attacks: 0.09987507813251935\n",
      "Average Linf Distance for Successful Attacks: 0.249514615214788\n",
      "Average Mahalanobis Distance for Successful Attacks: 4.614412469638147\n",
      "Average Sensitivity for Successful Attacks: 0.06732954790958992\n",
      "Outlier Rate for Successful Attacks: 48.92307692307693%\n",
      "\n",
      "\n"
     ]
    },
    {
     "name": "stderr",
     "output_type": "stream",
     "text": [
      "100%|██████████| 980/980 [00:02<00:00, 436.45it/s]\n"
     ]
    },
    {
     "name": "stdout",
     "output_type": "stream",
     "text": [
      "Epsilon = 0.3\n",
      "Success Rate: 45.816326530612244%\n",
      "Average L0 Distance for Successful Attacks: 10.993318485523385\n",
      "Average L1 Distance for Successful Attacks: 0.18453005248294907\n",
      "Average L2 Distance for Successful Attacks: 0.29191815899581314\n",
      "Average Linf Distance for Successful Attacks: 0.7308132677009217\n",
      "Average Mahalanobis Distance for Successful Attacks: 9.926691141895073\n",
      "Average Sensitivity for Successful Attacks: 0.19853117451370425\n",
      "Outlier Rate for Successful Attacks: 99.55456570155901%\n",
      "\n",
      "\n"
     ]
    },
    {
     "name": "stderr",
     "output_type": "stream",
     "text": [
      "100%|██████████| 980/980 [00:02<00:00, 420.92it/s]\n"
     ]
    },
    {
     "name": "stdout",
     "output_type": "stream",
     "text": [
      "Epsilon = 0.5\n",
      "Success Rate: 69.59183673469389%\n",
      "Average L0 Distance for Successful Attacks: 10.995601173020528\n",
      "Average L1 Distance for Successful Attacks: 0.30032777808104094\n",
      "Average L2 Distance for Successful Attacks: 0.4625632974846272\n",
      "Average Linf Distance for Successful Attacks: 1.1570710639450208\n",
      "Average Mahalanobis Distance for Successful Attacks: 14.814155919554587\n",
      "Average Sensitivity for Successful Attacks: 0.3230474659424723\n",
      "Outlier Rate for Successful Attacks: 99.70674486803519%\n",
      "\n",
      "\n"
     ]
    },
    {
     "name": "stderr",
     "output_type": "stream",
     "text": [
      "100%|██████████| 980/980 [00:02<00:00, 423.59it/s]\n"
     ]
    },
    {
     "name": "stdout",
     "output_type": "stream",
     "text": [
      "Epsilon = 1.0\n",
      "Success Rate: 100.0%\n",
      "Average L0 Distance for Successful Attacks: 10.996938775510204\n",
      "Average L1 Distance for Successful Attacks: 0.5673088111439529\n",
      "Average L2 Distance for Successful Attacks: 0.8534684308937618\n",
      "Average Linf Distance for Successful Attacks: 2.108668689825097\n",
      "Average Mahalanobis Distance for Successful Attacks: 27.331578462689258\n",
      "Average Sensitivity for Successful Attacks: 0.6101426495581257\n",
      "Outlier Rate for Successful Attacks: 100.0%\n",
      "\n",
      "\n",
      "Running L2PGD on WineQuality-White with LogisticRegression\n",
      "Threshold: 4.4356665308251575\n"
     ]
    },
    {
     "name": "stderr",
     "output_type": "stream",
     "text": [
      "100%|██████████| 980/980 [00:37<00:00, 26.21it/s]\n"
     ]
    },
    {
     "name": "stdout",
     "output_type": "stream",
     "text": [
      "Epsilon = 0.0\n",
      "Success Rate: 32.55102040816327%\n",
      "Average L0 Distance for Successful Attacks: 0.0\n",
      "Average L1 Distance for Successful Attacks: 0.0\n",
      "Average L2 Distance for Successful Attacks: 0.0\n",
      "Average Linf Distance for Successful Attacks: 0.0\n",
      "Average Mahalanobis Distance for Successful Attacks: 3.401831791478458\n",
      "Average Sensitivity for Successful Attacks: 0.0\n",
      "Outlier Rate for Successful Attacks: 15.987460815047022%\n",
      "\n",
      "\n"
     ]
    },
    {
     "name": "stderr",
     "output_type": "stream",
     "text": [
      "100%|██████████| 980/980 [00:37<00:00, 26.13it/s]\n"
     ]
    },
    {
     "name": "stdout",
     "output_type": "stream",
     "text": [
      "Epsilon = 0.01\n",
      "Success Rate: 32.55102040816327%\n",
      "Average L0 Distance for Successful Attacks: 10.990595611285267\n",
      "Average L1 Distance for Successful Attacks: 0.0060417947350624585\n",
      "Average L2 Distance for Successful Attacks: 0.00998099756990574\n",
      "Average Linf Distance for Successful Attacks: 0.026654249938864692\n",
      "Average Mahalanobis Distance for Successful Attacks: 3.4033639475935713\n",
      "Average Sensitivity for Successful Attacks: 0.006502911372571529\n",
      "Outlier Rate for Successful Attacks: 15.673981191222571%\n",
      "\n",
      "\n"
     ]
    },
    {
     "name": "stderr",
     "output_type": "stream",
     "text": [
      "100%|██████████| 980/980 [00:37<00:00, 26.04it/s]\n"
     ]
    },
    {
     "name": "stdout",
     "output_type": "stream",
     "text": [
      "Epsilon = 0.03\n",
      "Success Rate: 32.6530612244898%\n",
      "Average L0 Distance for Successful Attacks: 10.99375\n",
      "Average L1 Distance for Successful Attacks: 0.018262709089322017\n",
      "Average L2 Distance for Successful Attacks: 0.029966783686541022\n",
      "Average Linf Distance for Successful Attacks: 0.0798340170760639\n",
      "Average Mahalanobis Distance for Successful Attacks: 3.5154040492512975\n",
      "Average Sensitivity for Successful Attacks: 0.019647864258149638\n",
      "Outlier Rate for Successful Attacks: 16.5625%\n",
      "\n",
      "\n"
     ]
    },
    {
     "name": "stderr",
     "output_type": "stream",
     "text": [
      "100%|██████████| 980/980 [00:37<00:00, 25.87it/s]\n"
     ]
    },
    {
     "name": "stdout",
     "output_type": "stream",
     "text": [
      "Epsilon = 0.05\n",
      "Success Rate: 32.6530612244898%\n",
      "Average L0 Distance for Successful Attacks: 10.99375\n",
      "Average L1 Distance for Successful Attacks: 0.030480433144839482\n",
      "Average L2 Distance for Successful Attacks: 0.04993848020676524\n",
      "Average Linf Distance for Successful Attacks: 0.13231171516235918\n",
      "Average Mahalanobis Distance for Successful Attacks: 3.785679591011649\n",
      "Average Sensitivity for Successful Attacks: 0.032795412314590065\n",
      "Outlier Rate for Successful Attacks: 22.8125%\n",
      "\n",
      "\n"
     ]
    },
    {
     "name": "stderr",
     "output_type": "stream",
     "text": [
      "100%|██████████| 980/980 [00:37<00:00, 26.02it/s]\n"
     ]
    },
    {
     "name": "stdout",
     "output_type": "stream",
     "text": [
      "Epsilon = 0.1\n",
      "Success Rate: 32.755102040816325%\n",
      "Average L0 Distance for Successful Attacks: 10.996884735202492\n",
      "Average L1 Distance for Successful Attacks: 0.060805425953085177\n",
      "Average L2 Distance for Successful Attacks: 0.09967122336043004\n",
      "Average Linf Distance for Successful Attacks: 0.264428250050619\n",
      "Average Mahalanobis Distance for Successful Attacks: 4.691420845355114\n",
      "Average Sensitivity for Successful Attacks: 0.06539629041173747\n",
      "Outlier Rate for Successful Attacks: 50.467289719626166%\n",
      "\n",
      "\n"
     ]
    },
    {
     "name": "stderr",
     "output_type": "stream",
     "text": [
      "100%|██████████| 980/980 [00:37<00:00, 25.92it/s]\n"
     ]
    },
    {
     "name": "stdout",
     "output_type": "stream",
     "text": [
      "Epsilon = 0.3\n",
      "Success Rate: 42.04081632653061%\n",
      "Average L0 Distance for Successful Attacks: 10.99757281553398\n",
      "Average L1 Distance for Successful Attacks: 0.1806970917556471\n",
      "Average L2 Distance for Successful Attacks: 0.29861757701751096\n",
      "Average Linf Distance for Successful Attacks: 0.7968679555122135\n",
      "Average Mahalanobis Distance for Successful Attacks: 9.567589555217944\n",
      "Average Sensitivity for Successful Attacks: 0.19432876588216105\n",
      "Outlier Rate for Successful Attacks: 91.50485436893204%\n",
      "\n",
      "\n"
     ]
    },
    {
     "name": "stderr",
     "output_type": "stream",
     "text": [
      "100%|██████████| 980/980 [00:37<00:00, 25.94it/s]\n"
     ]
    },
    {
     "name": "stdout",
     "output_type": "stream",
     "text": [
      "Epsilon = 0.5\n",
      "Success Rate: 59.08163265306122%\n",
      "Average L0 Distance for Successful Attacks: 10.996545768566493\n",
      "Average L1 Distance for Successful Attacks: 0.30376502037666003\n",
      "Average L2 Distance for Successful Attacks: 0.49340117044605325\n",
      "Average Linf Distance for Successful Attacks: 1.3248249647530868\n",
      "Average Mahalanobis Distance for Successful Attacks: 14.131099482313521\n",
      "Average Sensitivity for Successful Attacks: 0.3267172351865571\n",
      "Outlier Rate for Successful Attacks: 98.96373056994818%\n",
      "\n",
      "\n"
     ]
    },
    {
     "name": "stderr",
     "output_type": "stream",
     "text": [
      "100%|██████████| 980/980 [00:37<00:00, 26.18it/s]\n"
     ]
    },
    {
     "name": "stdout",
     "output_type": "stream",
     "text": [
      "Epsilon = 1.0\n",
      "Success Rate: 100.0%\n",
      "Average L0 Distance for Successful Attacks: 10.996938775510204\n",
      "Average L1 Distance for Successful Attacks: 0.6020453910438381\n",
      "Average L2 Distance for Successful Attacks: 0.9742511633099342\n",
      "Average Linf Distance for Successful Attacks: 2.5810568382545394\n",
      "Average Mahalanobis Distance for Successful Attacks: 28.9700514801199\n",
      "Average Sensitivity for Successful Attacks: 0.6474972036420082\n",
      "Outlier Rate for Successful Attacks: 100.0%\n",
      "\n",
      "\n",
      "Running L2BIM on WineQuality-White with LogisticRegression\n",
      "Threshold: 4.4356665308251575\n"
     ]
    },
    {
     "name": "stderr",
     "output_type": "stream",
     "text": [
      "100%|██████████| 980/980 [00:08<00:00, 110.38it/s]\n"
     ]
    },
    {
     "name": "stdout",
     "output_type": "stream",
     "text": [
      "Epsilon = 0.0\n",
      "Success Rate: 32.55102040816327%\n",
      "Average L0 Distance for Successful Attacks: 0.0\n",
      "Average L1 Distance for Successful Attacks: 0.0\n",
      "Average L2 Distance for Successful Attacks: 0.0\n",
      "Average Linf Distance for Successful Attacks: 0.0\n",
      "Average Mahalanobis Distance for Successful Attacks: 3.401831791478458\n",
      "Average Sensitivity for Successful Attacks: 0.0\n",
      "Outlier Rate for Successful Attacks: 15.987460815047022%\n",
      "\n",
      "\n"
     ]
    },
    {
     "name": "stderr",
     "output_type": "stream",
     "text": [
      "100%|██████████| 980/980 [00:09<00:00, 108.46it/s]\n"
     ]
    },
    {
     "name": "stdout",
     "output_type": "stream",
     "text": [
      "Epsilon = 0.01\n",
      "Success Rate: 32.55102040816327%\n",
      "Average L0 Distance for Successful Attacks: 10.990595611285267\n",
      "Average L1 Distance for Successful Attacks: 0.006258214901268576\n",
      "Average L2 Distance for Successful Attacks: 0.009999744077344486\n",
      "Average Linf Distance for Successful Attacks: 0.0249813502088049\n",
      "Average Mahalanobis Distance for Successful Attacks: 3.395704620585391\n",
      "Average Sensitivity for Successful Attacks: 0.006735259132769227\n",
      "Outlier Rate for Successful Attacks: 15.360501567398119%\n",
      "\n",
      "\n"
     ]
    },
    {
     "name": "stderr",
     "output_type": "stream",
     "text": [
      "100%|██████████| 980/980 [00:08<00:00, 112.02it/s]\n"
     ]
    },
    {
     "name": "stdout",
     "output_type": "stream",
     "text": [
      "Epsilon = 0.03\n",
      "Success Rate: 32.6530612244898%\n",
      "Average L0 Distance for Successful Attacks: 10.990625\n",
      "Average L1 Distance for Successful Attacks: 0.01877602459862828\n",
      "Average L2 Distance for Successful Attacks: 0.029999406822025777\n",
      "Average Linf Distance for Successful Attacks: 0.07493552309460938\n",
      "Average Mahalanobis Distance for Successful Attacks: 3.4879125293756523\n",
      "Average Sensitivity for Successful Attacks: 0.020207355788443238\n",
      "Outlier Rate for Successful Attacks: 15.0%\n",
      "\n",
      "\n"
     ]
    },
    {
     "name": "stderr",
     "output_type": "stream",
     "text": [
      "100%|██████████| 980/980 [00:08<00:00, 109.92it/s]\n"
     ]
    },
    {
     "name": "stdout",
     "output_type": "stream",
     "text": [
      "Epsilon = 0.05\n",
      "Success Rate: 32.6530612244898%\n",
      "Average L0 Distance for Successful Attacks: 10.990625\n",
      "Average L1 Distance for Successful Attacks: 0.03129369063535705\n",
      "Average L2 Distance for Successful Attacks: 0.04999918482499197\n",
      "Average Linf Distance for Successful Attacks: 0.1248890638584271\n",
      "Average Mahalanobis Distance for Successful Attacks: 3.6906740317502056\n",
      "Average Sensitivity for Successful Attacks: 0.0336792990914546\n",
      "Outlier Rate for Successful Attacks: 19.0625%\n",
      "\n",
      "\n"
     ]
    },
    {
     "name": "stderr",
     "output_type": "stream",
     "text": [
      "100%|██████████| 980/980 [00:08<00:00, 109.50it/s]\n"
     ]
    },
    {
     "name": "stdout",
     "output_type": "stream",
     "text": [
      "Epsilon = 0.1\n",
      "Success Rate: 33.16326530612245%\n",
      "Average L0 Distance for Successful Attacks: 10.990769230769232\n",
      "Average L1 Distance for Successful Attacks: 0.06264674975321843\n",
      "Average L2 Distance for Successful Attacks: 0.09998281808999869\n",
      "Average Linf Distance for Successful Attacks: 0.24977573587344243\n",
      "Average Mahalanobis Distance for Successful Attacks: 4.616691167757165\n",
      "Average Sensitivity for Successful Attacks: 0.0674214591888281\n",
      "Outlier Rate for Successful Attacks: 48.92307692307693%\n",
      "\n",
      "\n"
     ]
    },
    {
     "name": "stderr",
     "output_type": "stream",
     "text": [
      "100%|██████████| 980/980 [00:08<00:00, 110.95it/s]\n"
     ]
    },
    {
     "name": "stdout",
     "output_type": "stream",
     "text": [
      "Epsilon = 0.3\n",
      "Success Rate: 46.02040816326531%\n",
      "Average L0 Distance for Successful Attacks: 10.993348115299336\n",
      "Average L1 Distance for Successful Attacks: 0.1897669069122052\n",
      "Average L2 Distance for Successful Attacks: 0.2986306922795239\n",
      "Average Linf Distance for Successful Attacks: 0.7476082450799033\n",
      "Average Mahalanobis Distance for Successful Attacks: 10.121868134679543\n",
      "Average Sensitivity for Successful Attacks: 0.20418388371721338\n",
      "Outlier Rate for Successful Attacks: 99.55654101995566%\n",
      "\n",
      "\n"
     ]
    },
    {
     "name": "stderr",
     "output_type": "stream",
     "text": [
      "100%|██████████| 980/980 [00:08<00:00, 109.08it/s]\n"
     ]
    },
    {
     "name": "stdout",
     "output_type": "stream",
     "text": [
      "Epsilon = 0.5\n",
      "Success Rate: 69.6938775510204%\n",
      "Average L0 Distance for Successful Attacks: 10.995607613469986\n",
      "Average L1 Distance for Successful Attacks: 0.326938980800341\n",
      "Average L2 Distance for Successful Attacks: 0.49389547816481805\n",
      "Average Linf Distance for Successful Attacks: 1.231212633944186\n",
      "Average Mahalanobis Distance for Successful Attacks: 15.46243108497892\n",
      "Average Sensitivity for Successful Attacks: 0.3516987715336449\n",
      "Outlier Rate for Successful Attacks: 100.0%\n",
      "\n",
      "\n"
     ]
    },
    {
     "name": "stderr",
     "output_type": "stream",
     "text": [
      "100%|██████████| 980/980 [00:08<00:00, 110.69it/s]\n"
     ]
    },
    {
     "name": "stdout",
     "output_type": "stream",
     "text": [
      "Epsilon = 1.0\n",
      "Success Rate: 100.0%\n",
      "Average L0 Distance for Successful Attacks: 10.996938775510204\n",
      "Average L1 Distance for Successful Attacks: 0.6390337198972702\n",
      "Average L2 Distance for Successful Attacks: 0.9634702987208659\n",
      "Average Linf Distance for Successful Attacks: 2.3835414571421487\n",
      "Average Mahalanobis Distance for Successful Attacks: 31.178540478834282\n",
      "Average Sensitivity for Successful Attacks: 0.6872664751142872\n",
      "Outlier Rate for Successful Attacks: 100.0%\n",
      "\n",
      "\n",
      "Running LinfDeepFool on WineQuality-White with LogisticRegression\n",
      "Threshold: 4.4356665308251575\n"
     ]
    },
    {
     "name": "stderr",
     "output_type": "stream",
     "text": [
      "100%|██████████| 980/980 [00:05<00:00, 187.98it/s]\n"
     ]
    },
    {
     "name": "stdout",
     "output_type": "stream",
     "text": [
      "Epsilon = 0.0\n",
      "Success Rate: 32.55102040816327%\n",
      "Average L0 Distance for Successful Attacks: 0.0\n",
      "Average L1 Distance for Successful Attacks: 0.0\n",
      "Average L2 Distance for Successful Attacks: 0.0\n",
      "Average Linf Distance for Successful Attacks: 0.0\n",
      "Average Mahalanobis Distance for Successful Attacks: 3.401831791478458\n",
      "Average Sensitivity for Successful Attacks: 0.0\n",
      "Outlier Rate for Successful Attacks: 15.987460815047022%\n",
      "\n",
      "\n"
     ]
    },
    {
     "name": "stderr",
     "output_type": "stream",
     "text": [
      "100%|██████████| 980/980 [00:05<00:00, 189.92it/s]\n"
     ]
    },
    {
     "name": "stdout",
     "output_type": "stream",
     "text": [
      "Epsilon = 0.01\n",
      "Success Rate: 32.6530612244898%\n",
      "Average L0 Distance for Successful Attacks: 0.034375\n",
      "Average L1 Distance for Successful Attacks: 2.048518508672714e-05\n",
      "Average L2 Distance for Successful Attacks: 6.794141954742372e-05\n",
      "Average Linf Distance for Successful Attacks: 0.0002253361977636814\n",
      "Average Mahalanobis Distance for Successful Attacks: 3.408998056872966\n",
      "Average Sensitivity for Successful Attacks: 2.20253539737314e-05\n",
      "Outlier Rate for Successful Attacks: 16.25%\n",
      "\n",
      "\n"
     ]
    },
    {
     "name": "stderr",
     "output_type": "stream",
     "text": [
      "100%|██████████| 980/980 [00:05<00:00, 193.46it/s]\n"
     ]
    },
    {
     "name": "stdout",
     "output_type": "stream",
     "text": [
      "Epsilon = 0.03\n",
      "Success Rate: 32.755102040816325%\n",
      "Average L0 Distance for Successful Attacks: 0.06853582554517133\n",
      "Average L1 Distance for Successful Attacks: 9.31006447177067e-05\n",
      "Average L2 Distance for Successful Attacks: 0.0003087795354031328\n",
      "Average Linf Distance for Successful Attacks: 0.0010241059313682009\n",
      "Average Mahalanobis Distance for Successful Attacks: 3.4141609164494886\n",
      "Average Sensitivity for Successful Attacks: 0.00010010037814902368\n",
      "Outlier Rate for Successful Attacks: 16.510903426791277%\n",
      "\n",
      "\n"
     ]
    },
    {
     "name": "stderr",
     "output_type": "stream",
     "text": [
      "100%|██████████| 980/980 [00:05<00:00, 193.15it/s]\n"
     ]
    },
    {
     "name": "stdout",
     "output_type": "stream",
     "text": [
      "Epsilon = 0.05\n",
      "Success Rate: 33.36734693877551%\n",
      "Average L0 Distance for Successful Attacks: 0.2691131498470948\n",
      "Average L1 Distance for Successful Attacks: 0.0008471963488545257\n",
      "Average L2 Distance for Successful Attacks: 0.002809831804228485\n",
      "Average Linf Distance for Successful Attacks: 0.009319158139943348\n",
      "Average Mahalanobis Distance for Successful Attacks: 3.4652030388068824\n",
      "Average Sensitivity for Successful Attacks: 0.0009108923933830466\n",
      "Outlier Rate for Successful Attacks: 18.04281345565749%\n",
      "\n",
      "\n"
     ]
    },
    {
     "name": "stderr",
     "output_type": "stream",
     "text": [
      "100%|██████████| 980/980 [00:05<00:00, 193.09it/s]\n"
     ]
    },
    {
     "name": "stdout",
     "output_type": "stream",
     "text": [
      "Epsilon = 0.1\n",
      "Success Rate: 41.734693877551024%\n",
      "Average L0 Distance for Successful Attacks: 2.4205378973105134\n",
      "Average L1 Distance for Successful Attacks: 0.017094757954401026\n",
      "Average L2 Distance for Successful Attacks: 0.05656936399930118\n",
      "Average Linf Distance for Successful Attacks: 0.1875426514224493\n",
      "Average Mahalanobis Distance for Successful Attacks: 4.213791710007533\n",
      "Average Sensitivity for Successful Attacks: 0.018380018889284658\n",
      "Outlier Rate for Successful Attacks: 34.474327628361856%\n",
      "\n",
      "\n"
     ]
    },
    {
     "name": "stderr",
     "output_type": "stream",
     "text": [
      "100%|██████████| 980/980 [00:05<00:00, 185.76it/s]\n"
     ]
    },
    {
     "name": "stdout",
     "output_type": "stream",
     "text": [
      "Epsilon = 0.3\n",
      "Success Rate: 98.26530612244898%\n",
      "Average L0 Distance for Successful Attacks: 7.356178608515057\n",
      "Average L1 Distance for Successful Attacks: 0.12540059473640203\n",
      "Average L2 Distance for Successful Attacks: 0.4014163835502209\n",
      "Average Linf Distance for Successful Attacks: 1.31371930250869\n",
      "Average Mahalanobis Distance for Successful Attacks: 10.160948151521811\n",
      "Average Sensitivity for Successful Attacks: 0.13482877612694216\n",
      "Outlier Rate for Successful Attacks: 72.17030114226375%\n",
      "\n",
      "\n"
     ]
    },
    {
     "name": "stderr",
     "output_type": "stream",
     "text": [
      "100%|██████████| 980/980 [00:05<00:00, 188.32it/s]\n"
     ]
    },
    {
     "name": "stdout",
     "output_type": "stream",
     "text": [
      "Epsilon = 0.5\n",
      "Success Rate: 100.0%\n",
      "Average L0 Distance for Successful Attacks: 7.419387755102041\n",
      "Average L1 Distance for Successful Attacks: 0.12871435892445093\n",
      "Average L2 Distance for Successful Attacks: 0.41145438636862197\n",
      "Average Linf Distance for Successful Attacks: 1.3456071179132072\n",
      "Average Mahalanobis Distance for Successful Attacks: 10.340175489719888\n",
      "Average Sensitivity for Successful Attacks: 0.13839168406224678\n",
      "Outlier Rate for Successful Attacks: 72.6530612244898%\n",
      "\n",
      "\n"
     ]
    },
    {
     "name": "stderr",
     "output_type": "stream",
     "text": [
      "100%|██████████| 980/980 [00:05<00:00, 187.51it/s]\n"
     ]
    },
    {
     "name": "stdout",
     "output_type": "stream",
     "text": [
      "Epsilon = 1.0\n",
      "Success Rate: 100.0%\n",
      "Average L0 Distance for Successful Attacks: 7.419387755102041\n",
      "Average L1 Distance for Successful Attacks: 0.12871435892445093\n",
      "Average L2 Distance for Successful Attacks: 0.41145438636862197\n",
      "Average Linf Distance for Successful Attacks: 1.3456071179132072\n",
      "Average Mahalanobis Distance for Successful Attacks: 10.340175489719888\n",
      "Average Sensitivity for Successful Attacks: 0.13839168406224678\n",
      "Outlier Rate for Successful Attacks: 72.6530612244898%\n",
      "\n",
      "\n",
      "Running L2DeepFool on WineQuality-White with LogisticRegression\n",
      "Threshold: 4.4356665308251575\n"
     ]
    },
    {
     "name": "stderr",
     "output_type": "stream",
     "text": [
      "100%|██████████| 980/980 [00:04<00:00, 227.64it/s]\n"
     ]
    },
    {
     "name": "stdout",
     "output_type": "stream",
     "text": [
      "Epsilon = 0.0\n",
      "Success Rate: 32.55102040816327%\n",
      "Average L0 Distance for Successful Attacks: 0.0\n",
      "Average L1 Distance for Successful Attacks: 0.0\n",
      "Average L2 Distance for Successful Attacks: 0.0\n",
      "Average Linf Distance for Successful Attacks: 0.0\n",
      "Average Mahalanobis Distance for Successful Attacks: 3.401831791478458\n",
      "Average Sensitivity for Successful Attacks: 0.0\n",
      "Outlier Rate for Successful Attacks: 15.987460815047022%\n",
      "\n",
      "\n"
     ]
    },
    {
     "name": "stderr",
     "output_type": "stream",
     "text": [
      "100%|██████████| 980/980 [00:04<00:00, 229.96it/s]\n"
     ]
    },
    {
     "name": "stdout",
     "output_type": "stream",
     "text": [
      "Epsilon = 0.01\n",
      "Success Rate: 32.55102040816327%\n",
      "Average L0 Distance for Successful Attacks: 0.0\n",
      "Average L1 Distance for Successful Attacks: 0.0\n",
      "Average L2 Distance for Successful Attacks: 0.0\n",
      "Average Linf Distance for Successful Attacks: 0.0\n",
      "Average Mahalanobis Distance for Successful Attacks: 3.401831791478458\n",
      "Average Sensitivity for Successful Attacks: 0.0\n",
      "Outlier Rate for Successful Attacks: 15.987460815047022%\n",
      "\n",
      "\n"
     ]
    },
    {
     "name": "stderr",
     "output_type": "stream",
     "text": [
      "100%|██████████| 980/980 [00:04<00:00, 225.35it/s]\n"
     ]
    },
    {
     "name": "stdout",
     "output_type": "stream",
     "text": [
      "Epsilon = 0.03\n",
      "Success Rate: 32.6530612244898%\n",
      "Average L0 Distance for Successful Attacks: 0.034375\n",
      "Average L1 Distance for Successful Attacks: 3.17341648042202e-05\n",
      "Average L2 Distance for Successful Attacks: 5.072303465567529e-05\n",
      "Average Linf Distance for Successful Attacks: 0.00012677847407758236\n",
      "Average Mahalanobis Distance for Successful Attacks: 3.4093239669783264\n",
      "Average Sensitivity for Successful Attacks: 3.4120085183531045e-05\n",
      "Outlier Rate for Successful Attacks: 16.25%\n",
      "\n",
      "\n"
     ]
    },
    {
     "name": "stderr",
     "output_type": "stream",
     "text": [
      "100%|██████████| 980/980 [00:04<00:00, 231.38it/s]\n"
     ]
    },
    {
     "name": "stdout",
     "output_type": "stream",
     "text": [
      "Epsilon = 0.05\n",
      "Success Rate: 32.6530612244898%\n",
      "Average L0 Distance for Successful Attacks: 0.034375\n",
      "Average L1 Distance for Successful Attacks: 3.17341648042202e-05\n",
      "Average L2 Distance for Successful Attacks: 5.072303465567529e-05\n",
      "Average Linf Distance for Successful Attacks: 0.00012677847407758236\n",
      "Average Mahalanobis Distance for Successful Attacks: 3.4093239669783264\n",
      "Average Sensitivity for Successful Attacks: 3.4120085183531045e-05\n",
      "Outlier Rate for Successful Attacks: 16.25%\n",
      "\n",
      "\n"
     ]
    },
    {
     "name": "stderr",
     "output_type": "stream",
     "text": [
      "100%|██████████| 980/980 [00:04<00:00, 223.39it/s]\n"
     ]
    },
    {
     "name": "stdout",
     "output_type": "stream",
     "text": [
      "Epsilon = 0.1\n",
      "Success Rate: 33.16326530612245%\n",
      "Average L0 Distance for Successful Attacks: 0.20307692307692307\n",
      "Average L1 Distance for Successful Attacks: 0.0008547023626474234\n",
      "Average L2 Distance for Successful Attacks: 0.0013661328015419152\n",
      "Average Linf Distance for Successful Attacks: 0.003414546251296997\n",
      "Average Mahalanobis Distance for Successful Attacks: 3.4571128944307112\n",
      "Average Sensitivity for Successful Attacks: 0.000918962714763788\n",
      "Outlier Rate for Successful Attacks: 17.53846153846154%\n",
      "\n",
      "\n"
     ]
    },
    {
     "name": "stderr",
     "output_type": "stream",
     "text": [
      "100%|██████████| 980/980 [00:04<00:00, 221.12it/s]\n"
     ]
    },
    {
     "name": "stdout",
     "output_type": "stream",
     "text": [
      "Epsilon = 0.3\n",
      "Success Rate: 46.12244897959184%\n",
      "Average L0 Distance for Successful Attacks: 3.2367256637168142\n",
      "Average L1 Distance for Successful Attacks: 0.04030657567875048\n",
      "Average L2 Distance for Successful Attacks: 0.0649236075423526\n",
      "Average Linf Distance for Successful Attacks: 0.1626098417405006\n",
      "Average Mahalanobis Distance for Successful Attacks: 4.810012591599857\n",
      "Average Sensitivity for Successful Attacks: 0.04333700548725582\n",
      "Outlier Rate for Successful Attacks: 40.707964601769916%\n",
      "\n",
      "\n"
     ]
    },
    {
     "name": "stderr",
     "output_type": "stream",
     "text": [
      "100%|██████████| 980/980 [00:04<00:00, 223.96it/s]\n"
     ]
    },
    {
     "name": "stdout",
     "output_type": "stream",
     "text": [
      "Epsilon = 0.5\n",
      "Success Rate: 69.6938775510204%\n",
      "Average L0 Distance for Successful Attacks: 5.862371888726208\n",
      "Average L1 Distance for Successful Attacks: 0.11590854490876722\n",
      "Average L2 Distance for Successful Attacks: 0.1858270908371814\n",
      "Average Linf Distance for Successful Attacks: 0.46444982519348754\n",
      "Average Mahalanobis Distance for Successful Attacks: 7.923562474853821\n",
      "Average Sensitivity for Successful Attacks: 0.12462307112959607\n",
      "Outlier Rate for Successful Attacks: 60.76134699853587%\n",
      "\n",
      "\n"
     ]
    },
    {
     "name": "stderr",
     "output_type": "stream",
     "text": [
      "100%|██████████| 980/980 [00:04<00:00, 229.51it/s]\n"
     ]
    },
    {
     "name": "stdout",
     "output_type": "stream",
     "text": [
      "Epsilon = 1.0\n",
      "Success Rate: 100.0%\n",
      "Average L0 Distance for Successful Attacks: 7.419387755102041\n",
      "Average L1 Distance for Successful Attacks: 0.19805960111624124\n",
      "Average L2 Distance for Successful Attacks: 0.3165509372968607\n",
      "Average Linf Distance for Successful Attacks: 0.7885785121850821\n",
      "Average Mahalanobis Distance for Successful Attacks: 11.623679481086183\n",
      "Average Sensitivity for Successful Attacks: 0.21295061342190114\n",
      "Outlier Rate for Successful Attacks: 72.6530612244898%\n",
      "\n",
      "\n",
      "Running L2CarliniWagner on WineQuality-White with LogisticRegression\n",
      "Threshold: 4.4356665308251575\n"
     ]
    },
    {
     "name": "stderr",
     "output_type": "stream",
     "text": [
      "100%|██████████| 980/980 [02:30<00:00,  6.49it/s]\n"
     ]
    },
    {
     "name": "stdout",
     "output_type": "stream",
     "text": [
      "Epsilon = 0.0\n",
      "Success Rate: 32.55102040816327%\n",
      "Average L0 Distance for Successful Attacks: 0.0\n",
      "Average L1 Distance for Successful Attacks: 0.0\n",
      "Average L2 Distance for Successful Attacks: 0.0\n",
      "Average Linf Distance for Successful Attacks: 0.0\n",
      "Average Mahalanobis Distance for Successful Attacks: 3.401831791478458\n",
      "Average Sensitivity for Successful Attacks: 0.0\n",
      "Outlier Rate for Successful Attacks: 15.987460815047022%\n",
      "\n",
      "\n"
     ]
    },
    {
     "name": "stderr",
     "output_type": "stream",
     "text": [
      "100%|██████████| 980/980 [02:32<00:00,  6.41it/s]\n"
     ]
    },
    {
     "name": "stdout",
     "output_type": "stream",
     "text": [
      "Epsilon = 0.01\n",
      "Success Rate: 32.55102040816327%\n",
      "Average L0 Distance for Successful Attacks: 10.786833855799372\n",
      "Average L1 Distance for Successful Attacks: 4.5123089653758044e-07\n",
      "Average L2 Distance for Successful Attacks: 1.0186472796749656e-06\n",
      "Average Linf Distance for Successful Attacks: 3.098852517883232e-06\n",
      "Average Mahalanobis Distance for Successful Attacks: 3.401828094374906\n",
      "Average Sensitivity for Successful Attacks: 4.957643765105801e-07\n",
      "Outlier Rate for Successful Attacks: 15.987460815047022%\n",
      "\n",
      "\n"
     ]
    },
    {
     "name": "stderr",
     "output_type": "stream",
     "text": [
      "100%|██████████| 980/980 [02:32<00:00,  6.44it/s]\n"
     ]
    },
    {
     "name": "stdout",
     "output_type": "stream",
     "text": [
      "Epsilon = 0.03\n",
      "Success Rate: 32.6530612244898%\n",
      "Average L0 Distance for Successful Attacks: 10.7875\n",
      "Average L1 Distance for Successful Attacks: 3.448221032158472e-05\n",
      "Average L2 Distance for Successful Attacks: 9.476546773221629e-05\n",
      "Average Linf Distance for Successful Attacks: 0.00030560453378711825\n",
      "Average Mahalanobis Distance for Successful Attacks: 3.4088823777907784\n",
      "Average Sensitivity for Successful Attacks: 3.708531154478223e-05\n",
      "Outlier Rate for Successful Attacks: 16.25%\n",
      "\n",
      "\n"
     ]
    },
    {
     "name": "stderr",
     "output_type": "stream",
     "text": [
      "100%|██████████| 980/980 [02:32<00:00,  6.42it/s]\n"
     ]
    },
    {
     "name": "stdout",
     "output_type": "stream",
     "text": [
      "Epsilon = 0.05\n",
      "Success Rate: 32.6530612244898%\n",
      "Average L0 Distance for Successful Attacks: 10.7875\n",
      "Average L1 Distance for Successful Attacks: 5.717034582630731e-05\n",
      "Average L2 Distance for Successful Attacks: 0.00015726548961829677\n",
      "Average Linf Distance for Successful Attacks: 0.0005072815525636543\n",
      "Average Mahalanobis Distance for Successful Attacks: 3.408884115829166\n",
      "Average Sensitivity for Successful Attacks: 6.147924292525531e-05\n",
      "Outlier Rate for Successful Attacks: 16.25%\n",
      "\n",
      "\n"
     ]
    },
    {
     "name": "stderr",
     "output_type": "stream",
     "text": [
      "100%|██████████| 980/980 [02:31<00:00,  6.45it/s]\n"
     ]
    },
    {
     "name": "stdout",
     "output_type": "stream",
     "text": [
      "Epsilon = 0.1\n",
      "Success Rate: 32.95918367346939%\n",
      "Average L0 Distance for Successful Attacks: 10.789473684210526\n",
      "Average L1 Distance for Successful Attacks: 0.0005576401039231396\n",
      "Average L2 Distance for Successful Attacks: 0.0011322356194672968\n",
      "Average Linf Distance for Successful Attacks: 0.003367805831140086\n",
      "Average Mahalanobis Distance for Successful Attacks: 3.438840852491257\n",
      "Average Sensitivity for Successful Attacks: 0.0005995764515871444\n",
      "Outlier Rate for Successful Attacks: 17.027863777089784%\n",
      "\n",
      "\n"
     ]
    },
    {
     "name": "stderr",
     "output_type": "stream",
     "text": [
      "100%|██████████| 980/980 [02:32<00:00,  6.41it/s]\n"
     ]
    },
    {
     "name": "stdout",
     "output_type": "stream",
     "text": [
      "Epsilon = 0.3\n",
      "Success Rate: 42.142857142857146%\n",
      "Average L0 Distance for Successful Attacks: 10.835351089588377\n",
      "Average L1 Distance for Successful Attacks: 0.027477073497262944\n",
      "Average L2 Distance for Successful Attacks: 0.05551509674335436\n",
      "Average Linf Distance for Successful Attacks: 0.15653109580749697\n",
      "Average Mahalanobis Distance for Successful Attacks: 5.236105237778002\n",
      "Average Sensitivity for Successful Attacks: 0.029542931630692746\n",
      "Outlier Rate for Successful Attacks: 35.1089588377724%\n",
      "\n",
      "\n"
     ]
    },
    {
     "name": "stderr",
     "output_type": "stream",
     "text": [
      "100%|██████████| 980/980 [02:31<00:00,  6.45it/s]\n"
     ]
    },
    {
     "name": "stdout",
     "output_type": "stream",
     "text": [
      "Epsilon = 0.5\n",
      "Success Rate: 60.91836734693877%\n",
      "Average L0 Distance for Successful Attacks: 10.88609715242881\n",
      "Average L1 Distance for Successful Attacks: 0.08155078856060766\n",
      "Average L2 Distance for Successful Attacks: 0.17002698481890374\n",
      "Average Linf Distance for Successful Attacks: 0.4759591709127434\n",
      "Average Mahalanobis Distance for Successful Attacks: 8.49185394850686\n",
      "Average Sensitivity for Successful Attacks: 0.08768214935430566\n",
      "Outlier Rate for Successful Attacks: 55.10887772194305%\n",
      "\n",
      "\n"
     ]
    },
    {
     "name": "stderr",
     "output_type": "stream",
     "text": [
      "100%|██████████| 980/980 [02:31<00:00,  6.46it/s]\n",
      "/home/zippo/miniconda3/envs/tabular-benchmark/lib/python3.10/site-packages/foolbox/models/pytorch.py:36: UserWarning: The PyTorch model is in training mode and therefore might not be deterministic. Call the eval() method to set it in evaluation mode if this is not intended.\n",
      "  warnings.warn(\n"
     ]
    },
    {
     "name": "stdout",
     "output_type": "stream",
     "text": [
      "Epsilon = 1.0\n",
      "Success Rate: 98.77551020408163%\n",
      "Average L0 Distance for Successful Attacks: 10.929752066115702\n",
      "Average L1 Distance for Successful Attacks: 0.17293943035005485\n",
      "Average L2 Distance for Successful Attacks: 0.35916943975783544\n",
      "Average Linf Distance for Successful Attacks: 1.0056550137697207\n",
      "Average Mahalanobis Distance for Successful Attacks: 11.845935037306937\n",
      "Average Sensitivity for Successful Attacks: 0.18594179854226037\n",
      "Outlier Rate for Successful Attacks: 72.31404958677686%\n",
      "\n",
      "\n",
      "Running L2Gaussian on WineQuality-White with MLP\n",
      "Threshold: 4.4356665308251575\n"
     ]
    },
    {
     "name": "stderr",
     "output_type": "stream",
     "text": [
      "100%|██████████| 980/980 [00:02<00:00, 479.73it/s]\n"
     ]
    },
    {
     "name": "stdout",
     "output_type": "stream",
     "text": [
      "Epsilon = 0.0\n",
      "Success Rate: 25.30612244897959%\n",
      "Average L0 Distance for Successful Attacks: 0.0\n",
      "Average L1 Distance for Successful Attacks: 0.0\n",
      "Average L2 Distance for Successful Attacks: 0.0\n",
      "Average Linf Distance for Successful Attacks: 0.0\n",
      "Average Mahalanobis Distance for Successful Attacks: 3.2594653703335683\n",
      "Average Sensitivity for Successful Attacks: 0.0\n",
      "Outlier Rate for Successful Attacks: 10.887096774193548%\n",
      "\n",
      "\n"
     ]
    },
    {
     "name": "stderr",
     "output_type": "stream",
     "text": [
      "100%|██████████| 980/980 [00:02<00:00, 477.16it/s]\n"
     ]
    },
    {
     "name": "stdout",
     "output_type": "stream",
     "text": [
      "Epsilon = 0.01\n",
      "Success Rate: 25.0%\n",
      "Average L0 Distance for Successful Attacks: 10.991836734693878\n",
      "Average L1 Distance for Successful Attacks: 0.005889849302035814\n",
      "Average L2 Distance for Successful Attacks: 0.009989989123174123\n",
      "Average Linf Distance for Successful Attacks: 0.02705294075517022\n",
      "Average Mahalanobis Distance for Successful Attacks: 3.28478244410177\n",
      "Average Sensitivity for Successful Attacks: 0.0063376970950286\n",
      "Outlier Rate for Successful Attacks: 11.428571428571429%\n",
      "\n",
      "\n"
     ]
    },
    {
     "name": "stderr",
     "output_type": "stream",
     "text": [
      "100%|██████████| 980/980 [00:02<00:00, 482.43it/s]\n"
     ]
    },
    {
     "name": "stdout",
     "output_type": "stream",
     "text": [
      "Epsilon = 0.03\n",
      "Success Rate: 25.0%\n",
      "Average L0 Distance for Successful Attacks: 10.991836734693878\n",
      "Average L1 Distance for Successful Attacks: 0.017734316090235906\n",
      "Average L2 Distance for Successful Attacks: 0.029928554731364153\n",
      "Average Linf Distance for Successful Attacks: 0.08125455671427201\n",
      "Average Mahalanobis Distance for Successful Attacks: 3.4634632287058422\n",
      "Average Sensitivity for Successful Attacks: 0.01908303908243471\n",
      "Outlier Rate for Successful Attacks: 12.653061224489795%\n",
      "\n",
      "\n"
     ]
    },
    {
     "name": "stderr",
     "output_type": "stream",
     "text": [
      "100%|██████████| 980/980 [00:02<00:00, 483.08it/s]\n"
     ]
    },
    {
     "name": "stdout",
     "output_type": "stream",
     "text": [
      "Epsilon = 0.05\n",
      "Success Rate: 26.224489795918366%\n",
      "Average L0 Distance for Successful Attacks: 10.988326848249027\n",
      "Average L1 Distance for Successful Attacks: 0.029198596652611684\n",
      "Average L2 Distance for Successful Attacks: 0.0497026187784477\n",
      "Average Linf Distance for Successful Attacks: 0.13508194740064414\n",
      "Average Mahalanobis Distance for Successful Attacks: 3.7639011443039645\n",
      "Average Sensitivity for Successful Attacks: 0.031427162717520496\n",
      "Outlier Rate for Successful Attacks: 21.40077821011673%\n",
      "\n",
      "\n"
     ]
    },
    {
     "name": "stderr",
     "output_type": "stream",
     "text": [
      "100%|██████████| 980/980 [00:02<00:00, 469.09it/s]\n"
     ]
    },
    {
     "name": "stdout",
     "output_type": "stream",
     "text": [
      "Epsilon = 0.1\n",
      "Success Rate: 26.93877551020408%\n",
      "Average L0 Distance for Successful Attacks: 10.988636363636363\n",
      "Average L1 Distance for Successful Attacks: 0.05883632270111279\n",
      "Average L2 Distance for Successful Attacks: 0.09924409230888794\n",
      "Average Linf Distance for Successful Attacks: 0.2691468181596561\n",
      "Average Mahalanobis Distance for Successful Attacks: 4.86696378571809\n",
      "Average Sensitivity for Successful Attacks: 0.06332659391178326\n",
      "Outlier Rate for Successful Attacks: 50.0%\n",
      "\n",
      "\n"
     ]
    },
    {
     "name": "stderr",
     "output_type": "stream",
     "text": [
      "100%|██████████| 980/980 [00:02<00:00, 486.76it/s]\n"
     ]
    },
    {
     "name": "stdout",
     "output_type": "stream",
     "text": [
      "Epsilon = 0.3\n",
      "Success Rate: 31.326530612244895%\n",
      "Average L0 Distance for Successful Attacks: 10.996742671009772\n",
      "Average L1 Distance for Successful Attacks: 0.16963814541163585\n",
      "Average L2 Distance for Successful Attacks: 0.2885032885431855\n",
      "Average Linf Distance for Successful Attacks: 0.7810380812188313\n",
      "Average Mahalanobis Distance for Successful Attacks: 10.744457640955694\n",
      "Average Sensitivity for Successful Attacks: 0.1824455397379515\n",
      "Outlier Rate for Successful Attacks: 93.48534201954396%\n",
      "\n",
      "\n"
     ]
    },
    {
     "name": "stderr",
     "output_type": "stream",
     "text": [
      "100%|██████████| 980/980 [00:02<00:00, 483.42it/s]\n"
     ]
    },
    {
     "name": "stdout",
     "output_type": "stream",
     "text": [
      "Epsilon = 0.5\n",
      "Success Rate: 32.3469387755102%\n",
      "Average L0 Distance for Successful Attacks: 10.996845425867507\n",
      "Average L1 Distance for Successful Attacks: 0.27815426357254996\n",
      "Average L2 Distance for Successful Attacks: 0.4588280047527999\n",
      "Average Linf Distance for Successful Attacks: 1.2347008452430508\n",
      "Average Mahalanobis Distance for Successful Attacks: 15.282058633620677\n",
      "Average Sensitivity for Successful Attacks: 0.29913762190646553\n",
      "Outlier Rate for Successful Attacks: 99.6845425867508%\n",
      "\n",
      "\n"
     ]
    },
    {
     "name": "stderr",
     "output_type": "stream",
     "text": [
      "100%|██████████| 980/980 [00:01<00:00, 490.83it/s]\n"
     ]
    },
    {
     "name": "stdout",
     "output_type": "stream",
     "text": [
      "Epsilon = 1.0\n",
      "Success Rate: 39.38775510204081%\n",
      "Average L0 Distance for Successful Attacks: 10.992227979274611\n",
      "Average L1 Distance for Successful Attacks: 0.5043872403357313\n",
      "Average L2 Distance for Successful Attacks: 0.8238888452398963\n",
      "Average Linf Distance for Successful Attacks: 2.2095559943525283\n",
      "Average Mahalanobis Distance for Successful Attacks: 26.48506848870123\n",
      "Average Sensitivity for Successful Attacks: 0.5427852952418549\n",
      "Outlier Rate for Successful Attacks: 100.0%\n",
      "\n",
      "\n",
      "Running L2Uniform on WineQuality-White with MLP\n",
      "Threshold: 4.4356665308251575\n"
     ]
    },
    {
     "name": "stderr",
     "output_type": "stream",
     "text": [
      "100%|██████████| 980/980 [00:01<00:00, 491.84it/s]\n"
     ]
    },
    {
     "name": "stdout",
     "output_type": "stream",
     "text": [
      "Epsilon = 0.0\n",
      "Success Rate: 25.30612244897959%\n",
      "Average L0 Distance for Successful Attacks: 0.0\n",
      "Average L1 Distance for Successful Attacks: 0.0\n",
      "Average L2 Distance for Successful Attacks: 0.0\n",
      "Average Linf Distance for Successful Attacks: 0.0\n",
      "Average Mahalanobis Distance for Successful Attacks: 3.2594653703335683\n",
      "Average Sensitivity for Successful Attacks: 0.0\n",
      "Outlier Rate for Successful Attacks: 10.887096774193548%\n",
      "\n",
      "\n"
     ]
    },
    {
     "name": "stderr",
     "output_type": "stream",
     "text": [
      "100%|██████████| 980/980 [00:02<00:00, 484.96it/s]\n"
     ]
    },
    {
     "name": "stdout",
     "output_type": "stream",
     "text": [
      "Epsilon = 0.01\n",
      "Success Rate: 24.897959183673468%\n",
      "Average L0 Distance for Successful Attacks: 10.98360655737705\n",
      "Average L1 Distance for Successful Attacks: 0.0049322519516267005\n",
      "Average L2 Distance for Successful Attacks: 0.009988627812565595\n",
      "Average Linf Distance for Successful Attacks: 0.028760819245496245\n",
      "Average Mahalanobis Distance for Successful Attacks: 3.286551384715349\n",
      "Average Sensitivity for Successful Attacks: 0.005312728088684991\n",
      "Outlier Rate for Successful Attacks: 11.885245901639344%\n",
      "\n",
      "\n"
     ]
    },
    {
     "name": "stderr",
     "output_type": "stream",
     "text": [
      "100%|██████████| 980/980 [00:02<00:00, 466.64it/s]\n"
     ]
    },
    {
     "name": "stdout",
     "output_type": "stream",
     "text": [
      "Epsilon = 0.03\n",
      "Success Rate: 24.693877551020407%\n",
      "Average L0 Distance for Successful Attacks: 10.983471074380166\n",
      "Average L1 Distance for Successful Attacks: 0.014621563952354607\n",
      "Average L2 Distance for Successful Attacks: 0.02993045058409291\n",
      "Average Linf Distance for Successful Attacks: 0.08621819388152153\n",
      "Average Mahalanobis Distance for Successful Attacks: 3.468378247815956\n",
      "Average Sensitivity for Successful Attacks: 0.01574615439908071\n",
      "Outlier Rate for Successful Attacks: 14.87603305785124%\n",
      "\n",
      "\n"
     ]
    },
    {
     "name": "stderr",
     "output_type": "stream",
     "text": [
      "100%|██████████| 980/980 [00:02<00:00, 473.32it/s]\n"
     ]
    },
    {
     "name": "stdout",
     "output_type": "stream",
     "text": [
      "Epsilon = 0.05\n",
      "Success Rate: 25.408163265306122%\n",
      "Average L0 Distance for Successful Attacks: 10.991967871485944\n",
      "Average L1 Distance for Successful Attacks: 0.024498168012523747\n",
      "Average L2 Distance for Successful Attacks: 0.04979336770423445\n",
      "Average Linf Distance for Successful Attacks: 0.14306504512766757\n",
      "Average Mahalanobis Distance for Successful Attacks: 3.804229649013468\n",
      "Average Sensitivity for Successful Attacks: 0.026358489470788275\n",
      "Outlier Rate for Successful Attacks: 23.293172690763054%\n",
      "\n",
      "\n"
     ]
    },
    {
     "name": "stderr",
     "output_type": "stream",
     "text": [
      "100%|██████████| 980/980 [00:02<00:00, 469.50it/s]\n"
     ]
    },
    {
     "name": "stdout",
     "output_type": "stream",
     "text": [
      "Epsilon = 0.1\n",
      "Success Rate: 26.224489795918366%\n",
      "Average L0 Distance for Successful Attacks: 10.988326848249027\n",
      "Average L1 Distance for Successful Attacks: 0.04839443644428995\n",
      "Average L2 Distance for Successful Attacks: 0.09914783481146111\n",
      "Average Linf Distance for Successful Attacks: 0.2866392085756309\n",
      "Average Mahalanobis Distance for Successful Attacks: 4.99318339811085\n",
      "Average Sensitivity for Successful Attacks: 0.05209731975939951\n",
      "Outlier Rate for Successful Attacks: 54.474708171206224%\n",
      "\n",
      "\n"
     ]
    },
    {
     "name": "stderr",
     "output_type": "stream",
     "text": [
      "100%|██████████| 980/980 [00:02<00:00, 483.03it/s]\n"
     ]
    },
    {
     "name": "stdout",
     "output_type": "stream",
     "text": [
      "Epsilon = 0.3\n",
      "Success Rate: 29.183673469387756%\n",
      "Average L0 Distance for Successful Attacks: 10.996503496503497\n",
      "Average L1 Distance for Successful Attacks: 0.14340510774221454\n",
      "Average L2 Distance for Successful Attacks: 0.290430004936415\n",
      "Average Linf Distance for Successful Attacks: 0.8363488112296258\n",
      "Average Mahalanobis Distance for Successful Attacks: 10.697397622479192\n",
      "Average Sensitivity for Successful Attacks: 0.15424069160452256\n",
      "Outlier Rate for Successful Attacks: 96.85314685314685%\n",
      "\n",
      "\n"
     ]
    },
    {
     "name": "stderr",
     "output_type": "stream",
     "text": [
      "100%|██████████| 980/980 [00:02<00:00, 477.97it/s]\n"
     ]
    },
    {
     "name": "stdout",
     "output_type": "stream",
     "text": [
      "Epsilon = 0.5\n",
      "Success Rate: 33.57142857142857%\n",
      "Average L0 Distance for Successful Attacks: 10.987841945288753\n",
      "Average L1 Distance for Successful Attacks: 0.2352955934668022\n",
      "Average L2 Distance for Successful Attacks: 0.46555717710666017\n",
      "Average Linf Distance for Successful Attacks: 1.3309943261117558\n",
      "Average Mahalanobis Distance for Successful Attacks: 15.54194536003826\n",
      "Average Sensitivity for Successful Attacks: 0.2532992764265704\n",
      "Outlier Rate for Successful Attacks: 99.69604863221885%\n",
      "\n",
      "\n"
     ]
    },
    {
     "name": "stderr",
     "output_type": "stream",
     "text": [
      "100%|██████████| 980/980 [00:02<00:00, 475.09it/s]\n"
     ]
    },
    {
     "name": "stdout",
     "output_type": "stream",
     "text": [
      "Epsilon = 1.0\n",
      "Success Rate: 34.48979591836735%\n",
      "Average L0 Distance for Successful Attacks: 10.99112426035503\n",
      "Average L1 Distance for Successful Attacks: 0.4521663455656294\n",
      "Average L2 Distance for Successful Attacks: 0.8285212885345933\n",
      "Average Linf Distance for Successful Attacks: 2.31336241942891\n",
      "Average Mahalanobis Distance for Successful Attacks: 25.462208782045725\n",
      "Average Sensitivity for Successful Attacks: 0.4865880459987906\n",
      "Outlier Rate for Successful Attacks: 100.0%\n",
      "\n",
      "\n",
      "Running LinfUniform on WineQuality-White with MLP\n",
      "Threshold: 4.4356665308251575\n"
     ]
    },
    {
     "name": "stderr",
     "output_type": "stream",
     "text": [
      "100%|██████████| 980/980 [00:01<00:00, 513.92it/s]\n"
     ]
    },
    {
     "name": "stdout",
     "output_type": "stream",
     "text": [
      "Epsilon = 0.0\n",
      "Success Rate: 25.30612244897959%\n",
      "Average L0 Distance for Successful Attacks: 0.0\n",
      "Average L1 Distance for Successful Attacks: 0.0\n",
      "Average L2 Distance for Successful Attacks: 0.0\n",
      "Average Linf Distance for Successful Attacks: 0.0\n",
      "Average Mahalanobis Distance for Successful Attacks: 3.2594653703335683\n",
      "Average Sensitivity for Successful Attacks: 0.0\n",
      "Outlier Rate for Successful Attacks: 10.887096774193548%\n",
      "\n",
      "\n"
     ]
    },
    {
     "name": "stderr",
     "output_type": "stream",
     "text": [
      "100%|██████████| 980/980 [00:01<00:00, 507.24it/s]\n"
     ]
    },
    {
     "name": "stdout",
     "output_type": "stream",
     "text": [
      "Epsilon = 0.01\n",
      "Success Rate: 25.408163265306122%\n",
      "Average L0 Distance for Successful Attacks: 10.991967871485944\n",
      "Average L1 Distance for Successful Attacks: 0.010000000408585053\n",
      "Average L2 Distance for Successful Attacks: 0.02209051432514406\n",
      "Average Linf Distance for Successful Attacks: 0.06475274011971481\n",
      "Average Mahalanobis Distance for Successful Attacks: 3.394774586418862\n",
      "Average Sensitivity for Successful Attacks: 0.010760481555358952\n",
      "Outlier Rate for Successful Attacks: 12.048192771084338%\n",
      "\n",
      "\n"
     ]
    },
    {
     "name": "stderr",
     "output_type": "stream",
     "text": [
      "100%|██████████| 980/980 [00:01<00:00, 513.50it/s]\n"
     ]
    },
    {
     "name": "stdout",
     "output_type": "stream",
     "text": [
      "Epsilon = 0.03\n",
      "Success Rate: 24.897959183673468%\n",
      "Average L0 Distance for Successful Attacks: 10.991803278688524\n",
      "Average L1 Distance for Successful Attacks: 0.029999999940151074\n",
      "Average L2 Distance for Successful Attacks: 0.06595305135076651\n",
      "Average Linf Distance for Successful Attacks: 0.19206048642880605\n",
      "Average Mahalanobis Distance for Successful Attacks: 4.241684036043321\n",
      "Average Sensitivity for Successful Attacks: 0.032281971857195994\n",
      "Outlier Rate for Successful Attacks: 38.114754098360656%\n",
      "\n",
      "\n"
     ]
    },
    {
     "name": "stderr",
     "output_type": "stream",
     "text": [
      "100%|██████████| 980/980 [00:01<00:00, 510.68it/s]\n"
     ]
    },
    {
     "name": "stdout",
     "output_type": "stream",
     "text": [
      "Epsilon = 0.05\n",
      "Success Rate: 25.918367346938776%\n",
      "Average L0 Distance for Successful Attacks: 10.988188976377952\n",
      "Average L1 Distance for Successful Attacks: 0.05000000520367322\n",
      "Average L2 Distance for Successful Attacks: 0.11040053886222088\n",
      "Average Linf Distance for Successful Attacks: 0.3243523053531572\n",
      "Average Mahalanobis Distance for Successful Attacks: 5.3044039443934725\n",
      "Average Sensitivity for Successful Attacks: 0.053827430011601896\n",
      "Outlier Rate for Successful Attacks: 59.055118110236215%\n",
      "\n",
      "\n"
     ]
    },
    {
     "name": "stderr",
     "output_type": "stream",
     "text": [
      "100%|██████████| 980/980 [00:01<00:00, 518.18it/s]\n"
     ]
    },
    {
     "name": "stdout",
     "output_type": "stream",
     "text": [
      "Epsilon = 0.1\n",
      "Success Rate: 27.346938775510203%\n",
      "Average L0 Distance for Successful Attacks: 10.992537313432836\n",
      "Average L1 Distance for Successful Attacks: 0.10000000251874105\n",
      "Average L2 Distance for Successful Attacks: 0.21764893540695532\n",
      "Average Linf Distance for Successful Attacks: 0.6329874587592794\n",
      "Average Mahalanobis Distance for Successful Attacks: 8.739949626829496\n",
      "Average Sensitivity for Successful Attacks: 0.10760760804944074\n",
      "Outlier Rate for Successful Attacks: 89.92537313432835%\n",
      "\n",
      "\n"
     ]
    },
    {
     "name": "stderr",
     "output_type": "stream",
     "text": [
      "100%|██████████| 980/980 [00:02<00:00, 487.52it/s]\n"
     ]
    },
    {
     "name": "stdout",
     "output_type": "stream",
     "text": [
      "Epsilon = 0.3\n",
      "Success Rate: 35.10204081632653%\n",
      "Average L0 Distance for Successful Attacks: 10.997093023255815\n",
      "Average L1 Distance for Successful Attacks: 0.30000001010160116\n",
      "Average L2 Distance for Successful Attacks: 0.6043637447752231\n",
      "Average Linf Distance for Successful Attacks: 1.7391509725603946\n",
      "Average Mahalanobis Distance for Successful Attacks: 20.09374389744047\n",
      "Average Sensitivity for Successful Attacks: 0.32264910309120665\n",
      "Outlier Rate for Successful Attacks: 99.70930232558139%\n",
      "\n",
      "\n"
     ]
    },
    {
     "name": "stderr",
     "output_type": "stream",
     "text": [
      "100%|██████████| 980/980 [00:01<00:00, 508.89it/s]\n"
     ]
    },
    {
     "name": "stdout",
     "output_type": "stream",
     "text": [
      "Epsilon = 0.5\n",
      "Success Rate: 38.6734693877551%\n",
      "Average L0 Distance for Successful Attacks: 10.992084432717679\n",
      "Average L1 Distance for Successful Attacks: 0.49671367825178486\n",
      "Average L2 Distance for Successful Attacks: 0.9098208035516865\n",
      "Average Linf Distance for Successful Attacks: 2.5298123853502297\n",
      "Average Mahalanobis Distance for Successful Attacks: 28.49106069046176\n",
      "Average Sensitivity for Successful Attacks: 0.5344843719754181\n",
      "Outlier Rate for Successful Attacks: 100.0%\n",
      "\n",
      "\n"
     ]
    },
    {
     "name": "stderr",
     "output_type": "stream",
     "text": [
      "100%|██████████| 980/980 [00:01<00:00, 499.38it/s]\n"
     ]
    },
    {
     "name": "stdout",
     "output_type": "stream",
     "text": [
      "Epsilon = 1.0\n",
      "Success Rate: 44.89795918367347%\n",
      "Average L0 Distance for Successful Attacks: 10.997727272727273\n",
      "Average L1 Distance for Successful Attacks: 0.8409344009377739\n",
      "Average L2 Distance for Successful Attacks: 1.4802815849130804\n",
      "Average Linf Distance for Successful Attacks: 4.003138384764845\n",
      "Average Mahalanobis Distance for Successful Attacks: 48.48504725653731\n",
      "Average Sensitivity for Successful Attacks: 0.904354920915582\n",
      "Outlier Rate for Successful Attacks: 100.0%\n",
      "\n",
      "\n",
      "Running LinfFGSM on WineQuality-White with MLP\n",
      "Threshold: 4.4356665308251575\n"
     ]
    },
    {
     "name": "stderr",
     "output_type": "stream",
     "text": [
      "100%|██████████| 980/980 [00:02<00:00, 394.23it/s]\n"
     ]
    },
    {
     "name": "stdout",
     "output_type": "stream",
     "text": [
      "Epsilon = 0.0\n",
      "Success Rate: 25.30612244897959%\n",
      "Average L0 Distance for Successful Attacks: 0.0\n",
      "Average L1 Distance for Successful Attacks: 0.0\n",
      "Average L2 Distance for Successful Attacks: 0.0\n",
      "Average Linf Distance for Successful Attacks: 0.0\n",
      "Average Mahalanobis Distance for Successful Attacks: 3.2594653703335683\n",
      "Average Sensitivity for Successful Attacks: 0.0\n",
      "Outlier Rate for Successful Attacks: 10.887096774193548%\n",
      "\n",
      "\n"
     ]
    },
    {
     "name": "stderr",
     "output_type": "stream",
     "text": [
      "100%|██████████| 980/980 [00:02<00:00, 385.63it/s]\n"
     ]
    },
    {
     "name": "stdout",
     "output_type": "stream",
     "text": [
      "Epsilon = 0.01\n",
      "Success Rate: 32.55102040816327%\n",
      "Average L0 Distance for Successful Attacks: 10.993730407523511\n",
      "Average L1 Distance for Successful Attacks: 0.01000000536441803\n",
      "Average L2 Distance for Successful Attacks: 0.03313284767879214\n",
      "Average Linf Distance for Successful Attacks: 0.10983930943901636\n",
      "Average Mahalanobis Distance for Successful Attacks: 3.4182156366039873\n",
      "Average Sensitivity for Successful Attacks: 0.010758591874219407\n",
      "Outlier Rate for Successful Attacks: 10.344827586206897%\n",
      "\n",
      "\n"
     ]
    },
    {
     "name": "stderr",
     "output_type": "stream",
     "text": [
      "100%|██████████| 980/980 [00:02<00:00, 394.11it/s]\n"
     ]
    },
    {
     "name": "stdout",
     "output_type": "stream",
     "text": [
      "Epsilon = 0.03\n",
      "Success Rate: 47.244897959183675%\n",
      "Average L0 Distance for Successful Attacks: 10.995680345572355\n",
      "Average L1 Distance for Successful Attacks: 0.030000001192092896\n",
      "Average L2 Distance for Successful Attacks: 0.09901214098119324\n",
      "Average Linf Distance for Successful Attacks: 0.3276725836243022\n",
      "Average Mahalanobis Distance for Successful Attacks: 4.988913821574665\n",
      "Average Sensitivity for Successful Attacks: 0.032269467376413924\n",
      "Outlier Rate for Successful Attacks: 69.76241900647948%\n",
      "\n",
      "\n"
     ]
    },
    {
     "name": "stderr",
     "output_type": "stream",
     "text": [
      "100%|██████████| 980/980 [00:02<00:00, 397.88it/s]\n"
     ]
    },
    {
     "name": "stdout",
     "output_type": "stream",
     "text": [
      "Epsilon = 0.05\n",
      "Success Rate: 61.63265306122449%\n",
      "Average L0 Distance for Successful Attacks: 10.995033112582782\n",
      "Average L1 Distance for Successful Attacks: 0.050000011920928955\n",
      "Average L2 Distance for Successful Attacks: 0.16443563240352055\n",
      "Average Linf Distance for Successful Attacks: 0.5431070989922971\n",
      "Average Mahalanobis Distance for Successful Attacks: 7.131556643415029\n",
      "Average Sensitivity for Successful Attacks: 0.053785941211987806\n",
      "Outlier Rate for Successful Attacks: 99.17218543046357%\n",
      "\n",
      "\n"
     ]
    },
    {
     "name": "stderr",
     "output_type": "stream",
     "text": [
      "100%|██████████| 980/980 [00:02<00:00, 386.81it/s]\n"
     ]
    },
    {
     "name": "stdout",
     "output_type": "stream",
     "text": [
      "Epsilon = 0.1\n",
      "Success Rate: 86.63265306122449%\n",
      "Average L0 Distance for Successful Attacks: 10.996466431095406\n",
      "Average L1 Distance for Successful Attacks: 0.10000001483797606\n",
      "Average L2 Distance for Successful Attacks: 0.32355237582827906\n",
      "Average Linf Distance for Successful Attacks: 1.0615211082150715\n",
      "Average Mahalanobis Distance for Successful Attacks: 12.53997971275546\n",
      "Average Sensitivity for Successful Attacks: 0.1075564626038285\n",
      "Outlier Rate for Successful Attacks: 100.0%\n",
      "\n",
      "\n"
     ]
    },
    {
     "name": "stderr",
     "output_type": "stream",
     "text": [
      "100%|██████████| 980/980 [00:02<00:00, 387.43it/s]\n"
     ]
    },
    {
     "name": "stdout",
     "output_type": "stream",
     "text": [
      "Epsilon = 0.3\n",
      "Success Rate: 100.0%\n",
      "Average L0 Distance for Successful Attacks: 10.996938775510204\n",
      "Average L1 Distance for Successful Attacks: 0.30000002359857364\n",
      "Average L2 Distance for Successful Attacks: 0.8665436039165575\n",
      "Average Linf Distance for Successful Attacks: 2.730539192228901\n",
      "Average Mahalanobis Distance for Successful Attacks: 29.089210793833786\n",
      "Average Sensitivity for Successful Attacks: 0.32265409821150254\n",
      "Outlier Rate for Successful Attacks: 100.0%\n",
      "\n",
      "\n"
     ]
    },
    {
     "name": "stderr",
     "output_type": "stream",
     "text": [
      "100%|██████████| 980/980 [00:02<00:00, 387.09it/s]\n"
     ]
    },
    {
     "name": "stdout",
     "output_type": "stream",
     "text": [
      "Epsilon = 0.5\n",
      "Success Rate: 100.0%\n",
      "Average L0 Distance for Successful Attacks: 10.996938775510204\n",
      "Average L1 Distance for Successful Attacks: 0.5\n",
      "Average L2 Distance for Successful Attacks: 1.3149019615990776\n",
      "Average Linf Distance for Successful Attacks: 3.9697890354662526\n",
      "Average Mahalanobis Distance for Successful Attacks: 43.93040321489389\n",
      "Average Sensitivity for Successful Attacks: 0.537756801259761\n",
      "Outlier Rate for Successful Attacks: 100.0%\n",
      "\n",
      "\n"
     ]
    },
    {
     "name": "stderr",
     "output_type": "stream",
     "text": [
      "100%|██████████| 980/980 [00:02<00:00, 403.35it/s]\n"
     ]
    },
    {
     "name": "stdout",
     "output_type": "stream",
     "text": [
      "Epsilon = 1.0\n",
      "Success Rate: 100.0%\n",
      "Average L0 Distance for Successful Attacks: 10.996938775510204\n",
      "Average L1 Distance for Successful Attacks: 0.9224311659530717\n",
      "Average L2 Distance for Successful Attacks: 1.9560286665449338\n",
      "Average Linf Distance for Successful Attacks: 5.545859138819636\n",
      "Average Mahalanobis Distance for Successful Attacks: 74.86975880842465\n",
      "Average Sensitivity for Successful Attacks: 0.9921033727879427\n",
      "Outlier Rate for Successful Attacks: 100.0%\n",
      "\n",
      "\n",
      "Running LinfPGD on WineQuality-White with MLP\n",
      "Threshold: 4.4356665308251575\n"
     ]
    },
    {
     "name": "stderr",
     "output_type": "stream",
     "text": [
      "100%|██████████| 980/980 [00:27<00:00, 35.39it/s]\n"
     ]
    },
    {
     "name": "stdout",
     "output_type": "stream",
     "text": [
      "Epsilon = 0.0\n",
      "Success Rate: 25.30612244897959%\n",
      "Average L0 Distance for Successful Attacks: 0.0\n",
      "Average L1 Distance for Successful Attacks: 0.0\n",
      "Average L2 Distance for Successful Attacks: 0.0\n",
      "Average Linf Distance for Successful Attacks: 0.0\n",
      "Average Mahalanobis Distance for Successful Attacks: 3.2594653703335683\n",
      "Average Sensitivity for Successful Attacks: 0.0\n",
      "Outlier Rate for Successful Attacks: 10.887096774193548%\n",
      "\n",
      "\n"
     ]
    },
    {
     "name": "stderr",
     "output_type": "stream",
     "text": [
      "100%|██████████| 980/980 [00:28<00:00, 34.46it/s]\n"
     ]
    },
    {
     "name": "stdout",
     "output_type": "stream",
     "text": [
      "Epsilon = 0.01\n",
      "Success Rate: 31.63265306122449%\n",
      "Average L0 Distance for Successful Attacks: 10.993548387096775\n",
      "Average L1 Distance for Successful Attacks: 0.010000005094034056\n",
      "Average L2 Distance for Successful Attacks: 0.02998099161251899\n",
      "Average Linf Distance for Successful Attacks: 0.09693412076561682\n",
      "Average Mahalanobis Distance for Successful Attacks: 3.374919951788418\n",
      "Average Sensitivity for Successful Attacks: 0.010758787273399292\n",
      "Outlier Rate for Successful Attacks: 10.64516129032258%\n",
      "\n",
      "\n"
     ]
    },
    {
     "name": "stderr",
     "output_type": "stream",
     "text": [
      "100%|██████████| 980/980 [00:28<00:00, 34.74it/s]\n"
     ]
    },
    {
     "name": "stdout",
     "output_type": "stream",
     "text": [
      "Epsilon = 0.03\n",
      "Success Rate: 45.51020408163266%\n",
      "Average L0 Distance for Successful Attacks: 10.995515695067265\n",
      "Average L1 Distance for Successful Attacks: 0.029998985106634988\n",
      "Average L2 Distance for Successful Attacks: 0.08806877240805883\n",
      "Average Linf Distance for Successful Attacks: 0.28247747279603386\n",
      "Average Mahalanobis Distance for Successful Attacks: 4.633885932649637\n",
      "Average Sensitivity for Successful Attacks: 0.03226890598711946\n",
      "Outlier Rate for Successful Attacks: 53.58744394618834%\n",
      "\n",
      "\n"
     ]
    },
    {
     "name": "stderr",
     "output_type": "stream",
     "text": [
      "100%|██████████| 980/980 [00:28<00:00, 34.72it/s]\n"
     ]
    },
    {
     "name": "stdout",
     "output_type": "stream",
     "text": [
      "Epsilon = 0.05\n",
      "Success Rate: 58.57142857142858%\n",
      "Average L0 Distance for Successful Attacks: 10.994773519163763\n",
      "Average L1 Distance for Successful Attacks: 0.05000001125894357\n",
      "Average L2 Distance for Successful Attacks: 0.1443863829876903\n",
      "Average Linf Distance for Successful Attacks: 0.45930226728683565\n",
      "Average Mahalanobis Distance for Successful Attacks: 6.245333839914927\n",
      "Average Sensitivity for Successful Attacks: 0.05378733604549323\n",
      "Outlier Rate for Successful Attacks: 82.22996515679442%\n",
      "\n",
      "\n"
     ]
    },
    {
     "name": "stderr",
     "output_type": "stream",
     "text": [
      "100%|██████████| 980/980 [00:27<00:00, 35.06it/s]\n"
     ]
    },
    {
     "name": "stdout",
     "output_type": "stream",
     "text": [
      "Epsilon = 0.1\n",
      "Success Rate: 82.75510204081633%\n",
      "Average L0 Distance for Successful Attacks: 10.997533908754624\n",
      "Average L1 Distance for Successful Attacks: 0.09999590045537078\n",
      "Average L2 Distance for Successful Attacks: 0.2776034301291559\n",
      "Average Linf Distance for Successful Attacks: 0.8710512368217497\n",
      "Average Mahalanobis Distance for Successful Attacks: 9.8728591952234\n",
      "Average Sensitivity for Successful Attacks: 0.10754056165566721\n",
      "Outlier Rate for Successful Attacks: 91.49198520345253%\n",
      "\n",
      "\n"
     ]
    },
    {
     "name": "stderr",
     "output_type": "stream",
     "text": [
      "100%|██████████| 980/980 [00:28<00:00, 34.60it/s]\n"
     ]
    },
    {
     "name": "stdout",
     "output_type": "stream",
     "text": [
      "Epsilon = 0.3\n",
      "Success Rate: 100.0%\n",
      "Average L0 Distance for Successful Attacks: 10.996938775510204\n",
      "Average L1 Distance for Successful Attacks: 0.2997068529378395\n",
      "Average L2 Distance for Successful Attacks: 0.7106488299917202\n",
      "Average Linf Distance for Successful Attacks: 2.1161729879525244\n",
      "Average Mahalanobis Distance for Successful Attacks: 18.72668164447247\n",
      "Average Sensitivity for Successful Attacks: 0.3223388808418293\n",
      "Outlier Rate for Successful Attacks: 100.0%\n",
      "\n",
      "\n"
     ]
    },
    {
     "name": "stderr",
     "output_type": "stream",
     "text": [
      "100%|██████████| 980/980 [00:28<00:00, 34.62it/s]\n"
     ]
    },
    {
     "name": "stdout",
     "output_type": "stream",
     "text": [
      "Epsilon = 0.5\n",
      "Success Rate: 100.0%\n",
      "Average L0 Distance for Successful Attacks: 10.996938775510204\n",
      "Average L1 Distance for Successful Attacks: 0.4999100978581273\n",
      "Average L2 Distance for Successful Attacks: 1.1033409788900492\n",
      "Average Linf Distance for Successful Attacks: 3.1534015745532757\n",
      "Average Mahalanobis Distance for Successful Attacks: 27.768905516393584\n",
      "Average Sensitivity for Successful Attacks: 0.5376601402856865\n",
      "Outlier Rate for Successful Attacks: 100.0%\n",
      "\n",
      "\n"
     ]
    },
    {
     "name": "stderr",
     "output_type": "stream",
     "text": [
      "100%|██████████| 980/980 [00:28<00:00, 34.59it/s]\n"
     ]
    },
    {
     "name": "stdout",
     "output_type": "stream",
     "text": [
      "Epsilon = 1.0\n",
      "Success Rate: 100.0%\n",
      "Average L0 Distance for Successful Attacks: 10.995918367346938\n",
      "Average L1 Distance for Successful Attacks: 0.9085694223642349\n",
      "Average L2 Distance for Successful Attacks: 1.7560013893915682\n",
      "Average Linf Distance for Successful Attacks: 4.813862156381412\n",
      "Average Mahalanobis Distance for Successful Attacks: 42.26888270047223\n",
      "Average Sensitivity for Successful Attacks: 0.9773084832697498\n",
      "Outlier Rate for Successful Attacks: 100.0%\n",
      "\n",
      "\n",
      "Running LinfBIM on WineQuality-White with MLP\n",
      "Threshold: 4.4356665308251575\n"
     ]
    },
    {
     "name": "stderr",
     "output_type": "stream",
     "text": [
      "100%|██████████| 980/980 [00:08<00:00, 115.39it/s]\n"
     ]
    },
    {
     "name": "stdout",
     "output_type": "stream",
     "text": [
      "Epsilon = 0.0\n",
      "Success Rate: 25.30612244897959%\n",
      "Average L0 Distance for Successful Attacks: 0.0\n",
      "Average L1 Distance for Successful Attacks: 0.0\n",
      "Average L2 Distance for Successful Attacks: 0.0\n",
      "Average Linf Distance for Successful Attacks: 0.0\n",
      "Average Mahalanobis Distance for Successful Attacks: 3.2594653703335683\n",
      "Average Sensitivity for Successful Attacks: 0.0\n",
      "Outlier Rate for Successful Attacks: 10.887096774193548%\n",
      "\n",
      "\n"
     ]
    },
    {
     "name": "stderr",
     "output_type": "stream",
     "text": [
      "100%|██████████| 980/980 [00:08<00:00, 114.55it/s]\n"
     ]
    },
    {
     "name": "stdout",
     "output_type": "stream",
     "text": [
      "Epsilon = 0.01\n",
      "Success Rate: 32.755102040816325%\n",
      "Average L0 Distance for Successful Attacks: 10.965732087227414\n",
      "Average L1 Distance for Successful Attacks: 0.01000000536441803\n",
      "Average L2 Distance for Successful Attacks: 0.032880431952134845\n",
      "Average Linf Distance for Successful Attacks: 0.1085817461073213\n",
      "Average Mahalanobis Distance for Successful Attacks: 3.41377320371884\n",
      "Average Sensitivity for Successful Attacks: 0.01079092824373197\n",
      "Outlier Rate for Successful Attacks: 10.2803738317757%\n",
      "\n",
      "\n"
     ]
    },
    {
     "name": "stderr",
     "output_type": "stream",
     "text": [
      "100%|██████████| 980/980 [00:08<00:00, 112.81it/s]\n"
     ]
    },
    {
     "name": "stdout",
     "output_type": "stream",
     "text": [
      "Epsilon = 0.03\n",
      "Success Rate: 47.55102040816326%\n",
      "Average L0 Distance for Successful Attacks: 10.877682403433477\n",
      "Average L1 Distance for Successful Attacks: 0.030000001192092896\n",
      "Average L2 Distance for Successful Attacks: 0.09648503329556898\n",
      "Average Linf Distance for Successful Attacks: 0.3155455271765398\n",
      "Average Mahalanobis Distance for Successful Attacks: 4.829456617749703\n",
      "Average Sensitivity for Successful Attacks: 0.032659305539381865\n",
      "Outlier Rate for Successful Attacks: 61.587982832618025%\n",
      "\n",
      "\n"
     ]
    },
    {
     "name": "stderr",
     "output_type": "stream",
     "text": [
      "100%|██████████| 980/980 [00:08<00:00, 114.44it/s]\n"
     ]
    },
    {
     "name": "stdout",
     "output_type": "stream",
     "text": [
      "Epsilon = 0.05\n",
      "Success Rate: 62.34693877551021%\n",
      "Average L0 Distance for Successful Attacks: 10.823240589198036\n",
      "Average L1 Distance for Successful Attacks: 0.050000011890443764\n",
      "Average L2 Distance for Successful Attacks: 0.15856825068910071\n",
      "Average Linf Distance for Successful Attacks: 0.5150270044510962\n",
      "Average Mahalanobis Distance for Successful Attacks: 6.607009864351979\n",
      "Average Sensitivity for Successful Attacks: 0.054743456731987855\n",
      "Outlier Rate for Successful Attacks: 90.83469721767594%\n",
      "\n",
      "\n"
     ]
    },
    {
     "name": "stderr",
     "output_type": "stream",
     "text": [
      "100%|██████████| 980/980 [00:08<00:00, 116.10it/s]\n"
     ]
    },
    {
     "name": "stdout",
     "output_type": "stream",
     "text": [
      "Epsilon = 0.1\n",
      "Success Rate: 87.75510204081633%\n",
      "Average L0 Distance for Successful Attacks: 10.751162790697675\n",
      "Average L1 Distance for Successful Attacks: 0.10000001390486263\n",
      "Average L2 Distance for Successful Attacks: 0.30644893544011337\n",
      "Average Linf Distance for Successful Attacks: 0.9814854635055675\n",
      "Average Mahalanobis Distance for Successful Attacks: 10.863275385293315\n",
      "Average Sensitivity for Successful Attacks: 0.11029637616214365\n",
      "Outlier Rate for Successful Attacks: 94.88372093023256%\n",
      "\n",
      "\n"
     ]
    },
    {
     "name": "stderr",
     "output_type": "stream",
     "text": [
      "100%|██████████| 980/980 [00:08<00:00, 115.53it/s]\n"
     ]
    },
    {
     "name": "stdout",
     "output_type": "stream",
     "text": [
      "Epsilon = 0.3\n",
      "Success Rate: 100.0%\n",
      "Average L0 Distance for Successful Attacks: 10.736734693877551\n",
      "Average L1 Distance for Successful Attacks: 0.3000000206487519\n",
      "Average L2 Distance for Successful Attacks: 0.7790979659070774\n",
      "Average Linf Distance for Successful Attacks: 2.3618840415867006\n",
      "Average Mahalanobis Distance for Successful Attacks: 21.361878967920518\n",
      "Average Sensitivity for Successful Attacks: 0.3312007168117835\n",
      "Outlier Rate for Successful Attacks: 100.0%\n",
      "\n",
      "\n"
     ]
    },
    {
     "name": "stderr",
     "output_type": "stream",
     "text": [
      "100%|██████████| 980/980 [00:08<00:00, 115.57it/s]\n"
     ]
    },
    {
     "name": "stdout",
     "output_type": "stream",
     "text": [
      "Epsilon = 0.5\n",
      "Success Rate: 100.0%\n",
      "Average L0 Distance for Successful Attacks: 10.781632653061225\n",
      "Average L1 Distance for Successful Attacks: 0.5\n",
      "Average L2 Distance for Successful Attacks: 1.1772458519254412\n",
      "Average Linf Distance for Successful Attacks: 3.428155028333469\n",
      "Average Mahalanobis Distance for Successful Attacks: 29.76229324678183\n",
      "Average Sensitivity for Successful Attacks: 0.5495021550022826\n",
      "Outlier Rate for Successful Attacks: 100.0%\n",
      "\n",
      "\n"
     ]
    },
    {
     "name": "stderr",
     "output_type": "stream",
     "text": [
      "100%|██████████| 980/980 [00:08<00:00, 116.35it/s]\n"
     ]
    },
    {
     "name": "stdout",
     "output_type": "stream",
     "text": [
      "Epsilon = 1.0\n",
      "Success Rate: 100.0%\n",
      "Average L0 Distance for Successful Attacks: 10.966326530612244\n",
      "Average L1 Distance for Successful Attacks: 0.9119958895809797\n",
      "Average L2 Distance for Successful Attacks: 1.7698587801991676\n",
      "Average Linf Distance for Successful Attacks: 4.876012641799694\n",
      "Average Mahalanobis Distance for Successful Attacks: 42.862696199315586\n",
      "Average Sensitivity for Successful Attacks: 0.9837860164593677\n",
      "Outlier Rate for Successful Attacks: 100.0%\n",
      "\n",
      "\n",
      "Running L2FGSM on WineQuality-White with MLP\n",
      "Threshold: 4.4356665308251575\n"
     ]
    },
    {
     "name": "stderr",
     "output_type": "stream",
     "text": [
      "100%|██████████| 980/980 [00:02<00:00, 339.10it/s]\n"
     ]
    },
    {
     "name": "stdout",
     "output_type": "stream",
     "text": [
      "Epsilon = 0.0\n",
      "Success Rate: 25.30612244897959%\n",
      "Average L0 Distance for Successful Attacks: 0.0\n",
      "Average L1 Distance for Successful Attacks: 0.0\n",
      "Average L2 Distance for Successful Attacks: 0.0\n",
      "Average Linf Distance for Successful Attacks: 0.0\n",
      "Average Mahalanobis Distance for Successful Attacks: 3.2594653703335683\n",
      "Average Sensitivity for Successful Attacks: 0.0\n",
      "Outlier Rate for Successful Attacks: 10.887096774193548%\n",
      "\n",
      "\n"
     ]
    },
    {
     "name": "stderr",
     "output_type": "stream",
     "text": [
      "100%|██████████| 980/980 [00:03<00:00, 323.90it/s]\n"
     ]
    },
    {
     "name": "stdout",
     "output_type": "stream",
     "text": [
      "Epsilon = 0.01\n",
      "Success Rate: 27.857142857142858%\n",
      "Average L0 Distance for Successful Attacks: 10.992673992673993\n",
      "Average L1 Distance for Successful Attacks: 0.006505485555846176\n",
      "Average L2 Distance for Successful Attacks: 0.00999842173054869\n",
      "Average Linf Distance for Successful Attacks: 0.02481182193854353\n",
      "Average Mahalanobis Distance for Successful Attacks: 3.2928787808618085\n",
      "Average Sensitivity for Successful Attacks: 0.006999456084882602\n",
      "Outlier Rate for Successful Attacks: 10.622710622710622%\n",
      "\n",
      "\n"
     ]
    },
    {
     "name": "stderr",
     "output_type": "stream",
     "text": [
      "100%|██████████| 980/980 [00:02<00:00, 331.39it/s]\n"
     ]
    },
    {
     "name": "stdout",
     "output_type": "stream",
     "text": [
      "Epsilon = 0.03\n",
      "Success Rate: 33.87755102040816%\n",
      "Average L0 Distance for Successful Attacks: 10.993975903614459\n",
      "Average L1 Distance for Successful Attacks: 0.01970772931060518\n",
      "Average L2 Distance for Successful Attacks: 0.029921388068427163\n",
      "Average Linf Distance for Successful Attacks: 0.07386299325938685\n",
      "Average Mahalanobis Distance for Successful Attacks: 3.2917619165527245\n",
      "Average Sensitivity for Successful Attacks: 0.02120143124070692\n",
      "Outlier Rate for Successful Attacks: 9.036144578313253%\n",
      "\n",
      "\n"
     ]
    },
    {
     "name": "stderr",
     "output_type": "stream",
     "text": [
      "100%|██████████| 980/980 [00:02<00:00, 331.31it/s]\n"
     ]
    },
    {
     "name": "stdout",
     "output_type": "stream",
     "text": [
      "Epsilon = 0.05\n",
      "Success Rate: 40.0%\n",
      "Average L0 Distance for Successful Attacks: 10.994897959183673\n",
      "Average L1 Distance for Successful Attacks: 0.033052349615157864\n",
      "Average L2 Distance for Successful Attacks: 0.04970702266662705\n",
      "Average Linf Distance for Successful Attacks: 0.12228904955317171\n",
      "Average Mahalanobis Distance for Successful Attacks: 3.4723656558541145\n",
      "Average Sensitivity for Successful Attacks: 0.035554293272256544\n",
      "Outlier Rate for Successful Attacks: 13.010204081632654%\n",
      "\n",
      "\n"
     ]
    },
    {
     "name": "stderr",
     "output_type": "stream",
     "text": [
      "100%|██████████| 980/980 [00:02<00:00, 330.17it/s]\n"
     ]
    },
    {
     "name": "stdout",
     "output_type": "stream",
     "text": [
      "Epsilon = 0.1\n",
      "Success Rate: 55.20408163265306%\n",
      "Average L0 Distance for Successful Attacks: 10.99445471349353\n",
      "Average L1 Distance for Successful Attacks: 0.06559658213045153\n",
      "Average L2 Distance for Successful Attacks: 0.09870540566893911\n",
      "Average Linf Distance for Successful Attacks: 0.24238205842962987\n",
      "Average Mahalanobis Distance for Successful Attacks: 4.103966313635966\n",
      "Average Sensitivity for Successful Attacks: 0.0705650674726628\n",
      "Outlier Rate for Successful Attacks: 30.683918669131238%\n",
      "\n",
      "\n"
     ]
    },
    {
     "name": "stderr",
     "output_type": "stream",
     "text": [
      "100%|██████████| 980/980 [00:03<00:00, 321.14it/s]\n"
     ]
    },
    {
     "name": "stdout",
     "output_type": "stream",
     "text": [
      "Epsilon = 0.3\n",
      "Success Rate: 91.12244897959184%\n",
      "Average L0 Distance for Successful Attacks: 10.996640537513997\n",
      "Average L1 Distance for Successful Attacks: 0.18227584015949308\n",
      "Average L2 Distance for Successful Attacks: 0.2826386838317051\n",
      "Average Linf Distance for Successful Attacks: 0.7028173041370388\n",
      "Average Mahalanobis Distance for Successful Attacks: 8.40490845087608\n",
      "Average Sensitivity for Successful Attacks: 0.19604674904437241\n",
      "Outlier Rate for Successful Attacks: 95.85666293393056%\n",
      "\n",
      "\n"
     ]
    },
    {
     "name": "stderr",
     "output_type": "stream",
     "text": [
      "100%|██████████| 980/980 [00:03<00:00, 319.36it/s]\n"
     ]
    },
    {
     "name": "stdout",
     "output_type": "stream",
     "text": [
      "Epsilon = 0.5\n",
      "Success Rate: 99.79591836734694%\n",
      "Average L0 Distance for Successful Attacks: 10.996932515337424\n",
      "Average L1 Distance for Successful Attacks: 0.28961101309958165\n",
      "Average L2 Distance for Successful Attacks: 0.4447142861798741\n",
      "Average Linf Distance for Successful Attacks: 1.103079639085719\n",
      "Average Mahalanobis Distance for Successful Attacks: 12.749493041692865\n",
      "Average Sensitivity for Successful Attacks: 0.31148627604565493\n",
      "Outlier Rate for Successful Attacks: 99.89775051124744%\n",
      "\n",
      "\n"
     ]
    },
    {
     "name": "stderr",
     "output_type": "stream",
     "text": [
      "100%|██████████| 980/980 [00:03<00:00, 325.97it/s]\n"
     ]
    },
    {
     "name": "stdout",
     "output_type": "stream",
     "text": [
      "Epsilon = 1.0\n",
      "Success Rate: 100.0%\n",
      "Average L0 Distance for Successful Attacks: 10.996938775510204\n",
      "Average L1 Distance for Successful Attacks: 0.5595572771922667\n",
      "Average L2 Distance for Successful Attacks: 0.8056844538571883\n",
      "Average Linf Distance for Successful Attacks: 1.9488330127025137\n",
      "Average Mahalanobis Distance for Successful Attacks: 22.824127888474887\n",
      "Average Sensitivity for Successful Attacks: 0.6018168532726716\n",
      "Outlier Rate for Successful Attacks: 100.0%\n",
      "\n",
      "\n",
      "Running L2PGD on WineQuality-White with MLP\n",
      "Threshold: 4.4356665308251575\n"
     ]
    },
    {
     "name": "stderr",
     "output_type": "stream",
     "text": [
      "100%|██████████| 980/980 [00:49<00:00, 19.77it/s]\n"
     ]
    },
    {
     "name": "stdout",
     "output_type": "stream",
     "text": [
      "Epsilon = 0.0\n",
      "Success Rate: 25.30612244897959%\n",
      "Average L0 Distance for Successful Attacks: 0.0\n",
      "Average L1 Distance for Successful Attacks: 0.0\n",
      "Average L2 Distance for Successful Attacks: 0.0\n",
      "Average Linf Distance for Successful Attacks: 0.0\n",
      "Average Mahalanobis Distance for Successful Attacks: 3.2594653703335683\n",
      "Average Sensitivity for Successful Attacks: 0.0\n",
      "Outlier Rate for Successful Attacks: 10.887096774193548%\n",
      "\n",
      "\n"
     ]
    },
    {
     "name": "stderr",
     "output_type": "stream",
     "text": [
      "100%|██████████| 980/980 [00:49<00:00, 19.89it/s]\n"
     ]
    },
    {
     "name": "stdout",
     "output_type": "stream",
     "text": [
      "Epsilon = 0.01\n",
      "Success Rate: 27.24489795918367%\n",
      "Average L0 Distance for Successful Attacks: 10.99625468164794\n",
      "Average L1 Distance for Successful Attacks: 0.006240328379700916\n",
      "Average L2 Distance for Successful Attacks: 0.009994855799366919\n",
      "Average Linf Distance for Successful Attacks: 0.02599448131655486\n",
      "Average Mahalanobis Distance for Successful Attacks: 3.2909958500600003\n",
      "Average Sensitivity for Successful Attacks: 0.006711745090531499\n",
      "Outlier Rate for Successful Attacks: 10.861423220973784%\n",
      "\n",
      "\n"
     ]
    },
    {
     "name": "stderr",
     "output_type": "stream",
     "text": [
      "100%|██████████| 980/980 [00:49<00:00, 19.98it/s]\n"
     ]
    },
    {
     "name": "stdout",
     "output_type": "stream",
     "text": [
      "Epsilon = 0.03\n",
      "Success Rate: 32.95918367346939%\n",
      "Average L0 Distance for Successful Attacks: 10.993808049535604\n",
      "Average L1 Distance for Successful Attacks: 0.018647059498372094\n",
      "Average L2 Distance for Successful Attacks: 0.029947686127326435\n",
      "Average Linf Distance for Successful Attacks: 0.07883763721576047\n",
      "Average Mahalanobis Distance for Successful Attacks: 3.331967060398729\n",
      "Average Sensitivity for Successful Attacks: 0.02006198598458302\n",
      "Outlier Rate for Successful Attacks: 9.597523219814242%\n",
      "\n",
      "\n"
     ]
    },
    {
     "name": "stderr",
     "output_type": "stream",
     "text": [
      "100%|██████████| 980/980 [00:49<00:00, 19.79it/s]\n"
     ]
    },
    {
     "name": "stdout",
     "output_type": "stream",
     "text": [
      "Epsilon = 0.05\n",
      "Success Rate: 38.46938775510204%\n",
      "Average L0 Distance for Successful Attacks: 10.994694960212202\n",
      "Average L1 Distance for Successful Attacks: 0.031132271058798153\n",
      "Average L2 Distance for Successful Attacks: 0.04982396420733682\n",
      "Average Linf Distance for Successful Attacks: 0.13057278065055372\n",
      "Average Mahalanobis Distance for Successful Attacks: 3.549293781750403\n",
      "Average Sensitivity for Successful Attacks: 0.03349226959721637\n",
      "Outlier Rate for Successful Attacks: 15.119363395225463%\n",
      "\n",
      "\n"
     ]
    },
    {
     "name": "stderr",
     "output_type": "stream",
     "text": [
      "100%|██████████| 980/980 [00:49<00:00, 20.00it/s]\n"
     ]
    },
    {
     "name": "stdout",
     "output_type": "stream",
     "text": [
      "Epsilon = 0.1\n",
      "Success Rate: 51.12244897959184%\n",
      "Average L0 Distance for Successful Attacks: 10.998003992015969\n",
      "Average L1 Distance for Successful Attacks: 0.06291638758635806\n",
      "Average L2 Distance for Successful Attacks: 0.09983457627886545\n",
      "Average Linf Distance for Successful Attacks: 0.2618778016633854\n",
      "Average Mahalanobis Distance for Successful Attacks: 4.323976982257077\n",
      "Average Sensitivity for Successful Attacks: 0.06765653523886037\n",
      "Outlier Rate for Successful Attacks: 39.321357285429144%\n",
      "\n",
      "\n"
     ]
    },
    {
     "name": "stderr",
     "output_type": "stream",
     "text": [
      "100%|██████████| 980/980 [00:49<00:00, 19.88it/s]\n"
     ]
    },
    {
     "name": "stdout",
     "output_type": "stream",
     "text": [
      "Epsilon = 0.3\n",
      "Success Rate: 88.36734693877551%\n",
      "Average L0 Distance for Successful Attacks: 10.998845265588914\n",
      "Average L1 Distance for Successful Attacks: 0.18683520444683885\n",
      "Average L2 Distance for Successful Attacks: 0.2985230711811409\n",
      "Average Linf Distance for Successful Attacks: 0.7844447520051763\n",
      "Average Mahalanobis Distance for Successful Attacks: 8.439795690834691\n",
      "Average Sensitivity for Successful Attacks: 0.20090510136948997\n",
      "Outlier Rate for Successful Attacks: 86.25866050808314%\n",
      "\n",
      "\n"
     ]
    },
    {
     "name": "stderr",
     "output_type": "stream",
     "text": [
      "100%|██████████| 980/980 [00:49<00:00, 19.87it/s]\n"
     ]
    },
    {
     "name": "stdout",
     "output_type": "stream",
     "text": [
      "Epsilon = 0.5\n",
      "Success Rate: 99.08163265306122%\n",
      "Average L0 Distance for Successful Attacks: 10.997940267765191\n",
      "Average L1 Distance for Successful Attacks: 0.32089559855102634\n",
      "Average L2 Distance for Successful Attacks: 0.49503158648276796\n",
      "Average Linf Distance for Successful Attacks: 1.2864613970693672\n",
      "Average Mahalanobis Distance for Successful Attacks: 12.626246039384915\n",
      "Average Sensitivity for Successful Attacks: 0.34508271682643005\n",
      "Outlier Rate for Successful Attacks: 99.27909371781668%\n",
      "\n",
      "\n"
     ]
    },
    {
     "name": "stderr",
     "output_type": "stream",
     "text": [
      "100%|██████████| 980/980 [00:49<00:00, 19.87it/s]\n"
     ]
    },
    {
     "name": "stdout",
     "output_type": "stream",
     "text": [
      "Epsilon = 1.0\n",
      "Success Rate: 100.0%\n",
      "Average L0 Distance for Successful Attacks: 10.996938775510204\n",
      "Average L1 Distance for Successful Attacks: 0.6738481768539973\n",
      "Average L2 Distance for Successful Attacks: 0.9746269635399993\n",
      "Average Linf Distance for Successful Attacks: 2.4370625054349704\n",
      "Average Mahalanobis Distance for Successful Attacks: 21.780454210688756\n",
      "Average Sensitivity for Successful Attacks: 0.72470997617561\n",
      "Outlier Rate for Successful Attacks: 100.0%\n",
      "\n",
      "\n",
      "Running L2BIM on WineQuality-White with MLP\n",
      "Threshold: 4.4356665308251575\n"
     ]
    },
    {
     "name": "stderr",
     "output_type": "stream",
     "text": [
      "100%|██████████| 980/980 [00:11<00:00, 86.08it/s]\n"
     ]
    },
    {
     "name": "stdout",
     "output_type": "stream",
     "text": [
      "Epsilon = 0.0\n",
      "Success Rate: 25.30612244897959%\n",
      "Average L0 Distance for Successful Attacks: 0.0\n",
      "Average L1 Distance for Successful Attacks: 0.0\n",
      "Average L2 Distance for Successful Attacks: 0.0\n",
      "Average Linf Distance for Successful Attacks: 0.0\n",
      "Average Mahalanobis Distance for Successful Attacks: 3.2594653703335683\n",
      "Average Sensitivity for Successful Attacks: 0.0\n",
      "Outlier Rate for Successful Attacks: 10.887096774193548%\n",
      "\n",
      "\n"
     ]
    },
    {
     "name": "stderr",
     "output_type": "stream",
     "text": [
      "100%|██████████| 980/980 [00:11<00:00, 84.06it/s]\n"
     ]
    },
    {
     "name": "stdout",
     "output_type": "stream",
     "text": [
      "Epsilon = 0.01\n",
      "Success Rate: 27.857142857142858%\n",
      "Average L0 Distance for Successful Attacks: 10.992673992673993\n",
      "Average L1 Distance for Successful Attacks: 0.006510992844899495\n",
      "Average L2 Distance for Successful Attacks: 0.009999889092376599\n",
      "Average Linf Distance for Successful Attacks: 0.02480807982303284\n",
      "Average Mahalanobis Distance for Successful Attacks: 3.2927534927117073\n",
      "Average Sensitivity for Successful Attacks: 0.007005447661674722\n",
      "Outlier Rate for Successful Attacks: 10.622710622710622%\n",
      "\n",
      "\n"
     ]
    },
    {
     "name": "stderr",
     "output_type": "stream",
     "text": [
      "100%|██████████| 980/980 [00:11<00:00, 84.76it/s]\n"
     ]
    },
    {
     "name": "stdout",
     "output_type": "stream",
     "text": [
      "Epsilon = 0.03\n",
      "Success Rate: 33.87755102040816%\n",
      "Average L0 Distance for Successful Attacks: 10.993975903614459\n",
      "Average L1 Distance for Successful Attacks: 0.019739417005779154\n",
      "Average L2 Distance for Successful Attacks: 0.02998868574623961\n",
      "Average Linf Distance for Successful Attacks: 0.07403644089059658\n",
      "Average Mahalanobis Distance for Successful Attacks: 3.2945017133781502\n",
      "Average Sensitivity for Successful Attacks: 0.021235918255904353\n",
      "Outlier Rate for Successful Attacks: 9.036144578313253%\n",
      "\n",
      "\n"
     ]
    },
    {
     "name": "stderr",
     "output_type": "stream",
     "text": [
      "100%|██████████| 980/980 [00:11<00:00, 84.76it/s]\n"
     ]
    },
    {
     "name": "stdout",
     "output_type": "stream",
     "text": [
      "Epsilon = 0.05\n",
      "Success Rate: 40.20408163265306%\n",
      "Average L0 Distance for Successful Attacks: 10.99492385786802\n",
      "Average L1 Distance for Successful Attacks: 0.033207546527199636\n",
      "Average L2 Distance for Successful Attacks: 0.04996106361374637\n",
      "Average Linf Distance for Successful Attacks: 0.12267553520762375\n",
      "Average Mahalanobis Distance for Successful Attacks: 3.481361658974664\n",
      "Average Sensitivity for Successful Attacks: 0.035721845163722635\n",
      "Outlier Rate for Successful Attacks: 13.19796954314721%\n",
      "\n",
      "\n"
     ]
    },
    {
     "name": "stderr",
     "output_type": "stream",
     "text": [
      "100%|██████████| 980/980 [00:11<00:00, 83.47it/s]\n"
     ]
    },
    {
     "name": "stdout",
     "output_type": "stream",
     "text": [
      "Epsilon = 0.1\n",
      "Success Rate: 55.91836734693878%\n",
      "Average L0 Distance for Successful Attacks: 10.996350364963504\n",
      "Average L1 Distance for Successful Attacks: 0.06671655336462885\n",
      "Average L2 Distance for Successful Attacks: 0.09985750698803986\n",
      "Average Linf Distance for Successful Attacks: 0.24394169221394255\n",
      "Average Mahalanobis Distance for Successful Attacks: 4.119665816747759\n",
      "Average Sensitivity for Successful Attacks: 0.07175807947170561\n",
      "Outlier Rate for Successful Attacks: 33.21167883211679%\n",
      "\n",
      "\n"
     ]
    },
    {
     "name": "stderr",
     "output_type": "stream",
     "text": [
      "100%|██████████| 980/980 [00:11<00:00, 84.25it/s]\n"
     ]
    },
    {
     "name": "stdout",
     "output_type": "stream",
     "text": [
      "Epsilon = 0.3\n",
      "Success Rate: 95.61224489795919%\n",
      "Average L0 Distance for Successful Attacks: 10.99786552828175\n",
      "Average L1 Distance for Successful Attacks: 0.2025973592808305\n",
      "Average L2 Distance for Successful Attacks: 0.2980572369144464\n",
      "Average Linf Distance for Successful Attacks: 0.7206697510426174\n",
      "Average Mahalanobis Distance for Successful Attacks: 7.550442121344602\n",
      "Average Sensitivity for Successful Attacks: 0.2178775115354084\n",
      "Outlier Rate for Successful Attacks: 74.81323372465314%\n",
      "\n",
      "\n"
     ]
    },
    {
     "name": "stderr",
     "output_type": "stream",
     "text": [
      "100%|██████████| 980/980 [00:11<00:00, 84.77it/s]\n"
     ]
    },
    {
     "name": "stdout",
     "output_type": "stream",
     "text": [
      "Epsilon = 0.5\n",
      "Success Rate: 100.0%\n",
      "Average L0 Distance for Successful Attacks: 10.996938775510204\n",
      "Average L1 Distance for Successful Attacks: 0.36191459282928584\n",
      "Average L2 Distance for Successful Attacks: 0.49344133816811503\n",
      "Average Linf Distance for Successful Attacks: 1.1531013482079213\n",
      "Average Mahalanobis Distance for Successful Attacks: 10.855727939156212\n",
      "Average Sensitivity for Successful Attacks: 0.3892508349248341\n",
      "Outlier Rate for Successful Attacks: 98.16326530612245%\n",
      "\n",
      "\n"
     ]
    },
    {
     "name": "stderr",
     "output_type": "stream",
     "text": [
      "100%|██████████| 980/980 [00:11<00:00, 81.89it/s]\n"
     ]
    },
    {
     "name": "stdout",
     "output_type": "stream",
     "text": [
      "Epsilon = 1.0\n",
      "Success Rate: 100.0%\n",
      "Average L0 Distance for Successful Attacks: 10.99795918367347\n",
      "Average L1 Distance for Successful Attacks: 0.7512356582040689\n",
      "Average L2 Distance for Successful Attacks: 0.9695715244327273\n",
      "Average Linf Distance for Successful Attacks: 2.164892340679558\n",
      "Average Mahalanobis Distance for Successful Attacks: 20.86559579116783\n",
      "Average Sensitivity for Successful Attacks: 0.8078716914872734\n",
      "Outlier Rate for Successful Attacks: 100.0%\n",
      "\n",
      "\n",
      "Running LinfDeepFool on WineQuality-White with MLP\n",
      "Threshold: 4.4356665308251575\n"
     ]
    },
    {
     "name": "stderr",
     "output_type": "stream",
     "text": [
      "100%|██████████| 980/980 [00:05<00:00, 171.30it/s]\n"
     ]
    },
    {
     "name": "stdout",
     "output_type": "stream",
     "text": [
      "Epsilon = 0.0\n",
      "Success Rate: 25.30612244897959%\n",
      "Average L0 Distance for Successful Attacks: 0.0\n",
      "Average L1 Distance for Successful Attacks: 0.0\n",
      "Average L2 Distance for Successful Attacks: 0.0\n",
      "Average Linf Distance for Successful Attacks: 0.0\n",
      "Average Mahalanobis Distance for Successful Attacks: 3.2594653703335683\n",
      "Average Sensitivity for Successful Attacks: 0.0\n",
      "Outlier Rate for Successful Attacks: 10.887096774193548%\n",
      "\n",
      "\n"
     ]
    },
    {
     "name": "stderr",
     "output_type": "stream",
     "text": [
      "100%|██████████| 980/980 [00:05<00:00, 171.76it/s]\n"
     ]
    },
    {
     "name": "stdout",
     "output_type": "stream",
     "text": [
      "Epsilon = 0.01\n",
      "Success Rate: 32.55102040816327%\n",
      "Average L0 Distance for Successful Attacks: 2.445141065830721\n",
      "Average L1 Distance for Successful Attacks: 0.001282815919272298\n",
      "Average L2 Distance for Successful Attacks: 0.004251509852310333\n",
      "Average Linf Distance for Successful Attacks: 0.014097141122392912\n",
      "Average Mahalanobis Distance for Successful Attacks: 3.233946934430499\n",
      "Average Sensitivity for Successful Attacks: 0.0013799611388721727\n",
      "Outlier Rate for Successful Attacks: 9.717868338557993%\n",
      "\n",
      "\n"
     ]
    },
    {
     "name": "stderr",
     "output_type": "stream",
     "text": [
      "100%|██████████| 980/980 [00:05<00:00, 168.64it/s]\n"
     ]
    },
    {
     "name": "stdout",
     "output_type": "stream",
     "text": [
      "Epsilon = 0.03\n",
      "Success Rate: 47.244897959183675%\n",
      "Average L0 Distance for Successful Attacks: 5.105831533477322\n",
      "Average L1 Distance for Successful Attacks: 0.007408424428428803\n",
      "Average L2 Distance for Successful Attacks: 0.024407646290909652\n",
      "Average Linf Distance for Successful Attacks: 0.08078928857631418\n",
      "Average Mahalanobis Distance for Successful Attacks: 3.5361262942445015\n",
      "Average Sensitivity for Successful Attacks: 0.007965903525850705\n",
      "Outlier Rate for Successful Attacks: 17.92656587473002%\n",
      "\n",
      "\n"
     ]
    },
    {
     "name": "stderr",
     "output_type": "stream",
     "text": [
      "100%|██████████| 980/980 [00:05<00:00, 166.06it/s]\n"
     ]
    },
    {
     "name": "stdout",
     "output_type": "stream",
     "text": [
      "Epsilon = 0.05\n",
      "Success Rate: 61.63265306122449%\n",
      "Average L0 Distance for Successful Attacks: 6.4801324503311255\n",
      "Average L1 Distance for Successful Attacks: 0.015833431272767484\n",
      "Average L2 Distance for Successful Attacks: 0.05192519716659425\n",
      "Average Linf Distance for Successful Attacks: 0.1715077145706665\n",
      "Average Mahalanobis Distance for Successful Attacks: 4.196934811666148\n",
      "Average Sensitivity for Successful Attacks: 0.0170331287199407\n",
      "Outlier Rate for Successful Attacks: 35.9271523178808%\n",
      "\n",
      "\n"
     ]
    },
    {
     "name": "stderr",
     "output_type": "stream",
     "text": [
      "100%|██████████| 980/980 [00:05<00:00, 169.86it/s]\n"
     ]
    },
    {
     "name": "stdout",
     "output_type": "stream",
     "text": [
      "Epsilon = 0.1\n",
      "Success Rate: 86.73469387755102%\n",
      "Average L0 Distance for Successful Attacks: 7.788235294117647\n",
      "Average L1 Distance for Successful Attacks: 0.03465644334881183\n",
      "Average L2 Distance for Successful Attacks: 0.11229593506411595\n",
      "Average Linf Distance for Successful Attacks: 0.36861732175792844\n",
      "Average Mahalanobis Distance for Successful Attacks: 5.8081204258081875\n",
      "Average Sensitivity for Successful Attacks: 0.03727084715018624\n",
      "Outlier Rate for Successful Attacks: 54.470588235294116%\n",
      "\n",
      "\n"
     ]
    },
    {
     "name": "stderr",
     "output_type": "stream",
     "text": [
      "100%|██████████| 980/980 [00:05<00:00, 171.81it/s]\n"
     ]
    },
    {
     "name": "stdout",
     "output_type": "stream",
     "text": [
      "Epsilon = 0.3\n",
      "Success Rate: 100.0%\n",
      "Average L0 Distance for Successful Attacks: 8.214285714285714\n",
      "Average L1 Distance for Successful Attacks: 0.05143340040539981\n",
      "Average L2 Distance for Successful Attacks: 0.16371086882807467\n",
      "Average Linf Distance for Successful Attacks: 0.5329232631412771\n",
      "Average Mahalanobis Distance for Successful Attacks: 7.217145582459674\n",
      "Average Sensitivity for Successful Attacks: 0.0553080068434629\n",
      "Outlier Rate for Successful Attacks: 60.51020408163266%\n",
      "\n",
      "\n"
     ]
    },
    {
     "name": "stderr",
     "output_type": "stream",
     "text": [
      "100%|██████████| 980/980 [00:05<00:00, 171.53it/s]\n"
     ]
    },
    {
     "name": "stdout",
     "output_type": "stream",
     "text": [
      "Epsilon = 0.5\n",
      "Success Rate: 100.0%\n",
      "Average L0 Distance for Successful Attacks: 8.214285714285714\n",
      "Average L1 Distance for Successful Attacks: 0.05143340040539981\n",
      "Average L2 Distance for Successful Attacks: 0.16371086882807467\n",
      "Average Linf Distance for Successful Attacks: 0.5329232631412771\n",
      "Average Mahalanobis Distance for Successful Attacks: 7.217145582459674\n",
      "Average Sensitivity for Successful Attacks: 0.0553080068434629\n",
      "Outlier Rate for Successful Attacks: 60.51020408163266%\n",
      "\n",
      "\n"
     ]
    },
    {
     "name": "stderr",
     "output_type": "stream",
     "text": [
      "100%|██████████| 980/980 [00:05<00:00, 170.62it/s]\n"
     ]
    },
    {
     "name": "stdout",
     "output_type": "stream",
     "text": [
      "Epsilon = 1.0\n",
      "Success Rate: 100.0%\n",
      "Average L0 Distance for Successful Attacks: 8.214285714285714\n",
      "Average L1 Distance for Successful Attacks: 0.05143340040539981\n",
      "Average L2 Distance for Successful Attacks: 0.16371086882807467\n",
      "Average Linf Distance for Successful Attacks: 0.5329232631412771\n",
      "Average Mahalanobis Distance for Successful Attacks: 7.217145582459674\n",
      "Average Sensitivity for Successful Attacks: 0.0553080068434629\n",
      "Outlier Rate for Successful Attacks: 60.51020408163266%\n",
      "\n",
      "\n",
      "Running L2DeepFool on WineQuality-White with MLP\n",
      "Threshold: 4.4356665308251575\n"
     ]
    },
    {
     "name": "stderr",
     "output_type": "stream",
     "text": [
      "100%|██████████| 980/980 [00:06<00:00, 161.15it/s]\n"
     ]
    },
    {
     "name": "stdout",
     "output_type": "stream",
     "text": [
      "Epsilon = 0.0\n",
      "Success Rate: 25.30612244897959%\n",
      "Average L0 Distance for Successful Attacks: 0.0\n",
      "Average L1 Distance for Successful Attacks: 0.0\n",
      "Average L2 Distance for Successful Attacks: 0.0\n",
      "Average Linf Distance for Successful Attacks: 0.0\n",
      "Average Mahalanobis Distance for Successful Attacks: 3.2594653703335683\n",
      "Average Sensitivity for Successful Attacks: 0.0\n",
      "Outlier Rate for Successful Attacks: 10.887096774193548%\n",
      "\n",
      "\n"
     ]
    },
    {
     "name": "stderr",
     "output_type": "stream",
     "text": [
      "100%|██████████| 980/980 [00:06<00:00, 160.25it/s]\n"
     ]
    },
    {
     "name": "stdout",
     "output_type": "stream",
     "text": [
      "Epsilon = 0.01\n",
      "Success Rate: 27.857142857142858%\n",
      "Average L0 Distance for Successful Attacks: 1.0036630036630036\n",
      "Average L1 Distance for Successful Attacks: 0.00040101025239888563\n",
      "Average L2 Distance for Successful Attacks: 0.0005866048075923962\n",
      "Average Linf Distance for Successful Attacks: 0.0014213875666151553\n",
      "Average Mahalanobis Distance for Successful Attacks: 3.2906083733672737\n",
      "Average Sensitivity for Successful Attacks: 0.0004324008108990014\n",
      "Outlier Rate for Successful Attacks: 10.989010989010989%\n",
      "\n",
      "\n"
     ]
    },
    {
     "name": "stderr",
     "output_type": "stream",
     "text": [
      "100%|██████████| 980/980 [00:06<00:00, 160.69it/s]\n"
     ]
    },
    {
     "name": "stdout",
     "output_type": "stream",
     "text": [
      "Epsilon = 0.03\n",
      "Success Rate: 33.87755102040816%\n",
      "Average L0 Distance for Successful Attacks: 2.7801204819277108\n",
      "Average L1 Distance for Successful Attacks: 0.002755900945918388\n",
      "Average L2 Distance for Successful Attacks: 0.004004112654330534\n",
      "Average Linf Distance for Successful Attacks: 0.009641121643741268\n",
      "Average Mahalanobis Distance for Successful Attacks: 3.213366696818393\n",
      "Average Sensitivity for Successful Attacks: 0.0029641222939840576\n",
      "Outlier Rate for Successful Attacks: 9.63855421686747%\n",
      "\n",
      "\n"
     ]
    },
    {
     "name": "stderr",
     "output_type": "stream",
     "text": [
      "100%|██████████| 980/980 [00:06<00:00, 160.92it/s]\n"
     ]
    },
    {
     "name": "stdout",
     "output_type": "stream",
     "text": [
      "Epsilon = 0.05\n",
      "Success Rate: 40.10204081632653%\n",
      "Average L0 Distance for Successful Attacks: 4.0559796437659035\n",
      "Average L1 Distance for Successful Attacks: 0.006580863621929523\n",
      "Average L2 Distance for Successful Attacks: 0.009595275016912702\n",
      "Average Linf Distance for Successful Attacks: 0.023253050637514386\n",
      "Average Mahalanobis Distance for Successful Attacks: 3.255999717721336\n",
      "Average Sensitivity for Successful Attacks: 0.007076504576445318\n",
      "Outlier Rate for Successful Attacks: 11.195928753180661%\n",
      "\n",
      "\n"
     ]
    },
    {
     "name": "stderr",
     "output_type": "stream",
     "text": [
      "100%|██████████| 980/980 [00:06<00:00, 161.45it/s]\n"
     ]
    },
    {
     "name": "stdout",
     "output_type": "stream",
     "text": [
      "Epsilon = 0.1\n",
      "Success Rate: 55.51020408163265%\n",
      "Average L0 Distance for Successful Attacks: 5.981617647058823\n",
      "Average L1 Distance for Successful Attacks: 0.01929942695834838\n",
      "Average L2 Distance for Successful Attacks: 0.029062481361988295\n",
      "Average Linf Distance for Successful Attacks: 0.07117088501827847\n",
      "Average Mahalanobis Distance for Successful Attacks: 3.368053548498797\n",
      "Average Sensitivity for Successful Attacks: 0.020763155566087602\n",
      "Outlier Rate for Successful Attacks: 13.970588235294118%\n",
      "\n",
      "\n"
     ]
    },
    {
     "name": "stderr",
     "output_type": "stream",
     "text": [
      "100%|██████████| 980/980 [00:06<00:00, 160.46it/s]\n"
     ]
    },
    {
     "name": "stdout",
     "output_type": "stream",
     "text": [
      "Epsilon = 0.3\n",
      "Success Rate: 94.59183673469389%\n",
      "Average L0 Distance for Successful Attacks: 8.055016181229773\n",
      "Average L1 Distance for Successful Attacks: 0.06432854562210162\n",
      "Average L2 Distance for Successful Attacks: 0.10348120004514096\n",
      "Average Linf Distance for Successful Attacks: 0.26221716324291405\n",
      "Average Mahalanobis Distance for Successful Attacks: 4.923683694341818\n",
      "Average Sensitivity for Successful Attacks: 0.06917752041824277\n",
      "Outlier Rate for Successful Attacks: 42.71844660194174%\n",
      "\n",
      "\n"
     ]
    },
    {
     "name": "stderr",
     "output_type": "stream",
     "text": [
      "100%|██████████| 980/980 [00:06<00:00, 159.95it/s]\n"
     ]
    },
    {
     "name": "stdout",
     "output_type": "stream",
     "text": [
      "Epsilon = 0.5\n",
      "Success Rate: 100.0%\n",
      "Average L0 Distance for Successful Attacks: 8.214285714285714\n",
      "Average L1 Distance for Successful Attacks: 0.07745171087813013\n",
      "Average L2 Distance for Successful Attacks: 0.12399705013477633\n",
      "Average Linf Distance for Successful Attacks: 0.3136717920771287\n",
      "Average Mahalanobis Distance for Successful Attacks: 5.433846383915692\n",
      "Average Sensitivity for Successful Attacks: 0.08328666987321671\n",
      "Outlier Rate for Successful Attacks: 46.326530612244895%\n",
      "\n",
      "\n"
     ]
    },
    {
     "name": "stderr",
     "output_type": "stream",
     "text": [
      "100%|██████████| 980/980 [00:06<00:00, 160.64it/s]\n"
     ]
    },
    {
     "name": "stdout",
     "output_type": "stream",
     "text": [
      "Epsilon = 1.0\n",
      "Success Rate: 100.0%\n",
      "Average L0 Distance for Successful Attacks: 8.214285714285714\n",
      "Average L1 Distance for Successful Attacks: 0.07821960116603545\n",
      "Average L2 Distance for Successful Attacks: 0.12507862257741495\n",
      "Average Linf Distance for Successful Attacks: 0.31619904762685147\n",
      "Average Mahalanobis Distance for Successful Attacks: 5.445352798035637\n",
      "Average Sensitivity for Successful Attacks: 0.08411229361538841\n",
      "Outlier Rate for Successful Attacks: 46.42857142857143%\n",
      "\n",
      "\n",
      "Running L2CarliniWagner on WineQuality-White with MLP\n",
      "Threshold: 4.4356665308251575\n"
     ]
    },
    {
     "name": "stderr",
     "output_type": "stream",
     "text": [
      "100%|██████████| 980/980 [02:08<00:00,  7.63it/s]\n"
     ]
    },
    {
     "name": "stdout",
     "output_type": "stream",
     "text": [
      "Epsilon = 0.0\n",
      "Success Rate: 25.30612244897959%\n",
      "Average L0 Distance for Successful Attacks: 0.0\n",
      "Average L1 Distance for Successful Attacks: 0.0\n",
      "Average L2 Distance for Successful Attacks: 0.0\n",
      "Average Linf Distance for Successful Attacks: 0.0\n",
      "Average Mahalanobis Distance for Successful Attacks: 3.2594653703335683\n",
      "Average Sensitivity for Successful Attacks: 0.0\n",
      "Outlier Rate for Successful Attacks: 10.887096774193548%\n",
      "\n",
      "\n"
     ]
    },
    {
     "name": "stderr",
     "output_type": "stream",
     "text": [
      "100%|██████████| 980/980 [02:07<00:00,  7.70it/s]\n"
     ]
    },
    {
     "name": "stdout",
     "output_type": "stream",
     "text": [
      "Epsilon = 0.01\n",
      "Success Rate: 26.53061224489796%\n",
      "Average L0 Distance for Successful Attacks: 10.8\n",
      "Average L1 Distance for Successful Attacks: 0.00020303300026660928\n",
      "Average L2 Distance for Successful Attacks: 0.0004625113391175371\n",
      "Average Linf Distance for Successful Attacks: 0.0014039584193736888\n",
      "Average Mahalanobis Distance for Successful Attacks: 3.2960462880152956\n",
      "Average Sensitivity for Successful Attacks: 0.00021830781520763436\n",
      "Outlier Rate for Successful Attacks: 11.153846153846155%\n",
      "\n",
      "\n"
     ]
    },
    {
     "name": "stderr",
     "output_type": "stream",
     "text": [
      "100%|██████████| 980/980 [02:07<00:00,  7.71it/s]\n"
     ]
    },
    {
     "name": "stdout",
     "output_type": "stream",
     "text": [
      "Epsilon = 0.03\n",
      "Success Rate: 32.04081632653061%\n",
      "Average L0 Distance for Successful Attacks: 10.834394904458598\n",
      "Average L1 Distance for Successful Attacks: 0.0028614258329876384\n",
      "Average L2 Distance for Successful Attacks: 0.006306537773762783\n",
      "Average Linf Distance for Successful Attacks: 0.019074956225794828\n",
      "Average Mahalanobis Distance for Successful Attacks: 3.2358613011423754\n",
      "Average Sensitivity for Successful Attacks: 0.003076568879841317\n",
      "Outlier Rate for Successful Attacks: 9.554140127388536%\n",
      "\n",
      "\n"
     ]
    },
    {
     "name": "stderr",
     "output_type": "stream",
     "text": [
      "100%|██████████| 980/980 [02:07<00:00,  7.67it/s]\n"
     ]
    },
    {
     "name": "stdout",
     "output_type": "stream",
     "text": [
      "Epsilon = 0.05\n",
      "Success Rate: 36.63265306122449%\n",
      "Average L0 Distance for Successful Attacks: 10.855153203342619\n",
      "Average L1 Distance for Successful Attacks: 0.007793248888535794\n",
      "Average L2 Distance for Successful Attacks: 0.015460170257841858\n",
      "Average Linf Distance for Successful Attacks: 0.04460223035531476\n",
      "Average Mahalanobis Distance for Successful Attacks: 3.2949206857512605\n",
      "Average Sensitivity for Successful Attacks: 0.008379187610645216\n",
      "Outlier Rate for Successful Attacks: 10.86350974930362%\n",
      "\n",
      "\n"
     ]
    },
    {
     "name": "stderr",
     "output_type": "stream",
     "text": [
      "100%|██████████| 980/980 [02:06<00:00,  7.77it/s]\n"
     ]
    },
    {
     "name": "stdout",
     "output_type": "stream",
     "text": [
      "Epsilon = 0.1\n",
      "Success Rate: 49.08163265306123%\n",
      "Average L0 Distance for Successful Attacks: 10.891891891891891\n",
      "Average L1 Distance for Successful Attacks: 0.022211610980955362\n",
      "Average L2 Distance for Successful Attacks: 0.04067818907395461\n",
      "Average Linf Distance for Successful Attacks: 0.11468458767223275\n",
      "Average Mahalanobis Distance for Successful Attacks: 3.5430691076301204\n",
      "Average Sensitivity for Successful Attacks: 0.02388158517988536\n",
      "Outlier Rate for Successful Attacks: 17.04781704781705%\n",
      "\n",
      "\n"
     ]
    },
    {
     "name": "stderr",
     "output_type": "stream",
     "text": [
      "100%|██████████| 980/980 [02:06<00:00,  7.75it/s]\n"
     ]
    },
    {
     "name": "stdout",
     "output_type": "stream",
     "text": [
      "Epsilon = 0.3\n",
      "Success Rate: 88.36734693877551%\n",
      "Average L0 Distance for Successful Attacks: 10.939953810623557\n",
      "Average L1 Distance for Successful Attacks: 0.06525858242401324\n",
      "Average L2 Distance for Successful Attacks: 0.11982104005110314\n",
      "Average Linf Distance for Successful Attacks: 0.33849514172467304\n",
      "Average Mahalanobis Distance for Successful Attacks: 4.443324741211767\n",
      "Average Sensitivity for Successful Attacks: 0.07016501948639692\n",
      "Outlier Rate for Successful Attacks: 37.75981524249423%\n",
      "\n",
      "\n"
     ]
    },
    {
     "name": "stderr",
     "output_type": "stream",
     "text": [
      "100%|██████████| 980/980 [02:06<00:00,  7.74it/s]\n"
     ]
    },
    {
     "name": "stdout",
     "output_type": "stream",
     "text": [
      "Epsilon = 0.5\n",
      "Success Rate: 99.59183673469387%\n",
      "Average L0 Distance for Successful Attacks: 10.94672131147541\n",
      "Average L1 Distance for Successful Attacks: 0.08169729836866237\n",
      "Average L2 Distance for Successful Attacks: 0.1515031486422446\n",
      "Average Linf Distance for Successful Attacks: 0.4280387670191513\n",
      "Average Mahalanobis Distance for Successful Attacks: 4.700434198107361\n",
      "Average Sensitivity for Successful Attacks: 0.08783967117754202\n",
      "Outlier Rate for Successful Attacks: 42.41803278688525%\n",
      "\n",
      "\n"
     ]
    },
    {
     "name": "stderr",
     "output_type": "stream",
     "text": [
      "100%|██████████| 980/980 [02:08<00:00,  7.65it/s]\n",
      "/home/zippo/miniconda3/envs/tabular-benchmark/lib/python3.10/site-packages/foolbox/models/pytorch.py:36: UserWarning: The PyTorch model is in training mode and therefore might not be deterministic. Call the eval() method to set it in evaluation mode if this is not intended.\n",
      "  warnings.warn(\n"
     ]
    },
    {
     "name": "stdout",
     "output_type": "stream",
     "text": [
      "Epsilon = 1.0\n",
      "Success Rate: 100.0%\n",
      "Average L0 Distance for Successful Attacks: 10.946938775510205\n",
      "Average L1 Distance for Successful Attacks: 0.08281637986917618\n",
      "Average L2 Distance for Successful Attacks: 0.15348396132577555\n",
      "Average Linf Distance for Successful Attacks: 0.4334588721235359\n",
      "Average Mahalanobis Distance for Successful Attacks: 4.718956254282297\n",
      "Average Sensitivity for Successful Attacks: 0.0890428902198737\n",
      "Outlier Rate for Successful Attacks: 42.6530612244898%\n",
      "\n",
      "\n",
      "Running L2Gaussian on WineQuality-White with TabTransformer\n",
      "Threshold: 4.4356665308251575\n"
     ]
    },
    {
     "name": "stderr",
     "output_type": "stream",
     "text": [
      "100%|██████████| 980/980 [00:02<00:00, 378.05it/s]\n"
     ]
    },
    {
     "name": "stdout",
     "output_type": "stream",
     "text": [
      "Epsilon = 0.0\n",
      "Success Rate: 26.836734693877553%\n",
      "Average L0 Distance for Successful Attacks: 0.0\n",
      "Average L1 Distance for Successful Attacks: 0.0\n",
      "Average L2 Distance for Successful Attacks: 0.0\n",
      "Average Linf Distance for Successful Attacks: 0.0\n",
      "Average Mahalanobis Distance for Successful Attacks: 3.27151559771207\n",
      "Average Sensitivity for Successful Attacks: 0.0\n",
      "Outlier Rate for Successful Attacks: 10.646387832699618%\n",
      "\n",
      "\n"
     ]
    },
    {
     "name": "stderr",
     "output_type": "stream",
     "text": [
      "100%|██████████| 980/980 [00:02<00:00, 383.20it/s]\n"
     ]
    },
    {
     "name": "stdout",
     "output_type": "stream",
     "text": [
      "Epsilon = 0.01\n",
      "Success Rate: 26.93877551020408%\n",
      "Average L0 Distance for Successful Attacks: 10.981060606060606\n",
      "Average L1 Distance for Successful Attacks: 0.005899423796852881\n",
      "Average L2 Distance for Successful Attacks: 0.00997092206715465\n",
      "Average Linf Distance for Successful Attacks: 0.026934219115046842\n",
      "Average Mahalanobis Distance for Successful Attacks: 3.3112460231194447\n",
      "Average Sensitivity for Successful Attacks: 0.006355376624869126\n",
      "Outlier Rate for Successful Attacks: 12.5%\n",
      "\n",
      "\n"
     ]
    },
    {
     "name": "stderr",
     "output_type": "stream",
     "text": [
      "100%|██████████| 980/980 [00:02<00:00, 390.32it/s]\n"
     ]
    },
    {
     "name": "stdout",
     "output_type": "stream",
     "text": [
      "Epsilon = 0.03\n",
      "Success Rate: 26.53061224489796%\n",
      "Average L0 Distance for Successful Attacks: 10.988461538461538\n",
      "Average L1 Distance for Successful Attacks: 0.01761816552696893\n",
      "Average L2 Distance for Successful Attacks: 0.029825795205453268\n",
      "Average Linf Distance for Successful Attacks: 0.08093964274112996\n",
      "Average Mahalanobis Distance for Successful Attacks: 3.485165272632303\n",
      "Average Sensitivity for Successful Attacks: 0.018965010574230782\n",
      "Outlier Rate for Successful Attacks: 13.846153846153847%\n",
      "\n",
      "\n"
     ]
    },
    {
     "name": "stderr",
     "output_type": "stream",
     "text": [
      "100%|██████████| 980/980 [00:02<00:00, 395.33it/s]\n"
     ]
    },
    {
     "name": "stdout",
     "output_type": "stream",
     "text": [
      "Epsilon = 0.05\n",
      "Success Rate: 27.24489795918367%\n",
      "Average L0 Distance for Successful Attacks: 10.985018726591761\n",
      "Average L1 Distance for Successful Attacks: 0.02911208707434631\n",
      "Average L2 Distance for Successful Attacks: 0.04978394212570976\n",
      "Average Linf Distance for Successful Attacks: 0.13472885370589374\n",
      "Average Mahalanobis Distance for Successful Attacks: 3.721983786014234\n",
      "Average Sensitivity for Successful Attacks: 0.03134885433126478\n",
      "Outlier Rate for Successful Attacks: 17.97752808988764%\n",
      "\n",
      "\n"
     ]
    },
    {
     "name": "stderr",
     "output_type": "stream",
     "text": [
      "100%|██████████| 980/980 [00:02<00:00, 383.00it/s]\n"
     ]
    },
    {
     "name": "stdout",
     "output_type": "stream",
     "text": [
      "Epsilon = 0.1\n",
      "Success Rate: 26.3265306122449%\n",
      "Average L0 Distance for Successful Attacks: 10.98062015503876\n",
      "Average L1 Distance for Successful Attacks: 0.05825850582688816\n",
      "Average L2 Distance for Successful Attacks: 0.09913888351284256\n",
      "Average Linf Distance for Successful Attacks: 0.26888999654803164\n",
      "Average Mahalanobis Distance for Successful Attacks: 4.9367323792493885\n",
      "Average Sensitivity for Successful Attacks: 0.06274416997970998\n",
      "Outlier Rate for Successful Attacks: 48.44961240310077%\n",
      "\n",
      "\n"
     ]
    },
    {
     "name": "stderr",
     "output_type": "stream",
     "text": [
      "100%|██████████| 980/980 [00:02<00:00, 382.94it/s]\n"
     ]
    },
    {
     "name": "stdout",
     "output_type": "stream",
     "text": [
      "Epsilon = 0.3\n",
      "Success Rate: 30.816326530612244%\n",
      "Average L0 Distance for Successful Attacks: 10.993377483443709\n",
      "Average L1 Distance for Successful Attacks: 0.16838916196234968\n",
      "Average L2 Distance for Successful Attacks: 0.2864705148516901\n",
      "Average Linf Distance for Successful Attacks: 0.7764054144060375\n",
      "Average Mahalanobis Distance for Successful Attacks: 10.662799658664106\n",
      "Average Sensitivity for Successful Attacks: 0.18118907533438\n",
      "Outlier Rate for Successful Attacks: 93.70860927152319%\n",
      "\n",
      "\n"
     ]
    },
    {
     "name": "stderr",
     "output_type": "stream",
     "text": [
      "100%|██████████| 980/980 [00:02<00:00, 367.95it/s]\n"
     ]
    },
    {
     "name": "stdout",
     "output_type": "stream",
     "text": [
      "Epsilon = 0.5\n",
      "Success Rate: 29.69387755102041%\n",
      "Average L0 Distance for Successful Attacks: 10.982817869415808\n",
      "Average L1 Distance for Successful Attacks: 0.2725122531050259\n",
      "Average L2 Distance for Successful Attacks: 0.4555839977108736\n",
      "Average Linf Distance for Successful Attacks: 1.2297340189058756\n",
      "Average Mahalanobis Distance for Successful Attacks: 15.265447705183657\n",
      "Average Sensitivity for Successful Attacks: 0.2935404709933959\n",
      "Outlier Rate for Successful Attacks: 99.65635738831615%\n",
      "\n",
      "\n"
     ]
    },
    {
     "name": "stderr",
     "output_type": "stream",
     "text": [
      "100%|██████████| 980/980 [00:02<00:00, 369.68it/s]\n"
     ]
    },
    {
     "name": "stdout",
     "output_type": "stream",
     "text": [
      "Epsilon = 1.0\n",
      "Success Rate: 38.57142857142858%\n",
      "Average L0 Distance for Successful Attacks: 10.992063492063492\n",
      "Average L1 Distance for Successful Attacks: 0.5063928507623219\n",
      "Average L2 Distance for Successful Attacks: 0.8173595641655896\n",
      "Average Linf Distance for Successful Attacks: 2.1752450157094887\n",
      "Average Mahalanobis Distance for Successful Attacks: 24.774446887720327\n",
      "Average Sensitivity for Successful Attacks: 0.5449881469288831\n",
      "Outlier Rate for Successful Attacks: 100.0%\n",
      "\n",
      "\n",
      "Running L2Uniform on WineQuality-White with TabTransformer\n",
      "Threshold: 4.4356665308251575\n"
     ]
    },
    {
     "name": "stderr",
     "output_type": "stream",
     "text": [
      "100%|██████████| 980/980 [00:02<00:00, 389.73it/s]\n"
     ]
    },
    {
     "name": "stdout",
     "output_type": "stream",
     "text": [
      "Epsilon = 0.0\n",
      "Success Rate: 26.836734693877553%\n",
      "Average L0 Distance for Successful Attacks: 0.0\n",
      "Average L1 Distance for Successful Attacks: 0.0\n",
      "Average L2 Distance for Successful Attacks: 0.0\n",
      "Average Linf Distance for Successful Attacks: 0.0\n",
      "Average Mahalanobis Distance for Successful Attacks: 3.27151559771207\n",
      "Average Sensitivity for Successful Attacks: 0.0\n",
      "Outlier Rate for Successful Attacks: 10.646387832699618%\n",
      "\n",
      "\n"
     ]
    },
    {
     "name": "stderr",
     "output_type": "stream",
     "text": [
      "100%|██████████| 980/980 [00:02<00:00, 388.04it/s]\n"
     ]
    },
    {
     "name": "stdout",
     "output_type": "stream",
     "text": [
      "Epsilon = 0.01\n",
      "Success Rate: 26.73469387755102%\n",
      "Average L0 Distance for Successful Attacks: 10.988549618320612\n",
      "Average L1 Distance for Successful Attacks: 0.00495163387021775\n",
      "Average L2 Distance for Successful Attacks: 0.009995448580793752\n",
      "Average Linf Distance for Successful Attacks: 0.028663637422252704\n",
      "Average Mahalanobis Distance for Successful Attacks: 3.3057147417448305\n",
      "Average Sensitivity for Successful Attacks: 0.00532956795326171\n",
      "Outlier Rate for Successful Attacks: 11.068702290076336%\n",
      "\n",
      "\n"
     ]
    },
    {
     "name": "stderr",
     "output_type": "stream",
     "text": [
      "100%|██████████| 980/980 [00:02<00:00, 379.95it/s]\n"
     ]
    },
    {
     "name": "stdout",
     "output_type": "stream",
     "text": [
      "Epsilon = 0.03\n",
      "Success Rate: 26.836734693877553%\n",
      "Average L0 Distance for Successful Attacks: 10.988593155893536\n",
      "Average L1 Distance for Successful Attacks: 0.01461962449006708\n",
      "Average L2 Distance for Successful Attacks: 0.029864734166192012\n",
      "Average Linf Distance for Successful Attacks: 0.08608999984345962\n",
      "Average Mahalanobis Distance for Successful Attacks: 3.4480290131638807\n",
      "Average Sensitivity for Successful Attacks: 0.015740557361266685\n",
      "Outlier Rate for Successful Attacks: 14.068441064638785%\n",
      "\n",
      "\n"
     ]
    },
    {
     "name": "stderr",
     "output_type": "stream",
     "text": [
      "100%|██████████| 980/980 [00:02<00:00, 387.87it/s]\n"
     ]
    },
    {
     "name": "stdout",
     "output_type": "stream",
     "text": [
      "Epsilon = 0.05\n",
      "Success Rate: 27.448979591836736%\n",
      "Average L0 Distance for Successful Attacks: 10.988847583643123\n",
      "Average L1 Distance for Successful Attacks: 0.024263416697378495\n",
      "Average L2 Distance for Successful Attacks: 0.0497035335984815\n",
      "Average Linf Distance for Successful Attacks: 0.14383140976322628\n",
      "Average Mahalanobis Distance for Successful Attacks: 3.804222417338957\n",
      "Average Sensitivity for Successful Attacks: 0.026115117899270304\n",
      "Outlier Rate for Successful Attacks: 21.189591078066915%\n",
      "\n",
      "\n"
     ]
    },
    {
     "name": "stderr",
     "output_type": "stream",
     "text": [
      "100%|██████████| 980/980 [00:02<00:00, 385.54it/s]\n"
     ]
    },
    {
     "name": "stdout",
     "output_type": "stream",
     "text": [
      "Epsilon = 0.1\n",
      "Success Rate: 26.632653061224488%\n",
      "Average L0 Distance for Successful Attacks: 10.992337164750959\n",
      "Average L1 Distance for Successful Attacks: 0.048977267254015494\n",
      "Average L2 Distance for Successful Attacks: 0.09890816449205538\n",
      "Average Linf Distance for Successful Attacks: 0.28385093916650017\n",
      "Average Mahalanobis Distance for Successful Attacks: 4.920228585141895\n",
      "Average Sensitivity for Successful Attacks: 0.05269863927501372\n",
      "Outlier Rate for Successful Attacks: 52.10727969348659%\n",
      "\n",
      "\n"
     ]
    },
    {
     "name": "stderr",
     "output_type": "stream",
     "text": [
      "100%|██████████| 980/980 [00:02<00:00, 388.85it/s]\n"
     ]
    },
    {
     "name": "stdout",
     "output_type": "stream",
     "text": [
      "Epsilon = 0.3\n",
      "Success Rate: 28.57142857142857%\n",
      "Average L0 Distance for Successful Attacks: 10.985714285714286\n",
      "Average L1 Distance for Successful Attacks: 0.14531868038965123\n",
      "Average L2 Distance for Successful Attacks: 0.2912979236670903\n",
      "Average Linf Distance for Successful Attacks: 0.836955697621618\n",
      "Average Mahalanobis Distance for Successful Attacks: 10.959398590193025\n",
      "Average Sensitivity for Successful Attacks: 0.15646886056555168\n",
      "Outlier Rate for Successful Attacks: 97.5%\n",
      "\n",
      "\n"
     ]
    },
    {
     "name": "stderr",
     "output_type": "stream",
     "text": [
      "100%|██████████| 980/980 [00:02<00:00, 379.38it/s]\n"
     ]
    },
    {
     "name": "stdout",
     "output_type": "stream",
     "text": [
      "Epsilon = 0.5\n",
      "Success Rate: 35.40816326530612%\n",
      "Average L0 Distance for Successful Attacks: 10.985590778097983\n",
      "Average L1 Distance for Successful Attacks: 0.236491145120574\n",
      "Average L2 Distance for Successful Attacks: 0.46055306421233183\n",
      "Average Linf Distance for Successful Attacks: 1.315397375255222\n",
      "Average Mahalanobis Distance for Successful Attacks: 16.350148909719493\n",
      "Average Sensitivity for Successful Attacks: 0.25462933322709985\n",
      "Outlier Rate for Successful Attacks: 99.71181556195965%\n",
      "\n",
      "\n"
     ]
    },
    {
     "name": "stderr",
     "output_type": "stream",
     "text": [
      "100%|██████████| 980/980 [00:02<00:00, 378.27it/s]\n"
     ]
    },
    {
     "name": "stdout",
     "output_type": "stream",
     "text": [
      "Epsilon = 1.0\n",
      "Success Rate: 40.0%\n",
      "Average L0 Distance for Successful Attacks: 10.994897959183673\n",
      "Average L1 Distance for Successful Attacks: 0.45766078255006243\n",
      "Average L2 Distance for Successful Attacks: 0.8466984920811896\n",
      "Average Linf Distance for Successful Attacks: 2.3703752759159826\n",
      "Average Mahalanobis Distance for Successful Attacks: 27.248326123878513\n",
      "Average Sensitivity for Successful Attacks: 0.4922985288561607\n",
      "Outlier Rate for Successful Attacks: 100.0%\n",
      "\n",
      "\n",
      "Running LinfUniform on WineQuality-White with TabTransformer\n",
      "Threshold: 4.4356665308251575\n"
     ]
    },
    {
     "name": "stderr",
     "output_type": "stream",
     "text": [
      "100%|██████████| 980/980 [00:02<00:00, 433.80it/s]\n"
     ]
    },
    {
     "name": "stdout",
     "output_type": "stream",
     "text": [
      "Epsilon = 0.0\n",
      "Success Rate: 26.836734693877553%\n",
      "Average L0 Distance for Successful Attacks: 0.0\n",
      "Average L1 Distance for Successful Attacks: 0.0\n",
      "Average L2 Distance for Successful Attacks: 0.0\n",
      "Average Linf Distance for Successful Attacks: 0.0\n",
      "Average Mahalanobis Distance for Successful Attacks: 3.27151559771207\n",
      "Average Sensitivity for Successful Attacks: 0.0\n",
      "Outlier Rate for Successful Attacks: 10.646387832699618%\n",
      "\n",
      "\n"
     ]
    },
    {
     "name": "stderr",
     "output_type": "stream",
     "text": [
      "100%|██████████| 980/980 [00:02<00:00, 429.71it/s]\n"
     ]
    },
    {
     "name": "stdout",
     "output_type": "stream",
     "text": [
      "Epsilon = 0.01\n",
      "Success Rate: 26.42857142857143%\n",
      "Average L0 Distance for Successful Attacks: 10.992277992277993\n",
      "Average L1 Distance for Successful Attacks: 0.010000000348221152\n",
      "Average L2 Distance for Successful Attacks: 0.022207319355321668\n",
      "Average Linf Distance for Successful Attacks: 0.0653146886514881\n",
      "Average Mahalanobis Distance for Successful Attacks: 3.4372207100017533\n",
      "Average Sensitivity for Successful Attacks: 0.010760148063043139\n",
      "Outlier Rate for Successful Attacks: 13.127413127413126%\n",
      "\n",
      "\n"
     ]
    },
    {
     "name": "stderr",
     "output_type": "stream",
     "text": [
      "100%|██████████| 980/980 [00:02<00:00, 428.93it/s]\n"
     ]
    },
    {
     "name": "stdout",
     "output_type": "stream",
     "text": [
      "Epsilon = 0.03\n",
      "Success Rate: 26.42857142857143%\n",
      "Average L0 Distance for Successful Attacks: 10.992277992277993\n",
      "Average L1 Distance for Successful Attacks: 0.029999999926357195\n",
      "Average L2 Distance for Successful Attacks: 0.0660701773657992\n",
      "Average Linf Distance for Successful Attacks: 0.19364884124644474\n",
      "Average Mahalanobis Distance for Successful Attacks: 4.29523464198878\n",
      "Average Sensitivity for Successful Attacks: 0.03228044055373512\n",
      "Outlier Rate for Successful Attacks: 38.22393822393823%\n",
      "\n",
      "\n"
     ]
    },
    {
     "name": "stderr",
     "output_type": "stream",
     "text": [
      "100%|██████████| 980/980 [00:02<00:00, 430.23it/s]\n"
     ]
    },
    {
     "name": "stdout",
     "output_type": "stream",
     "text": [
      "Epsilon = 0.05\n",
      "Success Rate: 26.93877551020408%\n",
      "Average L0 Distance for Successful Attacks: 10.984848484848484\n",
      "Average L1 Distance for Successful Attacks: 0.050000004950120594\n",
      "Average L2 Distance for Successful Attacks: 0.10853617556506034\n",
      "Average Linf Distance for Successful Attacks: 0.31696271772185963\n",
      "Average Mahalanobis Distance for Successful Attacks: 5.241623325777817\n",
      "Average Sensitivity for Successful Attacks: 0.05384068467626066\n",
      "Outlier Rate for Successful Attacks: 59.46969696969697%\n",
      "\n",
      "\n"
     ]
    },
    {
     "name": "stderr",
     "output_type": "stream",
     "text": [
      "100%|██████████| 980/980 [00:02<00:00, 412.38it/s]\n"
     ]
    },
    {
     "name": "stdout",
     "output_type": "stream",
     "text": [
      "Epsilon = 0.1\n",
      "Success Rate: 28.877551020408166%\n",
      "Average L0 Distance for Successful Attacks: 10.989399293286219\n",
      "Average L1 Distance for Successful Attacks: 0.09996535600074188\n",
      "Average L2 Distance for Successful Attacks: 0.21554223761331065\n",
      "Average Linf Distance for Successful Attacks: 0.6258924735097919\n",
      "Average Mahalanobis Distance for Successful Attacks: 8.552178802723468\n",
      "Average Sensitivity for Successful Attacks: 0.10759145579573964\n",
      "Outlier Rate for Successful Attacks: 87.63250883392226%\n",
      "\n",
      "\n"
     ]
    },
    {
     "name": "stderr",
     "output_type": "stream",
     "text": [
      "100%|██████████| 980/980 [00:02<00:00, 430.92it/s]\n"
     ]
    },
    {
     "name": "stdout",
     "output_type": "stream",
     "text": [
      "Epsilon = 0.3\n",
      "Success Rate: 34.285714285714285%\n",
      "Average L0 Distance for Successful Attacks: 10.988095238095237\n",
      "Average L1 Distance for Successful Attacks: 0.2999729536296356\n",
      "Average L2 Distance for Successful Attacks: 0.6006465629630146\n",
      "Average Linf Distance for Successful Attacks: 1.7248617754805655\n",
      "Average Mahalanobis Distance for Successful Attacks: 20.03652598719739\n",
      "Average Sensitivity for Successful Attacks: 0.3229102436453104\n",
      "Outlier Rate for Successful Attacks: 100.0%\n",
      "\n",
      "\n"
     ]
    },
    {
     "name": "stderr",
     "output_type": "stream",
     "text": [
      "100%|██████████| 980/980 [00:02<00:00, 425.46it/s]\n"
     ]
    },
    {
     "name": "stdout",
     "output_type": "stream",
     "text": [
      "Epsilon = 0.5\n",
      "Success Rate: 41.224489795918366%\n",
      "Average L0 Distance for Successful Attacks: 10.995049504950495\n",
      "Average L1 Distance for Successful Attacks: 0.49762322185653274\n",
      "Average L2 Distance for Successful Attacks: 0.9191851725082586\n",
      "Average Linf Distance for Successful Attacks: 2.566261812306867\n",
      "Average Mahalanobis Distance for Successful Attacks: 29.5029306540945\n",
      "Average Sensitivity for Successful Attacks: 0.5353029002942661\n",
      "Outlier Rate for Successful Attacks: 100.0%\n",
      "\n",
      "\n"
     ]
    },
    {
     "name": "stderr",
     "output_type": "stream",
     "text": [
      "100%|██████████| 980/980 [00:02<00:00, 421.01it/s]\n"
     ]
    },
    {
     "name": "stdout",
     "output_type": "stream",
     "text": [
      "Epsilon = 1.0\n",
      "Success Rate: 43.06122448979592%\n",
      "Average L0 Distance for Successful Attacks: 10.992890995260664\n",
      "Average L1 Distance for Successful Attacks: 0.8335123372868904\n",
      "Average L2 Distance for Successful Attacks: 1.4769742844794034\n",
      "Average Linf Distance for Successful Attacks: 3.9957388532105216\n",
      "Average Mahalanobis Distance for Successful Attacks: 47.59450341293435\n",
      "Average Sensitivity for Successful Attacks: 0.8968324957865674\n",
      "Outlier Rate for Successful Attacks: 100.0%\n",
      "\n",
      "\n",
      "Running LinfFGSM on WineQuality-White with TabTransformer\n",
      "Threshold: 4.4356665308251575\n"
     ]
    },
    {
     "name": "stderr",
     "output_type": "stream",
     "text": [
      "100%|██████████| 980/980 [00:03<00:00, 321.33it/s]\n"
     ]
    },
    {
     "name": "stdout",
     "output_type": "stream",
     "text": [
      "Epsilon = 0.0\n",
      "Success Rate: 26.836734693877553%\n",
      "Average L0 Distance for Successful Attacks: 0.0\n",
      "Average L1 Distance for Successful Attacks: 0.0\n",
      "Average L2 Distance for Successful Attacks: 0.0\n",
      "Average Linf Distance for Successful Attacks: 0.0\n",
      "Average Mahalanobis Distance for Successful Attacks: 3.27151559771207\n",
      "Average Sensitivity for Successful Attacks: 0.0\n",
      "Outlier Rate for Successful Attacks: 10.646387832699618%\n",
      "\n",
      "\n"
     ]
    },
    {
     "name": "stderr",
     "output_type": "stream",
     "text": [
      "100%|██████████| 980/980 [00:03<00:00, 319.38it/s]\n"
     ]
    },
    {
     "name": "stdout",
     "output_type": "stream",
     "text": [
      "Epsilon = 0.01\n",
      "Success Rate: 32.95918367346939%\n",
      "Average L0 Distance for Successful Attacks: 10.993808049535604\n",
      "Average L1 Distance for Successful Attacks: 0.01000000536441803\n",
      "Average L2 Distance for Successful Attacks: 0.033140478419261085\n",
      "Average Linf Distance for Successful Attacks: 0.10987538166182698\n",
      "Average Mahalanobis Distance for Successful Attacks: 3.4223453028041253\n",
      "Average Sensitivity for Successful Attacks: 0.010758508394700085\n",
      "Outlier Rate for Successful Attacks: 11.455108359133128%\n",
      "\n",
      "\n"
     ]
    },
    {
     "name": "stderr",
     "output_type": "stream",
     "text": [
      "100%|██████████| 980/980 [00:03<00:00, 323.14it/s]\n"
     ]
    },
    {
     "name": "stdout",
     "output_type": "stream",
     "text": [
      "Epsilon = 0.03\n",
      "Success Rate: 45.102040816326536%\n",
      "Average L0 Distance for Successful Attacks: 10.995475113122172\n",
      "Average L1 Distance for Successful Attacks: 0.030000001192092896\n",
      "Average L2 Distance for Successful Attacks: 0.09912049296687092\n",
      "Average Linf Distance for Successful Attacks: 0.3282203331117716\n",
      "Average Mahalanobis Distance for Successful Attacks: 4.775513966585601\n",
      "Average Sensitivity for Successful Attacks: 0.0322701293654841\n",
      "Outlier Rate for Successful Attacks: 57.01357466063348%\n",
      "\n",
      "\n"
     ]
    },
    {
     "name": "stderr",
     "output_type": "stream",
     "text": [
      "100%|██████████| 980/980 [00:03<00:00, 323.83it/s]\n"
     ]
    },
    {
     "name": "stdout",
     "output_type": "stream",
     "text": [
      "Epsilon = 0.05\n",
      "Success Rate: 55.91836734693878%\n",
      "Average L0 Distance for Successful Attacks: 10.994525547445255\n",
      "Average L1 Distance for Successful Attacks: 0.05000001190053503\n",
      "Average L2 Distance for Successful Attacks: 0.16459415494090449\n",
      "Average Linf Distance for Successful Attacks: 0.5439335471630966\n",
      "Average Mahalanobis Distance for Successful Attacks: 6.756987123122436\n",
      "Average Sensitivity for Successful Attacks: 0.05378866982204418\n",
      "Outlier Rate for Successful Attacks: 96.53284671532847%\n",
      "\n",
      "\n"
     ]
    },
    {
     "name": "stderr",
     "output_type": "stream",
     "text": [
      "100%|██████████| 980/980 [00:02<00:00, 336.37it/s]\n"
     ]
    },
    {
     "name": "stdout",
     "output_type": "stream",
     "text": [
      "Epsilon = 0.1\n",
      "Success Rate: 77.44897959183673%\n",
      "Average L0 Distance for Successful Attacks: 10.996047430830039\n",
      "Average L1 Distance for Successful Attacks: 0.10000001543909508\n",
      "Average L2 Distance for Successful Attacks: 0.32313279114535987\n",
      "Average Linf Distance for Successful Attacks: 1.0608109887566648\n",
      "Average Mahalanobis Distance for Successful Attacks: 12.285923904626685\n",
      "Average Sensitivity for Successful Attacks: 0.10756096822039098\n",
      "Outlier Rate for Successful Attacks: 100.0%\n",
      "\n",
      "\n"
     ]
    },
    {
     "name": "stderr",
     "output_type": "stream",
     "text": [
      "100%|██████████| 980/980 [00:02<00:00, 327.97it/s]\n"
     ]
    },
    {
     "name": "stdout",
     "output_type": "stream",
     "text": [
      "Epsilon = 0.3\n",
      "Success Rate: 99.6938775510204%\n",
      "Average L0 Distance for Successful Attacks: 10.996929375639713\n",
      "Average L1 Distance for Successful Attacks: 0.3000000255561778\n",
      "Average L2 Distance for Successful Attacks: 0.8463415335120296\n",
      "Average Linf Distance for Successful Attacks: 2.64018798313707\n",
      "Average Mahalanobis Distance for Successful Attacks: 25.816209665168635\n",
      "Average Sensitivity for Successful Attacks: 0.32265440535520945\n",
      "Outlier Rate for Successful Attacks: 100.0%\n",
      "\n",
      "\n"
     ]
    },
    {
     "name": "stderr",
     "output_type": "stream",
     "text": [
      "100%|██████████| 980/980 [00:02<00:00, 333.68it/s]\n"
     ]
    },
    {
     "name": "stdout",
     "output_type": "stream",
     "text": [
      "Epsilon = 0.5\n",
      "Success Rate: 99.89795918367346%\n",
      "Average L0 Distance for Successful Attacks: 10.996935648621042\n",
      "Average L1 Distance for Successful Attacks: 0.5\n",
      "Average L2 Distance for Successful Attacks: 1.2866572482593213\n",
      "Average Linf Distance for Successful Attacks: 3.832347704270765\n",
      "Average Mahalanobis Distance for Successful Attacks: 37.96058132235418\n",
      "Average Sensitivity for Successful Attacks: 0.5377569693588747\n",
      "Outlier Rate for Successful Attacks: 100.0%\n",
      "\n",
      "\n"
     ]
    },
    {
     "name": "stderr",
     "output_type": "stream",
     "text": [
      "100%|██████████| 980/980 [00:03<00:00, 321.45it/s]\n"
     ]
    },
    {
     "name": "stdout",
     "output_type": "stream",
     "text": [
      "Epsilon = 1.0\n",
      "Success Rate: 99.89795918367346%\n",
      "Average L0 Distance for Successful Attacks: 10.996935648621042\n",
      "Average L1 Distance for Successful Attacks: 0.9094576708995286\n",
      "Average L2 Distance for Successful Attacks: 1.879754189938398\n",
      "Average Linf Distance for Successful Attacks: 5.271286513637352\n",
      "Average Mahalanobis Distance for Successful Attacks: 60.0422583746864\n",
      "Average Sensitivity for Successful Attacks: 0.9781545703817802\n",
      "Outlier Rate for Successful Attacks: 100.0%\n",
      "\n",
      "\n",
      "Running LinfPGD on WineQuality-White with TabTransformer\n",
      "Threshold: 4.4356665308251575\n"
     ]
    },
    {
     "name": "stderr",
     "output_type": "stream",
     "text": [
      "100%|██████████| 980/980 [00:32<00:00, 30.11it/s]\n"
     ]
    },
    {
     "name": "stdout",
     "output_type": "stream",
     "text": [
      "Epsilon = 0.0\n",
      "Success Rate: 26.836734693877553%\n",
      "Average L0 Distance for Successful Attacks: 0.0\n",
      "Average L1 Distance for Successful Attacks: 0.0\n",
      "Average L2 Distance for Successful Attacks: 0.0\n",
      "Average Linf Distance for Successful Attacks: 0.0\n",
      "Average Mahalanobis Distance for Successful Attacks: 3.27151559771207\n",
      "Average Sensitivity for Successful Attacks: 0.0\n",
      "Outlier Rate for Successful Attacks: 10.646387832699618%\n",
      "\n",
      "\n"
     ]
    },
    {
     "name": "stderr",
     "output_type": "stream",
     "text": [
      "100%|██████████| 980/980 [00:32<00:00, 29.87it/s]\n"
     ]
    },
    {
     "name": "stdout",
     "output_type": "stream",
     "text": [
      "Epsilon = 0.01\n",
      "Success Rate: 32.3469387755102%\n",
      "Average L0 Distance for Successful Attacks: 10.993690851735016\n",
      "Average L1 Distance for Successful Attacks: 0.01000000511469431\n",
      "Average L2 Distance for Successful Attacks: 0.029685817365108603\n",
      "Average Linf Distance for Successful Attacks: 0.09561262169282896\n",
      "Average Mahalanobis Distance for Successful Attacks: 3.3799346445463176\n",
      "Average Sensitivity for Successful Attacks: 0.010758634119027232\n",
      "Outlier Rate for Successful Attacks: 11.67192429022082%\n",
      "\n",
      "\n"
     ]
    },
    {
     "name": "stderr",
     "output_type": "stream",
     "text": [
      "100%|██████████| 980/980 [00:32<00:00, 30.32it/s]\n"
     ]
    },
    {
     "name": "stdout",
     "output_type": "stream",
     "text": [
      "Epsilon = 0.03\n",
      "Success Rate: 44.08163265306123%\n",
      "Average L0 Distance for Successful Attacks: 10.99537037037037\n",
      "Average L1 Distance for Successful Attacks: 0.03000000118346954\n",
      "Average L2 Distance for Successful Attacks: 0.08617857386599537\n",
      "Average Linf Distance for Successful Attacks: 0.2740845875469623\n",
      "Average Mahalanobis Distance for Successful Attacks: 4.115133519507635\n",
      "Average Sensitivity for Successful Attacks: 0.032270467210630024\n",
      "Outlier Rate for Successful Attacks: 32.870370370370374%\n",
      "\n",
      "\n"
     ]
    },
    {
     "name": "stderr",
     "output_type": "stream",
     "text": [
      "100%|██████████| 980/980 [00:32<00:00, 30.46it/s]\n"
     ]
    },
    {
     "name": "stdout",
     "output_type": "stream",
     "text": [
      "Epsilon = 0.05\n",
      "Success Rate: 53.87755102040816%\n",
      "Average L0 Distance for Successful Attacks: 10.996212121212121\n",
      "Average L1 Distance for Successful Attacks: 0.05000001087671879\n",
      "Average L2 Distance for Successful Attacks: 0.1395341758757378\n",
      "Average Linf Distance for Successful Attacks: 0.4373718776711912\n",
      "Average Mahalanobis Distance for Successful Attacks: 4.920353486296353\n",
      "Average Sensitivity for Successful Attacks: 0.05377960176150681\n",
      "Outlier Rate for Successful Attacks: 53.97727272727273%\n",
      "\n",
      "\n"
     ]
    },
    {
     "name": "stderr",
     "output_type": "stream",
     "text": [
      "100%|██████████| 980/980 [00:32<00:00, 30.10it/s]\n"
     ]
    },
    {
     "name": "stdout",
     "output_type": "stream",
     "text": [
      "Epsilon = 0.1\n",
      "Success Rate: 76.0204081632653%\n",
      "Average L0 Distance for Successful Attacks: 11.0\n",
      "Average L1 Distance for Successful Attacks: 0.099979551756542\n",
      "Average L2 Distance for Successful Attacks: 0.257879912533216\n",
      "Average Linf Distance for Successful Attacks: 0.7843444932627198\n",
      "Average Mahalanobis Distance for Successful Attacks: 6.948410572502293\n",
      "Average Sensitivity for Successful Attacks: 0.10749646854280626\n",
      "Outlier Rate for Successful Attacks: 77.71812080536913%\n",
      "\n",
      "\n"
     ]
    },
    {
     "name": "stderr",
     "output_type": "stream",
     "text": [
      "100%|██████████| 980/980 [00:32<00:00, 30.08it/s]\n"
     ]
    },
    {
     "name": "stdout",
     "output_type": "stream",
     "text": [
      "Epsilon = 0.3\n",
      "Success Rate: 95.71428571428572%\n",
      "Average L0 Distance for Successful Attacks: 11.0\n",
      "Average L1 Distance for Successful Attacks: 0.2903506687359769\n",
      "Average L2 Distance for Successful Attacks: 0.5375272639905975\n",
      "Average Linf Distance for Successful Attacks: 1.4756780470103852\n",
      "Average Mahalanobis Distance for Successful Attacks: 9.207597830803739\n",
      "Average Sensitivity for Successful Attacks: 0.3121805204225502\n",
      "Outlier Rate for Successful Attacks: 97.76119402985076%\n",
      "\n",
      "\n"
     ]
    },
    {
     "name": "stderr",
     "output_type": "stream",
     "text": [
      "100%|██████████| 980/980 [00:32<00:00, 30.27it/s]\n"
     ]
    },
    {
     "name": "stdout",
     "output_type": "stream",
     "text": [
      "Epsilon = 0.5\n",
      "Success Rate: 91.3265306122449%\n",
      "Average L0 Distance for Successful Attacks: 11.0\n",
      "Average L1 Distance for Successful Attacks: 0.46076777117878365\n",
      "Average L2 Distance for Successful Attacks: 0.7239341935964936\n",
      "Average Linf Distance for Successful Attacks: 1.9081321822864383\n",
      "Average Mahalanobis Distance for Successful Attacks: 10.395882157720592\n",
      "Average Sensitivity for Successful Attacks: 0.49541035557592383\n",
      "Outlier Rate for Successful Attacks: 100.0%\n",
      "\n",
      "\n"
     ]
    },
    {
     "name": "stderr",
     "output_type": "stream",
     "text": [
      "100%|██████████| 980/980 [00:32<00:00, 30.35it/s]\n"
     ]
    },
    {
     "name": "stdout",
     "output_type": "stream",
     "text": [
      "Epsilon = 1.0\n",
      "Success Rate: 87.85714285714286%\n",
      "Average L0 Distance for Successful Attacks: 11.0\n",
      "Average L1 Distance for Successful Attacks: 0.7127087558430385\n",
      "Average L2 Distance for Successful Attacks: 1.0449531170064703\n",
      "Average Linf Distance for Successful Attacks: 2.703449263182251\n",
      "Average Mahalanobis Distance for Successful Attacks: 15.117694119777614\n",
      "Average Sensitivity for Successful Attacks: 0.7662934092209868\n",
      "Outlier Rate for Successful Attacks: 100.0%\n",
      "\n",
      "\n",
      "Running LinfBIM on WineQuality-White with TabTransformer\n",
      "Threshold: 4.4356665308251575\n"
     ]
    },
    {
     "name": "stderr",
     "output_type": "stream",
     "text": [
      "100%|██████████| 980/980 [00:09<00:00, 98.13it/s] \n"
     ]
    },
    {
     "name": "stdout",
     "output_type": "stream",
     "text": [
      "Epsilon = 0.0\n",
      "Success Rate: 26.836734693877553%\n",
      "Average L0 Distance for Successful Attacks: 0.0\n",
      "Average L1 Distance for Successful Attacks: 0.0\n",
      "Average L2 Distance for Successful Attacks: 0.0\n",
      "Average Linf Distance for Successful Attacks: 0.0\n",
      "Average Mahalanobis Distance for Successful Attacks: 3.27151559771207\n",
      "Average Sensitivity for Successful Attacks: 0.0\n",
      "Outlier Rate for Successful Attacks: 10.646387832699618%\n",
      "\n",
      "\n"
     ]
    },
    {
     "name": "stderr",
     "output_type": "stream",
     "text": [
      "100%|██████████| 980/980 [00:09<00:00, 99.57it/s] \n"
     ]
    },
    {
     "name": "stdout",
     "output_type": "stream",
     "text": [
      "Epsilon = 0.01\n",
      "Success Rate: 33.06122448979592%\n",
      "Average L0 Distance for Successful Attacks: 10.898148148148149\n",
      "Average L1 Distance for Successful Attacks: 0.01000000534142241\n",
      "Average L2 Distance for Successful Attacks: 0.032564079555694334\n",
      "Average Linf Distance for Successful Attacks: 0.10696836114849573\n",
      "Average Mahalanobis Distance for Successful Attacks: 3.3985849954485987\n",
      "Average Sensitivity for Successful Attacks: 0.010867813038697213\n",
      "Outlier Rate for Successful Attacks: 11.11111111111111%\n",
      "\n",
      "\n"
     ]
    },
    {
     "name": "stderr",
     "output_type": "stream",
     "text": [
      "100%|██████████| 980/980 [00:09<00:00, 98.13it/s] \n"
     ]
    },
    {
     "name": "stdout",
     "output_type": "stream",
     "text": [
      "Epsilon = 0.03\n",
      "Success Rate: 46.42857142857143%\n",
      "Average L0 Distance for Successful Attacks: 10.806593406593407\n",
      "Average L1 Distance for Successful Attacks: 0.030000001192092896\n",
      "Average L2 Distance for Successful Attacks: 0.0948439522758945\n",
      "Average Linf Distance for Successful Attacks: 0.30788625924141855\n",
      "Average Mahalanobis Distance for Successful Attacks: 4.291677423101126\n",
      "Average Sensitivity for Successful Attacks: 0.03290945059814296\n",
      "Outlier Rate for Successful Attacks: 38.46153846153847%\n",
      "\n",
      "\n"
     ]
    },
    {
     "name": "stderr",
     "output_type": "stream",
     "text": [
      "100%|██████████| 980/980 [00:09<00:00, 99.39it/s] \n"
     ]
    },
    {
     "name": "stdout",
     "output_type": "stream",
     "text": [
      "Epsilon = 0.05\n",
      "Success Rate: 58.57142857142858%\n",
      "Average L0 Distance for Successful Attacks: 10.602787456445993\n",
      "Average L1 Distance for Successful Attacks: 0.050000011557486\n",
      "Average L2 Distance for Successful Attacks: 0.15249876013408556\n",
      "Average Linf Distance for Successful Attacks: 0.4860797677617455\n",
      "Average Mahalanobis Distance for Successful Attacks: 5.1176222426206\n",
      "Average Sensitivity for Successful Attacks: 0.055999653043958784\n",
      "Outlier Rate for Successful Attacks: 59.40766550522648%\n",
      "\n",
      "\n"
     ]
    },
    {
     "name": "stderr",
     "output_type": "stream",
     "text": [
      "100%|██████████| 980/980 [00:09<00:00, 98.32it/s] \n"
     ]
    },
    {
     "name": "stdout",
     "output_type": "stream",
     "text": [
      "Epsilon = 0.1\n",
      "Success Rate: 83.06122448979592%\n",
      "Average L0 Distance for Successful Attacks: 10.402948402948402\n",
      "Average L1 Distance for Successful Attacks: 0.0999508707964889\n",
      "Average L2 Distance for Successful Attacks: 0.27965353392705283\n",
      "Average Linf Distance for Successful Attacks: 0.8597649490364646\n",
      "Average Mahalanobis Distance for Successful Attacks: 7.032884360546198\n",
      "Average Sensitivity for Successful Attacks: 0.11435300067836002\n",
      "Outlier Rate for Successful Attacks: 77.51842751842752%\n",
      "\n",
      "\n"
     ]
    },
    {
     "name": "stderr",
     "output_type": "stream",
     "text": [
      "100%|██████████| 980/980 [00:09<00:00, 99.19it/s] \n"
     ]
    },
    {
     "name": "stdout",
     "output_type": "stream",
     "text": [
      "Epsilon = 0.3\n",
      "Success Rate: 99.89795918367346%\n",
      "Average L0 Distance for Successful Attacks: 9.376915219611849\n",
      "Average L1 Distance for Successful Attacks: 0.2936874487426844\n",
      "Average L2 Distance for Successful Attacks: 0.5701869245812647\n",
      "Average Linf Distance for Successful Attacks: 1.5267223463725752\n",
      "Average Mahalanobis Distance for Successful Attacks: 8.730143230676417\n",
      "Average Sensitivity for Successful Attacks: 0.3755411363308593\n",
      "Outlier Rate for Successful Attacks: 97.75280898876404%\n",
      "\n",
      "\n"
     ]
    },
    {
     "name": "stderr",
     "output_type": "stream",
     "text": [
      "100%|██████████| 980/980 [00:10<00:00, 97.99it/s] \n"
     ]
    },
    {
     "name": "stdout",
     "output_type": "stream",
     "text": [
      "Epsilon = 0.5\n",
      "Success Rate: 100.0%\n",
      "Average L0 Distance for Successful Attacks: 9.055102040816326\n",
      "Average L1 Distance for Successful Attacks: 0.4751084682436622\n",
      "Average L2 Distance for Successful Attacks: 0.7536893822404803\n",
      "Average Linf Distance for Successful Attacks: 1.851668320991555\n",
      "Average Mahalanobis Distance for Successful Attacks: 10.792083546245728\n",
      "Average Sensitivity for Successful Attacks: 0.632358205668172\n",
      "Outlier Rate for Successful Attacks: 100.0%\n",
      "\n",
      "\n"
     ]
    },
    {
     "name": "stderr",
     "output_type": "stream",
     "text": [
      "100%|██████████| 980/980 [00:09<00:00, 98.68it/s] \n"
     ]
    },
    {
     "name": "stdout",
     "output_type": "stream",
     "text": [
      "Epsilon = 1.0\n",
      "Success Rate: 100.0%\n",
      "Average L0 Distance for Successful Attacks: 9.110204081632654\n",
      "Average L1 Distance for Successful Attacks: 0.776252998959045\n",
      "Average L2 Distance for Successful Attacks: 1.0796986430883408\n",
      "Average Linf Distance for Successful Attacks: 2.3572768520335763\n",
      "Average Mahalanobis Distance for Successful Attacks: 14.668745608204269\n",
      "Average Sensitivity for Successful Attacks: 1.0225186091904737\n",
      "Outlier Rate for Successful Attacks: 100.0%\n",
      "\n",
      "\n",
      "Running L2FGSM on WineQuality-White with TabTransformer\n",
      "Threshold: 4.4356665308251575\n"
     ]
    },
    {
     "name": "stderr",
     "output_type": "stream",
     "text": [
      "100%|██████████| 980/980 [00:03<00:00, 291.06it/s]\n"
     ]
    },
    {
     "name": "stdout",
     "output_type": "stream",
     "text": [
      "Epsilon = 0.0\n",
      "Success Rate: 26.836734693877553%\n",
      "Average L0 Distance for Successful Attacks: 0.0\n",
      "Average L1 Distance for Successful Attacks: 0.0\n",
      "Average L2 Distance for Successful Attacks: 0.0\n",
      "Average Linf Distance for Successful Attacks: 0.0\n",
      "Average Mahalanobis Distance for Successful Attacks: 3.27151559771207\n",
      "Average Sensitivity for Successful Attacks: 0.0\n",
      "Outlier Rate for Successful Attacks: 10.646387832699618%\n",
      "\n",
      "\n"
     ]
    },
    {
     "name": "stderr",
     "output_type": "stream",
     "text": [
      "100%|██████████| 980/980 [00:03<00:00, 273.24it/s]\n"
     ]
    },
    {
     "name": "stdout",
     "output_type": "stream",
     "text": [
      "Epsilon = 0.01\n",
      "Success Rate: 29.081632653061224%\n",
      "Average L0 Distance for Successful Attacks: 10.992982456140352\n",
      "Average L1 Distance for Successful Attacks: 0.00694602871673149\n",
      "Average L2 Distance for Successful Attacks: 0.009999750015374861\n",
      "Average Linf Distance for Successful Attacks: 0.024156322049205762\n",
      "Average Mahalanobis Distance for Successful Attacks: 3.238509330771345\n",
      "Average Sensitivity for Successful Attacks: 0.007474047419402683\n",
      "Outlier Rate for Successful Attacks: 10.526315789473683%\n",
      "\n",
      "\n"
     ]
    },
    {
     "name": "stderr",
     "output_type": "stream",
     "text": [
      "100%|██████████| 980/980 [00:03<00:00, 287.67it/s]\n"
     ]
    },
    {
     "name": "stdout",
     "output_type": "stream",
     "text": [
      "Epsilon = 0.03\n",
      "Success Rate: 34.08163265306122%\n",
      "Average L0 Distance for Successful Attacks: 10.994011976047904\n",
      "Average L1 Distance for Successful Attacks: 0.0207500623338326\n",
      "Average L2 Distance for Successful Attacks: 0.02999647744669172\n",
      "Average Linf Distance for Successful Attacks: 0.0722487710059403\n",
      "Average Mahalanobis Distance for Successful Attacks: 3.215180201707468\n",
      "Average Sensitivity for Successful Attacks: 0.02232495442724335\n",
      "Outlier Rate for Successful Attacks: 9.880239520958083%\n",
      "\n",
      "\n"
     ]
    },
    {
     "name": "stderr",
     "output_type": "stream",
     "text": [
      "100%|██████████| 980/980 [00:03<00:00, 281.04it/s]\n"
     ]
    },
    {
     "name": "stdout",
     "output_type": "stream",
     "text": [
      "Epsilon = 0.05\n",
      "Success Rate: 40.40816326530612%\n",
      "Average L0 Distance for Successful Attacks: 10.994949494949495\n",
      "Average L1 Distance for Successful Attacks: 0.034621056747820345\n",
      "Average L2 Distance for Successful Attacks: 0.049972149157764933\n",
      "Average Linf Distance for Successful Attacks: 0.12000531016500911\n",
      "Average Mahalanobis Distance for Successful Attacks: 3.229481268294345\n",
      "Average Sensitivity for Successful Attacks: 0.03724484095782644\n",
      "Outlier Rate for Successful Attacks: 9.595959595959595%\n",
      "\n",
      "\n"
     ]
    },
    {
     "name": "stderr",
     "output_type": "stream",
     "text": [
      "100%|██████████| 980/980 [00:03<00:00, 278.38it/s]\n"
     ]
    },
    {
     "name": "stdout",
     "output_type": "stream",
     "text": [
      "Epsilon = 0.1\n",
      "Success Rate: 52.346938775510196%\n",
      "Average L0 Distance for Successful Attacks: 10.996101364522417\n",
      "Average L1 Distance for Successful Attacks: 0.06954422213325956\n",
      "Average L2 Distance for Successful Attacks: 0.09951335987617166\n",
      "Average Linf Distance for Successful Attacks: 0.23824148693396102\n",
      "Average Mahalanobis Distance for Successful Attacks: 3.4113502467093935\n",
      "Average Sensitivity for Successful Attacks: 0.07480500890468529\n",
      "Outlier Rate for Successful Attacks: 11.306042884990253%\n",
      "\n",
      "\n"
     ]
    },
    {
     "name": "stderr",
     "output_type": "stream",
     "text": [
      "100%|██████████| 980/980 [00:03<00:00, 285.21it/s]\n"
     ]
    },
    {
     "name": "stdout",
     "output_type": "stream",
     "text": [
      "Epsilon = 0.3\n",
      "Success Rate: 87.04081632653062%\n",
      "Average L0 Distance for Successful Attacks: 10.996483001172333\n",
      "Average L1 Distance for Successful Attacks: 0.19862048477283814\n",
      "Average L2 Distance for Successful Attacks: 0.28640831437437925\n",
      "Average Linf Distance for Successful Attacks: 0.6907565284865402\n",
      "Average Mahalanobis Distance for Successful Attacks: 5.12766079124538\n",
      "Average Sensitivity for Successful Attacks: 0.2136345714295735\n",
      "Outlier Rate for Successful Attacks: 60.844079718640096%\n",
      "\n",
      "\n"
     ]
    },
    {
     "name": "stderr",
     "output_type": "stream",
     "text": [
      "100%|██████████| 980/980 [00:03<00:00, 283.76it/s]\n"
     ]
    },
    {
     "name": "stdout",
     "output_type": "stream",
     "text": [
      "Epsilon = 0.5\n",
      "Success Rate: 96.93877551020408%\n",
      "Average L0 Distance for Successful Attacks: 10.996842105263157\n",
      "Average L1 Distance for Successful Attacks: 0.31245728511559334\n",
      "Average L2 Distance for Successful Attacks: 0.4507374614163449\n",
      "Average Linf Distance for Successful Attacks: 1.0905744051305872\n",
      "Average Mahalanobis Distance for Successful Attacks: 7.43280107280746\n",
      "Average Sensitivity for Successful Attacks: 0.33607030352479533\n",
      "Outlier Rate for Successful Attacks: 96.10526315789474%\n",
      "\n",
      "\n"
     ]
    },
    {
     "name": "stderr",
     "output_type": "stream",
     "text": [
      "100%|██████████| 980/980 [00:03<00:00, 280.44it/s]\n"
     ]
    },
    {
     "name": "stdout",
     "output_type": "stream",
     "text": [
      "Epsilon = 1.0\n",
      "Success Rate: 99.79591836734694%\n",
      "Average L0 Distance for Successful Attacks: 10.996932515337424\n",
      "Average L1 Distance for Successful Attacks: 0.5892886085195775\n",
      "Average L2 Distance for Successful Attacks: 0.8188901119436954\n",
      "Average Linf Distance for Successful Attacks: 1.9370763877174362\n",
      "Average Mahalanobis Distance for Successful Attacks: 13.61610790088848\n",
      "Average Sensitivity for Successful Attacks: 0.6338048159222905\n",
      "Outlier Rate for Successful Attacks: 100.0%\n",
      "\n",
      "\n",
      "Running L2PGD on WineQuality-White with TabTransformer\n",
      "Threshold: 4.4356665308251575\n"
     ]
    },
    {
     "name": "stderr",
     "output_type": "stream",
     "text": [
      "100%|██████████| 980/980 [00:54<00:00, 17.87it/s]\n"
     ]
    },
    {
     "name": "stdout",
     "output_type": "stream",
     "text": [
      "Epsilon = 0.0\n",
      "Success Rate: 26.836734693877553%\n",
      "Average L0 Distance for Successful Attacks: 0.0\n",
      "Average L1 Distance for Successful Attacks: 0.0\n",
      "Average L2 Distance for Successful Attacks: 0.0\n",
      "Average Linf Distance for Successful Attacks: 0.0\n",
      "Average Mahalanobis Distance for Successful Attacks: 3.27151559771207\n",
      "Average Sensitivity for Successful Attacks: 0.0\n",
      "Outlier Rate for Successful Attacks: 10.646387832699618%\n",
      "\n",
      "\n"
     ]
    },
    {
     "name": "stderr",
     "output_type": "stream",
     "text": [
      "100%|██████████| 980/980 [00:54<00:00, 17.89it/s]\n"
     ]
    },
    {
     "name": "stdout",
     "output_type": "stream",
     "text": [
      "Epsilon = 0.01\n",
      "Success Rate: 28.877551020408166%\n",
      "Average L0 Distance for Successful Attacks: 10.992932862190813\n",
      "Average L1 Distance for Successful Attacks: 0.006271304740396068\n",
      "Average L2 Distance for Successful Attacks: 0.009982443134902643\n",
      "Average Linf Distance for Successful Attacks: 0.026141244549528028\n",
      "Average Mahalanobis Distance for Successful Attacks: 3.251226326010086\n",
      "Average Sensitivity for Successful Attacks: 0.006748670147725318\n",
      "Outlier Rate for Successful Attacks: 10.954063604240282%\n",
      "\n",
      "\n"
     ]
    },
    {
     "name": "stderr",
     "output_type": "stream",
     "text": [
      "100%|██████████| 980/980 [00:55<00:00, 17.80it/s]\n"
     ]
    },
    {
     "name": "stdout",
     "output_type": "stream",
     "text": [
      "Epsilon = 0.03\n",
      "Success Rate: 32.95918367346939%\n",
      "Average L0 Distance for Successful Attacks: 10.996904024767803\n",
      "Average L1 Distance for Successful Attacks: 0.019250138279269722\n",
      "Average L2 Distance for Successful Attacks: 0.02991422806684816\n",
      "Average Linf Distance for Successful Attacks: 0.07736081039481119\n",
      "Average Mahalanobis Distance for Successful Attacks: 3.2734952675962474\n",
      "Average Sensitivity for Successful Attacks: 0.02070425352479559\n",
      "Outlier Rate for Successful Attacks: 10.526315789473683%\n",
      "\n",
      "\n"
     ]
    },
    {
     "name": "stderr",
     "output_type": "stream",
     "text": [
      "100%|██████████| 980/980 [00:54<00:00, 18.01it/s]\n"
     ]
    },
    {
     "name": "stdout",
     "output_type": "stream",
     "text": [
      "Epsilon = 0.05\n",
      "Success Rate: 38.46938775510204%\n",
      "Average L0 Distance for Successful Attacks: 10.994694960212202\n",
      "Average L1 Distance for Successful Attacks: 0.0320627530962624\n",
      "Average L2 Distance for Successful Attacks: 0.049915935063551846\n",
      "Average Linf Distance for Successful Attacks: 0.1295745587791625\n",
      "Average Mahalanobis Distance for Successful Attacks: 3.3384671590081685\n",
      "Average Sensitivity for Successful Attacks: 0.03449150069619206\n",
      "Outlier Rate for Successful Attacks: 9.814323607427056%\n",
      "\n",
      "\n"
     ]
    },
    {
     "name": "stderr",
     "output_type": "stream",
     "text": [
      "100%|██████████| 980/980 [00:55<00:00, 17.73it/s]\n"
     ]
    },
    {
     "name": "stdout",
     "output_type": "stream",
     "text": [
      "Epsilon = 0.1\n",
      "Success Rate: 49.69387755102041%\n",
      "Average L0 Distance for Successful Attacks: 10.99794661190965\n",
      "Average L1 Distance for Successful Attacks: 0.06422843078048078\n",
      "Average L2 Distance for Successful Attacks: 0.09972091882013442\n",
      "Average Linf Distance for Successful Attacks: 0.2588648610964448\n",
      "Average Mahalanobis Distance for Successful Attacks: 3.8563295373816255\n",
      "Average Sensitivity for Successful Attacks: 0.06907416682009579\n",
      "Outlier Rate for Successful Attacks: 24.229979466119097%\n",
      "\n",
      "\n"
     ]
    },
    {
     "name": "stderr",
     "output_type": "stream",
     "text": [
      "100%|██████████| 980/980 [00:55<00:00, 17.82it/s]\n"
     ]
    },
    {
     "name": "stdout",
     "output_type": "stream",
     "text": [
      "Epsilon = 0.3\n",
      "Success Rate: 84.6938775510204%\n",
      "Average L0 Distance for Successful Attacks: 11.0\n",
      "Average L1 Distance for Successful Attacks: 0.19564511097339263\n",
      "Average L2 Distance for Successful Attacks: 0.2973187231335295\n",
      "Average Linf Distance for Successful Attacks: 0.767251892046756\n",
      "Average Mahalanobis Distance for Successful Attacks: 6.615958249543259\n",
      "Average Sensitivity for Successful Attacks: 0.2103545907570655\n",
      "Outlier Rate for Successful Attacks: 77.10843373493977%\n",
      "\n",
      "\n"
     ]
    },
    {
     "name": "stderr",
     "output_type": "stream",
     "text": [
      "100%|██████████| 980/980 [00:55<00:00, 17.81it/s]\n"
     ]
    },
    {
     "name": "stdout",
     "output_type": "stream",
     "text": [
      "Epsilon = 0.5\n",
      "Success Rate: 93.6734693877551%\n",
      "Average L0 Distance for Successful Attacks: 11.0\n",
      "Average L1 Distance for Successful Attacks: 0.33112869100048653\n",
      "Average L2 Distance for Successful Attacks: 0.48823268107729023\n",
      "Average Linf Distance for Successful Attacks: 1.2365580153750957\n",
      "Average Mahalanobis Distance for Successful Attacks: 8.935442550225481\n",
      "Average Sensitivity for Successful Attacks: 0.3560244358735147\n",
      "Outlier Rate for Successful Attacks: 95.75163398692811%\n",
      "\n",
      "\n"
     ]
    },
    {
     "name": "stderr",
     "output_type": "stream",
     "text": [
      "100%|██████████| 980/980 [00:54<00:00, 18.06it/s]\n"
     ]
    },
    {
     "name": "stdout",
     "output_type": "stream",
     "text": [
      "Epsilon = 1.0\n",
      "Success Rate: 92.55102040816327%\n",
      "Average L0 Distance for Successful Attacks: 11.0\n",
      "Average L1 Distance for Successful Attacks: 0.6002736018340143\n",
      "Average L2 Distance for Successful Attacks: 0.8407832865481077\n",
      "Average Linf Distance for Successful Attacks: 2.0601079262866997\n",
      "Average Mahalanobis Distance for Successful Attacks: 12.41725041363794\n",
      "Average Sensitivity for Successful Attacks: 0.6454048713026393\n",
      "Outlier Rate for Successful Attacks: 100.0%\n",
      "\n",
      "\n",
      "Running L2BIM on WineQuality-White with TabTransformer\n",
      "Threshold: 4.4356665308251575\n"
     ]
    },
    {
     "name": "stderr",
     "output_type": "stream",
     "text": [
      "100%|██████████| 980/980 [00:12<00:00, 76.26it/s]\n"
     ]
    },
    {
     "name": "stdout",
     "output_type": "stream",
     "text": [
      "Epsilon = 0.0\n",
      "Success Rate: 26.836734693877553%\n",
      "Average L0 Distance for Successful Attacks: 0.0\n",
      "Average L1 Distance for Successful Attacks: 0.0\n",
      "Average L2 Distance for Successful Attacks: 0.0\n",
      "Average Linf Distance for Successful Attacks: 0.0\n",
      "Average Mahalanobis Distance for Successful Attacks: 3.27151559771207\n",
      "Average Sensitivity for Successful Attacks: 0.0\n",
      "Outlier Rate for Successful Attacks: 10.646387832699618%\n",
      "\n",
      "\n"
     ]
    },
    {
     "name": "stderr",
     "output_type": "stream",
     "text": [
      "100%|██████████| 980/980 [00:13<00:00, 74.41it/s]\n"
     ]
    },
    {
     "name": "stdout",
     "output_type": "stream",
     "text": [
      "Epsilon = 0.01\n",
      "Success Rate: 29.081632653061224%\n",
      "Average L0 Distance for Successful Attacks: 10.992982456140352\n",
      "Average L1 Distance for Successful Attacks: 0.006965405271764387\n",
      "Average L2 Distance for Successful Attacks: 0.009999993750662134\n",
      "Average Linf Distance for Successful Attacks: 0.024186932648483074\n",
      "Average Mahalanobis Distance for Successful Attacks: 3.236690697600798\n",
      "Average Sensitivity for Successful Attacks: 0.007494914458182297\n",
      "Outlier Rate for Successful Attacks: 10.175438596491228%\n",
      "\n",
      "\n"
     ]
    },
    {
     "name": "stderr",
     "output_type": "stream",
     "text": [
      "100%|██████████| 980/980 [00:12<00:00, 75.87it/s]\n"
     ]
    },
    {
     "name": "stdout",
     "output_type": "stream",
     "text": [
      "Epsilon = 0.03\n",
      "Success Rate: 34.08163265306122%\n",
      "Average L0 Distance for Successful Attacks: 10.994011976047904\n",
      "Average L1 Distance for Successful Attacks: 0.020996973264270913\n",
      "Average L2 Distance for Successful Attacks: 0.029999743974182064\n",
      "Average Linf Distance for Successful Attacks: 0.07259630942772963\n",
      "Average Mahalanobis Distance for Successful Attacks: 3.199165835351153\n",
      "Average Sensitivity for Successful Attacks: 0.02259059031744917\n",
      "Outlier Rate for Successful Attacks: 9.580838323353294%\n",
      "\n",
      "\n"
     ]
    },
    {
     "name": "stderr",
     "output_type": "stream",
     "text": [
      "100%|██████████| 980/980 [00:13<00:00, 75.00it/s]\n"
     ]
    },
    {
     "name": "stdout",
     "output_type": "stream",
     "text": [
      "Epsilon = 0.05\n",
      "Success Rate: 41.224489795918366%\n",
      "Average L0 Distance for Successful Attacks: 10.995049504950495\n",
      "Average L1 Distance for Successful Attacks: 0.03499447861870769\n",
      "Average L2 Distance for Successful Attacks: 0.049997909510932345\n",
      "Average Linf Distance for Successful Attacks: 0.12100786509195177\n",
      "Average Mahalanobis Distance for Successful Attacks: 3.199017093447674\n",
      "Average Sensitivity for Successful Attacks: 0.037646424398748296\n",
      "Outlier Rate for Successful Attacks: 9.158415841584159%\n",
      "\n",
      "\n"
     ]
    },
    {
     "name": "stderr",
     "output_type": "stream",
     "text": [
      "100%|██████████| 980/980 [00:13<00:00, 74.96it/s]\n"
     ]
    },
    {
     "name": "stdout",
     "output_type": "stream",
     "text": [
      "Epsilon = 0.1\n",
      "Success Rate: 55.00000000000001%\n",
      "Average L0 Distance for Successful Attacks: 10.996289424860853\n",
      "Average L1 Distance for Successful Attacks: 0.07005562287701747\n",
      "Average L2 Distance for Successful Attacks: 0.09998189244619769\n",
      "Average Linf Distance for Successful Attacks: 0.24278735669402332\n",
      "Average Mahalanobis Distance for Successful Attacks: 3.2685681201233\n",
      "Average Sensitivity for Successful Attacks: 0.07535443944313973\n",
      "Outlier Rate for Successful Attacks: 10.018552875695732%\n",
      "\n",
      "\n"
     ]
    },
    {
     "name": "stderr",
     "output_type": "stream",
     "text": [
      "100%|██████████| 980/980 [00:13<00:00, 74.04it/s]\n"
     ]
    },
    {
     "name": "stdout",
     "output_type": "stream",
     "text": [
      "Epsilon = 0.3\n",
      "Success Rate: 94.18367346938776%\n",
      "Average L0 Distance for Successful Attacks: 11.0\n",
      "Average L1 Distance for Successful Attacks: 0.20571407829113666\n",
      "Average L2 Distance for Successful Attacks: 0.2998428472266295\n",
      "Average Linf Distance for Successful Attacks: 0.7424721126954191\n",
      "Average Mahalanobis Distance for Successful Attacks: 4.471629624478713\n",
      "Average Sensitivity for Successful Attacks: 0.22118058853973419\n",
      "Outlier Rate for Successful Attacks: 43.228602383531964%\n",
      "\n",
      "\n"
     ]
    },
    {
     "name": "stderr",
     "output_type": "stream",
     "text": [
      "100%|██████████| 980/980 [00:13<00:00, 74.19it/s]\n"
     ]
    },
    {
     "name": "stdout",
     "output_type": "stream",
     "text": [
      "Epsilon = 0.5\n",
      "Success Rate: 100.0%\n",
      "Average L0 Distance for Successful Attacks: 11.0\n",
      "Average L1 Distance for Successful Attacks: 0.3290940425833877\n",
      "Average L2 Distance for Successful Attacks: 0.49118071082903414\n",
      "Average Linf Distance for Successful Attacks: 1.2245522510640474\n",
      "Average Mahalanobis Distance for Successful Attacks: 6.1081954843512385\n",
      "Average Sensitivity for Successful Attacks: 0.3538368140708427\n",
      "Outlier Rate for Successful Attacks: 81.73469387755102%\n",
      "\n",
      "\n"
     ]
    },
    {
     "name": "stderr",
     "output_type": "stream",
     "text": [
      "100%|██████████| 980/980 [00:13<00:00, 73.62it/s]\n"
     ]
    },
    {
     "name": "stdout",
     "output_type": "stream",
     "text": [
      "Epsilon = 1.0\n",
      "Success Rate: 100.0%\n",
      "Average L0 Distance for Successful Attacks: 11.0\n",
      "Average L1 Distance for Successful Attacks: 0.5756950150947182\n",
      "Average L2 Distance for Successful Attacks: 0.8032329240015574\n",
      "Average Linf Distance for Successful Attacks: 1.960134217325522\n",
      "Average Mahalanobis Distance for Successful Attacks: 9.590176278913116\n",
      "Average Sensitivity for Successful Attacks: 0.6189783572542424\n",
      "Outlier Rate for Successful Attacks: 100.0%\n",
      "\n",
      "\n",
      "Running LinfDeepFool on WineQuality-White with TabTransformer\n",
      "Threshold: 4.4356665308251575\n"
     ]
    },
    {
     "name": "stderr",
     "output_type": "stream",
     "text": [
      "100%|██████████| 980/980 [00:06<00:00, 140.04it/s]\n"
     ]
    },
    {
     "name": "stdout",
     "output_type": "stream",
     "text": [
      "Epsilon = 0.0\n",
      "Success Rate: 26.836734693877553%\n",
      "Average L0 Distance for Successful Attacks: 0.0\n",
      "Average L1 Distance for Successful Attacks: 0.0\n",
      "Average L2 Distance for Successful Attacks: 0.0\n",
      "Average Linf Distance for Successful Attacks: 0.0\n",
      "Average Mahalanobis Distance for Successful Attacks: 3.27151559771207\n",
      "Average Sensitivity for Successful Attacks: 0.0\n",
      "Outlier Rate for Successful Attacks: 10.646387832699618%\n",
      "\n",
      "\n"
     ]
    },
    {
     "name": "stderr",
     "output_type": "stream",
     "text": [
      "100%|██████████| 980/980 [00:07<00:00, 136.81it/s]\n"
     ]
    },
    {
     "name": "stdout",
     "output_type": "stream",
     "text": [
      "Epsilon = 0.01\n",
      "Success Rate: 32.95918367346939%\n",
      "Average L0 Distance for Successful Attacks: 2.043343653250774\n",
      "Average L1 Distance for Successful Attacks: 0.0009659612378330423\n",
      "Average L2 Distance for Successful Attacks: 0.0032002972986768276\n",
      "Average Linf Distance for Successful Attacks: 0.010610526436276664\n",
      "Average Mahalanobis Distance for Successful Attacks: 3.24879160687249\n",
      "Average Sensitivity for Successful Attacks: 0.001038586546201259\n",
      "Outlier Rate for Successful Attacks: 10.21671826625387%\n",
      "\n",
      "\n"
     ]
    },
    {
     "name": "stderr",
     "output_type": "stream",
     "text": [
      "100%|██████████| 980/980 [00:07<00:00, 134.90it/s]\n"
     ]
    },
    {
     "name": "stdout",
     "output_type": "stream",
     "text": [
      "Epsilon = 0.03\n",
      "Success Rate: 45.102040816326536%\n",
      "Average L0 Distance for Successful Attacks: 4.45475113122172\n",
      "Average L1 Distance for Successful Attacks: 0.006813225085632159\n",
      "Average L2 Distance for Successful Attacks: 0.022501381986450016\n",
      "Average Linf Distance for Successful Attacks: 0.07455033105397724\n",
      "Average Mahalanobis Distance for Successful Attacks: 3.4864028647126837\n",
      "Average Sensitivity for Successful Attacks: 0.00732547377341014\n",
      "Outlier Rate for Successful Attacks: 16.289592760180994%\n",
      "\n",
      "\n"
     ]
    },
    {
     "name": "stderr",
     "output_type": "stream",
     "text": [
      "100%|██████████| 980/980 [00:07<00:00, 138.63it/s]\n"
     ]
    },
    {
     "name": "stdout",
     "output_type": "stream",
     "text": [
      "Epsilon = 0.05\n",
      "Success Rate: 56.0204081632653%\n",
      "Average L0 Distance for Successful Attacks: 5.728597449908925\n",
      "Average L1 Distance for Successful Attacks: 0.01532723239448281\n",
      "Average L2 Distance for Successful Attacks: 0.050025456145622905\n",
      "Average Linf Distance for Successful Attacks: 0.16522452903772367\n",
      "Average Mahalanobis Distance for Successful Attacks: 4.080618148053547\n",
      "Average Sensitivity for Successful Attacks: 0.01648939505144394\n",
      "Outlier Rate for Successful Attacks: 33.51548269581057%\n",
      "\n",
      "\n"
     ]
    },
    {
     "name": "stderr",
     "output_type": "stream",
     "text": [
      "100%|██████████| 980/980 [00:07<00:00, 122.62it/s]\n"
     ]
    },
    {
     "name": "stdout",
     "output_type": "stream",
     "text": [
      "Epsilon = 0.1\n",
      "Success Rate: 77.9591836734694%\n",
      "Average L0 Distance for Successful Attacks: 7.212041884816754\n",
      "Average L1 Distance for Successful Attacks: 0.035645218340543475\n",
      "Average L2 Distance for Successful Attacks: 0.11290686840132971\n",
      "Average Linf Distance for Successful Attacks: 0.3699199870211701\n",
      "Average Mahalanobis Distance for Successful Attacks: 5.807266911353766\n",
      "Average Sensitivity for Successful Attacks: 0.038339259759300505\n",
      "Outlier Rate for Successful Attacks: 51.96335078534031%\n",
      "\n",
      "\n"
     ]
    },
    {
     "name": "stderr",
     "output_type": "stream",
     "text": [
      "100%|██████████| 980/980 [00:07<00:00, 136.56it/s]\n"
     ]
    },
    {
     "name": "stdout",
     "output_type": "stream",
     "text": [
      "Epsilon = 0.3\n",
      "Success Rate: 99.6938775510204%\n",
      "Average L0 Distance for Successful Attacks: 8.037871033776868\n",
      "Average L1 Distance for Successful Attacks: 0.0685958664934842\n",
      "Average L2 Distance for Successful Attacks: 0.20516886289289626\n",
      "Average Linf Distance for Successful Attacks: 0.6553191468853622\n",
      "Average Mahalanobis Distance for Successful Attacks: 8.105090522696832\n",
      "Average Sensitivity for Successful Attacks: 0.07377133917528421\n",
      "Outlier Rate for Successful Attacks: 62.43602865916069%\n",
      "\n",
      "\n"
     ]
    },
    {
     "name": "stderr",
     "output_type": "stream",
     "text": [
      "100%|██████████| 980/980 [00:07<00:00, 134.83it/s]\n"
     ]
    },
    {
     "name": "stdout",
     "output_type": "stream",
     "text": [
      "Epsilon = 0.5\n",
      "Success Rate: 99.79591836734694%\n",
      "Average L0 Distance for Successful Attacks: 8.040899795501023\n",
      "Average L1 Distance for Successful Attacks: 0.0706182699374367\n",
      "Average L2 Distance for Successful Attacks: 0.21015192782563483\n",
      "Average Linf Distance for Successful Attacks: 0.6689177889325456\n",
      "Average Mahalanobis Distance for Successful Attacks: 8.238711766239742\n",
      "Average Sensitivity for Successful Attacks: 0.07594577773327268\n",
      "Outlier Rate for Successful Attacks: 62.47443762781187%\n",
      "\n",
      "\n"
     ]
    },
    {
     "name": "stderr",
     "output_type": "stream",
     "text": [
      "100%|██████████| 980/980 [00:07<00:00, 137.89it/s]\n"
     ]
    },
    {
     "name": "stdout",
     "output_type": "stream",
     "text": [
      "Epsilon = 1.0\n",
      "Success Rate: 99.79591836734694%\n",
      "Average L0 Distance for Successful Attacks: 8.040899795501023\n",
      "Average L1 Distance for Successful Attacks: 0.0706182699374367\n",
      "Average L2 Distance for Successful Attacks: 0.21015192782563483\n",
      "Average Linf Distance for Successful Attacks: 0.6689177889325456\n",
      "Average Mahalanobis Distance for Successful Attacks: 8.238711766239742\n",
      "Average Sensitivity for Successful Attacks: 0.07594577773327268\n",
      "Outlier Rate for Successful Attacks: 62.47443762781187%\n",
      "\n",
      "\n",
      "Running L2DeepFool on WineQuality-White with TabTransformer\n",
      "Threshold: 4.4356665308251575\n"
     ]
    },
    {
     "name": "stderr",
     "output_type": "stream",
     "text": [
      "100%|██████████| 980/980 [00:06<00:00, 150.60it/s]\n"
     ]
    },
    {
     "name": "stdout",
     "output_type": "stream",
     "text": [
      "Epsilon = 0.0\n",
      "Success Rate: 26.836734693877553%\n",
      "Average L0 Distance for Successful Attacks: 0.0\n",
      "Average L1 Distance for Successful Attacks: 0.0\n",
      "Average L2 Distance for Successful Attacks: 0.0\n",
      "Average Linf Distance for Successful Attacks: 0.0\n",
      "Average Mahalanobis Distance for Successful Attacks: 3.27151559771207\n",
      "Average Sensitivity for Successful Attacks: 0.0\n",
      "Outlier Rate for Successful Attacks: 10.646387832699618%\n",
      "\n",
      "\n"
     ]
    },
    {
     "name": "stderr",
     "output_type": "stream",
     "text": [
      "100%|██████████| 980/980 [00:06<00:00, 152.30it/s]\n"
     ]
    },
    {
     "name": "stdout",
     "output_type": "stream",
     "text": [
      "Epsilon = 0.01\n",
      "Success Rate: 29.081632653061224%\n",
      "Average L0 Distance for Successful Attacks: 0.8491228070175438\n",
      "Average L1 Distance for Successful Attacks: 0.00021824143957673456\n",
      "Average L2 Distance for Successful Attacks: 0.0003217747259329547\n",
      "Average Linf Distance for Successful Attacks: 0.0007637190093335353\n",
      "Average Mahalanobis Distance for Successful Attacks: 3.2429630877957454\n",
      "Average Sensitivity for Successful Attacks: 0.00023464981482870746\n",
      "Outlier Rate for Successful Attacks: 10.175438596491228%\n",
      "\n",
      "\n"
     ]
    },
    {
     "name": "stderr",
     "output_type": "stream",
     "text": [
      "100%|██████████| 980/980 [00:06<00:00, 150.63it/s]\n"
     ]
    },
    {
     "name": "stdout",
     "output_type": "stream",
     "text": [
      "Epsilon = 0.03\n",
      "Success Rate: 34.08163265306122%\n",
      "Average L0 Distance for Successful Attacks: 2.338323353293413\n",
      "Average L1 Distance for Successful Attacks: 0.0020993059601433976\n",
      "Average L2 Distance for Successful Attacks: 0.0031098371952309268\n",
      "Average Linf Distance for Successful Attacks: 0.0073630608713064725\n",
      "Average Mahalanobis Distance for Successful Attacks: 3.2129367620398908\n",
      "Average Sensitivity for Successful Attacks: 0.0022571412309680783\n",
      "Outlier Rate for Successful Attacks: 9.580838323353294%\n",
      "\n",
      "\n"
     ]
    },
    {
     "name": "stderr",
     "output_type": "stream",
     "text": [
      "100%|██████████| 980/980 [00:06<00:00, 148.84it/s]\n"
     ]
    },
    {
     "name": "stdout",
     "output_type": "stream",
     "text": [
      "Epsilon = 0.05\n",
      "Success Rate: 40.51020408163265%\n",
      "Average L0 Distance for Successful Attacks: 3.712846347607053\n",
      "Average L1 Distance for Successful Attacks: 0.00657486610621289\n",
      "Average L2 Distance for Successful Attacks: 0.009474223976079797\n",
      "Average Linf Distance for Successful Attacks: 0.022447272978009896\n",
      "Average Mahalanobis Distance for Successful Attacks: 3.203787506701317\n",
      "Average Sensitivity for Successful Attacks: 0.007069194170362516\n",
      "Outlier Rate for Successful Attacks: 9.319899244332493%\n",
      "\n",
      "\n"
     ]
    },
    {
     "name": "stderr",
     "output_type": "stream",
     "text": [
      "100%|██████████| 980/980 [00:06<00:00, 148.64it/s]\n"
     ]
    },
    {
     "name": "stdout",
     "output_type": "stream",
     "text": [
      "Epsilon = 0.1\n",
      "Success Rate: 52.85714285714286%\n",
      "Average L0 Distance for Successful Attacks: 5.415057915057915\n",
      "Average L1 Distance for Successful Attacks: 0.020707374438643456\n",
      "Average L2 Distance for Successful Attacks: 0.028933196169689198\n",
      "Average Linf Distance for Successful Attacks: 0.06906452617683523\n",
      "Average Mahalanobis Distance for Successful Attacks: 3.268822736656715\n",
      "Average Sensitivity for Successful Attacks: 0.02226424795570046\n",
      "Outlier Rate for Successful Attacks: 10.424710424710424%\n",
      "\n",
      "\n"
     ]
    },
    {
     "name": "stderr",
     "output_type": "stream",
     "text": [
      "100%|██████████| 980/980 [00:06<00:00, 151.73it/s]\n"
     ]
    },
    {
     "name": "stdout",
     "output_type": "stream",
     "text": [
      "Epsilon = 0.3\n",
      "Success Rate: 88.26530612244898%\n",
      "Average L0 Distance for Successful Attacks: 7.654335260115607\n",
      "Average L1 Distance for Successful Attacks: 0.07549068231372474\n",
      "Average L2 Distance for Successful Attacks: 0.10636883826961342\n",
      "Average Linf Distance for Successful Attacks: 0.25872978561724713\n",
      "Average Mahalanobis Distance for Successful Attacks: 3.7800791324141554\n",
      "Average Sensitivity for Successful Attacks: 0.08118938412705727\n",
      "Outlier Rate for Successful Attacks: 24.277456647398843%\n",
      "\n",
      "\n"
     ]
    },
    {
     "name": "stderr",
     "output_type": "stream",
     "text": [
      "100%|██████████| 980/980 [00:06<00:00, 150.00it/s]\n"
     ]
    },
    {
     "name": "stdout",
     "output_type": "stream",
     "text": [
      "Epsilon = 0.5\n",
      "Success Rate: 97.85714285714285%\n",
      "Average L0 Distance for Successful Attacks: 7.982273201251304\n",
      "Average L1 Distance for Successful Attacks: 0.1025990577408805\n",
      "Average L2 Distance for Successful Attacks: 0.14446531481056632\n",
      "Average Linf Distance for Successful Attacks: 0.3526860625688006\n",
      "Average Mahalanobis Distance for Successful Attacks: 4.250216710681939\n",
      "Average Sensitivity for Successful Attacks: 0.11034148654995662\n",
      "Outlier Rate for Successful Attacks: 33.05526590198123%\n",
      "\n",
      "\n"
     ]
    },
    {
     "name": "stderr",
     "output_type": "stream",
     "text": [
      "100%|██████████| 980/980 [00:06<00:00, 145.42it/s]\n"
     ]
    },
    {
     "name": "stdout",
     "output_type": "stream",
     "text": [
      "Epsilon = 1.0\n",
      "Success Rate: 100.0%\n",
      "Average L0 Distance for Successful Attacks: 8.046938775510204\n",
      "Average L1 Distance for Successful Attacks: 0.11301949139380334\n",
      "Average L2 Distance for Successful Attacks: 0.16145801161931428\n",
      "Average Linf Distance for Successful Attacks: 0.397712783520205\n",
      "Average Mahalanobis Distance for Successful Attacks: 4.709106920013949\n",
      "Average Sensitivity for Successful Attacks: 0.12154476303602474\n",
      "Outlier Rate for Successful Attacks: 34.48979591836735%\n",
      "\n",
      "\n",
      "Running L2CarliniWagner on WineQuality-White with TabTransformer\n",
      "Threshold: 4.4356665308251575\n"
     ]
    },
    {
     "name": "stderr",
     "output_type": "stream",
     "text": [
      "100%|██████████| 980/980 [02:16<00:00,  7.20it/s]\n"
     ]
    },
    {
     "name": "stdout",
     "output_type": "stream",
     "text": [
      "Epsilon = 0.0\n",
      "Success Rate: 26.836734693877553%\n",
      "Average L0 Distance for Successful Attacks: 0.0\n",
      "Average L1 Distance for Successful Attacks: 0.0\n",
      "Average L2 Distance for Successful Attacks: 0.0\n",
      "Average Linf Distance for Successful Attacks: 0.0\n",
      "Average Mahalanobis Distance for Successful Attacks: 3.27151559771207\n",
      "Average Sensitivity for Successful Attacks: 0.0\n",
      "Outlier Rate for Successful Attacks: 10.646387832699618%\n",
      "\n",
      "\n"
     ]
    },
    {
     "name": "stderr",
     "output_type": "stream",
     "text": [
      "100%|██████████| 980/980 [02:16<00:00,  7.20it/s]\n"
     ]
    },
    {
     "name": "stdout",
     "output_type": "stream",
     "text": [
      "Epsilon = 0.01\n",
      "Success Rate: 28.6734693877551%\n",
      "Average L0 Distance for Successful Attacks: 10.807829181494663\n",
      "Average L1 Distance for Successful Attacks: 0.00027556395990064773\n",
      "Average L2 Distance for Successful Attacks: 0.000641523237763904\n",
      "Average Linf Distance for Successful Attacks: 0.001990429202784052\n",
      "Average Mahalanobis Distance for Successful Attacks: 3.255341161173982\n",
      "Average Sensitivity for Successful Attacks: 0.0002962915461632237\n",
      "Outlier Rate for Successful Attacks: 10.320284697508896%\n",
      "\n",
      "\n"
     ]
    },
    {
     "name": "stderr",
     "output_type": "stream",
     "text": [
      "100%|██████████| 980/980 [02:16<00:00,  7.19it/s]\n"
     ]
    },
    {
     "name": "stdout",
     "output_type": "stream",
     "text": [
      "Epsilon = 0.03\n",
      "Success Rate: 32.857142857142854%\n",
      "Average L0 Distance for Successful Attacks: 10.832298136645962\n",
      "Average L1 Distance for Successful Attacks: 0.002409422221327467\n",
      "Average L2 Distance for Successful Attacks: 0.005497726956379082\n",
      "Average Linf Distance for Successful Attacks: 0.017008803033570743\n",
      "Average Mahalanobis Distance for Successful Attacks: 3.250447205266462\n",
      "Average Sensitivity for Successful Attacks: 0.002590581662446386\n",
      "Outlier Rate for Successful Attacks: 10.248447204968944%\n",
      "\n",
      "\n"
     ]
    },
    {
     "name": "stderr",
     "output_type": "stream",
     "text": [
      "100%|██████████| 980/980 [02:16<00:00,  7.18it/s]\n"
     ]
    },
    {
     "name": "stdout",
     "output_type": "stream",
     "text": [
      "Epsilon = 0.05\n",
      "Success Rate: 36.63265306122449%\n",
      "Average L0 Distance for Successful Attacks: 10.84958217270195\n",
      "Average L1 Distance for Successful Attacks: 0.006762722258723255\n",
      "Average L2 Distance for Successful Attacks: 0.013371195906516007\n",
      "Average Linf Distance for Successful Attacks: 0.039068738097833434\n",
      "Average Mahalanobis Distance for Successful Attacks: 3.269502664791619\n",
      "Average Sensitivity for Successful Attacks: 0.007271181463035315\n",
      "Outlier Rate for Successful Attacks: 11.420612813370473%\n",
      "\n",
      "\n"
     ]
    },
    {
     "name": "stderr",
     "output_type": "stream",
     "text": [
      "100%|██████████| 980/980 [02:17<00:00,  7.12it/s]\n"
     ]
    },
    {
     "name": "stdout",
     "output_type": "stream",
     "text": [
      "Epsilon = 0.1\n",
      "Success Rate: 48.26530612244898%\n",
      "Average L0 Distance for Successful Attacks: 10.88583509513742\n",
      "Average L1 Distance for Successful Attacks: 0.02004731655658378\n",
      "Average L2 Distance for Successful Attacks: 0.036810767411844754\n",
      "Average Linf Distance for Successful Attacks: 0.10441531509556759\n",
      "Average Mahalanobis Distance for Successful Attacks: 3.5121628039607793\n",
      "Average Sensitivity for Successful Attacks: 0.021554569725949175\n",
      "Outlier Rate for Successful Attacks: 16.913319238900634%\n",
      "\n",
      "\n"
     ]
    },
    {
     "name": "stderr",
     "output_type": "stream",
     "text": [
      "100%|██████████| 980/980 [02:16<00:00,  7.17it/s]\n"
     ]
    },
    {
     "name": "stdout",
     "output_type": "stream",
     "text": [
      "Epsilon = 0.3\n",
      "Success Rate: 89.18367346938776%\n",
      "Average L0 Distance for Successful Attacks: 10.938215102974828\n",
      "Average L1 Distance for Successful Attacks: 0.06799158904711061\n",
      "Average L2 Distance for Successful Attacks: 0.12169006665185977\n",
      "Average Linf Distance for Successful Attacks: 0.3272937189329957\n",
      "Average Mahalanobis Distance for Successful Attacks: 4.520562208031323\n",
      "Average Sensitivity for Successful Attacks: 0.07310350594030322\n",
      "Outlier Rate for Successful Attacks: 41.30434782608695%\n",
      "\n",
      "\n"
     ]
    },
    {
     "name": "stderr",
     "output_type": "stream",
     "text": [
      "100%|██████████| 980/980 [02:16<00:00,  7.17it/s]\n"
     ]
    },
    {
     "name": "stdout",
     "output_type": "stream",
     "text": [
      "Epsilon = 0.5\n",
      "Success Rate: 99.18367346938776%\n",
      "Average L0 Distance for Successful Attacks: 10.944444444444445\n",
      "Average L1 Distance for Successful Attacks: 0.08547189806270847\n",
      "Average L2 Distance for Successful Attacks: 0.15265025067110455\n",
      "Average Linf Distance for Successful Attacks: 0.4070761452312581\n",
      "Average Mahalanobis Distance for Successful Attacks: 4.959426070258288\n",
      "Average Sensitivity for Successful Attacks: 0.09189806282327215\n",
      "Outlier Rate for Successful Attacks: 47.22222222222222%\n",
      "\n",
      "\n"
     ]
    },
    {
     "name": "stderr",
     "output_type": "stream",
     "text": [
      "100%|██████████| 980/980 [02:19<00:00,  7.04it/s]\n",
      "/home/zippo/miniconda3/envs/tabular-benchmark/lib/python3.10/site-packages/foolbox/models/pytorch.py:36: UserWarning: The PyTorch model is in training mode and therefore might not be deterministic. Call the eval() method to set it in evaluation mode if this is not intended.\n",
      "  warnings.warn(\n"
     ]
    },
    {
     "name": "stdout",
     "output_type": "stream",
     "text": [
      "Epsilon = 1.0\n",
      "Success Rate: 99.79591836734694%\n",
      "Average L0 Distance for Successful Attacks: 10.94478527607362\n",
      "Average L1 Distance for Successful Attacks: 0.08721845433071203\n",
      "Average L2 Distance for Successful Attacks: 0.15587843031729015\n",
      "Average Linf Distance for Successful Attacks: 0.41535750009021427\n",
      "Average Mahalanobis Distance for Successful Attacks: 4.995099702454563\n",
      "Average Sensitivity for Successful Attacks: 0.09377593309531387\n",
      "Outlier Rate for Successful Attacks: 47.54601226993865%\n",
      "\n",
      "\n",
      "Running L2Gaussian on WineQuality-White with FTTransformer\n",
      "Threshold: 4.4356665308251575\n"
     ]
    },
    {
     "name": "stderr",
     "output_type": "stream",
     "text": [
      "100%|██████████| 980/980 [00:11<00:00, 88.71it/s]\n"
     ]
    },
    {
     "name": "stdout",
     "output_type": "stream",
     "text": [
      "Epsilon = 0.0\n",
      "Success Rate: 24.79591836734694%\n",
      "Average L0 Distance for Successful Attacks: 0.0\n",
      "Average L1 Distance for Successful Attacks: 0.0\n",
      "Average L2 Distance for Successful Attacks: 0.0\n",
      "Average Linf Distance for Successful Attacks: 0.0\n",
      "Average Mahalanobis Distance for Successful Attacks: 3.3172681458874593\n",
      "Average Sensitivity for Successful Attacks: 0.0\n",
      "Outlier Rate for Successful Attacks: 13.580246913580247%\n",
      "\n",
      "\n"
     ]
    },
    {
     "name": "stderr",
     "output_type": "stream",
     "text": [
      "100%|██████████| 980/980 [00:11<00:00, 86.55it/s]\n"
     ]
    },
    {
     "name": "stdout",
     "output_type": "stream",
     "text": [
      "Epsilon = 0.01\n",
      "Success Rate: 25.102040816326532%\n",
      "Average L0 Distance for Successful Attacks: 10.979674796747968\n",
      "Average L1 Distance for Successful Attacks: 0.005849587562592413\n",
      "Average L2 Distance for Successful Attacks: 0.009989396986983172\n",
      "Average Linf Distance for Successful Attacks: 0.027216501284118105\n",
      "Average Mahalanobis Distance for Successful Attacks: 3.356491968568405\n",
      "Average Sensitivity for Successful Attacks: 0.006302001910677891\n",
      "Outlier Rate for Successful Attacks: 13.821138211382115%\n",
      "\n",
      "\n"
     ]
    },
    {
     "name": "stderr",
     "output_type": "stream",
     "text": [
      "100%|██████████| 980/980 [00:11<00:00, 85.35it/s]\n"
     ]
    },
    {
     "name": "stdout",
     "output_type": "stream",
     "text": [
      "Epsilon = 0.03\n",
      "Success Rate: 25.204081632653065%\n",
      "Average L0 Distance for Successful Attacks: 10.987854251012147\n",
      "Average L1 Distance for Successful Attacks: 0.017886154847558934\n",
      "Average L2 Distance for Successful Attacks: 0.029954285930223794\n",
      "Average Linf Distance for Successful Attacks: 0.08069329805340361\n",
      "Average Mahalanobis Distance for Successful Attacks: 3.5495652010204513\n",
      "Average Sensitivity for Successful Attacks: 0.01925459640997986\n",
      "Outlier Rate for Successful Attacks: 16.599190283400812%\n",
      "\n",
      "\n"
     ]
    },
    {
     "name": "stderr",
     "output_type": "stream",
     "text": [
      "100%|██████████| 980/980 [00:11<00:00, 85.02it/s]\n"
     ]
    },
    {
     "name": "stdout",
     "output_type": "stream",
     "text": [
      "Epsilon = 0.05\n",
      "Success Rate: 25.71428571428571%\n",
      "Average L0 Distance for Successful Attacks: 10.996031746031745\n",
      "Average L1 Distance for Successful Attacks: 0.029441054267365308\n",
      "Average L2 Distance for Successful Attacks: 0.04967960434418822\n",
      "Average Linf Distance for Successful Attacks: 0.13445647007652692\n",
      "Average Mahalanobis Distance for Successful Attacks: 3.718335667294169\n",
      "Average Sensitivity for Successful Attacks: 0.03166909066457597\n",
      "Outlier Rate for Successful Attacks: 19.841269841269842%\n",
      "\n",
      "\n"
     ]
    },
    {
     "name": "stderr",
     "output_type": "stream",
     "text": [
      "100%|██████████| 980/980 [00:11<00:00, 84.11it/s]\n"
     ]
    },
    {
     "name": "stdout",
     "output_type": "stream",
     "text": [
      "Epsilon = 0.1\n",
      "Success Rate: 26.73469387755102%\n",
      "Average L0 Distance for Successful Attacks: 10.98473282442748\n",
      "Average L1 Distance for Successful Attacks: 0.05959969500207719\n",
      "Average L2 Distance for Successful Attacks: 0.09917669308208327\n",
      "Average Linf Distance for Successful Attacks: 0.26778300783333886\n",
      "Average Mahalanobis Distance for Successful Attacks: 5.0315965422349045\n",
      "Average Sensitivity for Successful Attacks: 0.06417046173098888\n",
      "Outlier Rate for Successful Attacks: 57.25190839694656%\n",
      "\n",
      "\n"
     ]
    },
    {
     "name": "stderr",
     "output_type": "stream",
     "text": [
      "100%|██████████| 980/980 [00:11<00:00, 85.57it/s]\n"
     ]
    },
    {
     "name": "stdout",
     "output_type": "stream",
     "text": [
      "Epsilon = 0.3\n",
      "Success Rate: 27.95918367346939%\n",
      "Average L0 Distance for Successful Attacks: 10.989051094890511\n",
      "Average L1 Distance for Successful Attacks: 0.1686854571049666\n",
      "Average L2 Distance for Successful Attacks: 0.2879660094197649\n",
      "Average Linf Distance for Successful Attacks: 0.7811808909160377\n",
      "Average Mahalanobis Distance for Successful Attacks: 10.631390139735194\n",
      "Average Sensitivity for Successful Attacks: 0.18157083478613492\n",
      "Outlier Rate for Successful Attacks: 95.25547445255475%\n",
      "\n",
      "\n"
     ]
    },
    {
     "name": "stderr",
     "output_type": "stream",
     "text": [
      "100%|██████████| 980/980 [00:11<00:00, 85.23it/s]\n"
     ]
    },
    {
     "name": "stdout",
     "output_type": "stream",
     "text": [
      "Epsilon = 0.5\n",
      "Success Rate: 31.326530612244895%\n",
      "Average L0 Distance for Successful Attacks: 10.990228013029316\n",
      "Average L1 Distance for Successful Attacks: 0.26984165298239804\n",
      "Average L2 Distance for Successful Attacks: 0.45261956843568757\n",
      "Average Linf Distance for Successful Attacks: 1.2222162679274617\n",
      "Average Mahalanobis Distance for Successful Attacks: 14.927621802368852\n",
      "Average Sensitivity for Successful Attacks: 0.29038249194039584\n",
      "Outlier Rate for Successful Attacks: 99.3485342019544%\n",
      "\n",
      "\n"
     ]
    },
    {
     "name": "stderr",
     "output_type": "stream",
     "text": [
      "100%|██████████| 980/980 [00:11<00:00, 84.98it/s]\n"
     ]
    },
    {
     "name": "stdout",
     "output_type": "stream",
     "text": [
      "Epsilon = 1.0\n",
      "Success Rate: 34.285714285714285%\n",
      "Average L0 Distance for Successful Attacks: 10.99702380952381\n",
      "Average L1 Distance for Successful Attacks: 0.498723645384113\n",
      "Average L2 Distance for Successful Attacks: 0.8062629307664576\n",
      "Average Linf Distance for Successful Attacks: 2.1532215859208788\n",
      "Average Mahalanobis Distance for Successful Attacks: 26.230442441867304\n",
      "Average Sensitivity for Successful Attacks: 0.5364375351706431\n",
      "Outlier Rate for Successful Attacks: 100.0%\n",
      "\n",
      "\n",
      "Running L2Uniform on WineQuality-White with FTTransformer\n",
      "Threshold: 4.4356665308251575\n"
     ]
    },
    {
     "name": "stderr",
     "output_type": "stream",
     "text": [
      "100%|██████████| 980/980 [00:11<00:00, 86.46it/s]\n"
     ]
    },
    {
     "name": "stdout",
     "output_type": "stream",
     "text": [
      "Epsilon = 0.0\n",
      "Success Rate: 24.79591836734694%\n",
      "Average L0 Distance for Successful Attacks: 0.0\n",
      "Average L1 Distance for Successful Attacks: 0.0\n",
      "Average L2 Distance for Successful Attacks: 0.0\n",
      "Average Linf Distance for Successful Attacks: 0.0\n",
      "Average Mahalanobis Distance for Successful Attacks: 3.3172681458874593\n",
      "Average Sensitivity for Successful Attacks: 0.0\n",
      "Outlier Rate for Successful Attacks: 13.580246913580247%\n",
      "\n",
      "\n"
     ]
    },
    {
     "name": "stderr",
     "output_type": "stream",
     "text": [
      "100%|██████████| 980/980 [00:11<00:00, 85.07it/s]\n"
     ]
    },
    {
     "name": "stdout",
     "output_type": "stream",
     "text": [
      "Epsilon = 0.01\n",
      "Success Rate: 24.897959183673468%\n",
      "Average L0 Distance for Successful Attacks: 10.98360655737705\n",
      "Average L1 Distance for Successful Attacks: 0.004908859817555449\n",
      "Average L2 Distance for Successful Attacks: 0.00998390906253738\n",
      "Average Linf Distance for Successful Attacks: 0.028880939933425578\n",
      "Average Mahalanobis Distance for Successful Attacks: 3.3317611456603013\n",
      "Average Sensitivity for Successful Attacks: 0.005286789995419686\n",
      "Outlier Rate for Successful Attacks: 13.114754098360656%\n",
      "\n",
      "\n"
     ]
    },
    {
     "name": "stderr",
     "output_type": "stream",
     "text": [
      "100%|██████████| 980/980 [00:11<00:00, 83.88it/s]\n"
     ]
    },
    {
     "name": "stdout",
     "output_type": "stream",
     "text": [
      "Epsilon = 0.03\n",
      "Success Rate: 25.71428571428571%\n",
      "Average L0 Distance for Successful Attacks: 10.984126984126984\n",
      "Average L1 Distance for Successful Attacks: 0.014590669811392823\n",
      "Average L2 Distance for Successful Attacks: 0.029937336043942542\n",
      "Average Linf Distance for Successful Attacks: 0.08642496369660847\n",
      "Average Mahalanobis Distance for Successful Attacks: 3.493884436473134\n",
      "Average Sensitivity for Successful Attacks: 0.015712725527081934\n",
      "Outlier Rate for Successful Attacks: 14.682539682539684%\n",
      "\n",
      "\n"
     ]
    },
    {
     "name": "stderr",
     "output_type": "stream",
     "text": [
      "100%|██████████| 980/980 [00:11<00:00, 84.56it/s]\n"
     ]
    },
    {
     "name": "stdout",
     "output_type": "stream",
     "text": [
      "Epsilon = 0.05\n",
      "Success Rate: 26.632653061224488%\n",
      "Average L0 Distance for Successful Attacks: 10.992337164750959\n",
      "Average L1 Distance for Successful Attacks: 0.02458438927386227\n",
      "Average L2 Distance for Successful Attacks: 0.04982254087525309\n",
      "Average Linf Distance for Successful Attacks: 0.14229536150721298\n",
      "Average Mahalanobis Distance for Successful Attacks: 3.748255326316474\n",
      "Average Sensitivity for Successful Attacks: 0.026452391633185846\n",
      "Outlier Rate for Successful Attacks: 21.839080459770116%\n",
      "\n",
      "\n"
     ]
    },
    {
     "name": "stderr",
     "output_type": "stream",
     "text": [
      "100%|██████████| 980/980 [00:11<00:00, 84.69it/s]\n"
     ]
    },
    {
     "name": "stdout",
     "output_type": "stream",
     "text": [
      "Epsilon = 0.1\n",
      "Success Rate: 25.102040816326532%\n",
      "Average L0 Distance for Successful Attacks: 10.987804878048781\n",
      "Average L1 Distance for Successful Attacks: 0.048300918100810636\n",
      "Average L2 Distance for Successful Attacks: 0.09896608348178669\n",
      "Average Linf Distance for Successful Attacks: 0.2855534569882765\n",
      "Average Mahalanobis Distance for Successful Attacks: 5.036207815814971\n",
      "Average Sensitivity for Successful Attacks: 0.05199278738137668\n",
      "Outlier Rate for Successful Attacks: 58.536585365853654%\n",
      "\n",
      "\n"
     ]
    },
    {
     "name": "stderr",
     "output_type": "stream",
     "text": [
      "100%|██████████| 980/980 [00:11<00:00, 84.34it/s]\n"
     ]
    },
    {
     "name": "stdout",
     "output_type": "stream",
     "text": [
      "Epsilon = 0.3\n",
      "Success Rate: 27.653061224489793%\n",
      "Average L0 Distance for Successful Attacks: 10.99630996309963\n",
      "Average L1 Distance for Successful Attacks: 0.14470504141821633\n",
      "Average L2 Distance for Successful Attacks: 0.29033100313586063\n",
      "Average Linf Distance for Successful Attacks: 0.8320395482422241\n",
      "Average Mahalanobis Distance for Successful Attacks: 10.95671057651739\n",
      "Average Sensitivity for Successful Attacks: 0.15564586604323336\n",
      "Outlier Rate for Successful Attacks: 94.4649446494465%\n",
      "\n",
      "\n"
     ]
    },
    {
     "name": "stderr",
     "output_type": "stream",
     "text": [
      "100%|██████████| 980/980 [00:11<00:00, 83.00it/s]\n"
     ]
    },
    {
     "name": "stdout",
     "output_type": "stream",
     "text": [
      "Epsilon = 0.5\n",
      "Success Rate: 33.46938775510204%\n",
      "Average L0 Distance for Successful Attacks: 10.990853658536585\n",
      "Average L1 Distance for Successful Attacks: 0.2365083833929242\n",
      "Average L2 Distance for Successful Attacks: 0.46287380949389645\n",
      "Average Linf Distance for Successful Attacks: 1.319340483807936\n",
      "Average Mahalanobis Distance for Successful Attacks: 15.925023822672717\n",
      "Average Sensitivity for Successful Attacks: 0.25453800753485867\n",
      "Outlier Rate for Successful Attacks: 99.6951219512195%\n",
      "\n",
      "\n"
     ]
    },
    {
     "name": "stderr",
     "output_type": "stream",
     "text": [
      "100%|██████████| 980/980 [00:11<00:00, 84.20it/s]\n"
     ]
    },
    {
     "name": "stdout",
     "output_type": "stream",
     "text": [
      "Epsilon = 1.0\n",
      "Success Rate: 35.204081632653065%\n",
      "Average L0 Distance for Successful Attacks: 10.98840579710145\n",
      "Average L1 Distance for Successful Attacks: 0.4521233008391615\n",
      "Average L2 Distance for Successful Attacks: 0.842235741580742\n",
      "Average Linf Distance for Successful Attacks: 2.36432103799737\n",
      "Average Mahalanobis Distance for Successful Attacks: 26.86329904546461\n",
      "Average Sensitivity for Successful Attacks: 0.48669172110764874\n",
      "Outlier Rate for Successful Attacks: 100.0%\n",
      "\n",
      "\n",
      "Running LinfUniform on WineQuality-White with FTTransformer\n",
      "Threshold: 4.4356665308251575\n"
     ]
    },
    {
     "name": "stderr",
     "output_type": "stream",
     "text": [
      "100%|██████████| 980/980 [00:11<00:00, 85.74it/s]\n"
     ]
    },
    {
     "name": "stdout",
     "output_type": "stream",
     "text": [
      "Epsilon = 0.0\n",
      "Success Rate: 24.79591836734694%\n",
      "Average L0 Distance for Successful Attacks: 0.0\n",
      "Average L1 Distance for Successful Attacks: 0.0\n",
      "Average L2 Distance for Successful Attacks: 0.0\n",
      "Average Linf Distance for Successful Attacks: 0.0\n",
      "Average Mahalanobis Distance for Successful Attacks: 3.3172681458874593\n",
      "Average Sensitivity for Successful Attacks: 0.0\n",
      "Outlier Rate for Successful Attacks: 13.580246913580247%\n",
      "\n",
      "\n"
     ]
    },
    {
     "name": "stderr",
     "output_type": "stream",
     "text": [
      "100%|██████████| 980/980 [00:11<00:00, 86.52it/s]\n"
     ]
    },
    {
     "name": "stdout",
     "output_type": "stream",
     "text": [
      "Epsilon = 0.01\n",
      "Success Rate: 25.612244897959187%\n",
      "Average L0 Distance for Successful Attacks: 10.98804780876494\n",
      "Average L1 Distance for Successful Attacks: 0.010000000908169377\n",
      "Average L2 Distance for Successful Attacks: 0.022500753636468217\n",
      "Average Linf Distance for Successful Attacks: 0.06629014873053449\n",
      "Average Mahalanobis Distance for Successful Attacks: 3.4444596132610417\n",
      "Average Sensitivity for Successful Attacks: 0.010764696898747724\n",
      "Outlier Rate for Successful Attacks: 14.342629482071715%\n",
      "\n",
      "\n"
     ]
    },
    {
     "name": "stderr",
     "output_type": "stream",
     "text": [
      "100%|██████████| 980/980 [00:11<00:00, 86.34it/s]\n"
     ]
    },
    {
     "name": "stdout",
     "output_type": "stream",
     "text": [
      "Epsilon = 0.03\n",
      "Success Rate: 26.224489795918366%\n",
      "Average L0 Distance for Successful Attacks: 10.996108949416342\n",
      "Average L1 Distance for Successful Attacks: 0.030000000032469457\n",
      "Average L2 Distance for Successful Attacks: 0.06676137474898235\n",
      "Average Linf Distance for Successful Attacks: 0.19631866084462474\n",
      "Average Mahalanobis Distance for Successful Attacks: 4.186984731073668\n",
      "Average Sensitivity for Successful Attacks: 0.03226808378842554\n",
      "Outlier Rate for Successful Attacks: 37.7431906614786%\n",
      "\n",
      "\n"
     ]
    },
    {
     "name": "stderr",
     "output_type": "stream",
     "text": [
      "100%|██████████| 980/980 [00:11<00:00, 84.79it/s]\n"
     ]
    },
    {
     "name": "stdout",
     "output_type": "stream",
     "text": [
      "Epsilon = 0.05\n",
      "Success Rate: 25.510204081632654%\n",
      "Average L0 Distance for Successful Attacks: 10.988\n",
      "Average L1 Distance for Successful Attacks: 0.050000005468726155\n",
      "Average L2 Distance for Successful Attacks: 0.10969094187021255\n",
      "Average Linf Distance for Successful Attacks: 0.3206335946917534\n",
      "Average Mahalanobis Distance for Successful Attacks: 5.355733887270306\n",
      "Average Sensitivity for Successful Attacks: 0.053828521564602855\n",
      "Outlier Rate for Successful Attacks: 58.4%\n",
      "\n",
      "\n"
     ]
    },
    {
     "name": "stderr",
     "output_type": "stream",
     "text": [
      "100%|██████████| 980/980 [00:11<00:00, 84.96it/s]\n"
     ]
    },
    {
     "name": "stdout",
     "output_type": "stream",
     "text": [
      "Epsilon = 0.1\n",
      "Success Rate: 29.69387755102041%\n",
      "Average L0 Distance for Successful Attacks: 10.993127147766323\n",
      "Average L1 Distance for Successful Attacks: 0.10000000282149135\n",
      "Average L2 Distance for Successful Attacks: 0.21746619214716645\n",
      "Average Linf Distance for Successful Attacks: 0.6336838572295671\n",
      "Average Mahalanobis Distance for Successful Attacks: 8.3272481794235\n",
      "Average Sensitivity for Successful Attacks: 0.10759235150420789\n",
      "Outlier Rate for Successful Attacks: 86.5979381443299%\n",
      "\n",
      "\n"
     ]
    },
    {
     "name": "stderr",
     "output_type": "stream",
     "text": [
      "100%|██████████| 980/980 [00:11<00:00, 86.50it/s]\n"
     ]
    },
    {
     "name": "stdout",
     "output_type": "stream",
     "text": [
      "Epsilon = 0.3\n",
      "Success Rate: 33.6734693877551%\n",
      "Average L0 Distance for Successful Attacks: 10.99090909090909\n",
      "Average L1 Distance for Successful Attacks: 0.2997921951792457\n",
      "Average L2 Distance for Successful Attacks: 0.6012650410334269\n",
      "Average Linf Distance for Successful Attacks: 1.723058450944496\n",
      "Average Mahalanobis Distance for Successful Attacks: 20.88273328864685\n",
      "Average Sensitivity for Successful Attacks: 0.3226251312277534\n",
      "Outlier Rate for Successful Attacks: 100.0%\n",
      "\n",
      "\n"
     ]
    },
    {
     "name": "stderr",
     "output_type": "stream",
     "text": [
      "100%|██████████| 980/980 [00:11<00:00, 84.70it/s]\n"
     ]
    },
    {
     "name": "stdout",
     "output_type": "stream",
     "text": [
      "Epsilon = 0.5\n",
      "Success Rate: 35.91836734693877%\n",
      "Average L0 Distance for Successful Attacks: 10.997159090909092\n",
      "Average L1 Distance for Successful Attacks: 0.4971417626366019\n",
      "Average L2 Distance for Successful Attacks: 0.9174827242439444\n",
      "Average Linf Distance for Successful Attacks: 2.560811234130101\n",
      "Average Mahalanobis Distance for Successful Attacks: 29.155736923688256\n",
      "Average Sensitivity for Successful Attacks: 0.5346718320453708\n",
      "Outlier Rate for Successful Attacks: 100.0%\n",
      "\n",
      "\n"
     ]
    },
    {
     "name": "stderr",
     "output_type": "stream",
     "text": [
      "100%|██████████| 980/980 [00:11<00:00, 86.07it/s]\n"
     ]
    },
    {
     "name": "stdout",
     "output_type": "stream",
     "text": [
      "Epsilon = 1.0\n",
      "Success Rate: 37.44897959183673%\n",
      "Average L0 Distance for Successful Attacks: 10.997275204359672\n",
      "Average L1 Distance for Successful Attacks: 0.8334271810360111\n",
      "Average L2 Distance for Successful Attacks: 1.4915973094243768\n",
      "Average Linf Distance for Successful Attacks: 4.06758724636213\n",
      "Average Mahalanobis Distance for Successful Attacks: 45.359432364097174\n",
      "Average Sensitivity for Successful Attacks: 0.8962664259876802\n",
      "Outlier Rate for Successful Attacks: 100.0%\n",
      "\n",
      "\n",
      "Running LinfFGSM on WineQuality-White with FTTransformer\n",
      "Threshold: 4.4356665308251575\n"
     ]
    },
    {
     "name": "stderr",
     "output_type": "stream",
     "text": [
      "100%|██████████| 980/980 [00:19<00:00, 49.98it/s]\n"
     ]
    },
    {
     "name": "stdout",
     "output_type": "stream",
     "text": [
      "Epsilon = 0.0\n",
      "Success Rate: 24.79591836734694%\n",
      "Average L0 Distance for Successful Attacks: 0.0\n",
      "Average L1 Distance for Successful Attacks: 0.0\n",
      "Average L2 Distance for Successful Attacks: 0.0\n",
      "Average Linf Distance for Successful Attacks: 0.0\n",
      "Average Mahalanobis Distance for Successful Attacks: 3.3172681458874593\n",
      "Average Sensitivity for Successful Attacks: 0.0\n",
      "Outlier Rate for Successful Attacks: 13.580246913580247%\n",
      "\n",
      "\n"
     ]
    },
    {
     "name": "stderr",
     "output_type": "stream",
     "text": [
      "100%|██████████| 980/980 [00:19<00:00, 50.25it/s]\n"
     ]
    },
    {
     "name": "stdout",
     "output_type": "stream",
     "text": [
      "Epsilon = 0.01\n",
      "Success Rate: 30.102040816326532%\n",
      "Average L0 Distance for Successful Attacks: 10.986440677966101\n",
      "Average L1 Distance for Successful Attacks: 0.010000005339161825\n",
      "Average L2 Distance for Successful Attacks: 0.03311946319447735\n",
      "Average Linf Distance for Successful Attacks: 0.10975660752441924\n",
      "Average Mahalanobis Distance for Successful Attacks: 3.47142620136081\n",
      "Average Sensitivity for Successful Attacks: 0.010766429652980828\n",
      "Outlier Rate for Successful Attacks: 14.237288135593221%\n",
      "\n",
      "\n"
     ]
    },
    {
     "name": "stderr",
     "output_type": "stream",
     "text": [
      "100%|██████████| 980/980 [00:19<00:00, 50.56it/s]\n"
     ]
    },
    {
     "name": "stdout",
     "output_type": "stream",
     "text": [
      "Epsilon = 0.03\n",
      "Success Rate: 39.285714285714285%\n",
      "Average L0 Distance for Successful Attacks: 10.987012987012987\n",
      "Average L1 Distance for Successful Attacks: 0.030000001192092896\n",
      "Average L2 Distance for Successful Attacks: 0.09896708239208568\n",
      "Average Linf Distance for Successful Attacks: 0.3274095299182\n",
      "Average Mahalanobis Distance for Successful Attacks: 4.891970931792315\n",
      "Average Sensitivity for Successful Attacks: 0.03229742443987301\n",
      "Outlier Rate for Successful Attacks: 59.22077922077922%\n",
      "\n",
      "\n"
     ]
    },
    {
     "name": "stderr",
     "output_type": "stream",
     "text": [
      "100%|██████████| 980/980 [00:19<00:00, 50.39it/s]\n"
     ]
    },
    {
     "name": "stdout",
     "output_type": "stream",
     "text": [
      "Epsilon = 0.05\n",
      "Success Rate: 48.57142857142857%\n",
      "Average L0 Distance for Successful Attacks: 10.989495798319327\n",
      "Average L1 Distance for Successful Attacks: 0.05000001187397152\n",
      "Average L2 Distance for Successful Attacks: 0.16443997762408577\n",
      "Average Linf Distance for Successful Attacks: 0.5431876064849501\n",
      "Average Mahalanobis Distance for Successful Attacks: 6.928597189859873\n",
      "Average Sensitivity for Successful Attacks: 0.05381570932525797\n",
      "Outlier Rate for Successful Attacks: 96.00840336134453%\n",
      "\n",
      "\n"
     ]
    },
    {
     "name": "stderr",
     "output_type": "stream",
     "text": [
      "100%|██████████| 980/980 [00:19<00:00, 50.56it/s]\n"
     ]
    },
    {
     "name": "stdout",
     "output_type": "stream",
     "text": [
      "Epsilon = 0.1\n",
      "Success Rate: 70.81632653061224%\n",
      "Average L0 Distance for Successful Attacks: 10.992795389048991\n",
      "Average L1 Distance for Successful Attacks: 0.10000001397574326\n",
      "Average L2 Distance for Successful Attacks: 0.32475834251824304\n",
      "Average Linf Distance for Successful Attacks: 1.0668565691032739\n",
      "Average Mahalanobis Distance for Successful Attacks: 12.529396663440341\n",
      "Average Sensitivity for Successful Attacks: 0.10759593221098614\n",
      "Outlier Rate for Successful Attacks: 100.0%\n",
      "\n",
      "\n"
     ]
    },
    {
     "name": "stderr",
     "output_type": "stream",
     "text": [
      "100%|██████████| 980/980 [00:19<00:00, 50.50it/s]\n"
     ]
    },
    {
     "name": "stdout",
     "output_type": "stream",
     "text": [
      "Epsilon = 0.3\n",
      "Success Rate: 98.67346938775509%\n",
      "Average L0 Distance for Successful Attacks: 10.99482936918304\n",
      "Average L1 Distance for Successful Attacks: 0.30000002452604774\n",
      "Average L2 Distance for Successful Attacks: 0.8851680922039785\n",
      "Average Linf Distance for Successful Attacks: 2.8020544472500113\n",
      "Average Mahalanobis Distance for Successful Attacks: 30.019407655019023\n",
      "Average Sensitivity for Successful Attacks: 0.32272214011790956\n",
      "Outlier Rate for Successful Attacks: 100.0%\n",
      "\n",
      "\n"
     ]
    },
    {
     "name": "stderr",
     "output_type": "stream",
     "text": [
      "100%|██████████| 980/980 [00:18<00:00, 52.01it/s]\n"
     ]
    },
    {
     "name": "stdout",
     "output_type": "stream",
     "text": [
      "Epsilon = 0.5\n",
      "Success Rate: 99.18367346938776%\n",
      "Average L0 Distance for Successful Attacks: 10.99485596707819\n",
      "Average L1 Distance for Successful Attacks: 0.5\n",
      "Average L2 Distance for Successful Attacks: 1.3588121319994515\n",
      "Average Linf Distance for Successful Attacks: 4.1497047040688155\n",
      "Average Mahalanobis Distance for Successful Attacks: 45.19231927243022\n",
      "Average Sensitivity for Successful Attacks: 0.5378687714107733\n",
      "Outlier Rate for Successful Attacks: 100.0%\n",
      "\n",
      "\n"
     ]
    },
    {
     "name": "stderr",
     "output_type": "stream",
     "text": [
      "100%|██████████| 980/980 [00:18<00:00, 51.70it/s]\n"
     ]
    },
    {
     "name": "stdout",
     "output_type": "stream",
     "text": [
      "Epsilon = 1.0\n",
      "Success Rate: 99.08163265306122%\n",
      "Average L0 Distance for Successful Attacks: 10.994850669412976\n",
      "Average L1 Distance for Successful Attacks: 0.9215453304542204\n",
      "Average L2 Distance for Successful Attacks: 2.0403169241305115\n",
      "Average Linf Distance for Successful Attacks: 5.906356621230545\n",
      "Average Mahalanobis Distance for Successful Attacks: 75.97118965090824\n",
      "Average Sensitivity for Successful Attacks: 0.9913589979543991\n",
      "Outlier Rate for Successful Attacks: 100.0%\n",
      "\n",
      "\n",
      "Running LinfPGD on WineQuality-White with FTTransformer\n",
      "Threshold: 4.4356665308251575\n"
     ]
    },
    {
     "name": "stderr",
     "output_type": "stream",
     "text": [
      "100%|██████████| 980/980 [04:19<00:00,  3.78it/s]\n"
     ]
    },
    {
     "name": "stdout",
     "output_type": "stream",
     "text": [
      "Epsilon = 0.0\n",
      "Success Rate: 24.79591836734694%\n",
      "Average L0 Distance for Successful Attacks: 0.0\n",
      "Average L1 Distance for Successful Attacks: 0.0\n",
      "Average L2 Distance for Successful Attacks: 0.0\n",
      "Average Linf Distance for Successful Attacks: 0.0\n",
      "Average Mahalanobis Distance for Successful Attacks: 3.3172681458874593\n",
      "Average Sensitivity for Successful Attacks: 0.0\n",
      "Outlier Rate for Successful Attacks: 13.580246913580247%\n",
      "\n",
      "\n"
     ]
    },
    {
     "name": "stderr",
     "output_type": "stream",
     "text": [
      "100%|██████████| 980/980 [04:18<00:00,  3.79it/s]\n"
     ]
    },
    {
     "name": "stdout",
     "output_type": "stream",
     "text": [
      "Epsilon = 0.01\n",
      "Success Rate: 30.0%\n",
      "Average L0 Distance for Successful Attacks: 10.986394557823129\n",
      "Average L1 Distance for Successful Attacks: 0.010000005057144936\n",
      "Average L2 Distance for Successful Attacks: 0.03016715679875239\n",
      "Average Linf Distance for Successful Attacks: 0.09789394042422982\n",
      "Average Mahalanobis Distance for Successful Attacks: 3.42042848248523\n",
      "Average Sensitivity for Successful Attacks: 0.010766478920621532\n",
      "Outlier Rate for Successful Attacks: 14.625850340136054%\n",
      "\n",
      "\n"
     ]
    },
    {
     "name": "stderr",
     "output_type": "stream",
     "text": [
      "100%|██████████| 980/980 [04:18<00:00,  3.80it/s]\n"
     ]
    },
    {
     "name": "stdout",
     "output_type": "stream",
     "text": [
      "Epsilon = 0.03\n",
      "Success Rate: 38.163265306122454%\n",
      "Average L0 Distance for Successful Attacks: 10.989304812834225\n",
      "Average L1 Distance for Successful Attacks: 0.030000001192092896\n",
      "Average L2 Distance for Successful Attacks: 0.08958360664347276\n",
      "Average Linf Distance for Successful Attacks: 0.2894152208843971\n",
      "Average Mahalanobis Distance for Successful Attacks: 4.580240390598908\n",
      "Average Sensitivity for Successful Attacks: 0.03229003202389268\n",
      "Outlier Rate for Successful Attacks: 50.26737967914438%\n",
      "\n",
      "\n"
     ]
    },
    {
     "name": "stderr",
     "output_type": "stream",
     "text": [
      "100%|██████████| 980/980 [04:20<00:00,  3.77it/s]\n"
     ]
    },
    {
     "name": "stdout",
     "output_type": "stream",
     "text": [
      "Epsilon = 0.05\n",
      "Success Rate: 46.42857142857143%\n",
      "Average L0 Distance for Successful Attacks: 10.989010989010989\n",
      "Average L1 Distance for Successful Attacks: 0.05000001131505757\n",
      "Average L2 Distance for Successful Attacks: 0.147966655761331\n",
      "Average Linf Distance for Successful Attacks: 0.4757810842859876\n",
      "Average Mahalanobis Distance for Successful Attacks: 6.163152193668195\n",
      "Average Sensitivity for Successful Attacks: 0.05381831497281462\n",
      "Outlier Rate for Successful Attacks: 83.51648351648352%\n",
      "\n",
      "\n"
     ]
    },
    {
     "name": "stderr",
     "output_type": "stream",
     "text": [
      "100%|██████████| 980/980 [04:20<00:00,  3.77it/s]\n"
     ]
    },
    {
     "name": "stdout",
     "output_type": "stream",
     "text": [
      "Epsilon = 0.1\n",
      "Success Rate: 66.93877551020408%\n",
      "Average L0 Distance for Successful Attacks: 10.992378048780488\n",
      "Average L1 Distance for Successful Attacks: 0.10000001049668687\n",
      "Average L2 Distance for Successful Attacks: 0.281291107533545\n",
      "Average Linf Distance for Successful Attacks: 0.8853828730743106\n",
      "Average Mahalanobis Distance for Successful Attacks: 9.783231507840787\n",
      "Average Sensitivity for Successful Attacks: 0.10760041568201126\n",
      "Outlier Rate for Successful Attacks: 98.01829268292683%\n",
      "\n",
      "\n"
     ]
    },
    {
     "name": "stderr",
     "output_type": "stream",
     "text": [
      "100%|██████████| 980/980 [04:19<00:00,  3.78it/s]\n"
     ]
    },
    {
     "name": "stdout",
     "output_type": "stream",
     "text": [
      "Epsilon = 0.3\n",
      "Success Rate: 93.26530612244898%\n",
      "Average L0 Distance for Successful Attacks: 10.99781181619256\n",
      "Average L1 Distance for Successful Attacks: 0.2989226017693461\n",
      "Average L2 Distance for Successful Attacks: 0.6831788271665573\n",
      "Average Linf Distance for Successful Attacks: 2.0081596489286526\n",
      "Average Mahalanobis Distance for Successful Attacks: 19.688849505635545\n",
      "Average Sensitivity for Successful Attacks: 0.32146750540519436\n",
      "Outlier Rate for Successful Attacks: 100.0%\n",
      "\n",
      "\n"
     ]
    },
    {
     "name": "stderr",
     "output_type": "stream",
     "text": [
      "100%|██████████| 980/980 [04:19<00:00,  3.78it/s]\n"
     ]
    },
    {
     "name": "stdout",
     "output_type": "stream",
     "text": [
      "Epsilon = 0.5\n",
      "Success Rate: 95.10204081632652%\n",
      "Average L0 Distance for Successful Attacks: 10.994635193133048\n",
      "Average L1 Distance for Successful Attacks: 0.4922912906487612\n",
      "Average L2 Distance for Successful Attacks: 0.9429695386871247\n",
      "Average Linf Distance for Successful Attacks: 2.624248993115364\n",
      "Average Mahalanobis Distance for Successful Attacks: 24.725602538647063\n",
      "Average Sensitivity for Successful Attacks: 0.5295849153092491\n",
      "Outlier Rate for Successful Attacks: 100.0%\n",
      "\n",
      "\n"
     ]
    },
    {
     "name": "stderr",
     "output_type": "stream",
     "text": [
      "100%|██████████| 980/980 [04:18<00:00,  3.79it/s]\n"
     ]
    },
    {
     "name": "stdout",
     "output_type": "stream",
     "text": [
      "Epsilon = 1.0\n",
      "Success Rate: 93.87755102040816%\n",
      "Average L0 Distance for Successful Attacks: 10.996739130434783\n",
      "Average L1 Distance for Successful Attacks: 0.7736132435500622\n",
      "Average L2 Distance for Successful Attacks: 1.269557626027128\n",
      "Average Linf Distance for Successful Attacks: 3.327790806474893\n",
      "Average Mahalanobis Distance for Successful Attacks: 31.161401106747885\n",
      "Average Sensitivity for Successful Attacks: 0.8320667092242967\n",
      "Outlier Rate for Successful Attacks: 100.0%\n",
      "\n",
      "\n",
      "Running LinfBIM on WineQuality-White with FTTransformer\n",
      "Threshold: 4.4356665308251575\n"
     ]
    },
    {
     "name": "stderr",
     "output_type": "stream",
     "text": [
      "100%|██████████| 980/980 [01:24<00:00, 11.60it/s]\n"
     ]
    },
    {
     "name": "stdout",
     "output_type": "stream",
     "text": [
      "Epsilon = 0.0\n",
      "Success Rate: 24.79591836734694%\n",
      "Average L0 Distance for Successful Attacks: 0.0\n",
      "Average L1 Distance for Successful Attacks: 0.0\n",
      "Average L2 Distance for Successful Attacks: 0.0\n",
      "Average Linf Distance for Successful Attacks: 0.0\n",
      "Average Mahalanobis Distance for Successful Attacks: 3.3172681458874593\n",
      "Average Sensitivity for Successful Attacks: 0.0\n",
      "Outlier Rate for Successful Attacks: 13.580246913580247%\n",
      "\n",
      "\n"
     ]
    },
    {
     "name": "stderr",
     "output_type": "stream",
     "text": [
      "100%|██████████| 980/980 [01:24<00:00, 11.53it/s]\n"
     ]
    },
    {
     "name": "stdout",
     "output_type": "stream",
     "text": [
      "Epsilon = 0.01\n",
      "Success Rate: 30.102040816326532%\n",
      "Average L0 Distance for Successful Attacks: 10.976271186440679\n",
      "Average L1 Distance for Successful Attacks: 0.010000005339161825\n",
      "Average L2 Distance for Successful Attacks: 0.03302436734281354\n",
      "Average Linf Distance for Successful Attacks: 0.10927525213209249\n",
      "Average Mahalanobis Distance for Successful Attacks: 3.4609786233860853\n",
      "Average Sensitivity for Successful Attacks: 0.010777363736750716\n",
      "Outlier Rate for Successful Attacks: 14.237288135593221%\n",
      "\n",
      "\n"
     ]
    },
    {
     "name": "stderr",
     "output_type": "stream",
     "text": [
      "100%|██████████| 980/980 [01:24<00:00, 11.55it/s]\n"
     ]
    },
    {
     "name": "stdout",
     "output_type": "stream",
     "text": [
      "Epsilon = 0.03\n",
      "Success Rate: 39.38775510204081%\n",
      "Average L0 Distance for Successful Attacks: 10.914507772020725\n",
      "Average L1 Distance for Successful Attacks: 0.030000001192092896\n",
      "Average L2 Distance for Successful Attacks: 0.09783841868370308\n",
      "Average Linf Distance for Successful Attacks: 0.32155906150378094\n",
      "Average Mahalanobis Distance for Successful Attacks: 4.8401438007885265\n",
      "Average Sensitivity for Successful Attacks: 0.03253129418032157\n",
      "Outlier Rate for Successful Attacks: 57.2538860103627%\n",
      "\n",
      "\n"
     ]
    },
    {
     "name": "stderr",
     "output_type": "stream",
     "text": [
      "100%|██████████| 980/980 [01:25<00:00, 11.47it/s]\n"
     ]
    },
    {
     "name": "stdout",
     "output_type": "stream",
     "text": [
      "Epsilon = 0.05\n",
      "Success Rate: 48.97959183673469%\n",
      "Average L0 Distance for Successful Attacks: 10.9\n",
      "Average L1 Distance for Successful Attacks: 0.05000001185884078\n",
      "Average L2 Distance for Successful Attacks: 0.16100080590695143\n",
      "Average Linf Distance for Successful Attacks: 0.5252508977428079\n",
      "Average Mahalanobis Distance for Successful Attacks: 6.610888854786391\n",
      "Average Sensitivity for Successful Attacks: 0.054304298316128555\n",
      "Outlier Rate for Successful Attacks: 90.0%\n",
      "\n",
      "\n"
     ]
    },
    {
     "name": "stderr",
     "output_type": "stream",
     "text": [
      "100%|██████████| 980/980 [01:24<00:00, 11.60it/s]\n"
     ]
    },
    {
     "name": "stdout",
     "output_type": "stream",
     "text": [
      "Epsilon = 0.1\n",
      "Success Rate: 71.12244897959184%\n",
      "Average L0 Distance for Successful Attacks: 10.754662840746054\n",
      "Average L1 Distance for Successful Attacks: 0.10000001325925419\n",
      "Average L2 Distance for Successful Attacks: 0.3064335345837102\n",
      "Average Linf Distance for Successful Attacks: 0.9782502537478334\n",
      "Average Mahalanobis Distance for Successful Attacks: 10.824534030646136\n",
      "Average Sensitivity for Successful Attacks: 0.11022730350195079\n",
      "Outlier Rate for Successful Attacks: 99.56958393113344%\n",
      "\n",
      "\n"
     ]
    },
    {
     "name": "stderr",
     "output_type": "stream",
     "text": [
      "100%|██████████| 980/980 [01:24<00:00, 11.57it/s]\n"
     ]
    },
    {
     "name": "stdout",
     "output_type": "stream",
     "text": [
      "Epsilon = 0.3\n",
      "Success Rate: 99.38775510204081%\n",
      "Average L0 Distance for Successful Attacks: 10.358316221765914\n",
      "Average L1 Distance for Successful Attacks: 0.2671732451437802\n",
      "Average L2 Distance for Successful Attacks: 0.6581833059660464\n",
      "Average Linf Distance for Successful Attacks: 1.9438975528035565\n",
      "Average Mahalanobis Distance for Successful Attacks: 17.11520731790522\n",
      "Average Sensitivity for Successful Attacks: 0.30714838603010414\n",
      "Outlier Rate for Successful Attacks: 99.89733059548254%\n",
      "\n",
      "\n"
     ]
    },
    {
     "name": "stderr",
     "output_type": "stream",
     "text": [
      "100%|██████████| 980/980 [01:24<00:00, 11.55it/s]\n"
     ]
    },
    {
     "name": "stdout",
     "output_type": "stream",
     "text": [
      "Epsilon = 0.5\n",
      "Success Rate: 99.28571428571429%\n",
      "Average L0 Distance for Successful Attacks: 10.013360739979445\n",
      "Average L1 Distance for Successful Attacks: 0.4057121472117345\n",
      "Average L2 Distance for Successful Attacks: 0.799151841949931\n",
      "Average Linf Distance for Successful Attacks: 2.177692271401495\n",
      "Average Mahalanobis Distance for Successful Attacks: 18.556030028167246\n",
      "Average Sensitivity for Successful Attacks: 0.4834198331446681\n",
      "Outlier Rate for Successful Attacks: 97.73895169578623%\n",
      "\n",
      "\n"
     ]
    },
    {
     "name": "stderr",
     "output_type": "stream",
     "text": [
      "100%|██████████| 980/980 [01:24<00:00, 11.64it/s]\n"
     ]
    },
    {
     "name": "stdout",
     "output_type": "stream",
     "text": [
      "Epsilon = 1.0\n",
      "Success Rate: 90.51020408163265%\n",
      "Average L0 Distance for Successful Attacks: 9.947012401352875\n",
      "Average L1 Distance for Successful Attacks: 0.7197318838608977\n",
      "Average L2 Distance for Successful Attacks: 1.1412947557051798\n",
      "Average Linf Distance for Successful Attacks: 2.841039649176221\n",
      "Average Mahalanobis Distance for Successful Attacks: 26.784437400181517\n",
      "Average Sensitivity for Successful Attacks: 0.8734234782794685\n",
      "Outlier Rate for Successful Attacks: 100.0%\n",
      "\n",
      "\n",
      "Running L2FGSM on WineQuality-White with FTTransformer\n",
      "Threshold: 4.4356665308251575\n"
     ]
    },
    {
     "name": "stderr",
     "output_type": "stream",
     "text": [
      "100%|██████████| 980/980 [00:19<00:00, 51.06it/s]\n"
     ]
    },
    {
     "name": "stdout",
     "output_type": "stream",
     "text": [
      "Epsilon = 0.0\n",
      "Success Rate: 24.79591836734694%\n",
      "Average L0 Distance for Successful Attacks: 0.0\n",
      "Average L1 Distance for Successful Attacks: 0.0\n",
      "Average L2 Distance for Successful Attacks: 0.0\n",
      "Average Linf Distance for Successful Attacks: 0.0\n",
      "Average Mahalanobis Distance for Successful Attacks: 3.3172681458874593\n",
      "Average Sensitivity for Successful Attacks: 0.0\n",
      "Outlier Rate for Successful Attacks: 13.580246913580247%\n",
      "\n",
      "\n"
     ]
    },
    {
     "name": "stderr",
     "output_type": "stream",
     "text": [
      "100%|██████████| 980/980 [00:19<00:00, 50.21it/s]\n"
     ]
    },
    {
     "name": "stdout",
     "output_type": "stream",
     "text": [
      "Epsilon = 0.01\n",
      "Success Rate: 28.469387755102044%\n",
      "Average L0 Distance for Successful Attacks: 10.985663082437275\n",
      "Average L1 Distance for Successful Attacks: 0.008920102523753293\n",
      "Average L2 Distance for Successful Attacks: 0.009998673876901041\n",
      "Average Linf Distance for Successful Attacks: 0.01579427252119694\n",
      "Average Mahalanobis Distance for Successful Attacks: 3.3041756888625518\n",
      "Average Sensitivity for Successful Attacks: 0.009603571929504902\n",
      "Outlier Rate for Successful Attacks: 12.903225806451612%\n",
      "\n",
      "\n"
     ]
    },
    {
     "name": "stderr",
     "output_type": "stream",
     "text": [
      "100%|██████████| 980/980 [00:19<00:00, 50.69it/s]\n"
     ]
    },
    {
     "name": "stdout",
     "output_type": "stream",
     "text": [
      "Epsilon = 0.03\n",
      "Success Rate: 35.91836734693877%\n",
      "Average L0 Distance for Successful Attacks: 10.988636363636363\n",
      "Average L1 Distance for Successful Attacks: 0.026944125346331435\n",
      "Average L2 Distance for Successful Attacks: 0.029995019335977056\n",
      "Average Linf Distance for Successful Attacks: 0.04690667958295142\n",
      "Average Mahalanobis Distance for Successful Attacks: 3.290799805724296\n",
      "Average Sensitivity for Successful Attacks: 0.029000380055301568\n",
      "Outlier Rate for Successful Attacks: 11.363636363636363%\n",
      "\n",
      "\n"
     ]
    },
    {
     "name": "stderr",
     "output_type": "stream",
     "text": [
      "100%|██████████| 980/980 [00:19<00:00, 50.29it/s]\n"
     ]
    },
    {
     "name": "stdout",
     "output_type": "stream",
     "text": [
      "Epsilon = 0.05\n",
      "Success Rate: 40.714285714285715%\n",
      "Average L0 Distance for Successful Attacks: 10.987468671679197\n",
      "Average L1 Distance for Successful Attacks: 0.044956403884821965\n",
      "Average L2 Distance for Successful Attacks: 0.049913466798333\n",
      "Average Linf Distance for Successful Attacks: 0.07757463795424703\n",
      "Average Mahalanobis Distance for Successful Attacks: 3.3635037548686024\n",
      "Average Sensitivity for Successful Attacks: 0.04839175342019638\n",
      "Outlier Rate for Successful Attacks: 12.280701754385964%\n",
      "\n",
      "\n"
     ]
    },
    {
     "name": "stderr",
     "output_type": "stream",
     "text": [
      "100%|██████████| 980/980 [00:19<00:00, 49.93it/s]\n"
     ]
    },
    {
     "name": "stdout",
     "output_type": "stream",
     "text": [
      "Epsilon = 0.1\n",
      "Success Rate: 53.9795918367347%\n",
      "Average L0 Distance for Successful Attacks: 10.99054820415879\n",
      "Average L1 Distance for Successful Attacks: 0.08876929131454465\n",
      "Average L2 Distance for Successful Attacks: 0.09894780357613005\n",
      "Average Linf Distance for Successful Attacks: 0.1544699351565599\n",
      "Average Mahalanobis Distance for Successful Attacks: 3.4287116653676306\n",
      "Average Sensitivity for Successful Attacks: 0.09552682400284958\n",
      "Outlier Rate for Successful Attacks: 12.854442344045369%\n",
      "\n",
      "\n"
     ]
    },
    {
     "name": "stderr",
     "output_type": "stream",
     "text": [
      "100%|██████████| 980/980 [00:19<00:00, 50.42it/s]\n"
     ]
    },
    {
     "name": "stdout",
     "output_type": "stream",
     "text": [
      "Epsilon = 0.3\n",
      "Success Rate: 86.22448979591837%\n",
      "Average L0 Distance for Successful Attacks: 10.994082840236686\n",
      "Average L1 Distance for Successful Attacks: 0.23335401017284957\n",
      "Average L2 Distance for Successful Attacks: 0.27423138459758645\n",
      "Average Linf Distance for Successful Attacks: 0.458202753846462\n",
      "Average Mahalanobis Distance for Successful Attacks: 4.263014404562882\n",
      "Average Sensitivity for Successful Attacks: 0.25102844053118895\n",
      "Outlier Rate for Successful Attacks: 32.30769230769231%\n",
      "\n",
      "\n"
     ]
    },
    {
     "name": "stderr",
     "output_type": "stream",
     "text": [
      "100%|██████████| 980/980 [00:19<00:00, 50.72it/s]\n"
     ]
    },
    {
     "name": "stdout",
     "output_type": "stream",
     "text": [
      "Epsilon = 0.5\n",
      "Success Rate: 97.24489795918367%\n",
      "Average L0 Distance for Successful Attacks: 10.994753410283316\n",
      "Average L1 Distance for Successful Attacks: 0.36598388319063035\n",
      "Average L2 Distance for Successful Attacks: 0.4373659713727355\n",
      "Average Linf Distance for Successful Attacks: 0.7493316782452752\n",
      "Average Mahalanobis Distance for Successful Attacks: 5.75116920507179\n",
      "Average Sensitivity for Successful Attacks: 0.3936843198469028\n",
      "Outlier Rate for Successful Attacks: 84.78488982161595%\n",
      "\n",
      "\n"
     ]
    },
    {
     "name": "stderr",
     "output_type": "stream",
     "text": [
      "100%|██████████| 980/980 [00:19<00:00, 49.59it/s]\n"
     ]
    },
    {
     "name": "stdout",
     "output_type": "stream",
     "text": [
      "Epsilon = 1.0\n",
      "Success Rate: 99.6938775510204%\n",
      "Average L0 Distance for Successful Attacks: 10.994882292732855\n",
      "Average L1 Distance for Successful Attacks: 0.6374813025262485\n",
      "Average L2 Distance for Successful Attacks: 0.7556615613835617\n",
      "Average Linf Distance for Successful Attacks: 1.3240825241029324\n",
      "Average Mahalanobis Distance for Successful Attacks: 9.369833301288036\n",
      "Average Sensitivity for Successful Attacks: 0.685691624544294\n",
      "Outlier Rate for Successful Attacks: 93.03991811668372%\n",
      "\n",
      "\n",
      "Running L2PGD on WineQuality-White with FTTransformer\n",
      "Threshold: 4.4356665308251575\n"
     ]
    },
    {
     "name": "stderr",
     "output_type": "stream",
     "text": [
      "100%|██████████| 980/980 [05:30<00:00,  2.97it/s]\n"
     ]
    },
    {
     "name": "stdout",
     "output_type": "stream",
     "text": [
      "Epsilon = 0.0\n",
      "Success Rate: 24.79591836734694%\n",
      "Average L0 Distance for Successful Attacks: 0.0\n",
      "Average L1 Distance for Successful Attacks: 0.0\n",
      "Average L2 Distance for Successful Attacks: 0.0\n",
      "Average Linf Distance for Successful Attacks: 0.0\n",
      "Average Mahalanobis Distance for Successful Attacks: 3.3172681458874593\n",
      "Average Sensitivity for Successful Attacks: 0.0\n",
      "Outlier Rate for Successful Attacks: 13.580246913580247%\n",
      "\n",
      "\n"
     ]
    },
    {
     "name": "stderr",
     "output_type": "stream",
     "text": [
      "100%|██████████| 980/980 [05:32<00:00,  2.94it/s]\n"
     ]
    },
    {
     "name": "stdout",
     "output_type": "stream",
     "text": [
      "Epsilon = 0.01\n",
      "Success Rate: 28.163265306122447%\n",
      "Average L0 Distance for Successful Attacks: 10.992753623188406\n",
      "Average L1 Distance for Successful Attacks: 0.007706535021787969\n",
      "Average L2 Distance for Successful Attacks: 0.009985561901028606\n",
      "Average Linf Distance for Successful Attacks: 0.02320456021613833\n",
      "Average Mahalanobis Distance for Successful Attacks: 3.313760153509788\n",
      "Average Sensitivity for Successful Attacks: 0.008292123783325804\n",
      "Outlier Rate for Successful Attacks: 13.405797101449277%\n",
      "\n",
      "\n"
     ]
    },
    {
     "name": "stderr",
     "output_type": "stream",
     "text": [
      "100%|██████████| 980/980 [05:29<00:00,  2.98it/s]\n"
     ]
    },
    {
     "name": "stdout",
     "output_type": "stream",
     "text": [
      "Epsilon = 0.03\n",
      "Success Rate: 34.285714285714285%\n",
      "Average L0 Distance for Successful Attacks: 10.988095238095237\n",
      "Average L1 Distance for Successful Attacks: 0.022984123073651323\n",
      "Average L2 Distance for Successful Attacks: 0.02995359377625088\n",
      "Average Linf Distance for Successful Attacks: 0.06939434132627434\n",
      "Average Mahalanobis Distance for Successful Attacks: 3.384408181931318\n",
      "Average Sensitivity for Successful Attacks: 0.02474087117505925\n",
      "Outlier Rate for Successful Attacks: 13.095238095238097%\n",
      "\n",
      "\n"
     ]
    },
    {
     "name": "stderr",
     "output_type": "stream",
     "text": [
      "100%|██████████| 980/980 [05:31<00:00,  2.95it/s]\n"
     ]
    },
    {
     "name": "stdout",
     "output_type": "stream",
     "text": [
      "Epsilon = 0.05\n",
      "Success Rate: 38.46938775510204%\n",
      "Average L0 Distance for Successful Attacks: 10.994694960212202\n",
      "Average L1 Distance for Successful Attacks: 0.03838564188711207\n",
      "Average L2 Distance for Successful Attacks: 0.04993999811674935\n",
      "Average Linf Distance for Successful Attacks: 0.11660578040608677\n",
      "Average Mahalanobis Distance for Successful Attacks: 3.424026233325437\n",
      "Average Sensitivity for Successful Attacks: 0.041290559324211086\n",
      "Outlier Rate for Successful Attacks: 13.793103448275861%\n",
      "\n",
      "\n"
     ]
    },
    {
     "name": "stderr",
     "output_type": "stream",
     "text": [
      "100%|██████████| 980/980 [05:30<00:00,  2.96it/s]\n"
     ]
    },
    {
     "name": "stdout",
     "output_type": "stream",
     "text": [
      "Epsilon = 0.1\n",
      "Success Rate: 50.61224489795918%\n",
      "Average L0 Distance for Successful Attacks: 10.995967741935484\n",
      "Average L1 Distance for Successful Attacks: 0.07632336857908915\n",
      "Average L2 Distance for Successful Attacks: 0.09982451577220232\n",
      "Average Linf Distance for Successful Attacks: 0.23212886727865664\n",
      "Average Mahalanobis Distance for Successful Attacks: 3.9637040242884534\n",
      "Average Sensitivity for Successful Attacks: 0.08209162977554145\n",
      "Outlier Rate for Successful Attacks: 28.830645161290324%\n",
      "\n",
      "\n"
     ]
    },
    {
     "name": "stderr",
     "output_type": "stream",
     "text": [
      "100%|██████████| 980/980 [05:30<00:00,  2.96it/s]\n"
     ]
    },
    {
     "name": "stdout",
     "output_type": "stream",
     "text": [
      "Epsilon = 0.3\n",
      "Success Rate: 83.26530612244898%\n",
      "Average L0 Distance for Successful Attacks: 10.995098039215685\n",
      "Average L1 Distance for Successful Attacks: 0.20849916590925524\n",
      "Average L2 Distance for Successful Attacks: 0.29842905568725925\n",
      "Average Linf Distance for Successful Attacks: 0.7309475942131352\n",
      "Average Mahalanobis Distance for Successful Attacks: 7.465520819995312\n",
      "Average Sensitivity for Successful Attacks: 0.22427715121896244\n",
      "Outlier Rate for Successful Attacks: 83.33333333333334%\n",
      "\n",
      "\n"
     ]
    },
    {
     "name": "stderr",
     "output_type": "stream",
     "text": [
      "100%|██████████| 980/980 [05:31<00:00,  2.96it/s]\n"
     ]
    },
    {
     "name": "stdout",
     "output_type": "stream",
     "text": [
      "Epsilon = 0.5\n",
      "Success Rate: 93.87755102040816%\n",
      "Average L0 Distance for Successful Attacks: 10.996739130434783\n",
      "Average L1 Distance for Successful Attacks: 0.3436020323925692\n",
      "Average L2 Distance for Successful Attacks: 0.494079311127248\n",
      "Average Linf Distance for Successful Attacks: 1.2239141894423444\n",
      "Average Mahalanobis Distance for Successful Attacks: 11.157988271186271\n",
      "Average Sensitivity for Successful Attacks: 0.369562061795074\n",
      "Outlier Rate for Successful Attacks: 98.69565217391305%\n",
      "\n",
      "\n"
     ]
    },
    {
     "name": "stderr",
     "output_type": "stream",
     "text": [
      "100%|██████████| 980/980 [05:30<00:00,  2.97it/s]\n"
     ]
    },
    {
     "name": "stdout",
     "output_type": "stream",
     "text": [
      "Epsilon = 1.0\n",
      "Success Rate: 94.38775510204081%\n",
      "Average L0 Distance for Successful Attacks: 10.996756756756756\n",
      "Average L1 Distance for Successful Attacks: 0.5713975339161383\n",
      "Average L2 Distance for Successful Attacks: 0.8741463901545551\n",
      "Average Linf Distance for Successful Attacks: 2.25402339600228\n",
      "Average Mahalanobis Distance for Successful Attacks: 19.043571385325052\n",
      "Average Sensitivity for Successful Attacks: 0.6145426231944883\n",
      "Outlier Rate for Successful Attacks: 100.0%\n",
      "\n",
      "\n",
      "Running L2BIM on WineQuality-White with FTTransformer\n",
      "Threshold: 4.4356665308251575\n"
     ]
    },
    {
     "name": "stderr",
     "output_type": "stream",
     "text": [
      "100%|██████████| 980/980 [01:26<00:00, 11.34it/s]\n"
     ]
    },
    {
     "name": "stdout",
     "output_type": "stream",
     "text": [
      "Epsilon = 0.0\n",
      "Success Rate: 24.79591836734694%\n",
      "Average L0 Distance for Successful Attacks: 0.0\n",
      "Average L1 Distance for Successful Attacks: 0.0\n",
      "Average L2 Distance for Successful Attacks: 0.0\n",
      "Average Linf Distance for Successful Attacks: 0.0\n",
      "Average Mahalanobis Distance for Successful Attacks: 3.3172681458874593\n",
      "Average Sensitivity for Successful Attacks: 0.0\n",
      "Outlier Rate for Successful Attacks: 13.580246913580247%\n",
      "\n",
      "\n"
     ]
    },
    {
     "name": "stderr",
     "output_type": "stream",
     "text": [
      "100%|██████████| 980/980 [01:27<00:00, 11.25it/s]\n"
     ]
    },
    {
     "name": "stdout",
     "output_type": "stream",
     "text": [
      "Epsilon = 0.01\n",
      "Success Rate: 28.469387755102044%\n",
      "Average L0 Distance for Successful Attacks: 10.985663082437275\n",
      "Average L1 Distance for Successful Attacks: 0.008872604905544215\n",
      "Average L2 Distance for Successful Attacks: 0.009999793109660935\n",
      "Average Linf Distance for Successful Attacks: 0.015943830612526144\n",
      "Average Mahalanobis Distance for Successful Attacks: 3.3039461521693863\n",
      "Average Sensitivity for Successful Attacks: 0.009552604807574154\n",
      "Outlier Rate for Successful Attacks: 12.903225806451612%\n",
      "\n",
      "\n"
     ]
    },
    {
     "name": "stderr",
     "output_type": "stream",
     "text": [
      "100%|██████████| 980/980 [01:27<00:00, 11.24it/s]\n"
     ]
    },
    {
     "name": "stdout",
     "output_type": "stream",
     "text": [
      "Epsilon = 0.03\n",
      "Success Rate: 35.91836734693877%\n",
      "Average L0 Distance for Successful Attacks: 10.988636363636363\n",
      "Average L1 Distance for Successful Attacks: 0.026543226235927166\n",
      "Average L2 Distance for Successful Attacks: 0.029999450658744372\n",
      "Average Linf Distance for Successful Attacks: 0.04806027715941044\n",
      "Average Mahalanobis Distance for Successful Attacks: 3.2896882633762092\n",
      "Average Sensitivity for Successful Attacks: 0.028569658096371728\n",
      "Outlier Rate for Successful Attacks: 11.647727272727272%\n",
      "\n",
      "\n"
     ]
    },
    {
     "name": "stderr",
     "output_type": "stream",
     "text": [
      "100%|██████████| 980/980 [01:27<00:00, 11.24it/s]\n"
     ]
    },
    {
     "name": "stdout",
     "output_type": "stream",
     "text": [
      "Epsilon = 0.05\n",
      "Success Rate: 40.91836734693878%\n",
      "Average L0 Distance for Successful Attacks: 10.987531172069826\n",
      "Average L1 Distance for Successful Attacks: 0.043885477388886145\n",
      "Average L2 Distance for Successful Attacks: 0.04999826221431877\n",
      "Average Linf Distance for Successful Attacks: 0.0810259399271368\n",
      "Average Mahalanobis Distance for Successful Attacks: 3.3705266683997586\n",
      "Average Sensitivity for Successful Attacks: 0.047239488896512034\n",
      "Outlier Rate for Successful Attacks: 12.718204488778055%\n",
      "\n",
      "\n"
     ]
    },
    {
     "name": "stderr",
     "output_type": "stream",
     "text": [
      "100%|██████████| 980/980 [01:26<00:00, 11.29it/s]\n"
     ]
    },
    {
     "name": "stdout",
     "output_type": "stream",
     "text": [
      "Epsilon = 0.1\n",
      "Success Rate: 55.10204081632652%\n",
      "Average L0 Distance for Successful Attacks: 10.99074074074074\n",
      "Average L1 Distance for Successful Attacks: 0.0860340328404197\n",
      "Average L2 Distance for Successful Attacks: 0.09996093510201684\n",
      "Average Linf Distance for Successful Attacks: 0.1691112009877408\n",
      "Average Mahalanobis Distance for Successful Attacks: 3.4370659016867795\n",
      "Average Sensitivity for Successful Attacks: 0.0925831097488602\n",
      "Outlier Rate for Successful Attacks: 12.777777777777777%\n",
      "\n",
      "\n"
     ]
    },
    {
     "name": "stderr",
     "output_type": "stream",
     "text": [
      "100%|██████████| 980/980 [01:27<00:00, 11.24it/s]\n"
     ]
    },
    {
     "name": "stdout",
     "output_type": "stream",
     "text": [
      "Epsilon = 0.3\n",
      "Success Rate: 89.89795918367346%\n",
      "Average L0 Distance for Successful Attacks: 10.996594778660613\n",
      "Average L1 Distance for Successful Attacks: 0.23763674869710552\n",
      "Average L2 Distance for Successful Attacks: 0.298875572800501\n",
      "Average Linf Distance for Successful Attacks: 0.5812496419797285\n",
      "Average Mahalanobis Distance for Successful Attacks: 5.068527819409826\n",
      "Average Sensitivity for Successful Attacks: 0.2555934368177115\n",
      "Outlier Rate for Successful Attacks: 53.91600454029511%\n",
      "\n",
      "\n"
     ]
    },
    {
     "name": "stderr",
     "output_type": "stream",
     "text": [
      "100%|██████████| 980/980 [01:27<00:00, 11.23it/s]\n"
     ]
    },
    {
     "name": "stdout",
     "output_type": "stream",
     "text": [
      "Epsilon = 0.5\n",
      "Success Rate: 99.59183673469387%\n",
      "Average L0 Distance for Successful Attacks: 10.99795081967213\n",
      "Average L1 Distance for Successful Attacks: 0.3943367412649706\n",
      "Average L2 Distance for Successful Attacks: 0.4865933350730138\n",
      "Average Linf Distance for Successful Attacks: 0.9893655704914547\n",
      "Average Mahalanobis Distance for Successful Attacks: 7.124452634534498\n",
      "Average Sensitivity for Successful Attacks: 0.42407368467051965\n",
      "Outlier Rate for Successful Attacks: 93.13524590163934%\n",
      "\n",
      "\n"
     ]
    },
    {
     "name": "stderr",
     "output_type": "stream",
     "text": [
      "100%|██████████| 980/980 [01:26<00:00, 11.28it/s]\n"
     ]
    },
    {
     "name": "stdout",
     "output_type": "stream",
     "text": [
      "Epsilon = 1.0\n",
      "Success Rate: 99.89795918367346%\n",
      "Average L0 Distance for Successful Attacks: 10.997957099080695\n",
      "Average L1 Distance for Successful Attacks: 0.5435279756632231\n",
      "Average L2 Distance for Successful Attacks: 0.7141216402156116\n",
      "Average Linf Distance for Successful Attacks: 1.622227289094623\n",
      "Average Mahalanobis Distance for Successful Attacks: 13.074892961962666\n",
      "Average Sensitivity for Successful Attacks: 0.5844858159692587\n",
      "Outlier Rate for Successful Attacks: 95.81205311542391%\n",
      "\n",
      "\n",
      "Running LinfDeepFool on WineQuality-White with FTTransformer\n",
      "Threshold: 4.4356665308251575\n"
     ]
    },
    {
     "name": "stderr",
     "output_type": "stream",
     "text": [
      "100%|██████████| 980/980 [00:30<00:00, 31.93it/s]\n"
     ]
    },
    {
     "name": "stdout",
     "output_type": "stream",
     "text": [
      "Epsilon = 0.0\n",
      "Success Rate: 24.79591836734694%\n",
      "Average L0 Distance for Successful Attacks: 0.0\n",
      "Average L1 Distance for Successful Attacks: 0.0\n",
      "Average L2 Distance for Successful Attacks: 0.0\n",
      "Average Linf Distance for Successful Attacks: 0.0\n",
      "Average Mahalanobis Distance for Successful Attacks: 3.3172681458874593\n",
      "Average Sensitivity for Successful Attacks: 0.0\n",
      "Outlier Rate for Successful Attacks: 13.580246913580247%\n",
      "\n",
      "\n"
     ]
    },
    {
     "name": "stderr",
     "output_type": "stream",
     "text": [
      "100%|██████████| 980/980 [00:30<00:00, 32.26it/s]\n"
     ]
    },
    {
     "name": "stdout",
     "output_type": "stream",
     "text": [
      "Epsilon = 0.01\n",
      "Success Rate: 30.102040816326532%\n",
      "Average L0 Distance for Successful Attacks: 1.9389830508474577\n",
      "Average L1 Distance for Successful Attacks: 0.0007779362911390046\n",
      "Average L2 Distance for Successful Attacks: 0.0025782888589458443\n",
      "Average Linf Distance for Successful Attacks: 0.008550178903644368\n",
      "Average Mahalanobis Distance for Successful Attacks: 3.2851539228447746\n",
      "Average Sensitivity for Successful Attacks: 0.0008364250518428951\n",
      "Outlier Rate for Successful Attacks: 13.559322033898304%\n",
      "\n",
      "\n"
     ]
    },
    {
     "name": "stderr",
     "output_type": "stream",
     "text": [
      "100%|██████████| 980/980 [00:30<00:00, 32.47it/s]\n"
     ]
    },
    {
     "name": "stdout",
     "output_type": "stream",
     "text": [
      "Epsilon = 0.03\n",
      "Success Rate: 39.285714285714285%\n",
      "Average L0 Distance for Successful Attacks: 4.054545454545455\n",
      "Average L1 Distance for Successful Attacks: 0.005323875315680906\n",
      "Average L2 Distance for Successful Attacks: 0.017553863422219436\n",
      "Average Linf Distance for Successful Attacks: 0.05806096919945308\n",
      "Average Mahalanobis Distance for Successful Attacks: 3.4501930378759225\n",
      "Average Sensitivity for Successful Attacks: 0.005731795170471411\n",
      "Outlier Rate for Successful Attacks: 16.883116883116884%\n",
      "\n",
      "\n"
     ]
    },
    {
     "name": "stderr",
     "output_type": "stream",
     "text": [
      "100%|██████████| 980/980 [00:30<00:00, 32.21it/s]\n"
     ]
    },
    {
     "name": "stdout",
     "output_type": "stream",
     "text": [
      "Epsilon = 0.05\n",
      "Success Rate: 48.57142857142857%\n",
      "Average L0 Distance for Successful Attacks: 5.382352941176471\n",
      "Average L1 Distance for Successful Attacks: 0.01320464165388223\n",
      "Average L2 Distance for Successful Attacks: 0.04345043090381464\n",
      "Average Linf Distance for Successful Attacks: 0.14364487092409814\n",
      "Average Mahalanobis Distance for Successful Attacks: 4.031464839386962\n",
      "Average Sensitivity for Successful Attacks: 0.014203611263264745\n",
      "Outlier Rate for Successful Attacks: 31.512605042016805%\n",
      "\n",
      "\n"
     ]
    },
    {
     "name": "stderr",
     "output_type": "stream",
     "text": [
      "100%|██████████| 980/980 [00:30<00:00, 32.36it/s]\n"
     ]
    },
    {
     "name": "stdout",
     "output_type": "stream",
     "text": [
      "Epsilon = 0.1\n",
      "Success Rate: 70.81632653061224%\n",
      "Average L0 Distance for Successful Attacks: 7.1469740634005765\n",
      "Average L1 Distance for Successful Attacks: 0.03877786125971665\n",
      "Average L2 Distance for Successful Attacks: 0.1264178952740999\n",
      "Average Linf Distance for Successful Attacks: 0.41527934615052053\n",
      "Average Mahalanobis Distance for Successful Attacks: 6.4972658044828595\n",
      "Average Sensitivity for Successful Attacks: 0.0416975984535541\n",
      "Outlier Rate for Successful Attacks: 53.31412103746398%\n",
      "\n",
      "\n"
     ]
    },
    {
     "name": "stderr",
     "output_type": "stream",
     "text": [
      "100%|██████████| 980/980 [00:30<00:00, 32.24it/s]\n"
     ]
    },
    {
     "name": "stdout",
     "output_type": "stream",
     "text": [
      "Epsilon = 0.3\n",
      "Success Rate: 98.87755102040816%\n",
      "Average L0 Distance for Successful Attacks: 8.240454076367389\n",
      "Average L1 Distance for Successful Attacks: 0.11025546618686341\n",
      "Average L2 Distance for Successful Attacks: 0.3395348982719687\n",
      "Average Linf Distance for Successful Attacks: 1.0829654373343884\n",
      "Average Mahalanobis Distance for Successful Attacks: 13.226281473914133\n",
      "Average Sensitivity for Successful Attacks: 0.11854800322568582\n",
      "Outlier Rate for Successful Attacks: 66.56346749226006%\n",
      "\n",
      "\n"
     ]
    },
    {
     "name": "stderr",
     "output_type": "stream",
     "text": [
      "100%|██████████| 980/980 [00:30<00:00, 32.51it/s]\n"
     ]
    },
    {
     "name": "stdout",
     "output_type": "stream",
     "text": [
      "Epsilon = 0.5\n",
      "Success Rate: 99.89795918367346%\n",
      "Average L0 Distance for Successful Attacks: 8.268641470888662\n",
      "Average L1 Distance for Successful Attacks: 0.14845478625928143\n",
      "Average L2 Distance for Successful Attacks: 0.4421723540812879\n",
      "Average Linf Distance for Successful Attacks: 1.3846549134058412\n",
      "Average Mahalanobis Distance for Successful Attacks: 16.50374612402803\n",
      "Average Sensitivity for Successful Attacks: 0.15961928940129602\n",
      "Outlier Rate for Successful Attacks: 66.90500510725231%\n",
      "\n",
      "\n"
     ]
    },
    {
     "name": "stderr",
     "output_type": "stream",
     "text": [
      "100%|██████████| 980/980 [00:30<00:00, 32.23it/s]\n"
     ]
    },
    {
     "name": "stdout",
     "output_type": "stream",
     "text": [
      "Epsilon = 1.0\n",
      "Success Rate: 99.89795918367346%\n",
      "Average L0 Distance for Successful Attacks: 8.268641470888662\n",
      "Average L1 Distance for Successful Attacks: 0.22025136788022742\n",
      "Average L2 Distance for Successful Attacks: 0.5756255293698302\n",
      "Average Linf Distance for Successful Attacks: 1.7518434562131504\n",
      "Average Mahalanobis Distance for Successful Attacks: 22.870387714734992\n",
      "Average Sensitivity for Successful Attacks: 0.2368138644275773\n",
      "Outlier Rate for Successful Attacks: 66.90500510725231%\n",
      "\n",
      "\n",
      "Running L2DeepFool on WineQuality-White with FTTransformer\n",
      "Threshold: 4.4356665308251575\n"
     ]
    },
    {
     "name": "stderr",
     "output_type": "stream",
     "text": [
      "100%|██████████| 980/980 [00:31<00:00, 31.39it/s]\n"
     ]
    },
    {
     "name": "stdout",
     "output_type": "stream",
     "text": [
      "Epsilon = 0.0\n",
      "Success Rate: 24.79591836734694%\n",
      "Average L0 Distance for Successful Attacks: 0.0\n",
      "Average L1 Distance for Successful Attacks: 0.0\n",
      "Average L2 Distance for Successful Attacks: 0.0\n",
      "Average Linf Distance for Successful Attacks: 0.0\n",
      "Average Mahalanobis Distance for Successful Attacks: 3.3172681458874593\n",
      "Average Sensitivity for Successful Attacks: 0.0\n",
      "Outlier Rate for Successful Attacks: 13.580246913580247%\n",
      "\n",
      "\n"
     ]
    },
    {
     "name": "stderr",
     "output_type": "stream",
     "text": [
      "100%|██████████| 980/980 [00:31<00:00, 31.32it/s]\n"
     ]
    },
    {
     "name": "stdout",
     "output_type": "stream",
     "text": [
      "Epsilon = 0.01\n",
      "Success Rate: 28.469387755102044%\n",
      "Average L0 Distance for Successful Attacks: 1.4193548387096775\n",
      "Average L1 Distance for Successful Attacks: 0.0005066310419403952\n",
      "Average L2 Distance for Successful Attacks: 0.0005425938895793371\n",
      "Average Linf Distance for Successful Attacks: 0.000815357395371015\n",
      "Average Mahalanobis Distance for Successful Attacks: 3.289297457242468\n",
      "Average Sensitivity for Successful Attacks: 0.0005447218459772153\n",
      "Outlier Rate for Successful Attacks: 12.903225806451612%\n",
      "\n",
      "\n"
     ]
    },
    {
     "name": "stderr",
     "output_type": "stream",
     "text": [
      "100%|██████████| 980/980 [00:31<00:00, 31.55it/s]\n"
     ]
    },
    {
     "name": "stdout",
     "output_type": "stream",
     "text": [
      "Epsilon = 0.03\n",
      "Success Rate: 35.91836734693877%\n",
      "Average L0 Distance for Successful Attacks: 3.40625\n",
      "Average L1 Distance for Successful Attacks: 0.004410402806983752\n",
      "Average L2 Distance for Successful Attacks: 0.004782742897408421\n",
      "Average Linf Distance for Successful Attacks: 0.00722524064688266\n",
      "Average Mahalanobis Distance for Successful Attacks: 3.2449954586207315\n",
      "Average Sensitivity for Successful Attacks: 0.004741996673146787\n",
      "Outlier Rate for Successful Attacks: 11.647727272727272%\n",
      "\n",
      "\n"
     ]
    },
    {
     "name": "stderr",
     "output_type": "stream",
     "text": [
      "100%|██████████| 980/980 [00:31<00:00, 31.19it/s]\n"
     ]
    },
    {
     "name": "stdout",
     "output_type": "stream",
     "text": [
      "Epsilon = 0.05\n",
      "Success Rate: 40.714285714285715%\n",
      "Average L0 Distance for Successful Attacks: 4.298245614035087\n",
      "Average L1 Distance for Successful Attacks: 0.008826389068499543\n",
      "Average L2 Distance for Successful Attacks: 0.00957773496305808\n",
      "Average Linf Distance for Successful Attacks: 0.014338605332288677\n",
      "Average Mahalanobis Distance for Successful Attacks: 3.2789943655817275\n",
      "Average Sensitivity for Successful Attacks: 0.009499298617168491\n",
      "Outlier Rate for Successful Attacks: 11.779448621553884%\n",
      "\n",
      "\n"
     ]
    },
    {
     "name": "stderr",
     "output_type": "stream",
     "text": [
      "100%|██████████| 980/980 [00:31<00:00, 31.39it/s]\n"
     ]
    },
    {
     "name": "stdout",
     "output_type": "stream",
     "text": [
      "Epsilon = 0.1\n",
      "Success Rate: 53.87755102040816%\n",
      "Average L0 Distance for Successful Attacks: 5.9356060606060606\n",
      "Average L1 Distance for Successful Attacks: 0.026503185501717257\n",
      "Average L2 Distance for Successful Attacks: 0.029395206670883592\n",
      "Average Linf Distance for Successful Attacks: 0.04553258190615893\n",
      "Average Mahalanobis Distance for Successful Attacks: 3.230398583420318\n",
      "Average Sensitivity for Successful Attacks: 0.028502843616727412\n",
      "Outlier Rate for Successful Attacks: 10.984848484848484%\n",
      "\n",
      "\n"
     ]
    },
    {
     "name": "stderr",
     "output_type": "stream",
     "text": [
      "100%|██████████| 980/980 [00:31<00:00, 31.27it/s]\n"
     ]
    },
    {
     "name": "stdout",
     "output_type": "stream",
     "text": [
      "Epsilon = 0.3\n",
      "Success Rate: 83.97959183673468%\n",
      "Average L0 Distance for Successful Attacks: 7.750911300121507\n",
      "Average L1 Distance for Successful Attacks: 0.09004011602658113\n",
      "Average L2 Distance for Successful Attacks: 0.1096008124468194\n",
      "Average Linf Distance for Successful Attacks: 0.18842521449381244\n",
      "Average Mahalanobis Distance for Successful Attacks: 3.3686489288921013\n",
      "Average Sensitivity for Successful Attacks: 0.09681424700817289\n",
      "Outlier Rate for Successful Attacks: 12.75820170109356%\n",
      "\n",
      "\n"
     ]
    },
    {
     "name": "stderr",
     "output_type": "stream",
     "text": [
      "100%|██████████| 980/980 [00:30<00:00, 31.71it/s]\n"
     ]
    },
    {
     "name": "stdout",
     "output_type": "stream",
     "text": [
      "Epsilon = 0.5\n",
      "Success Rate: 93.9795918367347%\n",
      "Average L0 Distance for Successful Attacks: 8.096634093376764\n",
      "Average L1 Distance for Successful Attacks: 0.12948674443263833\n",
      "Average L2 Distance for Successful Attacks: 0.1683613651772874\n",
      "Average Linf Distance for Successful Attacks: 0.3188514464689534\n",
      "Average Mahalanobis Distance for Successful Attacks: 4.347963548079685\n",
      "Average Sensitivity for Successful Attacks: 0.13922617047651364\n",
      "Outlier Rate for Successful Attacks: 26.92725298588491%\n",
      "\n",
      "\n"
     ]
    },
    {
     "name": "stderr",
     "output_type": "stream",
     "text": [
      "100%|██████████| 980/980 [00:31<00:00, 31.35it/s]\n"
     ]
    },
    {
     "name": "stdout",
     "output_type": "stream",
     "text": [
      "Epsilon = 1.0\n",
      "Success Rate: 99.6938775510204%\n",
      "Average L0 Distance for Successful Attacks: 8.263050153531218\n",
      "Average L1 Distance for Successful Attacks: 0.19420839477799443\n",
      "Average L2 Distance for Successful Attacks: 0.27618466849660955\n",
      "Average Linf Distance for Successful Attacks: 0.5758628188627662\n",
      "Average Mahalanobis Distance for Successful Attacks: 8.030752895022381\n",
      "Average Sensitivity for Successful Attacks: 0.20881365472531283\n",
      "Outlier Rate for Successful Attacks: 31.525076765609008%\n",
      "\n",
      "\n",
      "Running L2CarliniWagner on WineQuality-White with FTTransformer\n",
      "Threshold: 4.4356665308251575\n"
     ]
    },
    {
     "name": "stderr",
     "output_type": "stream",
     "text": [
      "100%|██████████| 980/980 [07:42<00:00,  2.12it/s]\n"
     ]
    },
    {
     "name": "stdout",
     "output_type": "stream",
     "text": [
      "Epsilon = 0.0\n",
      "Success Rate: 24.79591836734694%\n",
      "Average L0 Distance for Successful Attacks: 0.0\n",
      "Average L1 Distance for Successful Attacks: 0.0\n",
      "Average L2 Distance for Successful Attacks: 0.0\n",
      "Average Linf Distance for Successful Attacks: 0.0\n",
      "Average Mahalanobis Distance for Successful Attacks: 3.3172681458874593\n",
      "Average Sensitivity for Successful Attacks: 0.0\n",
      "Outlier Rate for Successful Attacks: 13.580246913580247%\n",
      "\n",
      "\n"
     ]
    },
    {
     "name": "stderr",
     "output_type": "stream",
     "text": [
      "100%|██████████| 980/980 [07:45<00:00,  2.11it/s]\n"
     ]
    },
    {
     "name": "stdout",
     "output_type": "stream",
     "text": [
      "Epsilon = 0.01\n",
      "Success Rate: 27.142857142857142%\n",
      "Average L0 Distance for Successful Attacks: 10.81578947368421\n",
      "Average L1 Distance for Successful Attacks: 0.00038754677529537814\n",
      "Average L2 Distance for Successful Attacks: 0.0008655939894719065\n",
      "Average Linf Distance for Successful Attacks: 0.00262384116737158\n",
      "Average Mahalanobis Distance for Successful Attacks: 3.3013449914201685\n",
      "Average Sensitivity for Successful Attacks: 0.00041669348786356757\n",
      "Outlier Rate for Successful Attacks: 12.781954887218044%\n",
      "\n",
      "\n"
     ]
    },
    {
     "name": "stderr",
     "output_type": "stream",
     "text": [
      "100%|██████████| 980/980 [07:42<00:00,  2.12it/s]\n"
     ]
    },
    {
     "name": "stdout",
     "output_type": "stream",
     "text": [
      "Epsilon = 0.03\n",
      "Success Rate: 34.08163265306122%\n",
      "Average L0 Distance for Successful Attacks: 10.853293413173652\n",
      "Average L1 Distance for Successful Attacks: 0.004884545591626383\n",
      "Average L2 Distance for Successful Attacks: 0.008174395079329471\n",
      "Average Linf Distance for Successful Attacks: 0.022059101310926685\n",
      "Average Mahalanobis Distance for Successful Attacks: 3.297063310017545\n",
      "Average Sensitivity for Successful Attacks: 0.005251795053588595\n",
      "Outlier Rate for Successful Attacks: 12.874251497005988%\n",
      "\n",
      "\n"
     ]
    },
    {
     "name": "stderr",
     "output_type": "stream",
     "text": [
      "100%|██████████| 980/980 [07:44<00:00,  2.11it/s]\n"
     ]
    },
    {
     "name": "stdout",
     "output_type": "stream",
     "text": [
      "Epsilon = 0.05\n",
      "Success Rate: 38.46938775510204%\n",
      "Average L0 Distance for Successful Attacks: 10.87002652519894\n",
      "Average L1 Distance for Successful Attacks: 0.011314802173777071\n",
      "Average L2 Distance for Successful Attacks: 0.017756065093821608\n",
      "Average Linf Distance for Successful Attacks: 0.047221455634732186\n",
      "Average Mahalanobis Distance for Successful Attacks: 3.3086225438014525\n",
      "Average Sensitivity for Successful Attacks: 0.012165506503858996\n",
      "Outlier Rate for Successful Attacks: 12.20159151193634%\n",
      "\n",
      "\n"
     ]
    },
    {
     "name": "stderr",
     "output_type": "stream",
     "text": [
      "100%|██████████| 980/980 [07:42<00:00,  2.12it/s]\n"
     ]
    },
    {
     "name": "stdout",
     "output_type": "stream",
     "text": [
      "Epsilon = 0.1\n",
      "Success Rate: 49.69387755102041%\n",
      "Average L0 Distance for Successful Attacks: 10.899383983572895\n",
      "Average L1 Distance for Successful Attacks: 0.028722446882768364\n",
      "Average L2 Distance for Successful Attacks: 0.04272804280903705\n",
      "Average Linf Distance for Successful Attacks: 0.10902413276112131\n",
      "Average Mahalanobis Distance for Successful Attacks: 3.453284683892729\n",
      "Average Sensitivity for Successful Attacks: 0.030881934753430207\n",
      "Outlier Rate for Successful Attacks: 15.605749486652979%\n",
      "\n",
      "\n"
     ]
    },
    {
     "name": "stderr",
     "output_type": "stream",
     "text": [
      "100%|██████████| 980/980 [07:43<00:00,  2.12it/s]\n"
     ]
    },
    {
     "name": "stdout",
     "output_type": "stream",
     "text": [
      "Epsilon = 0.3\n",
      "Success Rate: 83.77551020408164%\n",
      "Average L0 Distance for Successful Attacks: 10.940316686967114\n",
      "Average L1 Distance for Successful Attacks: 0.0738040540624301\n",
      "Average L2 Distance for Successful Attacks: 0.10649146952830865\n",
      "Average Linf Distance for Successful Attacks: 0.2483302525425586\n",
      "Average Mahalanobis Distance for Successful Attacks: 3.6951505099925774\n",
      "Average Sensitivity for Successful Attacks: 0.07935297776281122\n",
      "Outlier Rate for Successful Attacks: 20.584652862362972%\n",
      "\n",
      "\n"
     ]
    },
    {
     "name": "stderr",
     "output_type": "stream",
     "text": [
      "100%|██████████| 980/980 [07:44<00:00,  2.11it/s]\n"
     ]
    },
    {
     "name": "stdout",
     "output_type": "stream",
     "text": [
      "Epsilon = 0.5\n",
      "Success Rate: 95.71428571428572%\n",
      "Average L0 Distance for Successful Attacks: 10.947761194029852\n",
      "Average L1 Distance for Successful Attacks: 0.09637963344707394\n",
      "Average L2 Distance for Successful Attacks: 0.1438111438401849\n",
      "Average Linf Distance for Successful Attacks: 0.3404384913096236\n",
      "Average Mahalanobis Distance for Successful Attacks: 3.9974786753454086\n",
      "Average Sensitivity for Successful Attacks: 0.10362589059337828\n",
      "Outlier Rate for Successful Attacks: 27.931769722814497%\n",
      "\n",
      "\n"
     ]
    },
    {
     "name": "stderr",
     "output_type": "stream",
     "text": [
      "100%|██████████| 980/980 [07:44<00:00,  2.11it/s]"
     ]
    },
    {
     "name": "stdout",
     "output_type": "stream",
     "text": [
      "Epsilon = 1.0\n",
      "Success Rate: 98.57142857142858%\n",
      "Average L0 Distance for Successful Attacks: 10.94927536231884\n",
      "Average L1 Distance for Successful Attacks: 0.10349994884176261\n",
      "Average L2 Distance for Successful Attacks: 0.15791635469880613\n",
      "Average Linf Distance for Successful Attacks: 0.3778084612166602\n",
      "Average Mahalanobis Distance for Successful Attacks: 4.156128965693517\n",
      "Average Sensitivity for Successful Attacks: 0.11128154340228877\n",
      "Outlier Rate for Successful Attacks: 30.020703933747413%\n",
      "\n",
      "\n"
     ]
    },
    {
     "name": "stderr",
     "output_type": "stream",
     "text": [
      "\n"
     ]
    }
   ],
   "source": [
    "device = torch.device(\"cuda\" if torch.cuda.is_available() else \"cpu\")\n",
    "# device = torch.device(\"cpu\")\n",
    "\n",
    "\n",
    "for dataset_name in [\"WineQuality-Red\", \"WineQuality-White\"]: # \"Adult\", \"Electricity\", \"Higgs\", \"KDDCup09_appetency\", \"Mushroom\", \"BankMarketing\", \"house_16H\", \"GermanCredit\", \"jm1\", \"BreastCancer\", \"WineQuality-White\", \"WineQuality-Red\"\n",
    "    X_train, y_train, X_val, y_val, X_test, y_test, \\\n",
    "        X_train_tensor, y_train_tensor, X_test_tensor, y_test_tensor, X_val_tensor, y_val_tensor, \\\n",
    "        info = get_datasets.get_split(dataset_name, device)\n",
    "    # Considering size of Higgs dataset, we will use only 10k samples for adversarial attack.\n",
    "    if dataset_name == \"Higgs\":\n",
    "        X_test = X_test[:10000]\n",
    "        y_test = y_test[:10000]\n",
    "        X_test_tensor = X_test_tensor[:10000]\n",
    "        y_test_tensor = y_test_tensor[:10000]\n",
    "\n",
    "\n",
    "    for model_name in [\"LogisticRegression\", \"MLP\", \"TabTransformer\", \"FTTransformer\"]: # \"LogisticRegression\", \"MLP\", \"TabTransformer\", \"FTTransformer\"\n",
    "        model, train_config = run_pytorch.model_config(model_name, X_train.shape[1], 2, info.num_categories_list, info.numerical_cols, device)\n",
    "        train_config[\"dataset\"] = dataset_name\n",
    "        train_config[\"device\"] = device\n",
    "\n",
    "        criterion = nn.CrossEntropyLoss()\n",
    "        optimizer = run_pytorch.build_optimizer(model, \"adam\", train_config[\"learning_rate\"])\n",
    "        path = f\"models/train/{model_name}/{dataset_name}/train_run-test.pt\"\n",
    "        model.load_state_dict(torch.load(path))\n",
    "        \n",
    "        # run_pytorch.test(model, (X_test_tensor, y_test_tensor), train_config, stage=\"train\", wandb_run=wandb.run)\n",
    "\n",
    "        # \"L2Gaussian\", \"L2Uniform\", \"LinfUniform\", \n",
    "        # \"LinfFGSM\", \"LinfPGD\", \"LinfBIM\", \"L2FGSM\", \"L2PGD\", \"L2BIM\", \n",
    "        # \"LinfDeepFool\", \"L2DeepFool\", \"L2CarliniWagner\", \n",
    "\n",
    "        for attack_name in [ \n",
    "            \"L2Gaussian\", \"L2Uniform\", \"LinfUniform\", \n",
    "            \"LinfFGSM\", \"LinfPGD\", \"LinfBIM\", \"L2FGSM\", \"L2PGD\", \"L2BIM\", \n",
    "            \"LinfDeepFool\", \"L2DeepFool\", \"L2CarliniWagner\", \n",
    "        ]: \n",
    "            print(f\"Running {attack_name} on {dataset_name} with {model_name}\")\n",
    "\n",
    "            epsilons = [\n",
    "                0.0,\n",
    "                0.01,\n",
    "                0.03,\n",
    "                0.05,\n",
    "                0.1,\n",
    "                0.3,\n",
    "                0.5,\n",
    "                1.0,\n",
    "            ]\n",
    "            attack_config = {**train_config, \"epsilons\": epsilons}\n",
    "            attack_success_rates, average_distances, outliner_rates, path_sets = run_attack(model, attack_name, epsilons, X_test_tensor, y_test_tensor, X_train_tensor, len(info.numerical_cols), attack_config, device)\n",
    "\n",
    "            \n",
    "            results = {\n",
    "                \"model\": model_name,\n",
    "                \"dataset\": dataset_name,\n",
    "                \"attack\": attack_name,\n",
    "                \"attack_config\": attack_config,\n",
    "                \"result\": {\n",
    "                    \"epsilons\": epsilons,\n",
    "                    \"attack_success_rates\": attack_success_rates,\n",
    "                    \"average_distances\": average_distances,\n",
    "                    \"outliner_rates\": outliner_rates,\n",
    "                    \"numpy_path\": path_sets,\n",
    "                }\n",
    "            }\n",
    "\n",
    "            # save python dictionary\n",
    "            with open(f'results/{dataset_name}_{model_name}_{attack_name}.pickle', 'wb') as handle:\n",
    "                pickle.dump(results, handle, protocol=pickle.HIGHEST_PROTOCOL)\n"
   ]
  },
  {
   "cell_type": "code",
   "execution_count": null,
   "metadata": {},
   "outputs": [],
   "source": []
  }
 ],
 "metadata": {
  "kernelspec": {
   "display_name": "tabular-benchmark",
   "language": "python",
   "name": "python3"
  },
  "language_info": {
   "codemirror_mode": {
    "name": "ipython",
    "version": 3
   },
   "file_extension": ".py",
   "mimetype": "text/x-python",
   "name": "python",
   "nbconvert_exporter": "python",
   "pygments_lexer": "ipython3",
   "version": "3.10.12"
  },
  "orig_nbformat": 4
 },
 "nbformat": 4,
 "nbformat_minor": 2
}
