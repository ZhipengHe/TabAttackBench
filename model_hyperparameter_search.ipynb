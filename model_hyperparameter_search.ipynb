{
 "cells": [
  {
   "cell_type": "markdown",
   "metadata": {},
   "source": [
    "## Task 2: Model Hyperparameter Search\n",
    "\n"
   ]
  },
  {
   "cell_type": "markdown",
   "metadata": {},
   "source": [
    "### 1. Preprearing the data for training"
   ]
  },
  {
   "cell_type": "code",
   "execution_count": null,
   "metadata": {},
   "outputs": [],
   "source": [
    "import pandas as pd\n",
    "import torch\n",
    "from sklearn.preprocessing import LabelEncoder, StandardScaler\n",
    "from sklearn.model_selection import train_test_split\n",
    "import requests\n",
    "from io import StringIO"
   ]
  },
  {
   "cell_type": "code",
   "execution_count": null,
   "metadata": {},
   "outputs": [],
   "source": [
    "# Define the URL for the Adult dataset on UCI Machine Learning Repository\n",
    "url = \"https://archive.ics.uci.edu/ml/machine-learning-databases/adult/adult.data\"\n",
    "\n",
    "# Define column names for the dataset\n",
    "column_names = [\n",
    "    \"age\", \"workclass\", \"fnlwgt\", \"education\", \"education_num\", \"marital_status\",\n",
    "    \"occupation\", \"relationship\", \"race\", \"sex\", \"capital_gain\", \"capital_loss\",\n",
    "    \"hours_per_week\", \"native_country\", \"income\"\n",
    "]\n",
    "\n",
    "# Fetch the dataset from the URL\n",
    "response = requests.get(url)\n",
    "data = pd.read_csv(StringIO(response.text), header=None,\n",
    "                    names=column_names, sep=',\\s*', engine='python')\n",
    "\n",
    "# Define categorical and numerical columns\n",
    "categorical_cols = [\"workclass\", \"education\", \"marital_status\",\n",
    "                    \"occupation\", \"relationship\", \"race\", \"sex\", \"native_country\"]\n",
    "numerical_cols = [\"age\", \"fnlwgt\", \"education_num\",\n",
    "                    \"capital_gain\", \"capital_loss\", \"hours_per_week\"]\n",
    "\n",
    "# Create a dictionary to store the number of unique categories for each categorical column\n",
    "categories = {}\n",
    "\n",
    "# Use LabelEncoder to encode categorical columns\n",
    "label_encoders = {}\n",
    "for col in categorical_cols:\n",
    "    le = LabelEncoder()\n",
    "    data[col] = le.fit_transform(data[col])\n",
    "    label_encoders[col] = le\n",
    "\n",
    "# Encode the target variable 'income' as 1 and 0\n",
    "data['income'] = data['income'].map({'>50K': 1, '<=50K': 0})\n",
    "\n",
    "# Calculate the number of unique categories for each categorical column\n",
    "for col in categorical_cols:\n",
    "    unique_values = data[col].nunique()\n",
    "    categories[col] = unique_values\n",
    "\n",
    "# Convert the dictionary to a list of values\n",
    "categories_list = list(categories.values())\n",
    "\n",
    "# Separate features (X) and target (y)\n",
    "X = data[categorical_cols + numerical_cols]\n",
    "y = data[\"income\"]\n",
    "\n",
    "# Split the dataset into training, validating and testing sets\n",
    "\n",
    "X_train, X_test, y_train, y_test = train_test_split(X, y, test_size=0.2, random_state=42)\n",
    "X_train, X_val, y_train, y_val = train_test_split(X_train, y_train, test_size=0.125, random_state=42)\n",
    "\n",
    "# Standardize numerical features (optional but recommended)\n",
    "scaler = StandardScaler()\n",
    "X_train[numerical_cols] = scaler.fit_transform(X_train[numerical_cols])\n",
    "X_val[numerical_cols] = scaler.transform(X_val[numerical_cols])\n",
    "X_test[numerical_cols] = scaler.transform(X_test[numerical_cols])\n"
   ]
  },
  {
   "cell_type": "code",
   "execution_count": null,
   "metadata": {},
   "outputs": [],
   "source": [
    "X_train = X_train.values\n",
    "y_train = y_train.values\n",
    "X_val = X_val.values\n",
    "y_val = y_val.values\n",
    "X_test = X_test.values\n",
    "y_test = y_test.values"
   ]
  },
  {
   "cell_type": "code",
   "execution_count": null,
   "metadata": {},
   "outputs": [],
   "source": [
    "# Convert the data to PyTorch tensors\n",
    "X_train_tensor = torch.tensor(X_train, dtype=torch.float32)\n",
    "y_train_tensor = torch.tensor(y_train, dtype=torch.float32)\n",
    "X_test_tensor = torch.tensor(X_test, dtype=torch.float32)\n",
    "y_test_tensor = torch.tensor(y_test, dtype=torch.float32)\n",
    "X_val_tensor = torch.tensor(X_val, dtype=torch.float32)\n",
    "y_val_tensor = torch.tensor(y_val, dtype=torch.float32)"
   ]
  },
  {
   "cell_type": "markdown",
   "metadata": {},
   "source": [
    "### 2. Model training and evaluation function"
   ]
  },
  {
   "cell_type": "code",
   "execution_count": 5,
   "metadata": {},
   "outputs": [
    {
     "name": "stderr",
     "output_type": "stream",
     "text": [
      "\u001b[34m\u001b[1mwandb\u001b[0m: Currently logged in as: \u001b[33mzhipeng-he\u001b[0m. Use \u001b[1m`wandb login --relogin`\u001b[0m to force relogin\n"
     ]
    }
   ],
   "source": [
    "import wandb\n",
    "import os\n",
    "os.environ[\"WANDB_NOTEBOOK_NAME\"] = \"model_hyperparameter_search.ipynb\"\n",
    "wandb.login()\n",
    "\n",
    "from torch import optim, nn\n",
    "from tqdm import tqdm\n",
    "\n",
    "from models import run_pytorch"
   ]
  },
  {
   "cell_type": "markdown",
   "metadata": {},
   "source": [
    "For pytorch based models"
   ]
  },
  {
   "cell_type": "code",
   "execution_count": null,
   "metadata": {},
   "outputs": [],
   "source": []
  },
  {
   "cell_type": "code",
   "execution_count": 6,
   "metadata": {},
   "outputs": [],
   "source": [
    "from models.pytorch.mlp import MLP\n",
    "from models.pytorch.tab_transformer import TabTransformer\n",
    "from models.pytorch.ft_transformer import FTTransformer\n",
    "from models.jax.logistic_regression import LogisticRegression"
   ]
  },
  {
   "cell_type": "code",
   "execution_count": 7,
   "metadata": {},
   "outputs": [],
   "source": [
    "def model_config(config):\n",
    "    if config.model == \"MLP\":\n",
    "        model_config = {\n",
    "            \"input_dim\": config.input_dim,\n",
    "            \"output_dim\": config.output_dim,\n",
    "            \"num_hidden_layers\": 4,\n",
    "            \"hidden_layer_dims\": [64, 32],\n",
    "            \"dropout\": config.dropout,\n",
    "            \"categories\": categories_list,\n",
    "            \"embedding_dim\": config.embedding_dim,\n",
    "            \"num_categorical_feature\": len(categorical_cols),\n",
    "        }\n",
    "        return MLP(**model_config)\n",
    "    \n",
    "    elif config.model == \"TabTransformer\":\n",
    "        model_config = {\n",
    "            \"categories\": categories_list,\n",
    "            \"num_continuous\": len(numerical_cols),\n",
    "            \"dim\": config.embedding_dim, # can sweep\n",
    "            \"dim_out\": config.output_dim,\n",
    "            \"depth\": config.depth, # can sweep\n",
    "            \"heads\": config.heads, # can sweep\n",
    "            \"attn_dropout\": config.dropout, \n",
    "            \"ff_dropout\": config.dropout, \n",
    "            \"mlp_hidden_mults\": (4, 2), \n",
    "            \"mlp_act\": nn.ReLU(),\n",
    "            \"continuous_mean_std\": None,\n",
    "        }\n",
    "        return TabTransformer(**model_config)\n",
    "\n",
    "    elif config.model == \"FTTransformer\":\n",
    "        model_config = {\n",
    "            \"categories\": categories_list,\n",
    "            \"num_continuous\": len(numerical_cols),\n",
    "            \"dim\": config.embedding_dim, \n",
    "            \"dim_out\": config.output_dim,\n",
    "            \"depth\": config.depth,\n",
    "            \"heads\": config.heads, \n",
    "            \"attn_dropout\": config.dropout, \n",
    "            \"ff_dropout\": config.dropout, \n",
    "        }\n",
    "        return FTTransformer(**model_config)\n",
    "\n",
    "    # elif model_name == \"TabNet\":\n",
    "    #     model_config = {}\n",
    "\n",
    "    # return model"
   ]
  },
  {
   "cell_type": "code",
   "execution_count": 8,
   "metadata": {},
   "outputs": [],
   "source": [
    "def sweep_fun():\n",
    "    with wandb.init(project=\"TabAttackBench-ModelSweep\"):\n",
    "\n",
    "        config = wandb.config\n",
    "\n",
    "        model = model_config(config)\n",
    "\n",
    "        # Define a loss function and an optimizer\n",
    "        criterion = nn.BCEWithLogitsLoss()\n",
    "        optimizer = run_pytorch.build_optimizer(model, config.optimizer, config.learning_rate)\n",
    "\n",
    "        # and use them to train the model\n",
    "        run_pytorch.train(model, (X_train_tensor, y_train_tensor), (X_val_tensor, y_val_tensor), criterion, optimizer, config)\n",
    "\n",
    "        # and test its final performance\n",
    "        run_pytorch.test(model, (X_test_tensor, y_test_tensor), config, wandb_run=wandb.run)"
   ]
  },
  {
   "cell_type": "markdown",
   "metadata": {},
   "source": [
    "### 3. Model Configuration"
   ]
  },
  {
   "cell_type": "code",
   "execution_count": 9,
   "metadata": {},
   "outputs": [],
   "source": [
    "import pprint"
   ]
  },
  {
   "cell_type": "code",
   "execution_count": 10,
   "metadata": {},
   "outputs": [],
   "source": [
    "sweep_config = {\n",
    "    'method': 'grid',\n",
    "    'parameters': {\n",
    "        'dataset': {\n",
    "            'values': ['adult']\n",
    "        },\n",
    "        'input_dim': {\n",
    "            'values': [X_train.shape[1]],\n",
    "        },\n",
    "        'output_dim': {\n",
    "            'values': [1],\n",
    "        },\n",
    "        'epochs': {\n",
    "            'values': [10, 20, 30]\n",
    "            },\n",
    "        'optimizer': {\n",
    "            'values': ['adam']\n",
    "            },\n",
    "        'learning_rate': {\n",
    "            'values': [0.001, 0.01, 0.1]\n",
    "            },\n",
    "        'batch_size': {\n",
    "            'values': [128, 256, 512]\n",
    "            },\n",
    "        'dropout': {\n",
    "            'values': [0.0, 0.1, 0.2, 0.3, 0.4]\n",
    "            },\n",
    "    }\n",
    "}"
   ]
  },
  {
   "cell_type": "markdown",
   "metadata": {},
   "source": [
    "#### 3.1. MLP"
   ]
  },
  {
   "cell_type": "code",
   "execution_count": 11,
   "metadata": {},
   "outputs": [],
   "source": [
    "mlp_sweep_config = sweep_config\n",
    "\n",
    "mlp_sweep_config['parameters']['model'] = {\n",
    "    'values': ['MLP']\n",
    "}\n",
    "mlp_sweep_config['parameters']['embedding_dim'] = {\n",
    "    'values': [4, 8]\n",
    "}"
   ]
  },
  {
   "cell_type": "code",
   "execution_count": 12,
   "metadata": {},
   "outputs": [
    {
     "name": "stdout",
     "output_type": "stream",
     "text": [
      "Create sweep with ID: r8s45onz\n",
      "Sweep URL: https://wandb.ai/zhipeng-he/TabAttackBench-ModelSweep/sweeps/r8s45onz\n",
      "mlp_sweep_id='r8s45onz'\n",
      "{'method': 'grid',\n",
      " 'parameters': {'batch_size': {'values': [128, 256, 512]},\n",
      "                'dataset': {'values': ['adult']},\n",
      "                'dropout': {'values': [0.0, 0.1, 0.2, 0.3, 0.4]},\n",
      "                'embedding_dim': {'values': [4, 8]},\n",
      "                'epochs': {'values': [10, 20, 30]},\n",
      "                'input_dim': {'values': [14]},\n",
      "                'learning_rate': {'values': [0.001, 0.01, 0.1]},\n",
      "                'model': {'values': ['MLP']},\n",
      "                'optimizer': {'values': ['adam']},\n",
      "                'output_dim': {'values': [1]}}}\n"
     ]
    }
   ],
   "source": [
    "mlp_sweep_id = wandb.sweep(\n",
    "  sweep=mlp_sweep_config, \n",
    "  project='TabAttackBench-ModelSweep',\n",
    "  )\n",
    "print(f'{mlp_sweep_id=}')\n",
    "pprint.pprint(mlp_sweep_config)"
   ]
  },
  {
   "cell_type": "markdown",
   "metadata": {},
   "source": [
    "#### 2.2. TabTransformer"
   ]
  },
  {
   "cell_type": "code",
   "execution_count": 13,
   "metadata": {},
   "outputs": [],
   "source": [
    "tabtrans_sweep_config = sweep_config\n",
    "tabtrans_sweep_config['parameters']['model'] = {\n",
    "    'values': ['TabTransformer']\n",
    "}\n",
    "\n",
    "tabtrans_sweep_config['parameters']['embedding_dim'] = {\n",
    "    'values': [4, 8]\n",
    "}\n",
    "\n",
    "tabtrans_sweep_config['parameters']['depth'] = {\n",
    "    'values': [6]\n",
    "}\n",
    "\n",
    "tabtrans_sweep_config['parameters']['heads'] = {\n",
    "    'values': [4, 8]\n",
    "}"
   ]
  },
  {
   "cell_type": "code",
   "execution_count": 14,
   "metadata": {},
   "outputs": [
    {
     "name": "stdout",
     "output_type": "stream",
     "text": [
      "Create sweep with ID: kz5dylr7\n",
      "Sweep URL: https://wandb.ai/zhipeng-he/TabAttackBench-ModelSweep/sweeps/kz5dylr7\n",
      "tabtrans_sweep_id='kz5dylr7'\n",
      "{'method': 'grid',\n",
      " 'parameters': {'batch_size': {'values': [128, 256, 512]},\n",
      "                'dataset': {'values': ['adult']},\n",
      "                'depth': {'values': [6]},\n",
      "                'dropout': {'values': [0.0, 0.1, 0.2, 0.3, 0.4]},\n",
      "                'embedding_dim': {'values': [4, 8]},\n",
      "                'epochs': {'values': [10, 20, 30]},\n",
      "                'heads': {'values': [4, 8]},\n",
      "                'input_dim': {'values': [14]},\n",
      "                'learning_rate': {'values': [0.001, 0.01, 0.1]},\n",
      "                'model': {'values': ['TabTransformer']},\n",
      "                'optimizer': {'values': ['adam']},\n",
      "                'output_dim': {'values': [1]}}}\n"
     ]
    }
   ],
   "source": [
    "tabtrans_sweep_id = wandb.sweep(\n",
    "  sweep=tabtrans_sweep_config, \n",
    "  project='TabAttackBench-ModelSweep',\n",
    "  )\n",
    "print(f'{tabtrans_sweep_id=}')\n",
    "pprint.pprint(tabtrans_sweep_config)"
   ]
  },
  {
   "cell_type": "markdown",
   "metadata": {},
   "source": [
    "#### 2.3. FTTransformer"
   ]
  },
  {
   "cell_type": "code",
   "execution_count": 15,
   "metadata": {},
   "outputs": [],
   "source": [
    "fttrans_sweep_config = sweep_config\n",
    "fttrans_sweep_config['parameters']['model'] = {\n",
    "    'values': ['FTTransformer']\n",
    "}\n",
    "\n",
    "fttrans_sweep_config['parameters']['embedding_dim'] = {\n",
    "    'values': [4, 8]\n",
    "}\n",
    "\n",
    "fttrans_sweep_config['parameters']['depth'] = {\n",
    "    'values': [6]\n",
    "}\n",
    "\n",
    "fttrans_sweep_config['parameters']['heads'] = {\n",
    "    'values': [4, 8]\n",
    "}"
   ]
  },
  {
   "cell_type": "code",
   "execution_count": 16,
   "metadata": {},
   "outputs": [
    {
     "name": "stdout",
     "output_type": "stream",
     "text": [
      "Create sweep with ID: hbo2yvwo\n",
      "Sweep URL: https://wandb.ai/zhipeng-he/TabAttackBench-ModelSweep/sweeps/hbo2yvwo\n",
      "fttrans_sweep_id='hbo2yvwo'\n",
      "{'method': 'grid',\n",
      " 'parameters': {'batch_size': {'values': [128, 256, 512]},\n",
      "                'dataset': {'values': ['adult']},\n",
      "                'depth': {'values': [6]},\n",
      "                'dropout': {'values': [0.0, 0.1, 0.2, 0.3, 0.4]},\n",
      "                'embedding_dim': {'values': [4, 8]},\n",
      "                'epochs': {'values': [10, 20, 30]},\n",
      "                'heads': {'values': [4, 8]},\n",
      "                'input_dim': {'values': [14]},\n",
      "                'learning_rate': {'values': [0.001, 0.01, 0.1]},\n",
      "                'model': {'values': ['FTTransformer']},\n",
      "                'optimizer': {'values': ['adam']},\n",
      "                'output_dim': {'values': [1]}}}\n"
     ]
    }
   ],
   "source": [
    "fttrans_sweep_id = wandb.sweep(\n",
    "  sweep=fttrans_sweep_config, \n",
    "  project='TabAttackBench-ModelSweep',\n",
    "  )\n",
    "print(f'{fttrans_sweep_id=}')\n",
    "pprint.pprint(fttrans_sweep_config)"
   ]
  },
  {
   "cell_type": "markdown",
   "metadata": {},
   "source": [
    "#### 2.4. TabNet"
   ]
  },
  {
   "cell_type": "code",
   "execution_count": null,
   "metadata": {},
   "outputs": [],
   "source": []
  },
  {
   "cell_type": "markdown",
   "metadata": {},
   "source": [
    "#### 2.5. Logistic Regression"
   ]
  },
  {
   "cell_type": "code",
   "execution_count": null,
   "metadata": {},
   "outputs": [],
   "source": []
  },
  {
   "cell_type": "markdown",
   "metadata": {},
   "source": [
    "### 3. Model Sweeping"
   ]
  },
  {
   "cell_type": "code",
   "execution_count": 17,
   "metadata": {},
   "outputs": [
    {
     "name": "stderr",
     "output_type": "stream",
     "text": [
      "\u001b[34m\u001b[1mwandb\u001b[0m: Agent Starting Run: 3pktcnli with config:\n",
      "\u001b[34m\u001b[1mwandb\u001b[0m: \tbatch_size: 128\n",
      "\u001b[34m\u001b[1mwandb\u001b[0m: \tdataset: adult\n",
      "\u001b[34m\u001b[1mwandb\u001b[0m: \tdropout: 0\n",
      "\u001b[34m\u001b[1mwandb\u001b[0m: \tembedding_dim: 4\n",
      "\u001b[34m\u001b[1mwandb\u001b[0m: \tepochs: 10\n",
      "\u001b[34m\u001b[1mwandb\u001b[0m: \tinput_dim: 14\n",
      "\u001b[34m\u001b[1mwandb\u001b[0m: \tlearning_rate: 0.001\n",
      "\u001b[34m\u001b[1mwandb\u001b[0m: \tmodel: MLP\n",
      "\u001b[34m\u001b[1mwandb\u001b[0m: \toptimizer: adam\n",
      "\u001b[34m\u001b[1mwandb\u001b[0m: \toutput_dim: 1\n",
      "\u001b[34m\u001b[1mwandb\u001b[0m: \u001b[33mWARNING\u001b[0m Ignored wandb.init() arg project when running a sweep.\n"
     ]
    },
    {
     "data": {
      "text/html": [
       "wandb version 0.15.10 is available!  To upgrade, please run:\n",
       " $ pip install wandb --upgrade"
      ],
      "text/plain": [
       "<IPython.core.display.HTML object>"
      ]
     },
     "metadata": {},
     "output_type": "display_data"
    },
    {
     "data": {
      "text/html": [
       "Tracking run with wandb version 0.15.9"
      ],
      "text/plain": [
       "<IPython.core.display.HTML object>"
      ]
     },
     "metadata": {},
     "output_type": "display_data"
    },
    {
     "data": {
      "text/html": [
       "Run data is saved locally in <code>/home/zippo/projects/TabAttackBench/wandb/run-20230914_171756-3pktcnli</code>"
      ],
      "text/plain": [
       "<IPython.core.display.HTML object>"
      ]
     },
     "metadata": {},
     "output_type": "display_data"
    },
    {
     "data": {
      "text/html": [
       "Syncing run <strong><a href='https://wandb.ai/zhipeng-he/TabAttackBench-ModelSweep/runs/3pktcnli' target=\"_blank\">sunny-sweep-1</a></strong> to <a href='https://wandb.ai/zhipeng-he/TabAttackBench-ModelSweep' target=\"_blank\">Weights & Biases</a> (<a href='https://wandb.me/run' target=\"_blank\">docs</a>)<br/>Sweep page: <a href='https://wandb.ai/zhipeng-he/TabAttackBench-ModelSweep/sweeps/r8s45onz' target=\"_blank\">https://wandb.ai/zhipeng-he/TabAttackBench-ModelSweep/sweeps/r8s45onz</a>"
      ],
      "text/plain": [
       "<IPython.core.display.HTML object>"
      ]
     },
     "metadata": {},
     "output_type": "display_data"
    },
    {
     "data": {
      "text/html": [
       " View project at <a href='https://wandb.ai/zhipeng-he/TabAttackBench-ModelSweep' target=\"_blank\">https://wandb.ai/zhipeng-he/TabAttackBench-ModelSweep</a>"
      ],
      "text/plain": [
       "<IPython.core.display.HTML object>"
      ]
     },
     "metadata": {},
     "output_type": "display_data"
    },
    {
     "data": {
      "text/html": [
       " View sweep at <a href='https://wandb.ai/zhipeng-he/TabAttackBench-ModelSweep/sweeps/r8s45onz' target=\"_blank\">https://wandb.ai/zhipeng-he/TabAttackBench-ModelSweep/sweeps/r8s45onz</a>"
      ],
      "text/plain": [
       "<IPython.core.display.HTML object>"
      ]
     },
     "metadata": {},
     "output_type": "display_data"
    },
    {
     "data": {
      "text/html": [
       " View run at <a href='https://wandb.ai/zhipeng-he/TabAttackBench-ModelSweep/runs/3pktcnli' target=\"_blank\">https://wandb.ai/zhipeng-he/TabAttackBench-ModelSweep/runs/3pktcnli</a>"
      ],
      "text/plain": [
       "<IPython.core.display.HTML object>"
      ]
     },
     "metadata": {},
     "output_type": "display_data"
    },
    {
     "name": "stdout",
     "output_type": "stream",
     "text": [
      "self.category_embeddings.weight.shape=torch.Size([102, 4])\n"
     ]
    },
    {
     "name": "stderr",
     "output_type": "stream",
     "text": [
      "  0%|          | 0/10 [00:00<?, ?it/s]\n"
     ]
    },
    {
     "data": {
      "text/html": [
       "Waiting for W&B process to finish... <strong style=\"color:red\">(failed 1).</strong> Press Control-C to abort syncing."
      ],
      "text/plain": [
       "<IPython.core.display.HTML object>"
      ]
     },
     "metadata": {},
     "output_type": "display_data"
    },
    {
     "data": {
      "text/html": [
       " View run <strong style=\"color:#cdcd00\">sunny-sweep-1</strong> at: <a href='https://wandb.ai/zhipeng-he/TabAttackBench-ModelSweep/runs/3pktcnli' target=\"_blank\">https://wandb.ai/zhipeng-he/TabAttackBench-ModelSweep/runs/3pktcnli</a><br/> View job at <a href='https://wandb.ai/zhipeng-he/TabAttackBench-ModelSweep/jobs/QXJ0aWZhY3RDb2xsZWN0aW9uOjk1MTA2NDk5/version_details/v3' target=\"_blank\">https://wandb.ai/zhipeng-he/TabAttackBench-ModelSweep/jobs/QXJ0aWZhY3RDb2xsZWN0aW9uOjk1MTA2NDk5/version_details/v3</a><br/>Synced 6 W&B file(s), 0 media file(s), 2 artifact file(s) and 0 other file(s)"
      ],
      "text/plain": [
       "<IPython.core.display.HTML object>"
      ]
     },
     "metadata": {},
     "output_type": "display_data"
    },
    {
     "data": {
      "text/html": [
       "Find logs at: <code>./wandb/run-20230914_171756-3pktcnli/logs</code>"
      ],
      "text/plain": [
       "<IPython.core.display.HTML object>"
      ]
     },
     "metadata": {},
     "output_type": "display_data"
    },
    {
     "name": "stderr",
     "output_type": "stream",
     "text": [
      "Run 3pktcnli errored: ValueError('Target size (torch.Size([128])) must be the same as input size (torch.Size([128, 1]))')\n",
      "\u001b[34m\u001b[1mwandb\u001b[0m: \u001b[32m\u001b[41mERROR\u001b[0m Run 3pktcnli errored: ValueError('Target size (torch.Size([128])) must be the same as input size (torch.Size([128, 1]))')\n",
      "\u001b[34m\u001b[1mwandb\u001b[0m: Agent Starting Run: t75rizem with config:\n",
      "\u001b[34m\u001b[1mwandb\u001b[0m: \tbatch_size: 128\n",
      "\u001b[34m\u001b[1mwandb\u001b[0m: \tdataset: adult\n",
      "\u001b[34m\u001b[1mwandb\u001b[0m: \tdropout: 0\n",
      "\u001b[34m\u001b[1mwandb\u001b[0m: \tembedding_dim: 4\n",
      "\u001b[34m\u001b[1mwandb\u001b[0m: \tepochs: 10\n",
      "\u001b[34m\u001b[1mwandb\u001b[0m: \tinput_dim: 14\n",
      "\u001b[34m\u001b[1mwandb\u001b[0m: \tlearning_rate: 0.01\n",
      "\u001b[34m\u001b[1mwandb\u001b[0m: \tmodel: MLP\n",
      "\u001b[34m\u001b[1mwandb\u001b[0m: \toptimizer: adam\n",
      "\u001b[34m\u001b[1mwandb\u001b[0m: \toutput_dim: 1\n",
      "\u001b[34m\u001b[1mwandb\u001b[0m: \u001b[33mWARNING\u001b[0m Ignored wandb.init() arg project when running a sweep.\n"
     ]
    },
    {
     "data": {
      "text/html": [
       "wandb version 0.15.10 is available!  To upgrade, please run:\n",
       " $ pip install wandb --upgrade"
      ],
      "text/plain": [
       "<IPython.core.display.HTML object>"
      ]
     },
     "metadata": {},
     "output_type": "display_data"
    },
    {
     "data": {
      "text/html": [
       "Tracking run with wandb version 0.15.9"
      ],
      "text/plain": [
       "<IPython.core.display.HTML object>"
      ]
     },
     "metadata": {},
     "output_type": "display_data"
    },
    {
     "data": {
      "text/html": [
       "Run data is saved locally in <code>/home/zippo/projects/TabAttackBench/wandb/run-20230914_171818-t75rizem</code>"
      ],
      "text/plain": [
       "<IPython.core.display.HTML object>"
      ]
     },
     "metadata": {},
     "output_type": "display_data"
    },
    {
     "data": {
      "text/html": [
       "Syncing run <strong><a href='https://wandb.ai/zhipeng-he/TabAttackBench-ModelSweep/runs/t75rizem' target=\"_blank\">dark-sweep-2</a></strong> to <a href='https://wandb.ai/zhipeng-he/TabAttackBench-ModelSweep' target=\"_blank\">Weights & Biases</a> (<a href='https://wandb.me/run' target=\"_blank\">docs</a>)<br/>Sweep page: <a href='https://wandb.ai/zhipeng-he/TabAttackBench-ModelSweep/sweeps/r8s45onz' target=\"_blank\">https://wandb.ai/zhipeng-he/TabAttackBench-ModelSweep/sweeps/r8s45onz</a>"
      ],
      "text/plain": [
       "<IPython.core.display.HTML object>"
      ]
     },
     "metadata": {},
     "output_type": "display_data"
    },
    {
     "data": {
      "text/html": [
       " View project at <a href='https://wandb.ai/zhipeng-he/TabAttackBench-ModelSweep' target=\"_blank\">https://wandb.ai/zhipeng-he/TabAttackBench-ModelSweep</a>"
      ],
      "text/plain": [
       "<IPython.core.display.HTML object>"
      ]
     },
     "metadata": {},
     "output_type": "display_data"
    },
    {
     "data": {
      "text/html": [
       " View sweep at <a href='https://wandb.ai/zhipeng-he/TabAttackBench-ModelSweep/sweeps/r8s45onz' target=\"_blank\">https://wandb.ai/zhipeng-he/TabAttackBench-ModelSweep/sweeps/r8s45onz</a>"
      ],
      "text/plain": [
       "<IPython.core.display.HTML object>"
      ]
     },
     "metadata": {},
     "output_type": "display_data"
    },
    {
     "data": {
      "text/html": [
       " View run at <a href='https://wandb.ai/zhipeng-he/TabAttackBench-ModelSweep/runs/t75rizem' target=\"_blank\">https://wandb.ai/zhipeng-he/TabAttackBench-ModelSweep/runs/t75rizem</a>"
      ],
      "text/plain": [
       "<IPython.core.display.HTML object>"
      ]
     },
     "metadata": {},
     "output_type": "display_data"
    },
    {
     "name": "stdout",
     "output_type": "stream",
     "text": [
      "self.category_embeddings.weight.shape=torch.Size([102, 4])\n"
     ]
    },
    {
     "name": "stderr",
     "output_type": "stream",
     "text": [
      "  0%|          | 0/10 [00:00<?, ?it/s]\n"
     ]
    },
    {
     "data": {
      "text/html": [
       "Waiting for W&B process to finish... <strong style=\"color:red\">(failed 1).</strong> Press Control-C to abort syncing."
      ],
      "text/plain": [
       "<IPython.core.display.HTML object>"
      ]
     },
     "metadata": {},
     "output_type": "display_data"
    },
    {
     "data": {
      "text/html": [
       " View run <strong style=\"color:#cdcd00\">dark-sweep-2</strong> at: <a href='https://wandb.ai/zhipeng-he/TabAttackBench-ModelSweep/runs/t75rizem' target=\"_blank\">https://wandb.ai/zhipeng-he/TabAttackBench-ModelSweep/runs/t75rizem</a><br/> View job at <a href='https://wandb.ai/zhipeng-he/TabAttackBench-ModelSweep/jobs/QXJ0aWZhY3RDb2xsZWN0aW9uOjk1MTA2NDk5/version_details/v3' target=\"_blank\">https://wandb.ai/zhipeng-he/TabAttackBench-ModelSweep/jobs/QXJ0aWZhY3RDb2xsZWN0aW9uOjk1MTA2NDk5/version_details/v3</a><br/>Synced 6 W&B file(s), 0 media file(s), 0 artifact file(s) and 0 other file(s)"
      ],
      "text/plain": [
       "<IPython.core.display.HTML object>"
      ]
     },
     "metadata": {},
     "output_type": "display_data"
    },
    {
     "data": {
      "text/html": [
       "Find logs at: <code>./wandb/run-20230914_171818-t75rizem/logs</code>"
      ],
      "text/plain": [
       "<IPython.core.display.HTML object>"
      ]
     },
     "metadata": {},
     "output_type": "display_data"
    },
    {
     "name": "stderr",
     "output_type": "stream",
     "text": [
      "Run t75rizem errored: ValueError('Target size (torch.Size([128])) must be the same as input size (torch.Size([128, 1]))')\n",
      "\u001b[34m\u001b[1mwandb\u001b[0m: \u001b[32m\u001b[41mERROR\u001b[0m Run t75rizem errored: ValueError('Target size (torch.Size([128])) must be the same as input size (torch.Size([128, 1]))')\n",
      "\u001b[34m\u001b[1mwandb\u001b[0m: Agent Starting Run: j6q8azd0 with config:\n",
      "\u001b[34m\u001b[1mwandb\u001b[0m: \tbatch_size: 128\n",
      "\u001b[34m\u001b[1mwandb\u001b[0m: \tdataset: adult\n",
      "\u001b[34m\u001b[1mwandb\u001b[0m: \tdropout: 0\n",
      "\u001b[34m\u001b[1mwandb\u001b[0m: \tembedding_dim: 4\n",
      "\u001b[34m\u001b[1mwandb\u001b[0m: \tepochs: 10\n",
      "\u001b[34m\u001b[1mwandb\u001b[0m: \tinput_dim: 14\n",
      "\u001b[34m\u001b[1mwandb\u001b[0m: \tlearning_rate: 0.1\n",
      "\u001b[34m\u001b[1mwandb\u001b[0m: \tmodel: MLP\n",
      "\u001b[34m\u001b[1mwandb\u001b[0m: \toptimizer: adam\n",
      "\u001b[34m\u001b[1mwandb\u001b[0m: \toutput_dim: 1\n",
      "\u001b[34m\u001b[1mwandb\u001b[0m: \u001b[33mWARNING\u001b[0m Ignored wandb.init() arg project when running a sweep.\n"
     ]
    },
    {
     "data": {
      "text/html": [
       "wandb version 0.15.10 is available!  To upgrade, please run:\n",
       " $ pip install wandb --upgrade"
      ],
      "text/plain": [
       "<IPython.core.display.HTML object>"
      ]
     },
     "metadata": {},
     "output_type": "display_data"
    },
    {
     "data": {
      "text/html": [
       "Tracking run with wandb version 0.15.9"
      ],
      "text/plain": [
       "<IPython.core.display.HTML object>"
      ]
     },
     "metadata": {},
     "output_type": "display_data"
    },
    {
     "data": {
      "text/html": [
       "Run data is saved locally in <code>/home/zippo/projects/TabAttackBench/wandb/run-20230914_171834-j6q8azd0</code>"
      ],
      "text/plain": [
       "<IPython.core.display.HTML object>"
      ]
     },
     "metadata": {},
     "output_type": "display_data"
    },
    {
     "data": {
      "text/html": [
       "Syncing run <strong><a href='https://wandb.ai/zhipeng-he/TabAttackBench-ModelSweep/runs/j6q8azd0' target=\"_blank\">efficient-sweep-3</a></strong> to <a href='https://wandb.ai/zhipeng-he/TabAttackBench-ModelSweep' target=\"_blank\">Weights & Biases</a> (<a href='https://wandb.me/run' target=\"_blank\">docs</a>)<br/>Sweep page: <a href='https://wandb.ai/zhipeng-he/TabAttackBench-ModelSweep/sweeps/r8s45onz' target=\"_blank\">https://wandb.ai/zhipeng-he/TabAttackBench-ModelSweep/sweeps/r8s45onz</a>"
      ],
      "text/plain": [
       "<IPython.core.display.HTML object>"
      ]
     },
     "metadata": {},
     "output_type": "display_data"
    },
    {
     "data": {
      "text/html": [
       " View project at <a href='https://wandb.ai/zhipeng-he/TabAttackBench-ModelSweep' target=\"_blank\">https://wandb.ai/zhipeng-he/TabAttackBench-ModelSweep</a>"
      ],
      "text/plain": [
       "<IPython.core.display.HTML object>"
      ]
     },
     "metadata": {},
     "output_type": "display_data"
    },
    {
     "data": {
      "text/html": [
       " View sweep at <a href='https://wandb.ai/zhipeng-he/TabAttackBench-ModelSweep/sweeps/r8s45onz' target=\"_blank\">https://wandb.ai/zhipeng-he/TabAttackBench-ModelSweep/sweeps/r8s45onz</a>"
      ],
      "text/plain": [
       "<IPython.core.display.HTML object>"
      ]
     },
     "metadata": {},
     "output_type": "display_data"
    },
    {
     "data": {
      "text/html": [
       " View run at <a href='https://wandb.ai/zhipeng-he/TabAttackBench-ModelSweep/runs/j6q8azd0' target=\"_blank\">https://wandb.ai/zhipeng-he/TabAttackBench-ModelSweep/runs/j6q8azd0</a>"
      ],
      "text/plain": [
       "<IPython.core.display.HTML object>"
      ]
     },
     "metadata": {},
     "output_type": "display_data"
    },
    {
     "name": "stdout",
     "output_type": "stream",
     "text": [
      "self.category_embeddings.weight.shape=torch.Size([102, 4])\n"
     ]
    },
    {
     "name": "stderr",
     "output_type": "stream",
     "text": [
      "  0%|          | 0/10 [00:00<?, ?it/s]\n"
     ]
    },
    {
     "data": {
      "text/html": [
       "Waiting for W&B process to finish... <strong style=\"color:red\">(failed 1).</strong> Press Control-C to abort syncing."
      ],
      "text/plain": [
       "<IPython.core.display.HTML object>"
      ]
     },
     "metadata": {},
     "output_type": "display_data"
    },
    {
     "name": "stderr",
     "output_type": "stream",
     "text": [
      "wandb: ERROR Dropped streaming file chunk (see wandb/debug-internal.log)\n"
     ]
    },
    {
     "data": {
      "text/html": [
       " View run <strong style=\"color:#cdcd00\">efficient-sweep-3</strong> at: <a href='https://wandb.ai/zhipeng-he/TabAttackBench-ModelSweep/runs/j6q8azd0' target=\"_blank\">https://wandb.ai/zhipeng-he/TabAttackBench-ModelSweep/runs/j6q8azd0</a><br/> View job at <a href='https://wandb.ai/zhipeng-he/TabAttackBench-ModelSweep/jobs/QXJ0aWZhY3RDb2xsZWN0aW9uOjk1MTA2NDk5/version_details/v3' target=\"_blank\">https://wandb.ai/zhipeng-he/TabAttackBench-ModelSweep/jobs/QXJ0aWZhY3RDb2xsZWN0aW9uOjk1MTA2NDk5/version_details/v3</a><br/>Synced 6 W&B file(s), 0 media file(s), 0 artifact file(s) and 0 other file(s)"
      ],
      "text/plain": [
       "<IPython.core.display.HTML object>"
      ]
     },
     "metadata": {},
     "output_type": "display_data"
    },
    {
     "data": {
      "text/html": [
       "Find logs at: <code>./wandb/run-20230914_171834-j6q8azd0/logs</code>"
      ],
      "text/plain": [
       "<IPython.core.display.HTML object>"
      ]
     },
     "metadata": {},
     "output_type": "display_data"
    },
    {
     "name": "stderr",
     "output_type": "stream",
     "text": [
      "Run j6q8azd0 errored: ValueError('Target size (torch.Size([128])) must be the same as input size (torch.Size([128, 1]))')\n",
      "\u001b[34m\u001b[1mwandb\u001b[0m: \u001b[32m\u001b[41mERROR\u001b[0m Run j6q8azd0 errored: ValueError('Target size (torch.Size([128])) must be the same as input size (torch.Size([128, 1]))')\n",
      "Detected 3 failed runs in the first 60 seconds, killing sweep.\n",
      "\u001b[34m\u001b[1mwandb\u001b[0m: \u001b[32m\u001b[41mERROR\u001b[0m Detected 3 failed runs in the first 60 seconds, killing sweep.\n",
      "\u001b[34m\u001b[1mwandb\u001b[0m: To disable this check set WANDB_AGENT_DISABLE_FLAPPING=true\n"
     ]
    }
   ],
   "source": [
    "wandb.agent(mlp_sweep_id, function=sweep_fun)"
   ]
  },
  {
   "cell_type": "code",
   "execution_count": 18,
   "metadata": {},
   "outputs": [
    {
     "name": "stderr",
     "output_type": "stream",
     "text": [
      "404 response executing GraphQL.\n",
      "{\"errors\":[{\"message\":\"could not find sweep zhipeng-he/TabAttackBench-ModelSweep/kz5dylr7 during createAgent\",\"path\":[\"createAgent\"]}],\"data\":{\"createAgent\":null}}\n",
      "\u001b[34m\u001b[1mwandb\u001b[0m: \u001b[32m\u001b[41mERROR\u001b[0m Error while calling W&B API: could not find sweep zhipeng-he/TabAttackBench-ModelSweep/kz5dylr7 during createAgent (<Response [404]>)\n"
     ]
    },
    {
     "ename": "UsageError",
     "evalue": "could not find sweep zhipeng-he/TabAttackBench-ModelSweep/kz5dylr7 during createAgent",
     "output_type": "error",
     "traceback": [
      "\u001b[0;31m---------------------------------------------------------------------------\u001b[0m",
      "\u001b[0;31mHTTPError\u001b[0m                                 Traceback (most recent call last)",
      "File \u001b[0;32m~/miniconda3/envs/tabular-benchmark/lib/python3.10/site-packages/wandb/sdk/lib/retry.py:131\u001b[0m, in \u001b[0;36mRetry.__call__\u001b[0;34m(self, *args, **kwargs)\u001b[0m\n\u001b[1;32m    130\u001b[0m \u001b[39mtry\u001b[39;00m:\n\u001b[0;32m--> 131\u001b[0m     result \u001b[39m=\u001b[39m \u001b[39mself\u001b[39;49m\u001b[39m.\u001b[39;49m_call_fn(\u001b[39m*\u001b[39;49margs, \u001b[39m*\u001b[39;49m\u001b[39m*\u001b[39;49mkwargs)\n\u001b[1;32m    132\u001b[0m     \u001b[39m# Only print resolved attempts once every minute\u001b[39;00m\n",
      "File \u001b[0;32m~/miniconda3/envs/tabular-benchmark/lib/python3.10/site-packages/wandb/sdk/internal/internal_api.py:323\u001b[0m, in \u001b[0;36mApi.execute\u001b[0;34m(self, *args, **kwargs)\u001b[0m\n\u001b[1;32m    322\u001b[0m \u001b[39mtry\u001b[39;00m:\n\u001b[0;32m--> 323\u001b[0m     \u001b[39mreturn\u001b[39;00m \u001b[39mself\u001b[39;49m\u001b[39m.\u001b[39;49mclient\u001b[39m.\u001b[39;49mexecute(\u001b[39m*\u001b[39;49margs, \u001b[39m*\u001b[39;49m\u001b[39m*\u001b[39;49mkwargs)  \u001b[39m# type: ignore\u001b[39;00m\n\u001b[1;32m    324\u001b[0m \u001b[39mexcept\u001b[39;00m requests\u001b[39m.\u001b[39mexceptions\u001b[39m.\u001b[39mHTTPError \u001b[39mas\u001b[39;00m err:\n",
      "File \u001b[0;32m~/miniconda3/envs/tabular-benchmark/lib/python3.10/site-packages/wandb/vendor/gql-0.2.0/wandb_gql/client.py:52\u001b[0m, in \u001b[0;36mClient.execute\u001b[0;34m(self, document, *args, **kwargs)\u001b[0m\n\u001b[1;32m     50\u001b[0m     \u001b[39mself\u001b[39m\u001b[39m.\u001b[39mvalidate(document)\n\u001b[0;32m---> 52\u001b[0m result \u001b[39m=\u001b[39m \u001b[39mself\u001b[39;49m\u001b[39m.\u001b[39;49m_get_result(document, \u001b[39m*\u001b[39;49margs, \u001b[39m*\u001b[39;49m\u001b[39m*\u001b[39;49mkwargs)\n\u001b[1;32m     53\u001b[0m \u001b[39mif\u001b[39;00m result\u001b[39m.\u001b[39merrors:\n",
      "File \u001b[0;32m~/miniconda3/envs/tabular-benchmark/lib/python3.10/site-packages/wandb/vendor/gql-0.2.0/wandb_gql/client.py:60\u001b[0m, in \u001b[0;36mClient._get_result\u001b[0;34m(self, document, *args, **kwargs)\u001b[0m\n\u001b[1;32m     59\u001b[0m \u001b[39mif\u001b[39;00m \u001b[39mnot\u001b[39;00m \u001b[39mself\u001b[39m\u001b[39m.\u001b[39mretries:\n\u001b[0;32m---> 60\u001b[0m     \u001b[39mreturn\u001b[39;00m \u001b[39mself\u001b[39;49m\u001b[39m.\u001b[39;49mtransport\u001b[39m.\u001b[39;49mexecute(document, \u001b[39m*\u001b[39;49margs, \u001b[39m*\u001b[39;49m\u001b[39m*\u001b[39;49mkwargs)\n\u001b[1;32m     62\u001b[0m last_exception \u001b[39m=\u001b[39m \u001b[39mNone\u001b[39;00m\n",
      "File \u001b[0;32m~/miniconda3/envs/tabular-benchmark/lib/python3.10/site-packages/wandb/sdk/lib/gql_request.py:56\u001b[0m, in \u001b[0;36mGraphQLSession.execute\u001b[0;34m(self, document, variable_values, timeout)\u001b[0m\n\u001b[1;32m     55\u001b[0m request \u001b[39m=\u001b[39m \u001b[39mself\u001b[39m\u001b[39m.\u001b[39msession\u001b[39m.\u001b[39mpost(\u001b[39mself\u001b[39m\u001b[39m.\u001b[39murl, \u001b[39m*\u001b[39m\u001b[39m*\u001b[39mpost_args)\n\u001b[0;32m---> 56\u001b[0m request\u001b[39m.\u001b[39;49mraise_for_status()\n\u001b[1;32m     58\u001b[0m result \u001b[39m=\u001b[39m request\u001b[39m.\u001b[39mjson()\n",
      "File \u001b[0;32m~/miniconda3/envs/tabular-benchmark/lib/python3.10/site-packages/requests/models.py:1021\u001b[0m, in \u001b[0;36mResponse.raise_for_status\u001b[0;34m(self)\u001b[0m\n\u001b[1;32m   1020\u001b[0m \u001b[39mif\u001b[39;00m http_error_msg:\n\u001b[0;32m-> 1021\u001b[0m     \u001b[39mraise\u001b[39;00m HTTPError(http_error_msg, response\u001b[39m=\u001b[39m\u001b[39mself\u001b[39m)\n",
      "\u001b[0;31mHTTPError\u001b[0m: 404 Client Error: Not Found for url: https://api.wandb.ai/graphql",
      "\nDuring handling of the above exception, another exception occurred:\n",
      "\u001b[0;31mUsageError\u001b[0m                                Traceback (most recent call last)",
      "Cell \u001b[0;32mIn[18], line 1\u001b[0m\n\u001b[0;32m----> 1\u001b[0m wandb\u001b[39m.\u001b[39;49magent(tabtrans_sweep_id, function\u001b[39m=\u001b[39;49msweep_fun)\n",
      "File \u001b[0;32m~/miniconda3/envs/tabular-benchmark/lib/python3.10/site-packages/wandb/wandb_agent.py:581\u001b[0m, in \u001b[0;36magent\u001b[0;34m(sweep_id, function, entity, project, count)\u001b[0m\n\u001b[1;32m    579\u001b[0m wandb_sdk\u001b[39m.\u001b[39mwandb_login\u001b[39m.\u001b[39m_login(_silent\u001b[39m=\u001b[39m\u001b[39mTrue\u001b[39;00m)\n\u001b[1;32m    580\u001b[0m \u001b[39mif\u001b[39;00m function:\n\u001b[0;32m--> 581\u001b[0m     \u001b[39mreturn\u001b[39;00m pyagent(sweep_id, function, entity, project, count)\n\u001b[1;32m    582\u001b[0m in_jupyter \u001b[39m=\u001b[39m wandb\u001b[39m.\u001b[39mwandb_sdk\u001b[39m.\u001b[39mlib\u001b[39m.\u001b[39mipython\u001b[39m.\u001b[39m_get_python_type() \u001b[39m!=\u001b[39m \u001b[39m\"\u001b[39m\u001b[39mpython\u001b[39m\u001b[39m\"\u001b[39m\n\u001b[1;32m    583\u001b[0m \u001b[39mreturn\u001b[39;00m run_agent(\n\u001b[1;32m    584\u001b[0m     sweep_id,\n\u001b[1;32m    585\u001b[0m     function\u001b[39m=\u001b[39mfunction,\n\u001b[0;32m   (...)\u001b[0m\n\u001b[1;32m    589\u001b[0m     count\u001b[39m=\u001b[39mcount,\n\u001b[1;32m    590\u001b[0m )\n",
      "File \u001b[0;32m~/miniconda3/envs/tabular-benchmark/lib/python3.10/site-packages/wandb/agents/pyagent.py:348\u001b[0m, in \u001b[0;36mpyagent\u001b[0;34m(sweep_id, function, entity, project, count)\u001b[0m\n\u001b[1;32m    340\u001b[0m     \u001b[39mraise\u001b[39;00m \u001b[39mException\u001b[39;00m(\u001b[39m\"\u001b[39m\u001b[39mfunction paramter must be callable!\u001b[39m\u001b[39m\"\u001b[39m)\n\u001b[1;32m    341\u001b[0m agent \u001b[39m=\u001b[39m Agent(\n\u001b[1;32m    342\u001b[0m     sweep_id,\n\u001b[1;32m    343\u001b[0m     function\u001b[39m=\u001b[39mfunction,\n\u001b[0;32m   (...)\u001b[0m\n\u001b[1;32m    346\u001b[0m     count\u001b[39m=\u001b[39mcount,\n\u001b[1;32m    347\u001b[0m )\n\u001b[0;32m--> 348\u001b[0m agent\u001b[39m.\u001b[39;49mrun()\n",
      "File \u001b[0;32m~/miniconda3/envs/tabular-benchmark/lib/python3.10/site-packages/wandb/agents/pyagent.py:319\u001b[0m, in \u001b[0;36mAgent.run\u001b[0;34m(self)\u001b[0m\n\u001b[1;32m    313\u001b[0m \u001b[39mdef\u001b[39;00m \u001b[39mrun\u001b[39m(\u001b[39mself\u001b[39m):\n\u001b[1;32m    314\u001b[0m     logger\u001b[39m.\u001b[39minfo(\n\u001b[1;32m    315\u001b[0m         \u001b[39m\"\u001b[39m\u001b[39mStarting sweep agent: entity=\u001b[39m\u001b[39m{}\u001b[39;00m\u001b[39m, project=\u001b[39m\u001b[39m{}\u001b[39;00m\u001b[39m, count=\u001b[39m\u001b[39m{}\u001b[39;00m\u001b[39m\"\u001b[39m\u001b[39m.\u001b[39mformat(\n\u001b[1;32m    316\u001b[0m             \u001b[39mself\u001b[39m\u001b[39m.\u001b[39m_entity, \u001b[39mself\u001b[39m\u001b[39m.\u001b[39m_project, \u001b[39mself\u001b[39m\u001b[39m.\u001b[39m_count\n\u001b[1;32m    317\u001b[0m         )\n\u001b[1;32m    318\u001b[0m     )\n\u001b[0;32m--> 319\u001b[0m     \u001b[39mself\u001b[39;49m\u001b[39m.\u001b[39;49m_setup()\n\u001b[1;32m    320\u001b[0m     \u001b[39m# self._main_thread = threading.Thread(target=self._run_jobs_from_queue)\u001b[39;00m\n\u001b[1;32m    321\u001b[0m     \u001b[39mself\u001b[39m\u001b[39m.\u001b[39m_heartbeat_thread \u001b[39m=\u001b[39m threading\u001b[39m.\u001b[39mThread(target\u001b[39m=\u001b[39m\u001b[39mself\u001b[39m\u001b[39m.\u001b[39m_heartbeat)\n",
      "File \u001b[0;32m~/miniconda3/envs/tabular-benchmark/lib/python3.10/site-packages/wandb/agents/pyagent.py:136\u001b[0m, in \u001b[0;36mAgent._setup\u001b[0;34m(self)\u001b[0m\n\u001b[1;32m    134\u001b[0m \u001b[39mif\u001b[39;00m sweep_id:\n\u001b[1;32m    135\u001b[0m     \u001b[39mself\u001b[39m\u001b[39m.\u001b[39m_sweep_id \u001b[39m=\u001b[39m sweep_id\n\u001b[0;32m--> 136\u001b[0m \u001b[39mself\u001b[39;49m\u001b[39m.\u001b[39;49m_register()\n",
      "File \u001b[0;32m~/miniconda3/envs/tabular-benchmark/lib/python3.10/site-packages/wandb/agents/pyagent.py:113\u001b[0m, in \u001b[0;36mAgent._register\u001b[0;34m(self)\u001b[0m\n\u001b[1;32m    111\u001b[0m \u001b[39mdef\u001b[39;00m \u001b[39m_register\u001b[39m(\u001b[39mself\u001b[39m):\n\u001b[1;32m    112\u001b[0m     logger\u001b[39m.\u001b[39mdebug(\u001b[39m\"\u001b[39m\u001b[39mAgent._register()\u001b[39m\u001b[39m\"\u001b[39m)\n\u001b[0;32m--> 113\u001b[0m     agent \u001b[39m=\u001b[39m \u001b[39mself\u001b[39;49m\u001b[39m.\u001b[39;49m_api\u001b[39m.\u001b[39;49mregister_agent(socket\u001b[39m.\u001b[39;49mgethostname(), sweep_id\u001b[39m=\u001b[39;49m\u001b[39mself\u001b[39;49m\u001b[39m.\u001b[39;49m_sweep_id)\n\u001b[1;32m    114\u001b[0m     \u001b[39mself\u001b[39m\u001b[39m.\u001b[39m_agent_id \u001b[39m=\u001b[39m agent[\u001b[39m\"\u001b[39m\u001b[39mid\u001b[39m\u001b[39m\"\u001b[39m]\n\u001b[1;32m    115\u001b[0m     logger\u001b[39m.\u001b[39mdebug(\u001b[39mf\u001b[39m\u001b[39m\"\u001b[39m\u001b[39magent_id = \u001b[39m\u001b[39m{\u001b[39;00m\u001b[39mself\u001b[39m\u001b[39m.\u001b[39m_agent_id\u001b[39m}\u001b[39;00m\u001b[39m\"\u001b[39m)\n",
      "File \u001b[0;32m~/miniconda3/envs/tabular-benchmark/lib/python3.10/site-packages/wandb/apis/internal.py:150\u001b[0m, in \u001b[0;36mApi.register_agent\u001b[0;34m(self, *args, **kwargs)\u001b[0m\n\u001b[1;32m    149\u001b[0m \u001b[39mdef\u001b[39;00m \u001b[39mregister_agent\u001b[39m(\u001b[39mself\u001b[39m, \u001b[39m*\u001b[39margs, \u001b[39m*\u001b[39m\u001b[39m*\u001b[39mkwargs):\n\u001b[0;32m--> 150\u001b[0m     \u001b[39mreturn\u001b[39;00m \u001b[39mself\u001b[39;49m\u001b[39m.\u001b[39;49mapi\u001b[39m.\u001b[39;49mregister_agent(\u001b[39m*\u001b[39;49margs, \u001b[39m*\u001b[39;49m\u001b[39m*\u001b[39;49mkwargs)\n",
      "File \u001b[0;32m~/miniconda3/envs/tabular-benchmark/lib/python3.10/site-packages/wandb/apis/normalize.py:73\u001b[0m, in \u001b[0;36mnormalize_exceptions.<locals>.wrapper\u001b[0;34m(*args, **kwargs)\u001b[0m\n\u001b[1;32m     69\u001b[0m         \u001b[39mraise\u001b[39;00m CommError(message, err\u001b[39m.\u001b[39mlast_exception)\u001b[39m.\u001b[39mwith_traceback(\n\u001b[1;32m     70\u001b[0m             sys\u001b[39m.\u001b[39mexc_info()[\u001b[39m2\u001b[39m]\n\u001b[1;32m     71\u001b[0m         )\n\u001b[1;32m     72\u001b[0m \u001b[39mexcept\u001b[39;00m Error \u001b[39mas\u001b[39;00m err:\n\u001b[0;32m---> 73\u001b[0m     \u001b[39mraise\u001b[39;00m err\n\u001b[1;32m     74\u001b[0m \u001b[39mexcept\u001b[39;00m \u001b[39mException\u001b[39;00m \u001b[39mas\u001b[39;00m err:\n\u001b[1;32m     75\u001b[0m     \u001b[39m# gql raises server errors with dict's as strings...\u001b[39;00m\n\u001b[1;32m     76\u001b[0m     \u001b[39mif\u001b[39;00m \u001b[39mlen\u001b[39m(err\u001b[39m.\u001b[39margs) \u001b[39m>\u001b[39m \u001b[39m0\u001b[39m:\n",
      "File \u001b[0;32m~/miniconda3/envs/tabular-benchmark/lib/python3.10/site-packages/wandb/apis/normalize.py:41\u001b[0m, in \u001b[0;36mnormalize_exceptions.<locals>.wrapper\u001b[0;34m(*args, **kwargs)\u001b[0m\n\u001b[1;32m     39\u001b[0m message \u001b[39m=\u001b[39m \u001b[39m\"\u001b[39m\u001b[39mWhoa, you found a bug.\u001b[39m\u001b[39m\"\u001b[39m\n\u001b[1;32m     40\u001b[0m \u001b[39mtry\u001b[39;00m:\n\u001b[0;32m---> 41\u001b[0m     \u001b[39mreturn\u001b[39;00m func(\u001b[39m*\u001b[39;49margs, \u001b[39m*\u001b[39;49m\u001b[39m*\u001b[39;49mkwargs)\n\u001b[1;32m     42\u001b[0m \u001b[39mexcept\u001b[39;00m requests\u001b[39m.\u001b[39mHTTPError \u001b[39mas\u001b[39;00m error:\n\u001b[1;32m     43\u001b[0m     errors \u001b[39m=\u001b[39m parse_backend_error_messages(error\u001b[39m.\u001b[39mresponse)\n",
      "File \u001b[0;32m~/miniconda3/envs/tabular-benchmark/lib/python3.10/site-packages/wandb/sdk/internal/internal_api.py:2666\u001b[0m, in \u001b[0;36mApi.register_agent\u001b[0;34m(self, host, sweep_id, project_name, entity)\u001b[0m\n\u001b[1;32m   2663\u001b[0m \u001b[39mif\u001b[39;00m project_name \u001b[39mis\u001b[39;00m \u001b[39mNone\u001b[39;00m:\n\u001b[1;32m   2664\u001b[0m     project_name \u001b[39m=\u001b[39m \u001b[39mself\u001b[39m\u001b[39m.\u001b[39msettings(\u001b[39m\"\u001b[39m\u001b[39mproject\u001b[39m\u001b[39m\"\u001b[39m)\n\u001b[0;32m-> 2666\u001b[0m response \u001b[39m=\u001b[39m \u001b[39mself\u001b[39;49m\u001b[39m.\u001b[39;49mgql(\n\u001b[1;32m   2667\u001b[0m     mutation,\n\u001b[1;32m   2668\u001b[0m     variable_values\u001b[39m=\u001b[39;49m{\n\u001b[1;32m   2669\u001b[0m         \u001b[39m\"\u001b[39;49m\u001b[39mhost\u001b[39;49m\u001b[39m\"\u001b[39;49m: host,\n\u001b[1;32m   2670\u001b[0m         \u001b[39m\"\u001b[39;49m\u001b[39mentityName\u001b[39;49m\u001b[39m\"\u001b[39;49m: entity,\n\u001b[1;32m   2671\u001b[0m         \u001b[39m\"\u001b[39;49m\u001b[39mprojectName\u001b[39;49m\u001b[39m\"\u001b[39;49m: project_name,\n\u001b[1;32m   2672\u001b[0m         \u001b[39m\"\u001b[39;49m\u001b[39msweep\u001b[39;49m\u001b[39m\"\u001b[39;49m: sweep_id,\n\u001b[1;32m   2673\u001b[0m     },\n\u001b[1;32m   2674\u001b[0m     check_retry_fn\u001b[39m=\u001b[39;49mutil\u001b[39m.\u001b[39;49mno_retry_4xx,\n\u001b[1;32m   2675\u001b[0m )\n\u001b[1;32m   2676\u001b[0m result: \u001b[39mdict\u001b[39m \u001b[39m=\u001b[39m response[\u001b[39m\"\u001b[39m\u001b[39mcreateAgent\u001b[39m\u001b[39m\"\u001b[39m][\u001b[39m\"\u001b[39m\u001b[39magent\u001b[39m\u001b[39m\"\u001b[39m]\n\u001b[1;32m   2677\u001b[0m \u001b[39mreturn\u001b[39;00m result\n",
      "File \u001b[0;32m~/miniconda3/envs/tabular-benchmark/lib/python3.10/site-packages/wandb/sdk/internal/internal_api.py:295\u001b[0m, in \u001b[0;36mApi.gql\u001b[0;34m(self, *args, **kwargs)\u001b[0m\n\u001b[1;32m    294\u001b[0m \u001b[39mdef\u001b[39;00m \u001b[39mgql\u001b[39m(\u001b[39mself\u001b[39m, \u001b[39m*\u001b[39margs: Any, \u001b[39m*\u001b[39m\u001b[39m*\u001b[39mkwargs: Any) \u001b[39m-\u001b[39m\u001b[39m>\u001b[39m Any:\n\u001b[0;32m--> 295\u001b[0m     ret \u001b[39m=\u001b[39m \u001b[39mself\u001b[39;49m\u001b[39m.\u001b[39;49m_retry_gql(\n\u001b[1;32m    296\u001b[0m         \u001b[39m*\u001b[39;49margs,\n\u001b[1;32m    297\u001b[0m         retry_cancel_event\u001b[39m=\u001b[39;49m\u001b[39mself\u001b[39;49m\u001b[39m.\u001b[39;49mcontext\u001b[39m.\u001b[39;49mcancel_event,\n\u001b[1;32m    298\u001b[0m         \u001b[39m*\u001b[39;49m\u001b[39m*\u001b[39;49mkwargs,\n\u001b[1;32m    299\u001b[0m     )\n\u001b[1;32m    300\u001b[0m     \u001b[39mreturn\u001b[39;00m ret\n",
      "File \u001b[0;32m~/miniconda3/envs/tabular-benchmark/lib/python3.10/site-packages/wandb/sdk/lib/retry.py:147\u001b[0m, in \u001b[0;36mRetry.__call__\u001b[0;34m(self, *args, **kwargs)\u001b[0m\n\u001b[1;32m    144\u001b[0m     \u001b[39mreturn\u001b[39;00m result\n\u001b[1;32m    145\u001b[0m \u001b[39mexcept\u001b[39;00m \u001b[39mself\u001b[39m\u001b[39m.\u001b[39m_retryable_exceptions \u001b[39mas\u001b[39;00m e:\n\u001b[1;32m    146\u001b[0m     \u001b[39m# if the secondary check fails, re-raise\u001b[39;00m\n\u001b[0;32m--> 147\u001b[0m     retry_timedelta_triggered \u001b[39m=\u001b[39m check_retry_fn(e)\n\u001b[1;32m    148\u001b[0m     \u001b[39mif\u001b[39;00m \u001b[39mnot\u001b[39;00m retry_timedelta_triggered:\n\u001b[1;32m    149\u001b[0m         \u001b[39mraise\u001b[39;00m\n",
      "File \u001b[0;32m~/miniconda3/envs/tabular-benchmark/lib/python3.10/site-packages/wandb/util.py:869\u001b[0m, in \u001b[0;36mno_retry_4xx\u001b[0;34m(e)\u001b[0m\n\u001b[1;32m    867\u001b[0m     \u001b[39mreturn\u001b[39;00m \u001b[39mTrue\u001b[39;00m\n\u001b[1;32m    868\u001b[0m body \u001b[39m=\u001b[39m json\u001b[39m.\u001b[39mloads(e\u001b[39m.\u001b[39mresponse\u001b[39m.\u001b[39mcontent)\n\u001b[0;32m--> 869\u001b[0m \u001b[39mraise\u001b[39;00m UsageError(body[\u001b[39m\"\u001b[39m\u001b[39merrors\u001b[39m\u001b[39m\"\u001b[39m][\u001b[39m0\u001b[39m][\u001b[39m\"\u001b[39m\u001b[39mmessage\u001b[39m\u001b[39m\"\u001b[39m])\n",
      "\u001b[0;31mUsageError\u001b[0m: could not find sweep zhipeng-he/TabAttackBench-ModelSweep/kz5dylr7 during createAgent"
     ]
    }
   ],
   "source": [
    "wandb.agent(tabtrans_sweep_id, function=sweep_fun)"
   ]
  },
  {
   "cell_type": "code",
   "execution_count": null,
   "metadata": {},
   "outputs": [],
   "source": [
    "wandb.agent(fttrans_sweep_id, function=sweep_fun)"
   ]
  },
  {
   "cell_type": "code",
   "execution_count": null,
   "metadata": {},
   "outputs": [],
   "source": []
  },
  {
   "cell_type": "code",
   "execution_count": null,
   "metadata": {},
   "outputs": [],
   "source": []
  }
 ],
 "metadata": {
  "kernelspec": {
   "display_name": "tabular-benchmark",
   "language": "python",
   "name": "python3"
  },
  "language_info": {
   "codemirror_mode": {
    "name": "ipython",
    "version": 3
   },
   "file_extension": ".py",
   "mimetype": "text/x-python",
   "name": "python",
   "nbconvert_exporter": "python",
   "pygments_lexer": "ipython3",
   "version": "3.10.12"
  },
  "orig_nbformat": 4
 },
 "nbformat": 4,
 "nbformat_minor": 2
}
